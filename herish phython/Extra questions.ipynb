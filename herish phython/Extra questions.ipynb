{
 "cells": [
  {
   "cell_type": "code",
   "execution_count": 1,
   "id": "b082a21b",
   "metadata": {},
   "outputs": [
    {
     "name": "stdout",
     "output_type": "stream",
     "text": [
      "5\n",
      "*\n",
      "**\n",
      "***\n",
      "****\n",
      "*****\n"
     ]
    }
   ],
   "source": [
    "\n",
    "n=int(input())\n",
    "i=1\n",
    "while i<=n:\n",
    "    j=1\n",
    "    while j<=i:\n",
    "        print('*',end='')\n",
    "        j=j+1\n",
    "    print() \n",
    "    i=i+1"
   ]
  },
  {
   "cell_type": "code",
   "execution_count": 5,
   "id": "e4cad459",
   "metadata": {},
   "outputs": [
    {
     "name": "stdout",
     "output_type": "stream",
     "text": [
      "5\n",
      "1111\n",
      "000\n",
      "11\n",
      "0\n",
      "\n"
     ]
    }
   ],
   "source": [
    "N=int(input())\n",
    "for i in range(1,N+1):\n",
    "    for j in range(1,N-i+1):\n",
    "        if(i%2!=0):\n",
    "            print(1,end=\"\")\n",
    "        else:\n",
    "            print(0,end=\"\")\n",
    "    print()    "
   ]
  },
  {
   "cell_type": "code",
   "execution_count": null,
   "id": "65d9e028",
   "metadata": {},
   "outputs": [],
   "source": [
    "         *\n",
    "        ***\n",
    "       ***** \n",
    "        ***\n",
    "         *"
   ]
  },
  {
   "cell_type": "code",
   "execution_count": null,
   "id": "c9ccc126",
   "metadata": {},
   "outputs": [],
   "source": [
    "\n",
    "n=int(input())\n",
    "i=0\n",
    "while i<=n:\n",
    "    j=0\n",
    "    while j<i:\n",
    "        print(j,end='')\n",
    "        j=j+1\n",
    "    print() \n",
    "    i=i+1"
   ]
  },
  {
   "cell_type": "code",
   "execution_count": 10,
   "id": "a294da00",
   "metadata": {},
   "outputs": [
    {
     "name": "stdout",
     "output_type": "stream",
     "text": [
      "7\n",
      "      *\n",
      "     ***\n",
      "    *****\n",
      "   *******\n",
      "  *********\n",
      "   ***\n",
      "    *\n"
     ]
    }
   ],
   "source": [
    "n=int(input())\n",
    "num=n-j\n",
    "i=1\n",
    "while i<=n-2:\n",
    "    spaces=1\n",
    "    while spaces<=n-i:\n",
    "        print(' ',end=\"\")\n",
    "        spaces=spaces+1\n",
    "    j=1\n",
    "    while j<=i:\n",
    "        print('*',end=\"\")\n",
    "        j=j+1\n",
    "    k=i-1\n",
    "    while k>0:\n",
    "        print('*',end=\"\")\n",
    "        k=k-1\n",
    "    print()\n",
    "    i=i+1        \n",
    "for i in range(num):\n",
    "    for j in range(i+3):\n",
    "        print(' ',end=\"\")\n",
    "    for j in range(i,num-1):\n",
    "        print('*',end=\"\")\n",
    "    for j in range(i,num):\n",
    "        print('*',end=\"\")\n",
    "    print()\n",
    "   "
   ]
  },
  {
   "cell_type": "code",
   "execution_count": 7,
   "id": "b50fea4d",
   "metadata": {},
   "outputs": [
    {
     "name": "stdout",
     "output_type": "stream",
     "text": [
      "**\n",
      "***\n",
      "****\n",
      "*****\n",
      "******\n",
      "*******\n"
     ]
    }
   ],
   "source": [
    "#n=int(input())#\n",
    "i=6\n",
    "while i>0:\n",
    "    j=7\n",
    "    while j>=i:\n",
    "        print('*',end='')\n",
    "        j=j-1\n",
    "    print()\n",
    "    i=i-1     "
   ]
  },
  {
   "cell_type": "code",
   "execution_count": 13,
   "id": "81cfe2d6",
   "metadata": {},
   "outputs": [
    {
     "ename": "KeyboardInterrupt",
     "evalue": "Interrupted by user",
     "output_type": "error",
     "traceback": [
      "\u001b[1;31m---------------------------------------------------------------------------\u001b[0m",
      "\u001b[1;31mKeyboardInterrupt\u001b[0m                         Traceback (most recent call last)",
      "Cell \u001b[1;32mIn[13], line 1\u001b[0m\n\u001b[1;32m----> 1\u001b[0m N\u001b[38;5;241m=\u001b[39m\u001b[38;5;28mint\u001b[39m(\u001b[38;5;28minput\u001b[39m())\n\u001b[0;32m      2\u001b[0m i\u001b[38;5;241m=\u001b[39m\u001b[38;5;241m1\u001b[39m\n\u001b[0;32m      3\u001b[0m \u001b[38;5;28;01mwhile\u001b[39;00m i\u001b[38;5;241m<\u001b[39m\u001b[38;5;241m=\u001b[39mN:\n",
      "File \u001b[1;32m~\\anaconda3\\Lib\\site-packages\\ipykernel\\kernelbase.py:1175\u001b[0m, in \u001b[0;36mKernel.raw_input\u001b[1;34m(self, prompt)\u001b[0m\n\u001b[0;32m   1171\u001b[0m \u001b[38;5;28;01mif\u001b[39;00m \u001b[38;5;129;01mnot\u001b[39;00m \u001b[38;5;28mself\u001b[39m\u001b[38;5;241m.\u001b[39m_allow_stdin:\n\u001b[0;32m   1172\u001b[0m     \u001b[38;5;28;01mraise\u001b[39;00m StdinNotImplementedError(\n\u001b[0;32m   1173\u001b[0m         \u001b[38;5;124m\"\u001b[39m\u001b[38;5;124mraw_input was called, but this frontend does not support input requests.\u001b[39m\u001b[38;5;124m\"\u001b[39m\n\u001b[0;32m   1174\u001b[0m     )\n\u001b[1;32m-> 1175\u001b[0m \u001b[38;5;28;01mreturn\u001b[39;00m \u001b[38;5;28mself\u001b[39m\u001b[38;5;241m.\u001b[39m_input_request(\n\u001b[0;32m   1176\u001b[0m     \u001b[38;5;28mstr\u001b[39m(prompt),\n\u001b[0;32m   1177\u001b[0m     \u001b[38;5;28mself\u001b[39m\u001b[38;5;241m.\u001b[39m_parent_ident[\u001b[38;5;124m\"\u001b[39m\u001b[38;5;124mshell\u001b[39m\u001b[38;5;124m\"\u001b[39m],\n\u001b[0;32m   1178\u001b[0m     \u001b[38;5;28mself\u001b[39m\u001b[38;5;241m.\u001b[39mget_parent(\u001b[38;5;124m\"\u001b[39m\u001b[38;5;124mshell\u001b[39m\u001b[38;5;124m\"\u001b[39m),\n\u001b[0;32m   1179\u001b[0m     password\u001b[38;5;241m=\u001b[39m\u001b[38;5;28;01mFalse\u001b[39;00m,\n\u001b[0;32m   1180\u001b[0m )\n",
      "File \u001b[1;32m~\\anaconda3\\Lib\\site-packages\\ipykernel\\kernelbase.py:1217\u001b[0m, in \u001b[0;36mKernel._input_request\u001b[1;34m(self, prompt, ident, parent, password)\u001b[0m\n\u001b[0;32m   1214\u001b[0m             \u001b[38;5;28;01mbreak\u001b[39;00m\n\u001b[0;32m   1215\u001b[0m \u001b[38;5;28;01mexcept\u001b[39;00m \u001b[38;5;167;01mKeyboardInterrupt\u001b[39;00m:\n\u001b[0;32m   1216\u001b[0m     \u001b[38;5;66;03m# re-raise KeyboardInterrupt, to truncate traceback\u001b[39;00m\n\u001b[1;32m-> 1217\u001b[0m     \u001b[38;5;28;01mraise\u001b[39;00m \u001b[38;5;167;01mKeyboardInterrupt\u001b[39;00m(\u001b[38;5;124m\"\u001b[39m\u001b[38;5;124mInterrupted by user\u001b[39m\u001b[38;5;124m\"\u001b[39m) \u001b[38;5;28;01mfrom\u001b[39;00m \u001b[38;5;28;01mNone\u001b[39;00m\n\u001b[0;32m   1218\u001b[0m \u001b[38;5;28;01mexcept\u001b[39;00m \u001b[38;5;167;01mException\u001b[39;00m:\n\u001b[0;32m   1219\u001b[0m     \u001b[38;5;28mself\u001b[39m\u001b[38;5;241m.\u001b[39mlog\u001b[38;5;241m.\u001b[39mwarning(\u001b[38;5;124m\"\u001b[39m\u001b[38;5;124mInvalid Message:\u001b[39m\u001b[38;5;124m\"\u001b[39m, exc_info\u001b[38;5;241m=\u001b[39m\u001b[38;5;28;01mTrue\u001b[39;00m)\n",
      "\u001b[1;31mKeyboardInterrupt\u001b[0m: Interrupted by user"
     ]
    }
   ],
   "source": [
    "N=int(input())\n",
    "i=1\n",
    "while i<=N:\n",
    "    j=1\n",
    "    if(i>=1):\n",
    "        print(1,end='')\n",
    "    else:\n",
    "        print(i-1,end='')\n",
    "    while(j<=i-2):\n",
    "              print(2,end='')\n",
    "              j+=1\n",
    "    if(i>1):\n",
    "        print(1,end='')\n",
    "    print()\n",
    "    i=i+1          \n",
    "              \n",
    "              \n",
    "    "
   ]
  },
  {
   "cell_type": "code",
   "execution_count": 6,
   "id": "d7d3989b",
   "metadata": {},
   "outputs": [
    {
     "name": "stdout",
     "output_type": "stream",
     "text": [
      "5\n",
      "43210\n",
      "3210\n",
      "210\n",
      "10\n",
      "0\n"
     ]
    }
   ],
   "source": [
    "N=int(input())\n",
    "i=N\n",
    "while(i>0):\n",
    "    j=1\n",
    "    while(j<=i):\n",
    "        print(,end='')\n",
    "        j+=1\n",
    "        \n",
    "    print()\n",
    "    i=i-1"
   ]
  },
  {
   "cell_type": "code",
   "execution_count": 15,
   "id": "1bb97efe",
   "metadata": {
    "scrolled": true
   },
   "outputs": [
    {
     "name": "stdout",
     "output_type": "stream",
     "text": [
      "5\n",
      "1\n",
      "21\n",
      "231\n",
      "2341\n",
      "23451\n"
     ]
    }
   ],
   "source": [
    "N=int(input())\n",
    "i=1\n",
    "while i<=N:\n",
    "    j=1\n",
    "    while j<=i:\n",
    "        if i==j:\n",
    "            print(1,end=\"\")\n",
    "        else:\n",
    "            \n",
    "            print(j+1,end='')\n",
    "        j=j+1\n",
    "    print()\n",
    "    i=i+1"
   ]
  },
  {
   "cell_type": "code",
   "execution_count": 14,
   "id": "eed03bc0",
   "metadata": {
    "scrolled": true
   },
   "outputs": [
    {
     "name": "stdout",
     "output_type": "stream",
     "text": [
      "5\n",
      "1234\n",
      "123\n",
      "12\n",
      "1\n"
     ]
    }
   ],
   "source": [
    "N=int(input())\n",
    "for i in range(N, 1, -1):\n",
    "    for j in range(1, i):\n",
    "        print(j, end=\"\")\n",
    "    print()"
   ]
  },
  {
   "cell_type": "code",
   "execution_count": 16,
   "id": "23a47fdc",
   "metadata": {},
   "outputs": [
    {
     "name": "stdout",
     "output_type": "stream",
     "text": [
      "8\n",
      "12345678\n",
      "1234567\n",
      "123456\n",
      "12345\n",
      "1234\n",
      "123\n",
      "12\n",
      "1\n"
     ]
    }
   ],
   "source": [
    "N=int(input())\n",
    "for i in range(N+1, 1, -1):\n",
    "    for j in range(1, i):\n",
    "        print(j, end=\"\")\n",
    "    print()"
   ]
  },
  {
   "cell_type": "code",
   "execution_count": 16,
   "id": "786c8179",
   "metadata": {},
   "outputs": [
    {
     "name": "stdout",
     "output_type": "stream",
     "text": [
      "5\n"
     ]
    },
    {
     "ename": "TypeError",
     "evalue": "ord() expected string of length 1, but int found",
     "output_type": "error",
     "traceback": [
      "\u001b[1;31m---------------------------------------------------------------------------\u001b[0m",
      "\u001b[1;31mTypeError\u001b[0m                                 Traceback (most recent call last)",
      "Cell \u001b[1;32mIn[16], line 7\u001b[0m\n\u001b[0;32m      5\u001b[0m j\u001b[38;5;241m=\u001b[39m\u001b[38;5;241m1\u001b[39m\n\u001b[0;32m      6\u001b[0m \u001b[38;5;28;01mwhile\u001b[39;00m(j\u001b[38;5;241m<\u001b[39m\u001b[38;5;241m=\u001b[39mi):\n\u001b[1;32m----> 7\u001b[0m     char\u001b[38;5;241m=\u001b[39m\u001b[38;5;28mchr\u001b[39m(\u001b[38;5;28mord\u001b[39m(k)\u001b[38;5;241m+\u001b[39m\u001b[38;5;241m1\u001b[39m)\n\u001b[0;32m      8\u001b[0m     \u001b[38;5;28mprint\u001b[39m(char,end\u001b[38;5;241m=\u001b[39m\u001b[38;5;124m'\u001b[39m\u001b[38;5;124m'\u001b[39m)\n\u001b[0;32m      9\u001b[0m     k\u001b[38;5;241m=\u001b[39m\u001b[38;5;28mord\u001b[39m(k)\u001b[38;5;241m+\u001b[39m\u001b[38;5;241m1\u001b[39m\n",
      "\u001b[1;31mTypeError\u001b[0m: ord() expected string of length 1, but int found"
     ]
    }
   ],
   "source": [
    "N=int(input())\n",
    "i=1\n",
    "k=(ord('A'))\n",
    "while(i<=N):\n",
    "    j=1\n",
    "    while(j<=i):\n",
    "        char=chr(ord(k)+1)\n",
    "        print(char,end='')\n",
    "        k=ord(k)+1\n",
    "    print()\n",
    "    i=i+1  "
   ]
  },
  {
   "cell_type": "code",
   "execution_count": 18,
   "id": "4ecd3d6b",
   "metadata": {},
   "outputs": [
    {
     "name": "stdout",
     "output_type": "stream",
     "text": [
      "3\n",
      "A\n",
      "BB\n",
      "CCC\n"
     ]
    }
   ],
   "source": [
    "N=int(input())\n",
    "i=1\n",
    "k='A'\n",
    "while i<=N:\n",
    "    j=1\n",
    "    while j<=i:\n",
    "        print(k,end='')\n",
    "        j=j+1\n",
    "    k=chr(ord(k)+1)\n",
    "    print()\n",
    "    i=i+1"
   ]
  },
  {
   "cell_type": "code",
   "execution_count": 4,
   "id": "8eab124a",
   "metadata": {},
   "outputs": [
    {
     "ename": "KeyboardInterrupt",
     "evalue": "Interrupted by user",
     "output_type": "error",
     "traceback": [
      "\u001b[1;31m---------------------------------------------------------------------------\u001b[0m",
      "\u001b[1;31mKeyboardInterrupt\u001b[0m                         Traceback (most recent call last)",
      "Cell \u001b[1;32mIn[4], line 1\u001b[0m\n\u001b[1;32m----> 1\u001b[0m N\u001b[38;5;241m=\u001b[39m\u001b[38;5;28mint\u001b[39m(\u001b[38;5;28minput\u001b[39m())\n\u001b[0;32m      2\u001b[0m i\u001b[38;5;241m=\u001b[39m\u001b[38;5;241m1\u001b[39m\n\u001b[0;32m      3\u001b[0m a\u001b[38;5;241m=\u001b[39mN\n",
      "File \u001b[1;32m~\\anaconda3\\Lib\\site-packages\\ipykernel\\kernelbase.py:1175\u001b[0m, in \u001b[0;36mKernel.raw_input\u001b[1;34m(self, prompt)\u001b[0m\n\u001b[0;32m   1171\u001b[0m \u001b[38;5;28;01mif\u001b[39;00m \u001b[38;5;129;01mnot\u001b[39;00m \u001b[38;5;28mself\u001b[39m\u001b[38;5;241m.\u001b[39m_allow_stdin:\n\u001b[0;32m   1172\u001b[0m     \u001b[38;5;28;01mraise\u001b[39;00m StdinNotImplementedError(\n\u001b[0;32m   1173\u001b[0m         \u001b[38;5;124m\"\u001b[39m\u001b[38;5;124mraw_input was called, but this frontend does not support input requests.\u001b[39m\u001b[38;5;124m\"\u001b[39m\n\u001b[0;32m   1174\u001b[0m     )\n\u001b[1;32m-> 1175\u001b[0m \u001b[38;5;28;01mreturn\u001b[39;00m \u001b[38;5;28mself\u001b[39m\u001b[38;5;241m.\u001b[39m_input_request(\n\u001b[0;32m   1176\u001b[0m     \u001b[38;5;28mstr\u001b[39m(prompt),\n\u001b[0;32m   1177\u001b[0m     \u001b[38;5;28mself\u001b[39m\u001b[38;5;241m.\u001b[39m_parent_ident[\u001b[38;5;124m\"\u001b[39m\u001b[38;5;124mshell\u001b[39m\u001b[38;5;124m\"\u001b[39m],\n\u001b[0;32m   1178\u001b[0m     \u001b[38;5;28mself\u001b[39m\u001b[38;5;241m.\u001b[39mget_parent(\u001b[38;5;124m\"\u001b[39m\u001b[38;5;124mshell\u001b[39m\u001b[38;5;124m\"\u001b[39m),\n\u001b[0;32m   1179\u001b[0m     password\u001b[38;5;241m=\u001b[39m\u001b[38;5;28;01mFalse\u001b[39;00m,\n\u001b[0;32m   1180\u001b[0m )\n",
      "File \u001b[1;32m~\\anaconda3\\Lib\\site-packages\\ipykernel\\kernelbase.py:1217\u001b[0m, in \u001b[0;36mKernel._input_request\u001b[1;34m(self, prompt, ident, parent, password)\u001b[0m\n\u001b[0;32m   1214\u001b[0m             \u001b[38;5;28;01mbreak\u001b[39;00m\n\u001b[0;32m   1215\u001b[0m \u001b[38;5;28;01mexcept\u001b[39;00m \u001b[38;5;167;01mKeyboardInterrupt\u001b[39;00m:\n\u001b[0;32m   1216\u001b[0m     \u001b[38;5;66;03m# re-raise KeyboardInterrupt, to truncate traceback\u001b[39;00m\n\u001b[1;32m-> 1217\u001b[0m     \u001b[38;5;28;01mraise\u001b[39;00m \u001b[38;5;167;01mKeyboardInterrupt\u001b[39;00m(\u001b[38;5;124m\"\u001b[39m\u001b[38;5;124mInterrupted by user\u001b[39m\u001b[38;5;124m\"\u001b[39m) \u001b[38;5;28;01mfrom\u001b[39;00m \u001b[38;5;28;01mNone\u001b[39;00m\n\u001b[0;32m   1218\u001b[0m \u001b[38;5;28;01mexcept\u001b[39;00m \u001b[38;5;167;01mException\u001b[39;00m:\n\u001b[0;32m   1219\u001b[0m     \u001b[38;5;28mself\u001b[39m\u001b[38;5;241m.\u001b[39mlog\u001b[38;5;241m.\u001b[39mwarning(\u001b[38;5;124m\"\u001b[39m\u001b[38;5;124mInvalid Message:\u001b[39m\u001b[38;5;124m\"\u001b[39m, exc_info\u001b[38;5;241m=\u001b[39m\u001b[38;5;28;01mTrue\u001b[39;00m)\n",
      "\u001b[1;31mKeyboardInterrupt\u001b[0m: Interrupted by user"
     ]
    }
   ],
   "source": []
  },
  {
   "cell_type": "code",
   "execution_count": 20,
   "id": "3a2aaa30",
   "metadata": {},
   "outputs": [
    {
     "name": "stdout",
     "output_type": "stream",
     "text": [
      "2\n",
      "1\n",
      "2\n"
     ]
    }
   ],
   "source": [
    "n=int(input())\n",
    "i=1\n",
    "while i<=n:\n",
    "    j=n\n",
    "    while j>=n:\n",
    "        print(i,end=\"\")\n",
    "        j=j-1\n",
    "    print()\n",
    "    i=i+1\n",
    "    \n",
    "    "
   ]
  },
  {
   "cell_type": "code",
   "execution_count": 10,
   "id": "35f01390",
   "metadata": {},
   "outputs": [
    {
     "name": "stdout",
     "output_type": "stream",
     "text": [
      "4\n",
      "****\n",
      "***\n",
      "**\n",
      "*\n"
     ]
    }
   ],
   "source": [
    "n=int(input())\n",
    "i=1\n",
    "while i<=n:\n",
    "    j=1\n",
    "    while j<=n-i+1:\n",
    "        print('*',end=\"\")\n",
    "        j=j+1\n",
    "    print()\n",
    "    i=i+1"
   ]
  },
  {
   "cell_type": "code",
   "execution_count": 13,
   "id": "3ad8f75e",
   "metadata": {},
   "outputs": [
    {
     "name": "stdout",
     "output_type": "stream",
     "text": [
      "4\n",
      "4444\n",
      "333\n",
      "22\n",
      "1\n"
     ]
    }
   ],
   "source": [
    "n=int(input())\n",
    "i=1\n",
    "a=n\n",
    "while i<=n:\n",
    "    j=1\n",
    "    while j<=n-i+1:\n",
    "        print(a,end=\"\")\n",
    "        j=j+1\n",
    "    print()\n",
    "    i=i+1\n",
    "    a=a-1\n",
    "    "
   ]
  },
  {
   "cell_type": "code",
   "execution_count": 1,
   "id": "813a708c",
   "metadata": {},
   "outputs": [
    {
     "ename": "KeyboardInterrupt",
     "evalue": "Interrupted by user",
     "output_type": "error",
     "traceback": [
      "\u001b[1;31m---------------------------------------------------------------------------\u001b[0m",
      "\u001b[1;31mKeyboardInterrupt\u001b[0m                         Traceback (most recent call last)",
      "Cell \u001b[1;32mIn[1], line 3\u001b[0m\n\u001b[0;32m      1\u001b[0m \u001b[38;5;66;03m## Read input as specified in the question\u001b[39;00m\n\u001b[0;32m      2\u001b[0m \u001b[38;5;66;03m## Print the required output in given format\u001b[39;00m\n\u001b[1;32m----> 3\u001b[0m N\u001b[38;5;241m=\u001b[39m\u001b[38;5;28mint\u001b[39m(\u001b[38;5;28minput\u001b[39m())\n\u001b[0;32m      4\u001b[0m i\u001b[38;5;241m=\u001b[39m\u001b[38;5;241m1\u001b[39m\n\u001b[0;32m      5\u001b[0m a\u001b[38;5;241m=\u001b[39mN\n",
      "File \u001b[1;32m~\\anaconda3\\Lib\\site-packages\\ipykernel\\kernelbase.py:1175\u001b[0m, in \u001b[0;36mKernel.raw_input\u001b[1;34m(self, prompt)\u001b[0m\n\u001b[0;32m   1171\u001b[0m \u001b[38;5;28;01mif\u001b[39;00m \u001b[38;5;129;01mnot\u001b[39;00m \u001b[38;5;28mself\u001b[39m\u001b[38;5;241m.\u001b[39m_allow_stdin:\n\u001b[0;32m   1172\u001b[0m     \u001b[38;5;28;01mraise\u001b[39;00m StdinNotImplementedError(\n\u001b[0;32m   1173\u001b[0m         \u001b[38;5;124m\"\u001b[39m\u001b[38;5;124mraw_input was called, but this frontend does not support input requests.\u001b[39m\u001b[38;5;124m\"\u001b[39m\n\u001b[0;32m   1174\u001b[0m     )\n\u001b[1;32m-> 1175\u001b[0m \u001b[38;5;28;01mreturn\u001b[39;00m \u001b[38;5;28mself\u001b[39m\u001b[38;5;241m.\u001b[39m_input_request(\n\u001b[0;32m   1176\u001b[0m     \u001b[38;5;28mstr\u001b[39m(prompt),\n\u001b[0;32m   1177\u001b[0m     \u001b[38;5;28mself\u001b[39m\u001b[38;5;241m.\u001b[39m_parent_ident[\u001b[38;5;124m\"\u001b[39m\u001b[38;5;124mshell\u001b[39m\u001b[38;5;124m\"\u001b[39m],\n\u001b[0;32m   1178\u001b[0m     \u001b[38;5;28mself\u001b[39m\u001b[38;5;241m.\u001b[39mget_parent(\u001b[38;5;124m\"\u001b[39m\u001b[38;5;124mshell\u001b[39m\u001b[38;5;124m\"\u001b[39m),\n\u001b[0;32m   1179\u001b[0m     password\u001b[38;5;241m=\u001b[39m\u001b[38;5;28;01mFalse\u001b[39;00m,\n\u001b[0;32m   1180\u001b[0m )\n",
      "File \u001b[1;32m~\\anaconda3\\Lib\\site-packages\\ipykernel\\kernelbase.py:1217\u001b[0m, in \u001b[0;36mKernel._input_request\u001b[1;34m(self, prompt, ident, parent, password)\u001b[0m\n\u001b[0;32m   1214\u001b[0m             \u001b[38;5;28;01mbreak\u001b[39;00m\n\u001b[0;32m   1215\u001b[0m \u001b[38;5;28;01mexcept\u001b[39;00m \u001b[38;5;167;01mKeyboardInterrupt\u001b[39;00m:\n\u001b[0;32m   1216\u001b[0m     \u001b[38;5;66;03m# re-raise KeyboardInterrupt, to truncate traceback\u001b[39;00m\n\u001b[1;32m-> 1217\u001b[0m     \u001b[38;5;28;01mraise\u001b[39;00m \u001b[38;5;167;01mKeyboardInterrupt\u001b[39;00m(\u001b[38;5;124m\"\u001b[39m\u001b[38;5;124mInterrupted by user\u001b[39m\u001b[38;5;124m\"\u001b[39m) \u001b[38;5;28;01mfrom\u001b[39;00m \u001b[38;5;28;01mNone\u001b[39;00m\n\u001b[0;32m   1218\u001b[0m \u001b[38;5;28;01mexcept\u001b[39;00m \u001b[38;5;167;01mException\u001b[39;00m:\n\u001b[0;32m   1219\u001b[0m     \u001b[38;5;28mself\u001b[39m\u001b[38;5;241m.\u001b[39mlog\u001b[38;5;241m.\u001b[39mwarning(\u001b[38;5;124m\"\u001b[39m\u001b[38;5;124mInvalid Message:\u001b[39m\u001b[38;5;124m\"\u001b[39m, exc_info\u001b[38;5;241m=\u001b[39m\u001b[38;5;28;01mTrue\u001b[39;00m)\n",
      "\u001b[1;31mKeyboardInterrupt\u001b[0m: Interrupted by user"
     ]
    }
   ],
   "source": [
    "## Read input as specified in the question\n",
    "## Print the required output in given format\n",
    "N=int(input())\n",
    "i=1\n",
    "a=N\n",
    "while i<=N:\n",
    "    j=1\n",
    "    while j<=N-i+1:\n",
    "        print(a, end=\"\" )\n",
    "        j=j+1\n",
    "    print( )\n",
    "    i=i+1\n",
    "    a=a-1"
   ]
  },
  {
   "cell_type": "code",
   "execution_count": null,
   "id": "a3120a7d",
   "metadata": {},
   "outputs": [
    {
     "name": "stdout",
     "output_type": "stream",
     "text": [
      "4\n"
     ]
    }
   ],
   "source": []
  },
  {
   "cell_type": "code",
   "execution_count": 2,
   "id": "a63d40e1",
   "metadata": {},
   "outputs": [
    {
     "name": "stdout",
     "output_type": "stream",
     "text": [
      "5\n",
      "    1\n",
      "   12\n",
      "  123\n",
      " 1234\n",
      "12345\n"
     ]
    }
   ],
   "source": [
    "n=int(input())\n",
    "i=1\n",
    "while i<=n:\n",
    "    s=1\n",
    "    while s<=n-i:\n",
    "        print(' ',end=\"\")\n",
    "        s=s+1\n",
    "    stars=1\n",
    "    while stars<=i:\n",
    "        print(stars,end=\"\")\n",
    "        stars=stars+1\n",
    "    print()\n",
    "    i=i+1\n",
    "while    \n",
    "while i<=n:\n",
    "    s=1\n",
    "    while s<=n-i:\n",
    "        print(' ',end=\"\")\n",
    "        s=s+1\n",
    "    stars=1\n",
    "    while stars<=i:\n",
    "        print(stars,end=\"\")\n",
    "        stars=stars+1\n",
    "    print()\n",
    "    i=i+1    "
   ]
  },
  {
   "cell_type": "code",
   "execution_count": 45,
   "id": "d9d174ef",
   "metadata": {},
   "outputs": [
    {
     "name": "stdout",
     "output_type": "stream",
     "text": [
      "5\n",
      "    1\n",
      "   232\n",
      "  34543\n",
      " 4567654\n",
      "567898765\n"
     ]
    }
   ],
   "source": [
    "N=int(input())\n",
    "i=1\n",
    "while i<=N:\n",
    "    spaces=1\n",
    "    while spaces<=N-i:\n",
    "        print(' ',end=\"\")\n",
    "        spaces=spaces+1\n",
    "    j=1\n",
    "    p=i\n",
    "    while j<=i:\n",
    "        \n",
    "        print(p,end=\"\") \n",
    "        j=j+1\n",
    "        p=p+1\n",
    "    d=i-1\n",
    "    while d>=1:\n",
    "        print(d+j-2,end=\"\")\n",
    "        d=d-1\n",
    "    print()\n",
    "    i=i+1 \n",
    "   \n",
    "   "
   ]
  },
  {
   "cell_type": "code",
   "execution_count": 14,
   "id": "62ae2d48",
   "metadata": {},
   "outputs": [
    {
     "name": "stdout",
     "output_type": "stream",
     "text": [
      "4\n",
      "   *\n",
      "  ***\n",
      " *****\n",
      "*******\n"
     ]
    }
   ],
   "source": [
    "n=int(input())\n",
    "i=1\n",
    "while i<=n:\n",
    "    spaces=1\n",
    "    while spaces<=n-i:\n",
    "        print(' ',end=\"\")\n",
    "        spaces=spaces+1\n",
    "    stars=1\n",
    "    while stars<=i:\n",
    "        print('*',end=\"\")\n",
    "        stars=stars+1\n",
    "    p=i-1\n",
    "    while p>=1:\n",
    "        print('*',end=\"\")\n",
    "        p=p-1\n",
    "    print() \n",
    "    i=i+1"
   ]
  },
  {
   "cell_type": "code",
   "execution_count": null,
   "id": "54de42ea",
   "metadata": {},
   "outputs": [],
   "source": []
  },
  {
   "cell_type": "code",
   "execution_count": null,
   "id": "afc8c722",
   "metadata": {},
   "outputs": [],
   "source": []
  },
  {
   "cell_type": "code",
   "execution_count": null,
   "id": "df71b2d7",
   "metadata": {},
   "outputs": [],
   "source": []
  },
  {
   "cell_type": "code",
   "execution_count": 10,
   "id": "a8da4ee0",
   "metadata": {},
   "outputs": [
    {
     "name": "stdout",
     "output_type": "stream",
     "text": [
      "5\n",
      "*\n",
      "***\n",
      "*****\n",
      "***\n",
      "*\n"
     ]
    }
   ],
   "source": [
    "N=int(input())\n",
    "firsthalf=(N+1)//2\n",
    "secondhalf=N//2\n",
    "i=1\n",
    "while i<=firsthalf:\n",
    "    spaces=1\n",
    "    while spaces<=(firsthalf-i):\n",
    "        print(end=\"\")\n",
    "        spaces+=1\n",
    "    j=1\n",
    "    while j<=((2*i)-1):\n",
    "        print('*',end=\"\")\n",
    "        j+=1\n",
    "    print()\n",
    "    i+=1\n",
    "i=secondhalf    \n",
    "while  i>=1:\n",
    "    spaces=1\n",
    "    while(spaces<=(secondhalf-i+1)):\n",
    "        print(end=\"\")\n",
    "        spaces+=1\n",
    "    j=1\n",
    "    while j<=((2*i)-1):\n",
    "        print('*',end=\"\")\n",
    "        j+=1\n",
    "    print()\n",
    "    i-=1    \n",
    "\n"
   ]
  },
  {
   "cell_type": "code",
   "execution_count": 14,
   "id": "c00e8f64",
   "metadata": {},
   "outputs": [
    {
     "ename": "SyntaxError",
     "evalue": "invalid non-printable character U+00A0 (890702697.py, line 31)",
     "output_type": "error",
     "traceback": [
      "\u001b[1;36m  Cell \u001b[1;32mIn[14], line 31\u001b[1;36m\u001b[0m\n\u001b[1;33m    \u001b[0m\n\u001b[1;37m    ^\u001b[0m\n\u001b[1;31mSyntaxError\u001b[0m\u001b[1;31m:\u001b[0m invalid non-printable character U+00A0\n"
     ]
    }
   ],
   "source": [
    "n = int(input())\n",
    "firstHalf = (n + 1) // 2\n",
    "secondHalf = n // 2\n",
    "#First Half\n",
    "currRow = 1 \n",
    "while currRow <= firstHalf:\n",
    "    spaces = 1 \n",
    "    while spaces <= (firstHalf - currRow) :\n",
    "        print(\" \", end = \"\")\n",
    "        spaces += 1\n",
    "    currCol = 1\n",
    "    while currCol <= (2 * currRow) - 1 :\n",
    "        print(\"*\", end = \"\")\n",
    "        currCol += 1\n",
    "        \n",
    "    print()\n",
    "    currRow += 1\n",
    "#Second Half \n",
    "currRow = secondHalf \n",
    "while currRow >= 1 :\n",
    "    spaces = 1\n",
    "    while spaces <= (secondHalf - currRow + 1) :\n",
    "        print(\" \", end = \"\") \n",
    "        spaces += 1\n",
    "    currCol = 1 \n",
    "    while currCol <= (2 * currRow) - 1 :\n",
    "        print(\"*\", end = \"\") \n",
    "        currCol += 1\n",
    "    \n",
    "    print()\n",
    "    "
   ]
  },
  {
   "cell_type": "code",
   "execution_count": 8,
   "id": "afa4be15",
   "metadata": {},
   "outputs": [
    {
     "name": "stdout",
     "output_type": "stream",
     "text": [
      "namam\n",
      "string is not palindrome\n"
     ]
    }
   ],
   "source": [
    "n=input()\n",
    "a=len(n)\n",
    "str=\"\"\n",
    "for i in (n):\n",
    "    str=i+str\n",
    "    \n",
    "if(n==str):\n",
    "    print(\"string is palindrome\")\n",
    "else:\n",
    "    print(\"string is not palindrome\")\n",
    "    "
   ]
  },
  {
   "cell_type": "code",
   "execution_count": 15,
   "id": "e9d2089d",
   "metadata": {},
   "outputs": [
    {
     "name": "stdout",
     "output_type": "stream",
     "text": [
      "khokho\n",
      "string is symmetrical\n",
      "string is not palindrome\n"
     ]
    }
   ],
   "source": [
    "string=input()\n",
    "half=int(len(string)/2)\n",
    "firsthalf=string[:half]\n",
    "secondhalf=string[half:]\n",
    "if firsthalf==secondhalf:\n",
    "    print(\"string is symmetrical\")\n",
    "else:\n",
    "    print(\"string is not symmetrical\")\n",
    "if firsthalf==secondhalf[::-1] :\n",
    "    print(\"string is palindrome\")\n",
    "else:\n",
    "    print(\"string is not palindrome\")"
   ]
  },
  {
   "cell_type": "code",
   "execution_count": 16,
   "id": "1113a4dc",
   "metadata": {},
   "outputs": [
    {
     "name": "stdout",
     "output_type": "stream",
     "text": [
      "geeks for geeks code\n",
      "code geeks for geeks\n"
     ]
    }
   ],
   "source": [
    "string=input()\n",
    "s=string.split()[::-1]\n",
    "li=[]\n",
    "for i in s:\n",
    "    li.append(i)\n",
    "print(\" \".join (li))    \n",
    "    \n"
   ]
  },
  {
   "cell_type": "code",
   "execution_count": 18,
   "id": "0d58441f",
   "metadata": {},
   "outputs": [
    {
     "name": "stdout",
     "output_type": "stream",
     "text": [
      "geeks 123 geeks 123 for 231\n",
      "geeks  geeks  for 231\n"
     ]
    }
   ],
   "source": [
    "string=input()\n",
    "new_str=string.replace(\"123\",'')\n",
    "print(new_str)"
   ]
  },
  {
   "cell_type": "code",
   "execution_count": null,
   "id": "324d1d74",
   "metadata": {},
   "outputs": [],
   "source": [
    "string=input()\n",
    "substring=input()\n",
    "string=string.split()\n",
    "for i in string:\n",
    "    \n",
    "    if i==substring:\n",
    "        print(\"yes\")\n",
    "    else:\n",
    "        print(\"no\")\n",
    "        "
   ]
  },
  {
   "cell_type": "code",
   "execution_count": null,
   "id": "b2328f71",
   "metadata": {},
   "outputs": [],
   "source": [
    "string=input()\n",
    "substring=input()\n",
    "string=string.split()\n",
    "if substring in string:\n",
    "    print(\"yes\")\n",
    "else:\n",
    "    print(\"no\")\n"
   ]
  },
  {
   "cell_type": "code",
   "execution_count": 3,
   "id": "bbb247e6",
   "metadata": {},
   "outputs": [
    {
     "ename": "ModuleNotFoundError",
     "evalue": "No module named 'selenium'",
     "output_type": "error",
     "traceback": [
      "\u001b[1;31m---------------------------------------------------------------------------\u001b[0m",
      "\u001b[1;31mModuleNotFoundError\u001b[0m                       Traceback (most recent call last)",
      "Cell \u001b[1;32mIn[3], line 7\u001b[0m\n\u001b[0;32m      4\u001b[0m \u001b[38;5;66;03m# store the birthdates of your contacts\u001b[39;00m\n\u001b[0;32m      5\u001b[0m \u001b[38;5;28;01mimport\u001b[39;00m \u001b[38;5;21;01mjson\u001b[39;00m\n\u001b[1;32m----> 7\u001b[0m \u001b[38;5;28;01mfrom\u001b[39;00m \u001b[38;5;21;01mselenium\u001b[39;00m \u001b[38;5;28;01mimport\u001b[39;00m webdriver\n\u001b[0;32m      9\u001b[0m \u001b[38;5;66;03m# add a delay so that all elements of\u001b[39;00m\n\u001b[0;32m     10\u001b[0m \u001b[38;5;66;03m# the webpage are loaded before proceeding\u001b[39;00m\n\u001b[0;32m     11\u001b[0m \u001b[38;5;28;01mimport\u001b[39;00m \u001b[38;5;21;01mtime\u001b[39;00m\n",
      "\u001b[1;31mModuleNotFoundError\u001b[0m: No module named 'selenium'"
     ]
    }
   ],
   "source": []
  },
  {
   "cell_type": "code",
   "execution_count": 1,
   "id": "8990dd9d",
   "metadata": {},
   "outputs": [
    {
     "name": "stdout",
     "output_type": "stream",
     "text": [
      "1\n",
      "1\n",
      "1\n",
      "2\n",
      "[[0, 0, 0], [0, 0, 1], [0, 1, 0], [1, 0, 0], [1, 1, 1]]\n"
     ]
    }
   ],
   "source": [
    "x, y, z, n = [int(input()) for _ in range(4)]  # You can input the values of x, y, z, and n\n",
    "\n",
    "coordinates = [[i, j, k] for i in range(x + 1) for j in range(y + 1) for k in range(z + 1) if i + j + k != n]\n",
    "\n",
    "print(coordinates)\n"
   ]
  },
  {
   "cell_type": "code",
   "execution_count": 2,
   "id": "aadca6a8",
   "metadata": {},
   "outputs": [
    {
     "name": "stdout",
     "output_type": "stream",
     "text": [
      "1\n",
      "1\n",
      "1\n",
      "2\n",
      "[[0, 0, 0], [0, 0, 1], [0, 1, 0], [1, 0, 0], [1, 1, 1]]\n"
     ]
    }
   ],
   "source": [
    "if __name__ == '__main__':\n",
    "    x,y,z,n=[int(input()) for _ in range(4)]\n",
    "    origin=[[i,j,k] for i in range (x+1) for j in range (y+1) for k in range(z+1) if (i+j+k)!=n]\n",
    "    print(origin)"
   ]
  },
  {
   "cell_type": "code",
   "execution_count": 15,
   "id": "d50bbec5",
   "metadata": {},
   "outputs": [
    {
     "name": "stdout",
     "output_type": "stream",
     "text": [
      "5\n",
      "2 3 6 6 5\n",
      "5\n"
     ]
    }
   ],
   "source": [
    "    n = int(input())\n",
    "    arr = list(map(int, input().split()))\n",
    "    n1=list(set(arr))\n",
    "    n1.sort()\n",
    "    \n",
    "    print(n1[-2])"
   ]
  },
  {
   "cell_type": "code",
   "execution_count": 4,
   "id": "bc26fd67",
   "metadata": {},
   "outputs": [
    {
     "name": "stdout",
     "output_type": "stream",
     "text": [
      "5\n",
      "2 3 6 6 5\n",
      "5\n"
     ]
    }
   ],
   "source": [
    "# Input the number of participants\n",
    "n = int(input())\n",
    "\n",
    "# Input the scores as a list\n",
    "scores = list(map(int, input().split()))\n",
    "\n",
    "# Remove duplicates by converting the list to a set and back to a list\n",
    "unique_scores = list(set(scores))\n",
    "\n",
    "# Sort the list of unique scores in descending order\n",
    "unique_scores.sort(reverse=True)\n",
    "\n",
    "# The runner-up score will be the second element in the sorted unique_scores list\n",
    "runner_up_score = unique_scores[1]\n",
    "\n",
    "# Print the runner-up score\n",
    "print(runner_up_score)\n"
   ]
  },
  {
   "cell_type": "code",
   "execution_count": 17,
   "id": "b40d3ccb",
   "metadata": {},
   "outputs": [
    {
     "name": "stdout",
     "output_type": "stream",
     "text": [
      "3\n",
      "harry\n",
      "37\n",
      "tina\n",
      "23\n",
      "har\n",
      "37\n",
      "har\n",
      "harry\n"
     ]
    }
   ],
   "source": [
    "if __name__ == '__main__':\n",
    "    \n",
    "    \n",
    "    # Input the number of students\n",
    "    n = int(input())\n",
    "    \n",
    "    # Create a list to store the student information as [name, grade]\n",
    "    student_info = []\n",
    "    \n",
    "    # Input the student names and grades\n",
    "    for _ in range(n):\n",
    "        name = input()\n",
    "        grade = float(input())\n",
    "        student_info.append([name, grade])\n",
    "    \n",
    "    # Sort the student information based on grades\n",
    "    student_info.sort(key=lambda x: (x[1], x[0]))\n",
    "    \n",
    "    # Find the second lowest grade\n",
    "    second_lowest_grade = None\n",
    "    for i in range(1, n):\n",
    "        if student_info[i][1] > student_info[0][1]:\n",
    "            second_lowest_grade = student_info[i][1]\n",
    "            break\n",
    "    \n",
    "    # Collect the names of students with the second lowest grade\n",
    "    second_lowest_students = [name for name, grade in student_info if grade == second_lowest_grade]\n",
    "    \n",
    "    # Sort the names alphabetically\n",
    "    second_lowest_students.sort()\n",
    "    \n",
    "    # Print the names of students with the second lowest grade\n",
    "    for name in second_lowest_students:\n",
    "        print(name)\n"
   ]
  },
  {
   "cell_type": "code",
   "execution_count": null,
   "id": "4a1b851f",
   "metadata": {},
   "outputs": [],
   "source": [
    "n=int(input())\n",
    "student_info=[]\n",
    "for i in range(n):\n",
    "    name=input()\n",
    "    grade=float(input())\n",
    "    student_info.append(name.grade)\n",
    "    \n",
    "    \n",
    "student_info.sort(key=lambda x :(x[1],x[0])\n",
    "student_lowest.sort=None\n",
    "for i in range(1,n):\n",
    "    if student_info [0][1]>student_info [0][1]:\n",
    "                  student_lowest=student_info[i][1]\n",
    "                  break\n",
    "                       \n",
    "                  \n",
    "                      \n",
    "                      \n",
    "    "
   ]
  },
  {
   "cell_type": "code",
   "execution_count": 19,
   "id": "3e3ead0a",
   "metadata": {},
   "outputs": [
    {
     "name": "stdout",
     "output_type": "stream",
     "text": [
      "3\n",
      "append 2\n",
      "append 3\n",
      "print\n",
      "[2, 3]\n"
     ]
    }
   ],
   "source": [
    "n=int(input())#number of operations\n",
    "item_list=[]\n",
    "for i in range(n):\n",
    "    command=input().split()\n",
    "    if command[0]=='insert':\n",
    "        i,e=int(command[1],command[2])\n",
    "        item_list.insert(i,e)\n",
    "    elif command[0]=='print':\n",
    "        print(item_list)\n",
    "    elif(command[0]=='append'):\n",
    "        e=int(command[1])\n",
    "        item_list.append(e)\n",
    "    elif(command[0]=='pop'):\n",
    "        item_list.pop()\n",
    "    elif(command[0]=='sort'):\n",
    "        item_list.sort()    \n",
    "    elif(command[0]=='reverse'):\n",
    "        item_list.reverse()\n",
    "    elif(command[0]=='remove'):\n",
    "        i,e=int(command[1],command[2])\n",
    "        item_list.remove(i,e)\n",
    "        \n",
    "        "
   ]
  },
  {
   "cell_type": "code",
   "execution_count": 21,
   "id": "3153517f",
   "metadata": {},
   "outputs": [
    {
     "name": "stdout",
     "output_type": "stream",
     "text": [
      "2\n",
      "1 2\n",
      "-3550055125485641917\n"
     ]
    }
   ],
   "source": [
    "n = int(input())\n",
    "integer_list = tuple(map(int, input().split()))\n",
    "print(hash(integer_list))"
   ]
  },
  {
   "cell_type": "code",
   "execution_count": 22,
   "id": "1e44b130",
   "metadata": {},
   "outputs": [
    {
     "name": "stdout",
     "output_type": "stream",
     "text": [
      "4 2 5 1 3 "
     ]
    }
   ],
   "source": [
    "class Node:\n",
    "    def __init__(self, data):\n",
    "        self.data = data\n",
    "        self.left = None\n",
    "        self.right = None\n",
    "\n",
    "def inOrder(root):\n",
    "    if root is not None:\n",
    "        inOrder(root.left)\n",
    "        print(root.data, end=' ')  # Print the data with a space separator\n",
    "        inOrder(root.right)\n",
    "\n",
    "# Sample tree creation\n",
    "root = Node(1)\n",
    "root.left = Node(2)\n",
    "root.right = Node(3)\n",
    "root.left.left = Node(4)\n",
    "root.left.right = Node(5)\n",
    "\n",
    "# Call the inOrder function on the root node\n",
    "inOrder(root)\n",
    "\n"
   ]
  },
  {
   "cell_type": "code",
   "execution_count": 11,
   "id": "ba73bf5b",
   "metadata": {},
   "outputs": [
    {
     "name": "stdout",
     "output_type": "stream",
     "text": [
      "value of strings2 3 2 3 1 3 1 3 1 3 1 3 1 3 1 3 1 3 \n",
      "[2, 3, 2, 3, 1, 3, 1, 3, 1, 3, 1, 3, 1, 3, 1, 3, 1, 3]\n"
     ]
    }
   ],
   "source": [
    "input_=input(\"value of strings\")\n",
    "user_list=input_.split()\n",
    "user_list=list(map(int,user_list))\n",
    "print(user_list)"
   ]
  },
  {
   "cell_type": "code",
   "execution_count": 16,
   "id": "aeaaced9",
   "metadata": {},
   "outputs": [
    {
     "name": "stdout",
     "output_type": "stream",
     "text": [
      "2\n",
      "121\n",
      "corresponding message: trasaction passed\n",
      "122\n",
      "corresponding message: trasaction failed\n"
     ]
    }
   ],
   "source": [
    "n=int(input())\n",
    "for i in range(n):\n",
    "    num=int(input())\n",
    "    num2=str(num)[::-1]\n",
    "    num2=int(num2)\n",
    "    if num==num2:\n",
    "        print(\"corresponding message: trasaction passed\")\n",
    "    else:\n",
    "        print(\"corresponding message: trasaction failed\")"
   ]
  },
  {
   "cell_type": "code",
   "execution_count": 17,
   "id": "6b57a471",
   "metadata": {},
   "outputs": [
    {
     "name": "stdout",
     "output_type": "stream",
     "text": [
      "120\n",
      "100\n"
     ]
    }
   ],
   "source": [
    "n=int(input())\n",
    "amount=0\n",
    "if n<=100:\n",
    "    amount=0\n",
    "elif n>100 and n<=200:\n",
    "    amount=100*0+(n-100)*5\n",
    "elif n>200:\n",
    "    amount=100*0+100*5+(n-200)*10\n",
    "print(amount)    \n",
    "    "
   ]
  },
  {
   "cell_type": "code",
   "execution_count": 22,
   "id": "350b6294",
   "metadata": {},
   "outputs": [
    {
     "name": "stdout",
     "output_type": "stream",
     "text": [
      "Enter genderm\n",
      "15000\n",
      "16500\n"
     ]
    }
   ],
   "source": [
    "gender=input(\"Enter gender\")\n",
    "salary=int(input())\n",
    "\n",
    "if gender=='m':\n",
    "    if salary<10000:\n",
    "        new_salary=salary+salary/10+(salary*2.5)//100\n",
    "    else:\n",
    "         new_salary=salary+salary//10\n",
    "else:\n",
    "    if salary<10000:\n",
    "        new_salary=salary+(salary*15)//100+(salary*2.5)//100\n",
    "    else:\n",
    "         new_salary=salary+(salary*15)//100\n",
    "    \n",
    "        \n",
    "print(new_salary)        \n",
    "    "
   ]
  },
  {
   "cell_type": "code",
   "execution_count": 29,
   "id": "3fc27f77",
   "metadata": {},
   "outputs": [
    {
     "name": "stdout",
     "output_type": "stream",
     "text": [
      "5\n",
      "Enter element1: 1\n",
      "Enter element2: 2\n",
      "Enter element3: 3\n",
      "Enter element4: 4\n",
      "Enter element5: 5\n",
      "The encrypted list is : [1, 2, 6, 24, 120]\n"
     ]
    }
   ],
   "source": [
    "import math\n",
    "n=int(input())\n",
    "li=[]\n",
    "for i in range(1,n+1):\n",
    "    num=int(input(f\"Enter element{i}: \"))\n",
    "    li.append(num)\n",
    "li1=[]    \n",
    "for i in range(n):\n",
    "    num1=math.factorial(li[i])\n",
    "    li1.append(num1)\n",
    "print(\"The encrypted list is :\",li1)    "
   ]
  },
  {
   "cell_type": "code",
   "execution_count": 32,
   "id": "b6e074e2",
   "metadata": {},
   "outputs": [
    {
     "name": "stdout",
     "output_type": "stream",
     "text": [
      "enter number of test cases3\n",
      "number of shelves4\n",
      "Books on one shelves5\n",
      "box capacity3\n",
      "number of shelves5\n",
      "Books on one shelves6\n",
      "box capacity2\n",
      "number of shelves6\n",
      "Books on one shelves5\n",
      "box capacity2\n",
      "[6, 15, 15]\n"
     ]
    }
   ],
   "source": [
    "test=int(input(\"enter number of test cases\"))\n",
    "li=[]\n",
    "for i in range(test):\n",
    "    x=int(input(\"number of shelves\"))\n",
    "    y=int(input(\"Books on one shelves\"))\n",
    "    z=int(input(\"box capacity\"))\n",
    "    val=x*y//z\n",
    "    li.append(val)\n",
    "    \n",
    "print(li)   "
   ]
  },
  {
   "cell_type": "code",
   "execution_count": 37,
   "id": "95fd6b34",
   "metadata": {},
   "outputs": [
    {
     "name": "stdout",
     "output_type": "stream",
     "text": [
      "banana apple Cherry Orange\n",
      "['apple', 'banana', 'Cherry', 'Orange']\n"
     ]
    }
   ],
   "source": [
    "\n",
    "this_list=list(map(str,input().split()))\n",
    "thislist=this_list\n",
    "thislist.sort(key = str.lower)\n",
    "\n",
    "print(thislist)\n"
   ]
  },
  {
   "cell_type": "code",
   "execution_count": 40,
   "id": "bf885a73",
   "metadata": {},
   "outputs": [
    {
     "name": "stdout",
     "output_type": "stream",
     "text": [
      "1\n"
     ]
    }
   ],
   "source": [
    "fruits = (\"apple\", \"banana\", \"cherry\")\n",
    "s=fruits.index(\"banana\")\n",
    "print(s)"
   ]
  },
  {
   "cell_type": "code",
   "execution_count": 4,
   "id": "f4bee241",
   "metadata": {},
   "outputs": [
    {
     "name": "stdout",
     "output_type": "stream",
     "text": [
      "geeks for geeks\n",
      "skeeg rof skeeg\n"
     ]
    }
   ],
   "source": [
    "def reverse(s):\n",
    "    str=\"\"\n",
    "    for i in s:\n",
    "        str=i+str\n",
    "    return str\n",
    "s=input()\n",
    "print(reverse(s))"
   ]
  },
  {
   "cell_type": "code",
   "execution_count": 7,
   "id": "7ec9e7d0",
   "metadata": {},
   "outputs": [
    {
     "name": "stdout",
     "output_type": "stream",
     "text": [
      "skeeg rof skeeg\n"
     ]
    }
   ],
   "source": [
    "def reverse(s):\n",
    "    if len(s)==0:\n",
    "        return s\n",
    "    else:\n",
    "        return reverse(s[1:])+s[0]\n",
    "        \n",
    "    \n",
    "s=\"geeks for geeks\"\n",
    "print(reverse(s))"
   ]
  },
  {
   "cell_type": "code",
   "execution_count": 9,
   "id": "9b712727",
   "metadata": {},
   "outputs": [
    {
     "name": "stdout",
     "output_type": "stream",
     "text": [
      "1\n",
      "2\n",
      "3\n",
      "3\n",
      "2.3\n",
      "[1, 2, 3, 3]\n"
     ]
    }
   ],
   "source": [
    "try:\n",
    "    list1=[]\n",
    "    while True:\n",
    "            list1.append(int(input()))\n",
    "except:\n",
    "    print(list1)"
   ]
  },
  {
   "cell_type": "code",
   "execution_count": 20,
   "id": "c50eca62",
   "metadata": {},
   "outputs": [
    {
     "name": "stdout",
     "output_type": "stream",
     "text": [
      "1 2 3 1 \n",
      "[1, 2, 3, 1]\n"
     ]
    }
   ],
   "source": [
    "result=list(map(int,input().strip().split()))\n",
    "print(result)"
   ]
  },
  {
   "cell_type": "code",
   "execution_count": 24,
   "id": "1bc5fa11",
   "metadata": {},
   "outputs": [
    {
     "name": "stdout",
     "output_type": "stream",
     "text": [
      "4\n",
      "geeks\n",
      "3\n",
      "hello\n",
      "4\n",
      "world\n",
      "4\n",
      "how are you\n",
      "3\n",
      "[['geeks', 3], ['hello', 4], ['world', 4], ['how are you', 3]]\n"
     ]
    }
   ],
   "source": [
    "lit=[]\n",
    "n=int(input())\n",
    "for i in range(n):\n",
    "    ele=[input() ,int(input())]\n",
    "    lit.append(ele)\n",
    "print(lit)    "
   ]
  },
  {
   "cell_type": "code",
   "execution_count": 26,
   "id": "56082b9f",
   "metadata": {},
   "outputs": [
    {
     "name": "stdout",
     "output_type": "stream",
     "text": [
      "enter an valid values1 2 3 1  2  3 \n",
      "enter an valid values2  5  6 6 4 4 \n",
      "[1, 2, 3, 1, 2, 3]\n",
      "[2, 5, 6, 6, 4, 4]\n"
     ]
    }
   ],
   "source": [
    "lst1=[]\n",
    "lst2=[]\n",
    "lst1=[int(x) for x in input(\"enter an valid values\").split()]\n",
    "lst2=[int(x) for x in input(\"enter an valid values\").split()]\n",
    "print(lst1)\n",
    "print(lst2)"
   ]
  },
  {
   "cell_type": "code",
   "execution_count": 36,
   "id": "35f43b01",
   "metadata": {},
   "outputs": [
    {
     "name": "stdout",
     "output_type": "stream",
     "text": [
      "(4, 6, 8, 10, 12)\n",
      "False\n",
      "[1, 2, 3, 4, 4, 4, 4, 4, 5, 6]\n"
     ]
    }
   ],
   "source": [
    "tuple1=(1,2,3,4,5,4,4,4,4,6)\n",
    "tuple2=(3,4,5,6,7)\n",
    "tuple3=()\n",
    "result=tuple(map(lambda i,j:i+j , tuple1,tuple2))\n",
    "print(result)\n",
    "tuple1.count(4)\n",
    "print(any(tuple3))\n",
    "print(sorted(tuple1))"
   ]
  },
  {
   "cell_type": "code",
   "execution_count": 37,
   "id": "e4d586a8",
   "metadata": {},
   "outputs": [
    {
     "name": "stdout",
     "output_type": "stream",
     "text": [
      "1\n",
      "[2, 3, 4, 5]\n"
     ]
    }
   ],
   "source": [
    "x,*y=[1,2,3,4,5]\n",
    "print(x)\n",
    "print(y)"
   ]
  },
  {
   "cell_type": "code",
   "execution_count": 57,
   "id": "5bb6720f",
   "metadata": {},
   "outputs": [
    {
     "name": "stdout",
     "output_type": "stream",
     "text": [
      "{1, 2, 3, 4}\n"
     ]
    }
   ],
   "source": [
    "set1={1,2,3,1,4}\n",
    "list1=[1,2,3,5]\n",
    "set1.discard(5)\n",
    "print(set1)"
   ]
  },
  {
   "cell_type": "code",
   "execution_count": 71,
   "id": "1d24d513",
   "metadata": {},
   "outputs": [
    {
     "name": "stdout",
     "output_type": "stream",
     "text": [
      "('harry', 'spoon')\n",
      "{'human being'}\n",
      "harry is human being\n",
      "spoon is object\n"
     ]
    }
   ],
   "source": [
    "dic={\n",
    "    \"harry\":\"human being\",\"spoon\":\"object\"\n",
    "}\n",
    "print(tuple(dic.keys()))\n",
    "print({dic['harry']})\n",
    "for key in dic.keys():\n",
    "    print(f\"{key} is {dic[key]}\")"
   ]
  },
  {
   "cell_type": "code",
   "execution_count": 78,
   "id": "d95cfb60",
   "metadata": {},
   "outputs": [
    {
     "name": "stdout",
     "output_type": "stream",
     "text": [
      "human being\n",
      "the value of key with respect to spoon is object\n",
      "the value of key with respect to age is 16\n"
     ]
    }
   ],
   "source": [
    "dic={\n",
    "    \"harry\":\"human being\",\n",
    "    \"spoon\":\"object\",\n",
    "    \"age\":\"16\"\n",
    "}\n",
    "print(dic.pop(\"harry\"))\n",
    "for key , value in dic.items():\n",
    "    print(f\"the value of key with respect to {key} is {value}\")\n",
    " \n"
   ]
  },
  {
   "cell_type": "code",
   "execution_count": 93,
   "id": "c7bf16f1",
   "metadata": {},
   "outputs": [
    {
     "name": "stdout",
     "output_type": "stream",
     "text": [
      "-5\n",
      "invalid input\n",
      "try again\n"
     ]
    }
   ],
   "source": [
    "a=input()\n",
    "try:\n",
    "    for i in range(1,11):\n",
    "        if (a<0):\n",
    "            raise valueerror(\"value should be greater than 0\")\n",
    "        print(f\"{int(a)} x{i} = {int(a)*i}\")\n",
    "        \n",
    "except:\n",
    "    print(\"invalid input\")\n",
    "finally:\n",
    "    print(\"try again\")"
   ]
  },
  {
   "cell_type": "code",
   "execution_count": 91,
   "id": "c476c0fb",
   "metadata": {},
   "outputs": [
    {
     "name": "stdout",
     "output_type": "stream",
     "text": [
      "enter value of i23\n",
      "some error\n",
      "try again\n",
      "0\n"
     ]
    }
   ],
   "source": [
    "def fun():\n",
    "    try:\n",
    "        list1=[1,2,3,4]\n",
    "        i=int(input(\"enter value of i\"))\n",
    "        print(list1[i])\n",
    "        return 1\n",
    "    except:\n",
    "        print(\"some error\")\n",
    "        return 0\n",
    "    finally:\n",
    "        print(\"try again\")\n",
    "    \n",
    "x=fun()\n",
    "print(x)"
   ]
  },
  {
   "cell_type": "code",
   "execution_count": 100,
   "id": "6c0ddd04",
   "metadata": {},
   "outputs": [
    {
     "name": "stdout",
     "output_type": "stream",
     "text": [
      "0 10\n",
      "1 20\n",
      "2 30\n",
      "3 40\n",
      "awesome\n",
      "4 50\n",
      "5 60\n"
     ]
    }
   ],
   "source": [
    "a = [10, 20, 30, 40, 50, 60]\n",
    "value = [10, 20, 30, 40, 50, 60]\n",
    "\n",
    "for index, mark in enumerate(value):\n",
    "    print(index, mark)\n",
    "    if index == 3:\n",
    "        print(\"awesome\")"
   ]
  },
  {
   "cell_type": "code",
   "execution_count": 106,
   "id": "726a0d5c",
   "metadata": {},
   "outputs": [
    {
     "name": "stdout",
     "output_type": "stream",
     "text": [
      "enter messagehkbifbn   hjvv\n"
     ]
    },
    {
     "ename": "MemoryError",
     "evalue": "",
     "output_type": "error",
     "traceback": [
      "\u001b[1;31m---------------------------------------------------------------------------\u001b[0m",
      "\u001b[1;31mMemoryError\u001b[0m                               Traceback (most recent call last)",
      "Cell \u001b[1;32mIn[106], line 9\u001b[0m\n\u001b[0;32m      7\u001b[0m     r1\u001b[38;5;241m=\u001b[39m\u001b[38;5;124m\"\u001b[39m\u001b[38;5;124mdsf\u001b[39m\u001b[38;5;124m\"\u001b[39m\n\u001b[0;32m      8\u001b[0m     r2\u001b[38;5;241m=\u001b[39m\u001b[38;5;124m\"\u001b[39m\u001b[38;5;124mrds\u001b[39m\u001b[38;5;124m\"\u001b[39m\n\u001b[1;32m----> 9\u001b[0m     stnew\u001b[38;5;241m=\u001b[39mr1\u001b[38;5;241m+\u001b[39mword[\u001b[38;5;241m1\u001b[39m:]\u001b[38;5;241m+\u001b[39mword[\u001b[38;5;241m0\u001b[39m]\u001b[38;5;241m+\u001b[39mr2\n\u001b[0;32m     10\u001b[0m     words\u001b[38;5;241m.\u001b[39mappend(stnew)\n\u001b[0;32m     12\u001b[0m \u001b[38;5;28;01melse\u001b[39;00m:\n",
      "\u001b[1;31mMemoryError\u001b[0m: "
     ]
    }
   ],
   "source": []
  },
  {
   "cell_type": "code",
   "execution_count": 5,
   "id": "d13ce8ec",
   "metadata": {},
   "outputs": [
    {
     "name": "stdout",
     "output_type": "stream",
     "text": [
      "Hello Everyone  My Name Is Herish Garg\n"
     ]
    }
   ],
   "source": [
    "f=open(\"main.txt\",\"w\")\n",
    "f.write(\"hello everyone\")\n",
    "f.close()\n",
    "f=open(\"main.txt\",\"a\")\n",
    "f.write(\"  my name is herish garg\")\n",
    "f.close()\n",
    "f=open(\"main.txt\",\"r\")\n",
    "text=f.read()\n",
    "text1=text.title()\n",
    "print(text1)"
   ]
  },
  {
   "cell_type": "code",
   "execution_count": 14,
   "id": "a0578aaa",
   "metadata": {},
   "outputs": [
    {
     "name": "stdout",
     "output_type": "stream",
     "text": [
      "['hello', 'everyone', 'my', 'name', 'is', 'herish', 'garg']\n",
      "['jhihijgfjebj']\n"
     ]
    }
   ],
   "source": [
    "with open (\"main.txt\",\"r\") as f:\n",
    "    text=f.readlines()\n",
    "    for each in text:\n",
    "        word=each.split()\n",
    "    print(word)    \n",
    "with open (\"main.txt\",\"w\") as f:\n",
    "    f.write(\"jhihijgfjebj\")\n",
    "with open (\"main.txt\",\"r\") as f:\n",
    "    text2=f.readlines()\n",
    "    for name in text2:\n",
    "        word2=name.split()\n",
    "    print(word2)    \n",
    "    \n"
   ]
  },
  {
   "cell_type": "code",
   "execution_count": 38,
   "id": "e63ce8a9",
   "metadata": {},
   "outputs": [
    {
     "ename": "TypeError",
     "evalue": "'tuple' object is not callable",
     "output_type": "error",
     "traceback": [
      "\u001b[1;31m---------------------------------------------------------------------------\u001b[0m",
      "\u001b[1;31mTypeError\u001b[0m                                 Traceback (most recent call last)",
      "Cell \u001b[1;32mIn[38], line 5\u001b[0m\n\u001b[0;32m      3\u001b[0m sum1\u001b[38;5;241m=\u001b[39m\u001b[38;5;28;01mlambda\u001b[39;00m i:i,tuple1\n\u001b[0;32m      4\u001b[0m result\u001b[38;5;241m=\u001b[39m(\u001b[38;5;28mfilter\u001b[39m(sum1,\u001b[38;5;28mlist\u001b[39m(tuple1)))\n\u001b[1;32m----> 5\u001b[0m result1\u001b[38;5;241m=\u001b[39m\u001b[38;5;28mlist\u001b[39m(result)\n\u001b[0;32m      6\u001b[0m \u001b[38;5;28mprint\u001b[39m(result1)\n",
      "\u001b[1;31mTypeError\u001b[0m: 'tuple' object is not callable"
     ]
    }
   ],
   "source": [
    "tuple1=(1,2,3,4,5,6)\n",
    "tuple2=(2,1,2,3,1)\n",
    "sum1=lambda i:i,tuple1\n",
    "result=(filter(sum1,list(tuple1)))\n",
    "result1=list(result)\n",
    "print(result1)"
   ]
  },
  {
   "cell_type": "code",
   "execution_count": 31,
   "id": "265ac98c",
   "metadata": {},
   "outputs": [
    {
     "name": "stdout",
     "output_type": "stream",
     "text": [
      "[6, 6, 10, 14, 12]\n"
     ]
    }
   ],
   "source": [
    "tuple1=(1,2,3,4,5,6)\n",
    "tuple2=(2,1,2,3,1)\n",
    "result=list(map(lambda i,j:(i+j)*2,tuple1,tuple2))\n",
    "print(result)            "
   ]
  },
  {
   "cell_type": "code",
   "execution_count": 40,
   "id": "f7c4a6dc",
   "metadata": {},
   "outputs": [
    {
     "name": "stdout",
     "output_type": "stream",
     "text": [
      "[2, 3, 4]\n"
     ]
    }
   ],
   "source": [
    "tuple1=[1,2,3,4]\n",
    "def product(a):\n",
    "    return a*a*a>2\n",
    "newl=filter(product,tuple1)\n",
    "newl=list(newl)\n",
    "print(newl)"
   ]
  },
  {
   "cell_type": "code",
   "execution_count": 44,
   "id": "d7577622",
   "metadata": {},
   "outputs": [
    {
     "name": "stdout",
     "output_type": "stream",
     "text": [
      "{1, 3, 5}\n"
     ]
    }
   ],
   "source": [
    "li=[1,2,3,4,5,6,4,8]\n",
    "def odd(a):\n",
    "    return a%2!=0\n",
    "result=(filter(odd,li))\n",
    "result=set(result)\n",
    "print(result)"
   ]
  },
  {
   "cell_type": "code",
   "execution_count": 48,
   "id": "d9803ea0",
   "metadata": {},
   "outputs": [
    {
     "name": "stdout",
     "output_type": "stream",
     "text": [
      "2.5\n",
      "Something went wrong\n"
     ]
    }
   ],
   "source": [
    "#The finally block gets executed no matter if the try block raises any errors or not:\n",
    "\n",
    "try:\n",
    "    \n",
    "    x=int(input())\n",
    "    print(x)\n",
    "except:\n",
    "    print(\"Something went wrong\")\n",
    "else:\n",
    "    \n",
    "    a=x*x*x\n",
    "    print(a)\n"
   ]
  },
  {
   "cell_type": "code",
   "execution_count": 52,
   "id": "a6d6d9ff",
   "metadata": {},
   "outputs": [
    {
     "name": "stdout",
     "output_type": "stream",
     "text": [
      "Something went wrong when writing to the file\n"
     ]
    }
   ],
   "source": [
    "#The try block will raise an error when trying to write to a read-only file:\n",
    "\n",
    "try:\n",
    "    f = open(\"demofile.txt\")\n",
    "\n",
    "    f.write(\"Lorum Ipsum\")\n",
    "except:\n",
    "    print(\"Something went wrong when writing to the file\")\n",
    "finally:\n",
    "    f.close()\n"
   ]
  },
  {
   "cell_type": "code",
   "execution_count": 61,
   "id": "13ecc526",
   "metadata": {},
   "outputs": [
    {
     "name": "stdout",
     "output_type": "stream",
     "text": [
      "0.8408263999814838\n",
      "6.280301170928075\n",
      "40\n"
     ]
    }
   ],
   "source": [
    "import random\n",
    "print(random.random())\n",
    "print(random.uniform(5,8))\n",
    "print(random.choice([10,20,30,40]))"
   ]
  },
  {
   "cell_type": "code",
   "execution_count": 69,
   "id": "631dada0",
   "metadata": {},
   "outputs": [
    {
     "name": "stdout",
     "output_type": "stream",
     "text": [
      "[3, 4]\n"
     ]
    }
   ],
   "source": [
    "li=[x for x in range(5) if x>2]\n",
    "print(li)"
   ]
  },
  {
   "cell_type": "code",
   "execution_count": 66,
   "id": "b94d97f9",
   "metadata": {},
   "outputs": [
    {
     "name": "stdout",
     "output_type": "stream",
     "text": [
      "[1, 4, 4, 9, 25, 36, 49]\n"
     ]
    }
   ],
   "source": [
    "li=[1,2,2,3,5,6,7]\n",
    "result=list(map(lambda x:x*x,li))\n",
    "print(result)"
   ]
  },
  {
   "cell_type": "code",
   "execution_count": 68,
   "id": "85cbfcbe",
   "metadata": {},
   "outputs": [
    {
     "name": "stdout",
     "output_type": "stream",
     "text": [
      "[3, 5, 6, 7]\n"
     ]
    }
   ],
   "source": [
    "li=[1,2,2,3,5,6,7]\n",
    "def func(a):\n",
    "    return a>2\n",
    "result=list(filter(func,li))\n",
    "print(result)"
   ]
  },
  {
   "cell_type": "code",
   "execution_count": 80,
   "id": "8cafb529",
   "metadata": {},
   "outputs": [
    {
     "name": "stdout",
     "output_type": "stream",
     "text": [
      "13\n"
     ]
    }
   ],
   "source": [
    "from functools import reduce\n",
    "li=[2,3,4]\n",
    "def sum1(a,b):\n",
    "    return a+b\n",
    "resul=(reduce(sum1,li,li[-1]))\n",
    "print(resul)\n"
   ]
  },
  {
   "cell_type": "code",
   "execution_count": null,
   "id": "1ec96d31",
   "metadata": {},
   "outputs": [],
   "source": []
  }
 ],
 "metadata": {
  "kernelspec": {
   "display_name": "Python 3 (ipykernel)",
   "language": "python",
   "name": "python3"
  },
  "language_info": {
   "codemirror_mode": {
    "name": "ipython",
    "version": 3
   },
   "file_extension": ".py",
   "mimetype": "text/x-python",
   "name": "python",
   "nbconvert_exporter": "python",
   "pygments_lexer": "ipython3",
   "version": "3.11.4"
  }
 },
 "nbformat": 4,
 "nbformat_minor": 5
}
