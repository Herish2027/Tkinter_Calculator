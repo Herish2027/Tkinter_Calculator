{
 "cells": [
  {
   "cell_type": "code",
   "execution_count": 2,
   "id": "0173659e",
   "metadata": {},
   "outputs": [
    {
     "name": "stdout",
     "output_type": "stream",
     "text": [
      "0\n",
      "100\n",
      "20\n",
      "0 -17\n",
      "20 -6\n",
      "40 4\n",
      "60 15\n",
      "80 26\n",
      "100 37\n"
     ]
    }
   ],
   "source": [
    "s=int(input())\n",
    "e=int(input())\n",
    "w=int(input())\n",
    "\n",
    "while(s<=e):\n",
    "    print(s ,int((s-32)*(5/9)))\n",
    "    s=s+w\n",
    "    "
   ]
  },
  {
   "cell_type": "code",
   "execution_count": 1,
   "id": "73bf19c5",
   "metadata": {},
   "outputs": [
    {
     "name": "stdout",
     "output_type": "stream",
     "text": [
      "45\n",
      "113.0\n"
     ]
    }
   ],
   "source": [
    "c=int(input())\n",
    "re=((c*9)/5)+32\n",
    "print(re)"
   ]
  },
  {
   "cell_type": "code",
   "execution_count": 6,
   "id": "87044cd2",
   "metadata": {},
   "outputs": [
    {
     "name": "stdout",
     "output_type": "stream",
     "text": [
      "1\n"
     ]
    }
   ],
   "source": [
    "import os\n",
    "cwd='date'\n",
    "print(os.system(cwd))"
   ]
  },
  {
   "cell_type": "code",
   "execution_count": null,
   "id": "c4c18d86",
   "metadata": {},
   "outputs": [],
   "source": []
  }
 ],
 "metadata": {
  "kernelspec": {
   "display_name": "Python 3 (ipykernel)",
   "language": "python",
   "name": "python3"
  },
  "language_info": {
   "codemirror_mode": {
    "name": "ipython",
    "version": 3
   },
   "file_extension": ".py",
   "mimetype": "text/x-python",
   "name": "python",
   "nbconvert_exporter": "python",
   "pygments_lexer": "ipython3",
   "version": "3.11.4"
  }
 },
 "nbformat": 4,
 "nbformat_minor": 5
}
