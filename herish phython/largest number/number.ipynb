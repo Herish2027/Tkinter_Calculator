{
 "cells": [
  {
   "cell_type": "code",
   "execution_count": 2,
   "id": "bf9e5e49",
   "metadata": {},
   "outputs": [
    {
     "name": "stdout",
     "output_type": "stream",
     "text": [
      "10\n",
      "20\n",
      "30\n",
      "c is bigger number\n"
     ]
    }
   ],
   "source": [
    "a=int(input())\n",
    "b=int(input())\n",
    "c=int(input())\n",
    "if a>b and a>c:\n",
    "    print(\"a is a bigger number\")\n",
    "elif b>a and b>c:\n",
    "    print(\"b is bigger number\")\n",
    "else:\n",
    "    print(\"c is bigger number\")"
   ]
  },
  {
   "cell_type": "code",
   "execution_count": 3,
   "id": "cc42b8be",
   "metadata": {},
   "outputs": [
    {
     "name": "stdout",
     "output_type": "stream",
     "text": [
      "This is an equilateral triangle\n"
     ]
    }
   ],
   "source": [
    "a = 5\n",
    "b = 5\n",
    "c = 5\n",
    "\n",
    "if (a != b) and (b != c) and (a != c):\n",
    "    print('This is a scalene triangle')\n",
    "\n",
    "elif (a == b) and (b == c):\n",
    "    print('This is an equilateral triangle')\n",
    "\n",
    "else:\n",
    "    print('This is an isosceles triangle')\n"
   ]
  },
  {
   "cell_type": "code",
   "execution_count": 4,
   "id": "c446dc99",
   "metadata": {},
   "outputs": [
    {
     "name": "stdout",
     "output_type": "stream",
     "text": [
      "too low\n"
     ]
    }
   ],
   "source": [
    "n = 10\n",
    "\n",
    "\n",
    "if n>0 and n<=10:\n",
    "    print(\"too low\")\n",
    "\n",
    "elif n>10 and n<=20:\n",
    "    print(\"medium\")\n",
    "\n",
    "elif n>20 and n<=30:\n",
    "    print(\"large\")\n",
    "\n",
    "else:\n",
    "    print(\"too large\")\n"
   ]
  },
  {
   "cell_type": "code",
   "execution_count": 5,
   "id": "ca58d3f5",
   "metadata": {},
   "outputs": [
    {
     "name": "stdout",
     "output_type": "stream",
     "text": [
      "Hello\n",
      "Hi\n"
     ]
    }
   ],
   "source": [
    "x = 5\n",
    "if x < 6:\n",
    "    print(\"Hello\")\n",
    "if x == 5:\n",
    "    print(\"Hi\")\n",
    "else:\n",
    "    print(\"Hey\")"
   ]
  },
  {
   "cell_type": "code",
   "execution_count": 8,
   "id": "08a58561",
   "metadata": {},
   "outputs": [
    {
     "name": "stdout",
     "output_type": "stream",
     "text": [
      "0\n",
      "Zero\n"
     ]
    }
   ],
   "source": [
    "#whether the number is positive ,negative and zero\n",
    "n=int(input())\n",
    "if (n>0):\n",
    "    print(\"Positive\")\n",
    "elif (n<0):\n",
    "    print(\"Negative\")\n",
    "else:\n",
    "    print(\"Zero\")       "
   ]
  },
  {
   "cell_type": "code",
   "execution_count": 9,
   "id": "ec67621e",
   "metadata": {},
   "outputs": [
    {
     "name": "stdout",
     "output_type": "stream",
     "text": [
      "B\n"
     ]
    }
   ],
   "source": [
    "if (10 < 0) and (0 < -10):\n",
    "     print(\"A\")\n",
    "\n",
    "elif (10 > 0) or False:\n",
    "     print(\"B\")\n",
    "\n",
    "else:\n",
    "     print(\"C\")\n"
   ]
  },
  {
   "cell_type": "code",
   "execution_count": 11,
   "id": "9604cd46",
   "metadata": {},
   "outputs": [
    {
     "ename": "SyntaxError",
     "evalue": "invalid syntax (726169621.py, line 1)",
     "output_type": "error",
     "traceback": [
      "\u001b[1;36m  Cell \u001b[1;32mIn[11], line 1\u001b[1;36m\u001b[0m\n\u001b[1;33m    If True or True:\u001b[0m\n\u001b[1;37m       ^\u001b[0m\n\u001b[1;31mSyntaxError\u001b[0m\u001b[1;31m:\u001b[0m invalid syntax\n"
     ]
    }
   ],
   "source": [
    "If True or True:\n",
    "    if False and True or False:\n",
    "        print('A')\n",
    "    elif False and False or True and True:\n",
    "       print('B')\n",
    "    else:\n",
    "      print('C')\n",
    "else:\n",
    "     print('D')\n"
   ]
  },
  {
   "cell_type": "code",
   "execution_count": 12,
   "id": "ea93ad86",
   "metadata": {},
   "outputs": [
    {
     "name": "stdout",
     "output_type": "stream",
     "text": [
      "B\n"
     ]
    }
   ],
   "source": [
    "if True or True:\n",
    "    if False and True or False:\n",
    "        print('A')\n",
    "    elif False and False or True and True:\n",
    "       print('B')\n",
    "    else:\n",
    "      print('C')\n",
    "else:\n",
    "     print('D')"
   ]
  },
  {
   "cell_type": "code",
   "execution_count": 1,
   "id": "3f68156d",
   "metadata": {},
   "outputs": [
    {
     "ename": "TypeError",
     "evalue": "'tuple' object does not support item assignment",
     "output_type": "error",
     "traceback": [
      "\u001b[1;31m---------------------------------------------------------------------------\u001b[0m",
      "\u001b[1;31mTypeError\u001b[0m                                 Traceback (most recent call last)",
      "Cell \u001b[1;32mIn[1], line 2\u001b[0m\n\u001b[0;32m      1\u001b[0m a \u001b[38;5;241m=\u001b[39m \u001b[38;5;241m5\u001b[39m,\u001b[38;5;241m6\u001b[39m,\u001b[38;5;241m7\u001b[39m\n\u001b[1;32m----> 2\u001b[0m a[\u001b[38;5;241m2\u001b[39m] \u001b[38;5;241m=\u001b[39m \u001b[38;5;241m9\u001b[39m \n\u001b[0;32m      3\u001b[0m \u001b[38;5;28mprint\u001b[39m(a)\n",
      "\u001b[1;31mTypeError\u001b[0m: 'tuple' object does not support item assignment"
     ]
    }
   ],
   "source": [
    "a = 5,6,7\n",
    "a[2] = 9 \n",
    "print(a)\n"
   ]
  },
  {
   "cell_type": "code",
   "execution_count": 2,
   "id": "e5c6adfd",
   "metadata": {},
   "outputs": [
    {
     "name": "stdout",
     "output_type": "stream",
     "text": [
      "(1, 2)\n"
     ]
    }
   ],
   "source": [
    "a = 1,2\n",
    "b = (4,5)\n",
    "d = (a,b)\n",
    "print(d[0])\n"
   ]
  },
  {
   "cell_type": "code",
   "execution_count": 3,
   "id": "05f78517",
   "metadata": {},
   "outputs": [
    {
     "name": "stdout",
     "output_type": "stream",
     "text": [
      "4\n"
     ]
    }
   ],
   "source": [
    "a = 1,2\n",
    "b = (4,5)\n",
    "d = a+b\n",
    "print(d[2])\n"
   ]
  },
  {
   "cell_type": "code",
   "execution_count": 5,
   "id": "fb2e8a9d",
   "metadata": {},
   "outputs": [
    {
     "name": "stdout",
     "output_type": "stream",
     "text": [
      "ab\n"
     ]
    }
   ],
   "source": [
    "a = (\"ab\",\"abc\",\"def\")\n",
    "print(min(a))\n"
   ]
  },
  {
   "cell_type": "code",
   "execution_count": 6,
   "id": "ccea0112",
   "metadata": {},
   "outputs": [
    {
     "name": "stdout",
     "output_type": "stream",
     "text": [
      "120\n"
     ]
    }
   ],
   "source": [
    "def multiply(a,b,c,*more):\n",
    "    value = a*b*c\n",
    "    for i in more:\n",
    "        value = value * i\n",
    "    return value\n",
    "V = multiply(1,2,3,4,5)\n",
    "print(V)\n",
    "\n"
   ]
  },
  {
   "cell_type": "code",
   "execution_count": 7,
   "id": "00be6c32",
   "metadata": {},
   "outputs": [
    {
     "name": "stdout",
     "output_type": "stream",
     "text": [
      "(9, 24)\n"
     ]
    }
   ],
   "source": [
    "def sum_multiply(a,b,*more):\n",
    "    sum_value = a+b\n",
    "    m_value = a*b\n",
    "    for i in more:\n",
    "        sum_value += i\n",
    "        m_value*=i\n",
    "    return sum_value,m_value\n",
    "s_m = sum_multiply(2,3,4)\n",
    "print(s_m)\n"
   ]
  },
  {
   "cell_type": "code",
   "execution_count": 8,
   "id": "48d2e8b9",
   "metadata": {},
   "outputs": [
    {
     "ename": "SyntaxError",
     "evalue": "invalid character '“' (U+201C) (13837371.py, line 1)",
     "output_type": "error",
     "traceback": [
      "\u001b[1;36m  Cell \u001b[1;32mIn[8], line 1\u001b[1;36m\u001b[0m\n\u001b[1;33m    d = {1:2, “abc”:5, “def”:7}\u001b[0m\n\u001b[1;37m              ^\u001b[0m\n\u001b[1;31mSyntaxError\u001b[0m\u001b[1;31m:\u001b[0m invalid character '“' (U+201C)\n"
     ]
    }
   ],
   "source": [
    "d = {1:2, “abc”:5, “def”:7}\n",
    "print(d[0])\n"
   ]
  },
  {
   "cell_type": "code",
   "execution_count": 10,
   "id": "c07141b9",
   "metadata": {},
   "outputs": [
    {
     "name": "stdout",
     "output_type": "stream",
     "text": [
      "5\n"
     ]
    }
   ],
   "source": [
    "d = {1:2, \"abc\":5, \"def\":7}\n",
    "print(d.get(0,5))\n"
   ]
  },
  {
   "cell_type": "code",
   "execution_count": 13,
   "id": "f9dcccb0",
   "metadata": {},
   "outputs": [
    {
     "name": "stdout",
     "output_type": "stream",
     "text": [
      "Not Present\n"
     ]
    }
   ],
   "source": [
    "d = {1:2, \"abc\":5, \"def\":7}\n",
    "if 2 in d:\n",
    "    print(\"Present\")\n",
    "else:\n",
    "    print(\"Not Present\")\n"
   ]
  },
  {
   "cell_type": "code",
   "execution_count": 15,
   "id": "c942074e",
   "metadata": {},
   "outputs": [
    {
     "name": "stdout",
     "output_type": "stream",
     "text": [
      "7\n"
     ]
    }
   ],
   "source": [
    "a = {1:2,\"list\":[1,2],3:5}\n",
    "b = {4:5,3:7}\n",
    "a.update(b)\n",
    "print(a[3])\n"
   ]
  },
  {
   "cell_type": "code",
   "execution_count": 17,
   "id": "f7a1c045",
   "metadata": {},
   "outputs": [
    {
     "name": "stdout",
     "output_type": "stream",
     "text": [
      "[3, 5]\n"
     ]
    }
   ],
   "source": [
    "a = {1:2,\"list\":[1,2],3:5}\n",
    "a.pop(\"list\")\n",
    "a[\"list\"] = [3,5]\n",
    "print(a[\"list\"])\n"
   ]
  },
  {
   "cell_type": "code",
   "execution_count": 19,
   "id": "c30815a8",
   "metadata": {},
   "outputs": [
    {
     "name": "stdout",
     "output_type": "stream",
     "text": [
      "55\n"
     ]
    }
   ],
   "source": [
    "s = {1,2,3,5,4,2,3,1}\n",
    "print(len(s),end= \"\")\n",
    "s.add(4)\n",
    "s.add(3)\n",
    "print(len(s))"
   ]
  },
  {
   "cell_type": "code",
   "execution_count": 20,
   "id": "e7a701ae",
   "metadata": {},
   "outputs": [
    {
     "ename": "AttributeError",
     "evalue": "'dict' object has no attribute 'add'",
     "output_type": "error",
     "traceback": [
      "\u001b[1;31m---------------------------------------------------------------------------\u001b[0m",
      "\u001b[1;31mAttributeError\u001b[0m                            Traceback (most recent call last)",
      "Cell \u001b[1;32mIn[20], line 2\u001b[0m\n\u001b[0;32m      1\u001b[0m s \u001b[38;5;241m=\u001b[39m {}\n\u001b[1;32m----> 2\u001b[0m s\u001b[38;5;241m.\u001b[39madd(\u001b[38;5;241m4\u001b[39m)\n\u001b[0;32m      3\u001b[0m s\u001b[38;5;241m.\u001b[39madd(\u001b[38;5;241m4\u001b[39m)\n\u001b[0;32m      4\u001b[0m \u001b[38;5;28mprint\u001b[39m(\u001b[38;5;28mlen\u001b[39m(s))\n",
      "\u001b[1;31mAttributeError\u001b[0m: 'dict' object has no attribute 'add'"
     ]
    }
   ],
   "source": [
    "s = {}\n",
    "s.add(4)\n",
    "s.add(4)\n",
    "print(len(s))\n"
   ]
  },
  {
   "cell_type": "code",
   "execution_count": 3,
   "id": "8913dbff",
   "metadata": {},
   "outputs": [
    {
     "name": "stdout",
     "output_type": "stream",
     "text": [
      "start value1\n",
      "end value10\n",
      "1\n",
      "2\n",
      "3\n",
      "4\n",
      "5\n",
      "6\n",
      "7\n",
      "8\n",
      "9\n",
      "10\n"
     ]
    }
   ],
   "source": [
    "start=int(input(\"start value\"))\n",
    "end=int(input(\"end value\"))\n",
    "i=start\n",
    "while i<=end:\n",
    "    print(i)\n",
    "    i=i+1"
   ]
  },
  {
   "cell_type": "code",
   "execution_count": 9,
   "id": "41acf659",
   "metadata": {},
   "outputs": [
    {
     "name": "stdout",
     "output_type": "stream",
     "text": [
      "5\n",
      "1\n",
      "12\n",
      "123\n",
      "1234\n",
      "12345\n"
     ]
    }
   ],
   "source": [
    "n=int(input())\n",
    "for i in range(1,n+1):\n",
    "    for j in range(1,i+1):\n",
    "        print(j,end=\"\")\n",
    "    print()    \n",
    "    "
   ]
  },
  {
   "cell_type": "code",
   "execution_count": 11,
   "id": "7b6a8992",
   "metadata": {},
   "outputs": [
    {
     "name": "stdout",
     "output_type": "stream",
     "text": [
      "10\n",
      "55\n"
     ]
    }
   ],
   "source": [
    "n=int(input())\n",
    "sum=0\n",
    "i=1\n",
    "while i<=n:\n",
    "    sum=sum+i\n",
    "    \n",
    "    i=i+1\n",
    "print(sum)    "
   ]
  },
  {
   "cell_type": "code",
   "execution_count": 16,
   "id": "d27dd10e",
   "metadata": {},
   "outputs": [
    {
     "name": "stdout",
     "output_type": "stream",
     "text": [
      "10\n",
      "ENTER ANY NUMBER2\n",
      "2 * 1 = 2\n",
      "2 * 2 = 4\n",
      "2 * 3 = 6\n",
      "2 * 4 = 8\n",
      "2 * 5 = 10\n",
      "2 * 6 = 12\n",
      "2 * 7 = 14\n",
      "2 * 8 = 16\n",
      "2 * 9 = 18\n",
      "2 * 10 = 20\n"
     ]
    }
   ],
   "source": [
    "n=int(input())\n",
    "num=int(input(\"ENTER ANY NUMBER\"))\n",
    "i=1\n",
    "while i<=n:\n",
    "    product=num*i\n",
    "    print(num, \"*\", i, \"=\", product)\n",
    "    i=i+1"
   ]
  },
  {
   "cell_type": "code",
   "execution_count": 22,
   "id": "580fa906",
   "metadata": {},
   "outputs": [
    {
     "name": "stdout",
     "output_type": "stream",
     "text": [
      "length of list5\n",
      "2 2 1 1\n",
      "[2]\n"
     ]
    }
   ],
   "source": [
    "n=int(input(\"length of list\"))\n",
    "li=[]\n",
    "li=list(map(int,input().strip().split()))[::n]\n",
    "\n",
    "\n",
    "print(li)    "
   ]
  },
  {
   "cell_type": "code",
   "execution_count": 24,
   "id": "c6a839ed",
   "metadata": {},
   "outputs": [
    {
     "name": "stdout",
     "output_type": "stream",
     "text": [
      "5\n",
      "12\n",
      "75\n",
      "150\n",
      "180\n",
      "145\n",
      "[12, 75, 150, 180, 145]\n",
      "75\n",
      "150\n",
      "180\n",
      "145\n"
     ]
    }
   ],
   "source": [
    "n=int(input())\n",
    "i=1\n",
    "li=[]\n",
    "while i<=n:\n",
    "    val=int(input())\n",
    "    li.append(val)\n",
    "    i=i+1\n",
    "print(li)\n",
    "i=1\n",
    "while i<n:\n",
    "    if(li[i]%5==0):\n",
    "        print(li[i])\n",
    "    elif(li[i]>150):\n",
    "        continue\n",
    "    elif(li[i]>500):\n",
    "        break\n",
    "    i=i+1\n"
   ]
  },
  {
   "cell_type": "code",
   "execution_count": 5,
   "id": "bdbddb0b",
   "metadata": {},
   "outputs": [
    {
     "name": "stdout",
     "output_type": "stream",
     "text": [
      "15\n",
      "14\n",
      "12\n",
      "10\n",
      "8\n",
      "6\n",
      "4\n",
      "2\n"
     ]
    }
   ],
   "source": [
    "#print even number in reverse order\n",
    "n=int(int(input()))\n",
    "i=n\n",
    "while i>0:\n",
    "    if (i%2==0):\n",
    "        print(i)\n",
    "    else:\n",
    "        pass\n",
    "    i=i-1    "
   ]
  },
  {
   "cell_type": "code",
   "execution_count": 7,
   "id": "5414d675",
   "metadata": {},
   "outputs": [
    {
     "name": "stdout",
     "output_type": "stream",
     "text": [
      "5\n",
      "120\n"
     ]
    }
   ],
   "source": [
    "n=int(input())\n",
    "i=1\n",
    "res=n\n",
    "while i<n:\n",
    "    res=res*(n-i)\n",
    "    i=i+1\n",
    "print(res)    \n",
    "    "
   ]
  },
  {
   "cell_type": "code",
   "execution_count": 13,
   "id": "fe3d355b",
   "metadata": {},
   "outputs": [
    {
     "name": "stdout",
     "output_type": "stream",
     "text": [
      "2\n",
      "1\n",
      "2\n",
      "3\n",
      "1\n",
      "2\n",
      "3\n",
      "2\n",
      "32\n",
      "2\n",
      "333\n"
     ]
    }
   ],
   "source": [
    "n=int(input())\n",
    "i=1\n",
    "while i<=10:\n",
    "    num =int(input())\n",
    "    i=i+1\n",
    "average=num+num/2    "
   ]
  },
  {
   "cell_type": "code",
   "execution_count": 15,
   "id": "01dde1c5",
   "metadata": {},
   "outputs": [
    {
     "name": "stdout",
     "output_type": "stream",
     "text": [
      "312\n",
      "325\n"
     ]
    }
   ],
   "source": [
    "i=12\n",
    "sum_odd=0\n",
    "sum_even=0\n",
    "while i<=37:\n",
    "    if(i%2==0):\n",
    "        sum_even=sum_even+i\n",
    "    else:\n",
    "        sum_odd=sum_odd+i\n",
    "    i=i+1    \n",
    "print(sum_even) \n",
    "print(sum_odd)"
   ]
  },
  {
   "cell_type": "code",
   "execution_count": 16,
   "id": "aaf3ff7d",
   "metadata": {},
   "outputs": [
    {
     "name": "stdout",
     "output_type": "stream",
     "text": [
      "number of terms2\n",
      "2\n",
      "5.0\n"
     ]
    }
   ],
   "source": [
    "import math\n",
    "num=int(input(\"number of terms\"))\n",
    "x=int(input())\n",
    "n=1\n",
    "sum=1\n",
    "while num>0:\n",
    "    sum=sum+x**n/math.factorial(n)\n",
    "    num-=1\n",
    "    n=n+1\n",
    "print(sum)    "
   ]
  },
  {
   "cell_type": "code",
   "execution_count": 20,
   "id": "2162a1f6",
   "metadata": {},
   "outputs": [
    {
     "name": "stdout",
     "output_type": "stream",
     "text": [
      "5\n",
      "A \n",
      "B C \n",
      "D E F \n",
      "G H I J \n",
      "K L M N O \n"
     ]
    }
   ],
   "source": [
    "n=int(input())\n",
    "k='A'\n",
    "for i in range(n):\n",
    "   \n",
    "    for j in range(i+1):\n",
    "        print(k,end=\" \")\n",
    "        k=chr(ord(k)+1)\n",
    "    print()    \n",
    "        \n",
    "        "
   ]
  },
  {
   "cell_type": "code",
   "execution_count": 2,
   "id": "46134b40",
   "metadata": {},
   "outputs": [
    {
     "name": "stdout",
     "output_type": "stream",
     "text": [
      "1\n",
      "hello\n"
     ]
    }
   ],
   "source": [
    "text=int(input())\n",
    "match text:\n",
    "    case 1:\n",
    "        print(\"hello\")\n",
    "    case 2:\n",
    "        print(\"bye\")"
   ]
  },
  {
   "cell_type": "code",
   "execution_count": 13,
   "id": "4fa8c461",
   "metadata": {},
   "outputs": [
    {
     "name": "stdout",
     "output_type": "stream",
     "text": [
      "2400\n",
      "True\n"
     ]
    }
   ],
   "source": [
    "def is_leap(year):\n",
    "    leap = False\n",
    "   \n",
    "    if year%4==0 and year%100!=0 or year%400==0:\n",
    "        \n",
    "        leap=True\n",
    "        \n",
    "    \n",
    "    \n",
    "    return leap\n",
    "\n",
    "\n",
    "year = int(input())\n",
    "print(is_leap(year))"
   ]
  },
  {
   "cell_type": "code",
   "execution_count": 12,
   "id": "6018eb9e",
   "metadata": {},
   "outputs": [
    {
     "name": "stdout",
     "output_type": "stream",
     "text": [
      "Enter a year: 2400\n",
      "True\n"
     ]
    }
   ],
   "source": [
    "def is_leap(year):\n",
    "    leap = False\n",
    "   \n",
    "    if (year % 4 == 0 and year % 100 != 0) or (year % 400 == 0):\n",
    "        leap = True\n",
    "    \n",
    "    return leap\n",
    "\n",
    "year = int(input(\"Enter a year: \"))\n",
    "print(is_leap(year))"
   ]
  },
  {
   "cell_type": "code",
   "execution_count": 15,
   "id": "2f164bab",
   "metadata": {},
   "outputs": [
    {
     "name": "stdout",
     "output_type": "stream",
     "text": [
      "3\n",
      "123"
     ]
    }
   ],
   "source": [
    "if __name__ == '__main__':\n",
    "    n = int(input())\n",
    "    i=1\n",
    "    while i<=n:\n",
    "        print(i,end=\"\")\n",
    "        i=i+1"
   ]
  },
  {
   "cell_type": "code",
   "execution_count": 18,
   "id": "e45111d4",
   "metadata": {},
   "outputs": [
    {
     "name": "stdout",
     "output_type": "stream",
     "text": [
      "3\n",
      "banana 12\n",
      "mango 13\n"
     ]
    },
    {
     "ename": "ValueError",
     "evalue": "invalid literal for int() with base 10: 'mango 13'",
     "output_type": "error",
     "traceback": [
      "\u001b[1;31m---------------------------------------------------------------------------\u001b[0m",
      "\u001b[1;31mValueError\u001b[0m                                Traceback (most recent call last)",
      "Cell \u001b[1;32mIn[18], line 6\u001b[0m\n\u001b[0;32m      4\u001b[0m     item_name\u001b[38;5;241m=\u001b[39m\u001b[38;5;28minput\u001b[39m()\n\u001b[0;32m      5\u001b[0m     \u001b[38;5;28mprint\u001b[39m(end\u001b[38;5;241m=\u001b[39m\u001b[38;5;124m\"\u001b[39m\u001b[38;5;124m\"\u001b[39m)\n\u001b[1;32m----> 6\u001b[0m     net_price\u001b[38;5;241m=\u001b[39m\u001b[38;5;28mint\u001b[39m(\u001b[38;5;28minput\u001b[39m())\n\u001b[0;32m      7\u001b[0m     i\u001b[38;5;241m+\u001b[39m\u001b[38;5;241m=\u001b[39m\u001b[38;5;241m1\u001b[39m\n\u001b[0;32m      8\u001b[0m \u001b[38;5;28mprint\u001b[39m()\n",
      "\u001b[1;31mValueError\u001b[0m: invalid literal for int() with base 10: 'mango 13'"
     ]
    }
   ],
   "source": [
    "\n",
    "n=int(input())\n",
    "i=1\n",
    "while i<=n:\n",
    "    item_name=input()\n",
    "    \n",
    "    net_price=int(input())\n",
    "    print()\n",
    "    \n",
    "    i+=1\n",
    "print()    "
   ]
  },
  {
   "cell_type": "code",
   "execution_count": 22,
   "id": "02bb2507",
   "metadata": {},
   "outputs": [
    {
     "name": "stdout",
     "output_type": "stream",
     "text": [
      "2\n",
      "mn 12\n",
      "mnb 23\n",
      "mn 12\n",
      "mnb 23\n"
     ]
    }
   ],
   "source": [
    "def calculate_net_price(quantity, price):\n",
    "    return quantity * price\n",
    "\n",
    "\n",
    "n = int(input())\n",
    "\n",
    "\n",
    "items = {}\n",
    "\n",
    "for _ in range(n):\n",
    "    item_name, item_price = input().split()\n",
    "    item_price = int(item_price)\n",
    "    \n",
    "    # If the item is not in the dictionary, add it with the net price\n",
    "    if item_name not in items:\n",
    "        items[item_name] = item_price\n",
    "    # If the item is already in the dictionary, update its net price\n",
    "    else:\n",
    "        items[item_name] += item_price\n",
    "\n",
    "# Print the item_name and net_price in the order of their first occurrence\n",
    "for item_name, net_price in items.items():\n",
    "    print(item_name, net_price)"
   ]
  },
  {
   "cell_type": "code",
   "execution_count": 10,
   "id": "0454f1a5",
   "metadata": {},
   "outputs": [
    {
     "name": "stdout",
     "output_type": "stream",
     "text": [
      "3\n",
      "insert 1 2\n",
      "append 2\n",
      "print\n"
     ]
    }
   ],
   "source": [
    "n=int(input())\n",
    "li=[]\n",
    "for _ in range(n):\n",
    "    command=input().split()\n",
    "    match command:\n",
    "        \n",
    "        case\"insert\":\n",
    "            i,e=int(command[1]),int(command[2])\n",
    "            li.insert(i,e)\n",
    "            \n",
    "        case\"print\":\n",
    "            print(li)\n",
    "\n",
    "        case\"pop\":\n",
    "            li.pop()\n",
    "        case\"append\":\n",
    "            e=int(command[1])\n",
    "            li.append(e)\n",
    "        case\"reverse\":\n",
    "            li.reverse()\n",
    "        case\"sort\":\n",
    "            li.sort()\n",
    "        case\"remove\":\n",
    "            e=int(command[1])\n",
    "            li.remove(e)\n",
    "        \n",
    "        \n",
    "        \n",
    "        "
   ]
  },
  {
   "cell_type": "code",
   "execution_count": 5,
   "id": "4a64eba8",
   "metadata": {},
   "outputs": [
    {
     "name": "stdout",
     "output_type": "stream",
     "text": [
      "18:03:23\n",
      "current time in hours 18\n"
     ]
    }
   ],
   "source": [
    "import time\n",
    "timestamp=time.strftime('%H:%M:%S')\n",
    "print(timestamp)\n",
    "timestamp=time.strftime('%H')\n",
    "print(\"current time in hours\",timestamp)"
   ]
  },
  {
   "cell_type": "code",
   "execution_count": null,
   "id": "bf7c9d35",
   "metadata": {},
   "outputs": [
    {
     "name": "stdout",
     "output_type": "stream",
     "text": [
      "The Zen of Python, by Tim Peters\n",
      "\n",
      "Beautiful is better than ugly.\n",
      "Explicit is better than implicit.\n",
      "Simple is better than complex.\n",
      "Complex is better than complicated.\n",
      "Flat is better than nested.\n",
      "Sparse is better than dense.\n",
      "Readability counts.\n",
      "Special cases aren't special enough to break the rules.\n",
      "Although practicality beats purity.\n",
      "Errors should never pass silently.\n",
      "Unless explicitly silenced.\n",
      "In the face of ambiguity, refuse the temptation to guess.\n",
      "There should be one-- and preferably only one --obvious way to do it.\n",
      "Although that way may not be obvious at first unless you're Dutch.\n",
      "Now is better than never.\n",
      "Although never is often better than *right* now.\n",
      "If the implementation is hard to explain, it's a bad idea.\n",
      "If the implementation is easy to explain, it may be a good idea.\n",
      "Namespaces are one honking great idea -- let's do more of those!\n"
     ]
    }
   ],
   "source": [
    "import this\n",
    "n=input ()"
   ]
  },
  {
   "cell_type": "code",
   "execution_count": null,
   "id": "8d9e5bd4",
   "metadata": {},
   "outputs": [],
   "source": []
  },
  {
   "cell_type": "code",
   "execution_count": null,
   "id": "8457a2cf",
   "metadata": {},
   "outputs": [],
   "source": []
  }
 ],
 "metadata": {
  "kernelspec": {
   "display_name": "Python 3 (ipykernel)",
   "language": "python",
   "name": "python3"
  },
  "language_info": {
   "codemirror_mode": {
    "name": "ipython",
    "version": 3
   },
   "file_extension": ".py",
   "mimetype": "text/x-python",
   "name": "python",
   "nbconvert_exporter": "python",
   "pygments_lexer": "ipython3",
   "version": "3.11.4"
  }
 },
 "nbformat": 4,
 "nbformat_minor": 5
}
