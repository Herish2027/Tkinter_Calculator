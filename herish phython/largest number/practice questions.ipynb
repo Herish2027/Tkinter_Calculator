{
 "cells": [
  {
   "cell_type": "code",
   "execution_count": 6,
   "id": "eed7c3f2",
   "metadata": {},
   "outputs": [
    {
     "name": "stdout",
     "output_type": "stream",
     "text": [
      "4\n",
      "1\n",
      "23\n",
      "345\n",
      "4567\n"
     ]
    }
   ],
   "source": [
    "n=int(input())\n",
    "i=1\n",
    "\n",
    "while i<=n:\n",
    "    j=1\n",
    "    k=i\n",
    "    while j<=i:\n",
    "        print(k,end='')\n",
    "        k=k+1\n",
    "        j=j+1\n",
    "    print( )\n",
    "    \n",
    "    i=i+1"
   ]
  },
  {
   "cell_type": "code",
   "execution_count": 7,
   "id": "f8453332",
   "metadata": {},
   "outputs": [
    {
     "name": "stdout",
     "output_type": "stream",
     "text": [
      "4\n",
      "1\n",
      "12\n",
      "123\n",
      "1234\n"
     ]
    }
   ],
   "source": [
    "N=int(input())\n",
    "i=1\n",
    "while i<=N:\n",
    "    j=1\n",
    "    while j<=i:\n",
    "        print(j,end='')\n",
    "        j=j+1\n",
    "    print()\n",
    "    i=i+1  "
   ]
  },
  {
   "cell_type": "code",
   "execution_count": 11,
   "id": "58eec5a7",
   "metadata": {},
   "outputs": [
    {
     "name": "stdout",
     "output_type": "stream",
     "text": [
      "4\n",
      "1\n",
      "22\n",
      "333\n",
      "4444\n"
     ]
    }
   ],
   "source": [
    "N=int(input())\n",
    "i=1\n",
    "k=1\n",
    "while i<=N:\n",
    "    j=1\n",
    "   \n",
    "    while j<=i:\n",
    "        print(k,end='')\n",
    "        j=j+1\n",
    "        \n",
    "    print()\n",
    "    k=k+1\n",
    "    i=i+1    "
   ]
  },
  {
   "cell_type": "code",
   "execution_count": 13,
   "id": "1da59908",
   "metadata": {},
   "outputs": [
    {
     "name": "stdout",
     "output_type": "stream",
     "text": [
      "4\n",
      "1\n",
      "21\n",
      "321\n",
      "4321\n"
     ]
    }
   ],
   "source": [
    "N=int(input())\n",
    "i=1\n",
    "\n",
    "while i<=N:\n",
    "    j=1\n",
    "   \n",
    "    while j<=i:\n",
    "        print(i-j+1,end='')\n",
    "        j=j+1\n",
    "        \n",
    "    print()\n",
    "   \n",
    "    i=i+1   "
   ]
  },
  {
   "cell_type": "code",
   "execution_count": 8,
   "id": "c1f06d44",
   "metadata": {},
   "outputs": [
    {
     "name": "stdout",
     "output_type": "stream",
     "text": [
      "4\n",
      "A"
     ]
    },
    {
     "ename": "TypeError",
     "evalue": "can only concatenate str (not \"int\") to str",
     "output_type": "error",
     "traceback": [
      "\u001b[1;31m---------------------------------------------------------------------------\u001b[0m",
      "\u001b[1;31mTypeError\u001b[0m                                 Traceback (most recent call last)",
      "Cell \u001b[1;32mIn[8], line 10\u001b[0m\n\u001b[0;32m      8\u001b[0m     \u001b[38;5;28mprint\u001b[39m(charp,end\u001b[38;5;241m=\u001b[39m\u001b[38;5;124m'\u001b[39m\u001b[38;5;124m'\u001b[39m)\n\u001b[0;32m      9\u001b[0m     j\u001b[38;5;241m=\u001b[39mj\u001b[38;5;241m+\u001b[39m\u001b[38;5;241m1\u001b[39m\n\u001b[1;32m---> 10\u001b[0m     start_char\u001b[38;5;241m=\u001b[39mstart_char\u001b[38;5;241m+\u001b[39m\u001b[38;5;28mord\u001b[39m(charp)\n\u001b[0;32m     11\u001b[0m \u001b[38;5;28mprint\u001b[39m()\n\u001b[0;32m     13\u001b[0m i\u001b[38;5;241m=\u001b[39mi\u001b[38;5;241m+\u001b[39m\u001b[38;5;241m1\u001b[39m\n",
      "\u001b[1;31mTypeError\u001b[0m: can only concatenate str (not \"int\") to str"
     ]
    }
   ],
   "source": [
    "N=int(input())\n",
    "i=1\n",
    "start_char=chr(ord('A'))\n",
    "while i<=N:\n",
    "    j=1\n",
    "    while j<=i:\n",
    "        charp=chr(ord(start_char))\n",
    "        print(charp,end='')\n",
    "        j=j+1\n",
    "        start_char=start_char+ord(charp)\n",
    "    print()\n",
    "   \n",
    "    i=i+1    "
   ]
  },
  {
   "cell_type": "code",
   "execution_count": 19,
   "id": "d9de5f2c",
   "metadata": {},
   "outputs": [
    {
     "name": "stdout",
     "output_type": "stream",
     "text": [
      "4\n",
      "A\n",
      "AB\n",
      "ABC\n",
      "ABCD\n"
     ]
    }
   ],
   "source": [
    "n=int(input())\n",
    "i=1\n",
    "\n",
    "while i<=n:\n",
    "    j=1\n",
    "    k=ord('A')\n",
    "    while j<=i:\n",
    "        charp=chr(k)\n",
    "        print(charp,end='')\n",
    "        k=k+1\n",
    "        j=j+1\n",
    "        \n",
    "        \n",
    "    print()\n",
    "    \n",
    "    i=i+1"
   ]
  },
  {
   "cell_type": "code",
   "execution_count": 14,
   "id": "e12d8ad6",
   "metadata": {},
   "outputs": [
    {
     "name": "stdout",
     "output_type": "stream",
     "text": [
      "65\n"
     ]
    }
   ],
   "source": [
    "k=ord('A')\n",
    "print(k)"
   ]
  },
  {
   "cell_type": "code",
   "execution_count": 25,
   "id": "384606ab",
   "metadata": {},
   "outputs": [
    {
     "name": "stdout",
     "output_type": "stream",
     "text": [
      "4\n",
      "A\n",
      "AA\n",
      "AAA\n",
      "AAAA\n"
     ]
    }
   ],
   "source": [
    "n=int(input())\n",
    "i=1\n",
    "\n",
    "while i<=n:\n",
    "    j=1\n",
    "    k=ord('A')\n",
    "    chr(k)==charp\n",
    "    while j<=i:\n",
    "        charp=chr(k)\n",
    "        print(charp,end='')\n",
    "        charp=ord(charp)+1\n",
    "        j=j+1\n",
    "        \n",
    "        \n",
    "    print()\n",
    "    \n",
    "    i=i+1"
   ]
  },
  {
   "cell_type": "code",
   "execution_count": 26,
   "id": "eefcb0d0",
   "metadata": {},
   "outputs": [
    {
     "name": "stdout",
     "output_type": "stream",
     "text": [
      "4\n",
      "A\n",
      "BC\n",
      "CDE\n",
      "DEFG\n",
      "EFGHI\n"
     ]
    }
   ],
   "source": [
    "n=int(input())\n",
    "i=0\n",
    "while i<=n:\n",
    "    j=0\n",
    "    char=chr(ord('A')+i)\n",
    "    while j<=i:\n",
    "        print(char,end='')\n",
    "        char=chr(ord(char)+1)\n",
    "        j+=1\n",
    "    print()\n",
    "    i+=1"
   ]
  },
  {
   "cell_type": "code",
   "execution_count": 32,
   "id": "8107f2ea",
   "metadata": {},
   "outputs": [
    {
     "name": "stdout",
     "output_type": "stream",
     "text": [
      "4\n",
      "A\n",
      "BC\n",
      "CDE\n",
      "DEFG\n"
     ]
    }
   ],
   "source": [
    "N=int(input())\n",
    "i=0\n",
    "while i<N:\n",
    "    j=0\n",
    "    char=chr(ord('A')+i)\n",
    "    while j<=i:\n",
    "        print(char,end='')\n",
    "        char=chr(ord(char)+1)\n",
    "        j+=1\n",
    "    print()\n",
    "    i+=1\n"
   ]
  },
  {
   "cell_type": "code",
   "execution_count": 36,
   "id": "c5c0f21f",
   "metadata": {},
   "outputs": [
    {
     "name": "stdout",
     "output_type": "stream",
     "text": [
      "5\n",
      "F\n",
      "FE\n",
      "FED\n",
      "FEDC\n",
      "FEDCB\n",
      "FEDCBA\n"
     ]
    }
   ],
   "source": [
    "N=int(input())\n",
    "i=0\n",
    "while i<=N:\n",
    "    j=0\n",
    "    char=chr(ord('A')+N)\n",
    "    while j<=i:\n",
    "        print(char,end='')\n",
    "        char=chr(ord(char)-1)\n",
    "        j+=1\n",
    "    print()\n",
    "    i+=1\n"
   ]
  },
  {
   "cell_type": "code",
   "execution_count": 39,
   "id": "5a9ed5ab",
   "metadata": {},
   "outputs": [
    {
     "name": "stdout",
     "output_type": "stream",
     "text": [
      "Enter the number of rows: 4\n",
      "65"
     ]
    },
    {
     "ename": "TypeError",
     "evalue": "ord() expected string of length 1, but int found",
     "output_type": "error",
     "traceback": [
      "\u001b[1;31m---------------------------------------------------------------------------\u001b[0m",
      "\u001b[1;31mTypeError\u001b[0m                                 Traceback (most recent call last)",
      "Cell \u001b[1;32mIn[39], line 9\u001b[0m\n\u001b[0;32m      7\u001b[0m \u001b[38;5;28;01mwhile\u001b[39;00m j \u001b[38;5;241m>\u001b[39m\u001b[38;5;241m=\u001b[39m i:\n\u001b[0;32m      8\u001b[0m     \u001b[38;5;28mprint\u001b[39m(char, end\u001b[38;5;241m=\u001b[39m\u001b[38;5;124m\"\u001b[39m\u001b[38;5;124m\"\u001b[39m)\n\u001b[1;32m----> 9\u001b[0m     char \u001b[38;5;241m=\u001b[39m \u001b[38;5;28mchr\u001b[39m(\u001b[38;5;28mord\u001b[39m(char) \u001b[38;5;241m+\u001b[39m \u001b[38;5;241m1\u001b[39m)\n\u001b[0;32m     10\u001b[0m     j \u001b[38;5;241m-\u001b[39m\u001b[38;5;241m=\u001b[39m \u001b[38;5;241m1\u001b[39m\n\u001b[0;32m     12\u001b[0m \u001b[38;5;28mprint\u001b[39m()\n",
      "\u001b[1;31mTypeError\u001b[0m: ord() expected string of length 1, but int found"
     ]
    }
   ],
   "source": [
    "n = int(input(\"Enter the number of rows: \"))\n",
    "i = n\n",
    "while i >= 1:\n",
    "    j = n\n",
    "    char = 65 + n - i\n",
    "    \n",
    "    while j >= i:\n",
    "        print(char, end=\"\")\n",
    "        char = chr(ord(char) + 1)\n",
    "        j -= 1\n",
    "    \n",
    "    print()\n",
    "    i -= 1"
   ]
  },
  {
   "cell_type": "code",
   "execution_count": 41,
   "id": "34ca5fe8",
   "metadata": {},
   "outputs": [
    {
     "name": "stdout",
     "output_type": "stream",
     "text": [
      "Enter the number of rows: 5\n",
      "65"
     ]
    },
    {
     "ename": "TypeError",
     "evalue": "ord() expected string of length 1, but int found",
     "output_type": "error",
     "traceback": [
      "\u001b[1;31m---------------------------------------------------------------------------\u001b[0m",
      "\u001b[1;31mTypeError\u001b[0m                                 Traceback (most recent call last)",
      "Cell \u001b[1;32mIn[41], line 9\u001b[0m\n\u001b[0;32m      7\u001b[0m \u001b[38;5;28;01mwhile\u001b[39;00m j \u001b[38;5;241m>\u001b[39m\u001b[38;5;241m=\u001b[39m i:\n\u001b[0;32m      8\u001b[0m     \u001b[38;5;28mprint\u001b[39m(char, end\u001b[38;5;241m=\u001b[39m\u001b[38;5;124m\"\u001b[39m\u001b[38;5;124m\"\u001b[39m)\n\u001b[1;32m----> 9\u001b[0m     char \u001b[38;5;241m=\u001b[39m \u001b[38;5;28mchr\u001b[39m(\u001b[38;5;28mord\u001b[39m(char) \u001b[38;5;241m+\u001b[39m \u001b[38;5;241m1\u001b[39m)\n\u001b[0;32m     10\u001b[0m     j \u001b[38;5;241m-\u001b[39m\u001b[38;5;241m=\u001b[39m \u001b[38;5;241m1\u001b[39m\n\u001b[0;32m     12\u001b[0m \u001b[38;5;28mprint\u001b[39m()\n",
      "\u001b[1;31mTypeError\u001b[0m: ord() expected string of length 1, but int found"
     ]
    }
   ],
   "source": [
    "n = int(input(\"Enter the number of rows: \"))\n",
    "i = n\n",
    "while i >= 1:\n",
    "    j = n\n",
    "    char = ord('A') + n - i\n",
    "    \n",
    "    while j >= i:\n",
    "        print(char, end=\"\")\n",
    "        char = chr(ord(char) + 1)\n",
    "        j -= 1\n",
    "    \n",
    "    print()\n",
    "    i -= 1"
   ]
  },
  {
   "cell_type": "code",
   "execution_count": 42,
   "id": "0876a7b0",
   "metadata": {},
   "outputs": [
    {
     "name": "stdout",
     "output_type": "stream",
     "text": [
      "Enter the number of rows: 5\n",
      "E\n",
      "DE\n",
      "CDE\n",
      "BCDE\n",
      "ABCDE\n"
     ]
    }
   ],
   "source": [
    "n = int(input(\"Enter the number of rows: \"))\n",
    "i = 0\n",
    "\n",
    "while i < n:\n",
    "    j = 0\n",
    "    char = chr(ord('E') - i)\n",
    "    \n",
    "    while j <= i:\n",
    "        print(char, end=\"\")\n",
    "        char = chr(ord(char) + 1)\n",
    "        j += 1\n",
    "    \n",
    "    print()\n",
    "    i += 1\n",
    "\n",
    "\n"
   ]
  },
  {
   "cell_type": "code",
   "execution_count": 47,
   "id": "9b0146e8",
   "metadata": {},
   "outputs": [
    {
     "name": "stdout",
     "output_type": "stream",
     "text": [
      "6\n",
      "G\n",
      "FG\n",
      "EFG\n",
      "DEFG\n",
      "CDEFG\n"
     ]
    }
   ],
   "source": [
    "N=int(input())\n",
    "i=0\n",
    "while i<n:\n",
    "    j=0\n",
    "    char=chr(ord('A')+N-i)\n",
    "    while j<=i:\n",
    "        print(char,end='')\n",
    "        char=chr(ord(char)+1)\n",
    "        j+=1\n",
    "    print()\n",
    "    i+=1    \n"
   ]
  },
  {
   "cell_type": "code",
   "execution_count": 64,
   "id": "e3242524",
   "metadata": {},
   "outputs": [
    {
     "name": "stdout",
     "output_type": "stream",
     "text": [
      "Enter the number of rows: 8\n",
      "H\n",
      "GH\n",
      "FGH\n",
      "EFGH\n",
      "DEFGH\n",
      "CDEFGH\n",
      "BCDEFGH\n",
      "ABCDEFGH\n"
     ]
    }
   ],
   "source": [
    "n = int(input(\"Enter the number of rows: \"))\n",
    "i = 1\n",
    "\n",
    "while i <= n:\n",
    "    j = 1\n",
    "    char = chr(ord('A')+n - i)\n",
    "    \n",
    "    while j <= i:\n",
    "        print(char, end=\"\")\n",
    "        char = chr(ord(char) + 1)\n",
    "        j += 1\n",
    "    \n",
    "    print()\n",
    "    i += 1\n"
   ]
  },
  {
   "cell_type": "code",
   "execution_count": 62,
   "id": "03f2dba2",
   "metadata": {},
   "outputs": [
    {
     "name": "stdout",
     "output_type": "stream",
     "text": [
      "I\n"
     ]
    }
   ],
   "source": [
    "char=chr(73)\n",
    "print(char)"
   ]
  },
  {
   "cell_type": "code",
   "execution_count": 65,
   "id": "d8ca62a0",
   "metadata": {},
   "outputs": [
    {
     "name": "stdout",
     "output_type": "stream",
     "text": [
      "5\n",
      "1\n",
      "11\n",
      "111\n",
      "1111\n",
      "11111\n"
     ]
    }
   ],
   "source": [
    "N=int(input())\n",
    "i=1\n",
    "k=1\n",
    "while i<=N:\n",
    "    j=1\n",
    "    while j<=i:\n",
    "        print(k,end='')\n",
    "        j=j+1\n",
    "    print()\n",
    "    i=i+1    \n"
   ]
  },
  {
   "cell_type": "code",
   "execution_count": 76,
   "id": "432fc009",
   "metadata": {},
   "outputs": [
    {
     "name": "stdout",
     "output_type": "stream",
     "text": [
      "Enter the number of rows: 5\n",
      "101\n",
      "2002\n",
      "30003\n",
      "400004\n"
     ]
    }
   ],
   "source": [
    "n = int(input(\"Enter the number of rows: \"))\n",
    "i = 1\n",
    "\n",
    "while i < n:\n",
    "    j = 1\n",
    "    \n",
    "    # Print the first digit\n",
    "    print(i, end=\"\")\n",
    "    \n",
    "    while j <= i:\n",
    "        # Print 0 for the digits between the first and last\n",
    "        print(0, end=\"\")\n",
    "        \n",
    "        j += 1\n",
    "    \n",
    "    # Print the last digit\n",
    "    print(i, end=\"\")\n",
    "    \n",
    "    print()\n",
    "    i += 1"
   ]
  },
  {
   "cell_type": "code",
   "execution_count": 82,
   "id": "8df4d121",
   "metadata": {},
   "outputs": [
    {
     "name": "stdout",
     "output_type": "stream",
     "text": [
      "4\n",
      "1\n",
      "11\n",
      "202\n",
      "3003\n"
     ]
    }
   ],
   "source": [
    "n=int(input())\n",
    "i = 1\n",
    "\n",
    "while i <= n:\n",
    "    j = 1\n",
    "    \n",
    "    # Handle the first digit\n",
    "    if i == 1:\n",
    "        print(i, end=\"\")\n",
    "    else:\n",
    "        print(i - 1, end=\"\")\n",
    "    \n",
    "    while j <= i - 2:\n",
    "        print(0, end=\"\")\n",
    "        j += 1\n",
    "    \n",
    "    # Handle the last digit\n",
    "    if i > 1:\n",
    "        print(i - 1, end=\"\")\n",
    "    \n",
    "    print()\n",
    "    i += 1"
   ]
  },
  {
   "cell_type": "code",
   "execution_count": 2,
   "id": "895c7996",
   "metadata": {},
   "outputs": [
    {
     "name": "stdout",
     "output_type": "stream",
     "text": [
      "5\n",
      "  *\n",
      " ***\n",
      "*****\n",
      " ***\n",
      "  *\n"
     ]
    }
   ],
   "source": [
    "\n",
    "\n",
    "N=int(input())\n",
    "firsthalf=(N+1)//2\n",
    "secondhalf=N//2\n",
    "currrow=1\n",
    "while currrow<=firsthalf:\n",
    "    spaces=1\n",
    "    while spaces<=(firsthalf-currrow):\n",
    "        print(\" \",end=\"\")\n",
    "        spaces=spaces+1\n",
    "    currcol=1\n",
    "    while currcol<=(2*currrow)-1:\n",
    "        print(\"*\",end=\"\")\n",
    "        currcol+=1\n",
    "    print()\n",
    "    currrow+=1\n",
    "currrow=secondhalf\n",
    "while currrow>=1:\n",
    "    spaces=1\n",
    "    while spaces<=(secondhalf-currrow+1):\n",
    "        print(\" \",end=\"\")\n",
    "        spaces+=1\n",
    "    currcol=1\n",
    "    while currcol<=(2*currrow)-1:\n",
    "        print(\"*\",end=\"\")\n",
    "        currcol+=1\n",
    "    print()\n",
    "    currrow-=1        \n",
    "\n"
   ]
  },
  {
   "cell_type": "code",
   "execution_count": 7,
   "id": "58a89ac3",
   "metadata": {},
   "outputs": [
    {
     "name": "stdout",
     "output_type": "stream",
     "text": [
      "5\n",
      "1\n",
      "12\n",
      "123\n",
      "1234\n",
      "12345\n"
     ]
    }
   ],
   "source": [
    "n=int(input())\n",
    "i=1\n",
    "while i<=n:\n",
    "    j=1\n",
    "    k=1\n",
    "    while j<=i:\n",
    "        print(k,end=\"\")\n",
    "        j=j+1\n",
    "        k=k+1\n",
    "    print()\n",
    "    i=i+1    \n",
    "\n",
    "while i<=n:\n",
    "    \n",
    "    s=1\n",
    "    while s<=n-i:\n",
    "        print(\"\",end=\"\")\n",
    "        s+=1\n",
    "    j=1\n",
    "    d=1            \n",
    "    while j<=i:\n",
    "        print(d,end=\"\")\n",
    "        j=j+1\n",
    "        d=d+1\n",
    "    print() \n",
    "    i=i+1    \n",
    "        \n",
    "            \n",
    "            \n",
    "        \n",
    "            \n",
    "         \n",
    "           \n",
    "         \n",
    "       \n",
    "        \n"
   ]
  },
  {
   "cell_type": "code",
   "execution_count": 13,
   "id": "ea6212c0",
   "metadata": {},
   "outputs": [
    {
     "name": "stdout",
     "output_type": "stream",
     "text": [
      "5\n",
      "1\n",
      "11\n",
      "111\n",
      "1111\n",
      "11111\n"
     ]
    }
   ],
   "source": [
    "n=int(input())\n",
    "i=1\n",
    "while i<=n:\n",
    "    spaces=1\n",
    "    while spaces<=n-i:\n",
    "        print(\"\",end=\"\")\n",
    "        spaces=spaces+1\n",
    "    j=1\n",
    "    while j<=i:\n",
    "        print(1,end=\"\")\n",
    "        j=j+1\n",
    "    print()\n",
    "    i=i+1\n",
    "        "
   ]
  },
  {
   "cell_type": "code",
   "execution_count": 15,
   "id": "99f60bcc",
   "metadata": {},
   "outputs": [
    {
     "name": "stdout",
     "output_type": "stream",
     "text": [
      "4\n",
      "    \n",
      "   1\n",
      "  212\n",
      " 32123\n",
      "4321234\n"
     ]
    }
   ],
   "source": [
    "N=int(input())\n",
    "for i in range(N+1):\n",
    "    for j in range(i,N):\n",
    "        print(\" \",end=\"\")\n",
    "    for j in range(i,0,-1):\n",
    "        print(j,end=\"\")\n",
    "    for j in range(2,i+1):\n",
    "        print(j,end=\"\")\n",
    "    print()   "
   ]
  },
  {
   "cell_type": "code",
   "execution_count": 17,
   "id": "8454c9ab",
   "metadata": {},
   "outputs": [
    {
     "name": "stdout",
     "output_type": "stream",
     "text": [
      "5\n",
      "*0000*0000*\n",
      "0*000*000*0\n",
      "00*00*00*00\n",
      "000*0*0*000\n",
      "0000***0000\n"
     ]
    }
   ],
   "source": [
    "N=int(input())\n",
    "i=1\n",
    "for i in range(1,N+1,1):\n",
    "    for j in range(1,2*N+2,1):\n",
    "        if(j==i or j==N+1 or j==2*N+1-i+1):\n",
    "            print(\"*\",end=\"\")\n",
    "        else:\n",
    "            print(0,end=\"\")\n",
    "        j=j+1\n",
    "    print()\n",
    "    i=i+1\n"
   ]
  },
  {
   "cell_type": "code",
   "execution_count": 2,
   "id": "f0edfd8b",
   "metadata": {},
   "outputs": [
    {
     "name": "stdout",
     "output_type": "stream",
     "text": [
      "9\n"
     ]
    },
    {
     "ename": "NameError",
     "evalue": "name 'i' is not defined",
     "output_type": "error",
     "traceback": [
      "\u001b[1;31m---------------------------------------------------------------------------\u001b[0m",
      "\u001b[1;31mNameError\u001b[0m                                 Traceback (most recent call last)",
      "Cell \u001b[1;32mIn[2], line 4\u001b[0m\n\u001b[0;32m      2\u001b[0m N1\u001b[38;5;241m=\u001b[39m(N\u001b[38;5;241m+\u001b[39m\u001b[38;5;241m1\u001b[39m)\u001b[38;5;241m/\u001b[39m\u001b[38;5;241m/\u001b[39m\u001b[38;5;241m2\u001b[39m\n\u001b[0;32m      3\u001b[0m N2\u001b[38;5;241m=\u001b[39mN\u001b[38;5;241m-\u001b[39mN1\n\u001b[1;32m----> 4\u001b[0m \u001b[38;5;28;01mfor\u001b[39;00m i \u001b[38;5;129;01min\u001b[39;00m \u001b[38;5;28mrange\u001b[39m(i,N1\u001b[38;5;241m+\u001b[39m\u001b[38;5;241m1\u001b[39m):\n\u001b[0;32m      5\u001b[0m     \u001b[38;5;28;01mfor\u001b[39;00m j \u001b[38;5;129;01min\u001b[39;00m \u001b[38;5;28mrange\u001b[39m(\u001b[38;5;241m1\u001b[39m,i):\n\u001b[0;32m      6\u001b[0m         \u001b[38;5;28mprint\u001b[39m(\u001b[38;5;124m'\u001b[39m\u001b[38;5;124m \u001b[39m\u001b[38;5;124m'\u001b[39m,end\u001b[38;5;241m=\u001b[39m\u001b[38;5;124m\"\u001b[39m\u001b[38;5;124m\"\u001b[39m)\n",
      "\u001b[1;31mNameError\u001b[0m: name 'i' is not defined"
     ]
    }
   ],
   "source": [
    "N=int(input())\n",
    "N1=(N+1)//2\n",
    "N2=N-N1\n",
    "for i in range(i,N1+1):\n",
    "    for j in range(1,i):\n",
    "        print(' ',end=\"\")\n",
    "    for k in range(1,i+1):\n",
    "        print(\"*\",end=\"\")\n",
    "    print()\n",
    "for i in range(N2,0,-1):\n",
    "    for j in range(1,i):\n",
    "        print(' ',end=\"\")\n",
    "    for k in range(1,i+1):\n",
    "        print('*',end=\"\")\n",
    "    print()    "
   ]
  },
  {
   "cell_type": "code",
   "execution_count": 27,
   "id": "2b2555b4",
   "metadata": {},
   "outputs": [
    {
     "name": "stdout",
     "output_type": "stream",
     "text": [
      "11\n",
      "* \n",
      "  * * \n",
      "    * * * \n",
      "      * * * * \n",
      "        * * * * * \n",
      "          * * * * * * \n",
      "        * * * * * \n",
      "      * * * * \n",
      "    * * * \n",
      "  * * \n",
      "* \n"
     ]
    }
   ],
   "source": [
    "N=int(input())\n",
    "N1=(N+1)//2\n",
    "N2=N-N1\n",
    "for i in range(i,N1+1):\n",
    "    for j in range(1,i):\n",
    "        print(' ',end=\" \")\n",
    "    for k in range(1,i+1):\n",
    "        print(\"*\",end=\" \")\n",
    "    print()\n",
    "for i in range(N2,0,-1):\n",
    "    for j in range(1,i):\n",
    "        print(' ',end=\" \")\n",
    "    for k in range(1,i+1):\n",
    "        print('*',end=\" \")\n",
    "    print()    "
   ]
  },
  {
   "cell_type": "code",
   "execution_count": 30,
   "id": "d0045ce9",
   "metadata": {},
   "outputs": [
    {
     "name": "stdout",
     "output_type": "stream",
     "text": [
      "11\n",
      "*  \n",
      " *  *  \n",
      "  *  *  *  \n",
      "   *  *  *  *  \n",
      "    *  *  *  *  *  \n",
      "     *  *  *  *  *  *  \n",
      "    *  *  *  *  *  \n",
      "   *  *  *  *  \n",
      "  *  *  *  \n",
      " *  *  \n",
      "*  \n"
     ]
    }
   ],
   "source": [
    "\n",
    "N=int(input())\n",
    "N1=(N+1)//2\n",
    "N2=N-N1\n",
    "for i in range(i,N1+1):\n",
    "    for j in range(1,i):\n",
    "        print(' ',end=\"\")\n",
    "    for k in range(1,i+1):\n",
    "        print(\"*  \",end=\"\")\n",
    "    print()\n",
    "for i in range(N2,0,-1):\n",
    "    for j in range(1,i):\n",
    "        print(' ',end=\"\")\n",
    "    for k in range(1,i+1):\n",
    "        print('*  ',end=\"\")\n",
    "    print()    "
   ]
  },
  {
   "cell_type": "code",
   "execution_count": 32,
   "id": "9470a69b",
   "metadata": {},
   "outputs": [
    {
     "name": "stdout",
     "output_type": "stream",
     "text": [
      "11\n",
      "* \n",
      " * * \n",
      "  * * * \n",
      "   * * * * \n",
      "    * * * * * \n",
      "     * * * * * * \n",
      "    * * * * * \n",
      "   * * * * \n",
      "  * * * \n",
      " * * \n",
      "* \n"
     ]
    }
   ],
   "source": [
    "N=int(input())\n",
    "N1=(N+1)//2\n",
    "N2=N-N1\n",
    "for i in range(i,N1+1):\n",
    "    for j in range(1,i):\n",
    "        print(' ',end='')\n",
    "    for k in range(1,i+1):\n",
    "        print('* ',end='')\n",
    "    print()\n",
    "for i in range(N2,0,-1):\n",
    "    for j in range(1,i):\n",
    "        print(' ',end='')\n",
    "    for k in range(1,i+1):\n",
    "        print('* ',end='')\n",
    "    print()    "
   ]
  },
  {
   "cell_type": "code",
   "execution_count": 33,
   "id": "b61b10c5",
   "metadata": {},
   "outputs": [
    {
     "name": "stdout",
     "output_type": "stream",
     "text": [
      "11\n",
      "* \n",
      " * * \n",
      "  * * * \n",
      "   * * * * \n",
      "    * * * * * \n",
      "     * * * * * * \n",
      "    * * * * * \n",
      "   * * * * \n",
      "  * * * \n",
      " * * \n",
      "* \n"
     ]
    }
   ],
   "source": [
    "N=int(input())\n",
    "n1=(N+1)//2\n",
    "n2=N-n1\n",
    "for i in range(i,n1+1):\n",
    "    for j in range(1,i):\n",
    "        print(' ',end='')\n",
    "    for k in range(1,i+1):\n",
    "        print('* ',end='')\n",
    "    print()\n",
    "for i in range(n2,0,-1):\n",
    "    for j in range(1,i):\n",
    "        print(' ',end='')\n",
    "    for k in range(1,i+1):\n",
    "        print('* ',end='')\n",
    "    print()    "
   ]
  },
  {
   "cell_type": "code",
   "execution_count": 1,
   "id": "52309f35",
   "metadata": {},
   "outputs": [
    {
     "name": "stdout",
     "output_type": "stream",
     "text": [
      "5\n",
      "* \n",
      " * \n",
      "* \n",
      "  * \n",
      "* \n",
      "* \n",
      " * \n",
      "* \n",
      "* \n"
     ]
    }
   ],
   "source": [
    "N = int(input())\n",
    "n1 = (N+1)//2\n",
    "n2 = N-n1\n",
    "\n",
    "for i in range(1,n1+1):\n",
    "    for j in range(1,i):\n",
    "        print(' ',end='')\n",
    "    for k in range(1,i+1):\n",
    "        print('* ',end='')\n",
    "        print()    \n",
    "\n",
    "for i in range(n2,0,-1):\n",
    "    for j in range(1,i):\n",
    "        print(' ',end='')\n",
    "    for k in range(1,i+1):\n",
    "        print('* ',end='')\n",
    "        print()"
   ]
  },
  {
   "cell_type": "code",
   "execution_count": 8,
   "id": "e4cc864a",
   "metadata": {},
   "outputs": [
    {
     "ename": "SyntaxError",
     "evalue": "invalid non-printable character U+00A0 (1300847180.py, line 16)",
     "output_type": "error",
     "traceback": [
      "\u001b[1;36m  Cell \u001b[1;32mIn[8], line 16\u001b[1;36m\u001b[0m\n\u001b[1;33m    \u001b[0m\n\u001b[1;37m    ^\u001b[0m\n\u001b[1;31mSyntaxError\u001b[0m\u001b[1;31m:\u001b[0m invalid non-printable character U+00A0\n"
     ]
    }
   ],
   "source": [
    "n = int(input())\n",
    "n1 = (n+1)//2\n",
    "n2 = n-n1\n",
    "for i in range(1,n1+1):\n",
    "    for j in range(1,i):\n",
    "        print(' ',end='')\n",
    "    for k in range(1,i+1):\n",
    "        print('* ',end='')\n",
    "        print()\n",
    "for i in range(n2,0,-1):\n",
    "    for j in range(1,i):\n",
    "        print(' ',end='')\n",
    "    for k in range(1,i+1):\n",
    "        print('* ',end='')\n",
    "        print()\n",
    "        \n",
    "\n",
    "\n"
   ]
  },
  {
   "cell_type": "code",
   "execution_count": 10,
   "id": "61f42149",
   "metadata": {},
   "outputs": [
    {
     "name": "stdout",
     "output_type": "stream",
     "text": [
      "12451245"
     ]
    }
   ],
   "source": [
    "i=1\n",
    "while i<3:\n",
    "    j=0\n",
    "    while j<5:\n",
    "        j = j +1\n",
    "        if j==3:\n",
    "            continue\n",
    "        print(j, end = \"\")\n",
    "    i = i +1"
   ]
  },
  {
   "cell_type": "code",
   "execution_count": 11,
   "id": "967511ec",
   "metadata": {},
   "outputs": [
    {
     "name": "stdout",
     "output_type": "stream",
     "text": [
      "1 2 "
     ]
    }
   ],
   "source": [
    "i=1\n",
    "while i<5:\n",
    "    if i==3:\n",
    "        break\n",
    "    print(i,end=\" \")\n",
    "    i = i +1"
   ]
  },
  {
   "cell_type": "code",
   "execution_count": 12,
   "id": "8248950b",
   "metadata": {},
   "outputs": [
    {
     "name": "stdout",
     "output_type": "stream",
     "text": [
      "1 2 1 2 "
     ]
    }
   ],
   "source": [
    "i=1\n",
    "while i<3:\n",
    "    j=1\n",
    "    while j<5:\n",
    "        if j==3:\n",
    "            break\n",
    "        print(j,end=\" \")\n",
    "        j = j + 1\n",
    "    i = i + 1"
   ]
  },
  {
   "cell_type": "code",
   "execution_count": null,
   "id": "042b590d",
   "metadata": {},
   "outputs": [],
   "source": [
    "li=[]\n",
    "sum=0\n",
    "for i in range(5):\n",
    "    val=int(input())\n",
    "    li.append(val)\n",
    "    sum=sum+li[i]\n",
    "avg=sum/5\n",
    "print(li)\n",
    "print(avg)\n",
    "if(avg>=90):\n",
    "    print(\"A\")\n",
    "elif(avg>=80 and avg<90):\n",
    "    print(\"B\")\n",
    "elif(avg>=70 and avg<80):\n",
    "    print(\"C\")\n",
    "elif(avg>=50 and avg<70):\n",
    "    print(\"D\")\n",
    "elif(avg>=40 and avg<50):\n",
    "    print(\"E\")\n",
    "elif(avg<40):\n",
    "    print(\"F\")\n",
    "    \n",
    "    "
   ]
  },
  {
   "cell_type": "code",
   "execution_count": 1,
   "id": "091258fe",
   "metadata": {},
   "outputs": [
    {
     "name": "stdout",
     "output_type": "stream",
     "text": [
      "8\n"
     ]
    }
   ],
   "source": [
    "li = [[1,2,3],[4,5,6],[7,8,9]]\n",
    "print(li[2][1])\n"
   ]
  },
  {
   "cell_type": "code",
   "execution_count": 2,
   "id": "807b7ff4",
   "metadata": {},
   "outputs": [
    {
     "name": "stdout",
     "output_type": "stream",
     "text": [
      "[[0, 0, 0, 0], [0, 1, 2, 3], [0, 2, 4, 6]]\n"
     ]
    }
   ],
   "source": [
    "li = [[ i*j for j in range(4)] for i in range(3)]\n",
    "print(li)\n"
   ]
  },
  {
   "cell_type": "code",
   "execution_count": 4,
   "id": "7537168f",
   "metadata": {},
   "outputs": [
    {
     "name": "stdout",
     "output_type": "stream",
     "text": [
      "159261037114812"
     ]
    }
   ],
   "source": [
    "li=[[1,2,3,4],[5,6,7,8],[9,10,11,12]]\n",
    "for j in range(4):\n",
    "    for ele in li:\n",
    "        print(ele[j],end = \"\")\n"
   ]
  },
  {
   "cell_type": "code",
   "execution_count": 6,
   "id": "79117842",
   "metadata": {},
   "outputs": [
    {
     "name": "stdout",
     "output_type": "stream",
     "text": [
      "180\n"
     ]
    }
   ],
   "source": [
    "li=[1,2,3,5,6]\n",
    "product=1\n",
    "for i in  (li):\n",
    "    product=product*i\n",
    "print(product)    "
   ]
  },
  {
   "cell_type": "code",
   "execution_count": 3,
   "id": "992cc895",
   "metadata": {},
   "outputs": [
    {
     "name": "stdout",
     "output_type": "stream",
     "text": [
      "100\n"
     ]
    }
   ],
   "source": [
    "y=50\n",
    "x=100\n",
    "print(x or y)"
   ]
  },
  {
   "cell_type": "code",
   "execution_count": 5,
   "id": "42588dce",
   "metadata": {},
   "outputs": [
    {
     "name": "stdout",
     "output_type": "stream",
     "text": [
      "45.33\n"
     ]
    }
   ],
   "source": []
  },
  {
   "cell_type": "code",
   "execution_count": 11,
   "id": "67ea0b96",
   "metadata": {},
   "outputs": [
    {
     "name": "stdout",
     "output_type": "stream",
     "text": [
      "True\n"
     ]
    }
   ],
   "source": [
    "print(bool(1+1j))"
   ]
  },
  {
   "cell_type": "code",
   "execution_count": 2,
   "id": "6a6d7f2b",
   "metadata": {},
   "outputs": [
    {
     "name": "stdout",
     "output_type": "stream",
     "text": [
      "[0, 1, 2]\n"
     ]
    },
    {
     "name": "stderr",
     "output_type": "stream",
     "text": [
      "<>:1: SyntaxWarning: invalid decimal literal\n",
      "<>:1: SyntaxWarning: invalid decimal literal\n",
      "C:\\Users\\HP\\AppData\\Local\\Temp\\ipykernel_19308\\171901967.py:1: SyntaxWarning: invalid decimal literal\n",
      "  x=[i**+1for i in range(3)];\n"
     ]
    }
   ],
   "source": [
    "x=[i**+1for i in range(3)];\n",
    "print(x)"
   ]
  },
  {
   "cell_type": "code",
   "execution_count": 13,
   "id": "e9334e02",
   "metadata": {},
   "outputs": [
    {
     "name": "stdout",
     "output_type": "stream",
     "text": [
      "aaabbccdsa\n",
      "a3\n"
     ]
    }
   ],
   "source": [
    "def duplicate(a):\n",
    "    i=0\n",
    "    st=\"\"\n",
    "    while i<len(a):\n",
    "        j=i+1\n",
    "        c=1\n",
    "        while j<len(a) and a[i]==a[j]:\n",
    "            j+=1\n",
    "            c+=1\n",
    "        if c==1:\n",
    "            st=st+a[i]\n",
    "        else:\n",
    "            st=st+a[i]+str(c)\n",
    "        i=j    \n",
    "        return st\n",
    "str1=input()\n",
    "print(duplicate(str1))\n"
   ]
  },
  {
   "cell_type": "code",
   "execution_count": 19,
   "id": "e0ccec3f",
   "metadata": {},
   "outputs": [
    {
     "name": "stdout",
     "output_type": "stream",
     "text": [
      "5\n",
      "1 2 3 4 5 6 4 5 6 1 3 2\n",
      "[['1', '6', '3'], ['2', '4', '2'], ['3', '5'], ['4', '6'], ['5', '1']]\n"
     ]
    }
   ],
   "source": [
    "s=int(input())\n",
    "c=[item for item in input().split()]\n",
    "def split(S,step):\n",
    "    \n",
    "    return [S[i::step] for i in range(step)]\n",
    "\n",
    "print(split(c,s))\n",
    "    \n",
    "  \n",
    "        \n",
    "    \n",
    "        \n",
    "    \n",
    "    "
   ]
  },
  {
   "cell_type": "code",
   "execution_count": 22,
   "id": "e9af46ff",
   "metadata": {},
   "outputs": [
    {
     "name": "stdout",
     "output_type": "stream",
     "text": [
      "3\n",
      "0 0 1\n",
      "0 1 2\n",
      "1 2 2\n"
     ]
    }
   ],
   "source": [
    "n=int(input())\n",
    "def func(a):\n",
    "    \n",
    "    for i in range(n):\n",
    "        for j in range(n):\n",
    "            if i+j==n-1:\n",
    "                a[i][j]=1\n",
    "            elif i+j<(n-1):\n",
    "                a[i][j]=0\n",
    "            else:\n",
    "                a[i][j]=2\n",
    "    for row in a:\n",
    "        print(\" \".join([str(ele) for ele in row]))\n",
    "a=[[0]*n for i in range(n)]\n",
    "func(a)        \n",
    "        "
   ]
  },
  {
   "cell_type": "code",
   "execution_count": 23,
   "id": "809fa577",
   "metadata": {},
   "outputs": [
    {
     "name": "stdout",
     "output_type": "stream",
     "text": [
      "2\n",
      "[[0, 0], [0, 0]]\n"
     ]
    }
   ],
   "source": [
    "n=int(input())\n",
    "a=[[0]*n for i in range(n)]\n",
    "print(a)"
   ]
  },
  {
   "cell_type": "code",
   "execution_count": 33,
   "id": "0dcefb5d",
   "metadata": {},
   "outputs": [
    {
     "name": "stdout",
     "output_type": "stream",
     "text": [
      "3\n",
      "volvo\n",
      "volvo\n",
      "vol\n",
      "5\n",
      "5\n",
      "3\n",
      "volvovolvo\n"
     ]
    }
   ],
   "source": [
    "n=int(input())\n",
    "l1=[]\n",
    "st1=[]\n",
    "for i in range(n):\n",
    "    str1=input()\n",
    "    st1.append(str1)\n",
    "    l1.append(len(str1))\n",
    "for i in l1:\n",
    "    print(i)\n",
    "ma=max(l1)\n",
    "res=[]\n",
    "for i in st1:\n",
    "    if ma==len(i):\n",
    "        res.append(i)\n",
    "res=''.join(res) \n",
    "print(str(res))\n",
    "    \n",
    "    "
   ]
  },
  {
   "cell_type": "code",
   "execution_count": 45,
   "id": "6e5ac5a7",
   "metadata": {},
   "outputs": [
    {
     "name": "stdout",
     "output_type": "stream",
     "text": [
      "abbbcccdddf\n",
      "ab3c3d3f\n"
     ]
    }
   ],
   "source": [
    "\n",
    "def func(a):\n",
    "    i = 0\n",
    "    st = \"\"\n",
    "    while i < len(a):\n",
    "        j = i + 1\n",
    "        c = 1\n",
    "        while j < len(a) and a[i] == a[j]:\n",
    "            j += 1\n",
    "            c += 1\n",
    "\n",
    "        if c == 1:\n",
    "            st += a[i]\n",
    "        else:\n",
    "            st += a[i] + str(c)\n",
    "        \n",
    "        i = j\n",
    "\n",
    "    return st\n",
    "\n",
    "new = input()\n",
    "print(func(new))\n"
   ]
  },
  {
   "cell_type": "code",
   "execution_count": null,
   "id": "bc385c6a",
   "metadata": {},
   "outputs": [],
   "source": [
    "def func(a):\n",
    "    i = 0\n",
    "    st = \"\"\n",
    "    \n",
    "    while i < len(a):\n",
    "        j = i + 1\n",
    "        count = 1\n",
    "        \n",
    "        while j < len(a) and a[i] == a[j]:\n",
    "            j += 1\n",
    "            count += 1\n",
    "\n",
    "        st += a[i] + str(count)\n",
    "        i = j\n",
    "\n",
    "    return st\n",
    "\n",
    "new_input = input()\n",
    "result = func(new_input)\n",
    "print(result)\n"
   ]
  },
  {
   "cell_type": "code",
   "execution_count": 51,
   "id": "42fef103",
   "metadata": {},
   "outputs": [
    {
     "name": "stdout",
     "output_type": "stream",
     "text": [
      "0000012233\n"
     ]
    }
   ],
   "source": [
    "a=\"0000012233\"\n",
    "print(str.lstrip(a))"
   ]
  },
  {
   "cell_type": "code",
   "execution_count": null,
   "id": "f07ccfeb",
   "metadata": {},
   "outputs": [],
   "source": []
  }
 ],
 "metadata": {
  "kernelspec": {
   "display_name": "Python 3 (ipykernel)",
   "language": "python",
   "name": "python3"
  },
  "language_info": {
   "codemirror_mode": {
    "name": "ipython",
    "version": 3
   },
   "file_extension": ".py",
   "mimetype": "text/x-python",
   "name": "python",
   "nbconvert_exporter": "python",
   "pygments_lexer": "ipython3",
   "version": "3.11.4"
  }
 },
 "nbformat": 4,
 "nbformat_minor": 5
}
