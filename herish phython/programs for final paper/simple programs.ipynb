{
 "cells": [
  {
   "cell_type": "code",
   "execution_count": 4,
   "id": "d6cea60c",
   "metadata": {},
   "outputs": [
    {
     "name": "stdout",
     "output_type": "stream",
     "text": [
      "enter height in centimetre50\n",
      "19.38\n",
      "1.64\n"
     ]
    }
   ],
   "source": [
    "#convert centimeters to inches and foots\n",
    "height=float(input(\"enter height in centimetre\"))\n",
    "inches=height/2.58\n",
    "feets=height/30.48\n",
    "print(round(inches,2))\n",
    "print(round(feets,2))"
   ]
  },
  {
   "cell_type": "code",
   "execution_count": 9,
   "id": "24ca215f",
   "metadata": {},
   "outputs": [
    {
     "name": "stdout",
     "output_type": "stream",
     "text": [
      "5\n",
      "5\n",
      "\n",
      "          enter 1 for sum \n",
      "          enter 2 for divide\n",
      "          enter 3 for multiply\n",
      "          enter 4 for exit\n",
      "        \n",
      "        3\n",
      "25\n"
     ]
    }
   ],
   "source": [
    "#calculator using classes\n",
    "class Calculator:\n",
    "    def __init__(self,num1,num2):\n",
    "        self.num1=num1\n",
    "        self.num2=num2\n",
    "        self.Menu()\n",
    "    def Menu(self):\n",
    "        str1=input(\"\"\"\n",
    "          enter 1 for sum \n",
    "          enter 2 for divide\n",
    "          enter 3 for multiply\n",
    "          enter 4 for exit\n",
    "        \n",
    "        \"\"\")\n",
    "        if str1==\"1\":\n",
    "            print(self.__sum__())\n",
    "        elif str1==\"2\":\n",
    "            print(self.__div__())\n",
    "        elif str1==\"3\":\n",
    "            print(self.__product__())\n",
    "        else:\n",
    "            print(self.exit())\n",
    "        \n",
    "            \n",
    "    def __sum__(self):\n",
    "        return num1+num2\n",
    "    def __div__(self):\n",
    "        return num1//num2\n",
    "    def __product__(self):\n",
    "        return num1*num2\n",
    "    def exit(self):\n",
    "        pass\n",
    "num1=int(input())\n",
    "num2=int(input())\n",
    "obj=Calculator(num1,num2)\n",
    "\n"
   ]
  },
  {
   "cell_type": "code",
   "execution_count": 10,
   "id": "d48657f0",
   "metadata": {},
   "outputs": [
    {
     "name": "stdout",
     "output_type": "stream",
     "text": [
      "Enter number of elements of list: 2\n",
      "Enter element: 5\n",
      "Enter element: 5\n",
      "Subsets: \n",
      "[[], [5], [5], [5, 5]]\n"
     ]
    }
   ],
   "source": [
    "class sub:  \n",
    "    def f1(self, s1):  \n",
    "        return self.f2([], sorted(s1))  \n",
    " \n",
    "    def f2(self, curr, s1):  \n",
    "        if s1:  \n",
    "            return self.f2(curr, s1[1:]) + self.f2(curr + [s1[0]], s1[1:])  \n",
    "        return [curr]  \n",
    "a=[]\n",
    "n=int(input(\"Enter number of elements of list: \"))\n",
    "for i in range(0,n):\n",
    "    b=int(input(\"Enter element: \"))\n",
    "    a.append(b)\n",
    "print(\"Subsets: \")\n",
    "print(sub().f1(a))"
   ]
  },
  {
   "cell_type": "code",
   "execution_count": 37,
   "id": "f76c11ca",
   "metadata": {},
   "outputs": [
    {
     "name": "stdout",
     "output_type": "stream",
     "text": [
      "[[]]\n"
     ]
    }
   ],
   "source": [
    "class myclass:\n",
    "    \n",
    "    def f2(self, curr, s1):  \n",
    "            if s1:  \n",
    "                return  self.f2(curr, s1[1:])  \n",
    "            return [curr]  \n",
    "a=myclass()\n",
    "print(a.f2([],[5,4]))"
   ]
  },
  {
   "cell_type": "code",
   "execution_count": 32,
   "id": "c6035b73",
   "metadata": {},
   "outputs": [
    {
     "name": "stdout",
     "output_type": "stream",
     "text": [
      "Enter the number of elements in the list: 3\n",
      "Enter element: 5\n",
      "Enter element: 4\n",
      "Enter element: 4\n",
      "Subsets:\n",
      "[]\n",
      "[4]\n",
      "[4]\n",
      "[4, 4]\n",
      "[5]\n",
      "[5, 4]\n",
      "[5, 4]\n",
      "[5, 4, 4]\n"
     ]
    }
   ],
   "source": []
  },
  {
   "cell_type": "code",
   "execution_count": null,
   "id": "6f5f6dbb",
   "metadata": {},
   "outputs": [],
   "source": []
  }
 ],
 "metadata": {
  "kernelspec": {
   "display_name": "Python 3 (ipykernel)",
   "language": "python",
   "name": "python3"
  },
  "language_info": {
   "codemirror_mode": {
    "name": "ipython",
    "version": 3
   },
   "file_extension": ".py",
   "mimetype": "text/x-python",
   "name": "python",
   "nbconvert_exporter": "python",
   "pygments_lexer": "ipython3",
   "version": "3.11.4"
  }
 },
 "nbformat": 4,
 "nbformat_minor": 5
}
