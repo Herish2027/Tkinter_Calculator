{
 "cells": [
  {
   "cell_type": "code",
   "execution_count": 83,
   "id": "471ed7e4",
   "metadata": {},
   "outputs": [
    {
     "name": "stdout",
     "output_type": "stream",
     "text": [
      "Questions for 1000\n",
      "Which of following is not a force\n",
      "a.Tension                 b.Normal \n",
      "c.Mass                 b.none \n",
      "enter your answer between 1to4 or 0 for quit3\n",
      "Correct answer,you have won 320000\n",
      "Questions for 2000\n",
      "boy pushing wall in room\n",
      "a.boy pushing wall in room                 b.none \n",
      "c.applying pressure on apebble                 b.none \n",
      "enter your answer between 1to4 or 0 for quit0\n",
      "you have won1000 good luck for next time \n"
     ]
    }
   ],
   "source": [
    "questions=[[\"Which of following is not a force\",\"Tension\",\"Normal\",\"Mass\",\"none\",3],\n",
    "           [\"Which of following is not an example of work done\",\"boy pushing wall in room\",\"none\",\n",
    "            \"applying pressure on apebble\",\n",
    "            \"none\",1],\n",
    "         \n",
    "           [\"What type of waves are light wave\",\"Transverse wave\",\"logitudinal wave;\",\"both a &b\",\"none\",1],\n",
    "           [\"A 220v,100w bulb is connected to a 110v source. Calculate the power consumed by bulb\",\"10w\",\"15w\",\"20w\",\"25w\",4],\n",
    "           [\"the instrument is used for detecting electric current\",\"Galvanometer\",\"Tube tester\",\"Altimeter\",\"Fathometer\",1]\n",
    "]\n",
    "levels=[1000,2000,3000,5000,10000,20000,40000,80000,160000,320000]\n",
    "\n",
    "money =0\n",
    "for i in range(0,len(questions)):\n",
    "    question=questions[i]\n",
    "    print(f\"Questions for {levels[i]}\")\n",
    "    print(question[i])\n",
    "    print(f\"a.{question[1]}                 b.{question[2]} \")\n",
    "    print(f\"c.{question[3]}                 b.{question[4]} \")        \n",
    "    reply=int(input(\"enter your answer between 1to4 or 0 for quit\")) \n",
    "    if reply==question[-1]:\n",
    "        print(f\"Correct answer,you have won {levels[i-1]}\")\n",
    "    elif reply==0:\n",
    "        money=levels[i-1]\n",
    "        print(f\"you have won{money} good luck for next time \")\n",
    "        break\n",
    "    elif i==4:\n",
    "        money =10000\n",
    "    elif i==9:\n",
    "        money=32000\n",
    "    elif reply!=question[-1]:\n",
    "        print(f\"Wrong answer ,you have won {money}\")\n",
    "        break\n",
    "        \n",
    "    \n",
    "    "
   ]
  },
  {
   "cell_type": "code",
   "execution_count": 47,
   "id": "81854290",
   "metadata": {},
   "outputs": [
    {
     "name": "stdout",
     "output_type": "stream",
     "text": [
      "harry \n",
      "enetr first letter of stringh\n",
      "enter word for add at lastbfg\n",
      "harry \n"
     ]
    }
   ],
   "source": [
    "word=(input())\n",
    "firstletter=input(\"enetr first letter of string\")\n",
    "appendword=input(\"enter word for add at last\")\n",
    "for i in word:\n",
    "    if len(word)>=3:\n",
    "        if word.index(i)==0:\n",
    "            word.rstrip(\"y\")\n",
    "            print(word)\n",
    "    else:\n",
    "        print(word.reverse())\n",
    "        \n",
    "       \n",
    "    \n",
    "    \n"
   ]
  },
  {
   "cell_type": "code",
   "execution_count": 37,
   "id": "4b0bfe54",
   "metadata": {},
   "outputs": [
    {
     "name": "stdout",
     "output_type": "stream",
     "text": [
      "5\n",
      "0\n",
      "harr\n"
     ]
    }
   ],
   "source": [
    "word=\"harry\"\n",
    "print(len(word))\n",
    "print(word.index(\"h\"))\n",
    "print(word.rstrip(\"y\"))"
   ]
  },
  {
   "cell_type": "code",
   "execution_count": 80,
   "id": "1992cf2c",
   "metadata": {},
   "outputs": [
    {
     "name": "stdout",
     "output_type": "stream",
     "text": [
      "['__doc__', '__loader__', '__name__', '__package__', '__spec__', 'acos', 'acosh', 'asin', 'asinh', 'atan', 'atan2', 'atanh', 'cbrt', 'ceil', 'comb', 'copysign', 'cos', 'cosh', 'degrees', 'dist', 'e', 'erf', 'erfc', 'exp', 'exp2', 'expm1', 'fabs', 'factorial', 'floor', 'fmod', 'frexp', 'fsum', 'gamma', 'gcd', 'hypot', 'inf', 'isclose', 'isfinite', 'isinf', 'isnan', 'isqrt', 'lcm', 'ldexp', 'lgamma', 'log', 'log10', 'log1p', 'log2', 'modf', 'nan', 'nextafter', 'perm', 'pi', 'pow', 'prod', 'radians', 'remainder', 'sin', 'sinh', 'sqrt', 'tan', 'tanh', 'tau', 'trunc', 'ulp']\n",
      "<class 'builtin_function_or_method'>\n"
     ]
    },
    {
     "data": {
      "text/plain": [
       "False"
      ]
     },
     "execution_count": 80,
     "metadata": {},
     "output_type": "execute_result"
    }
   ],
   "source": [
    "import math\n",
    "print(dir(math))\n",
    "print(type(frexp))\n",
    "math.isinf(8)"
   ]
  },
  {
   "cell_type": "code",
   "execution_count": 10,
   "id": "832c992e",
   "metadata": {},
   "outputs": [
    {
     "name": "stdout",
     "output_type": "stream",
     "text": [
      "1\n"
     ]
    }
   ],
   "source": [
    "import os\n",
    "cwd='date'\n",
    "print(os.system(cwd))"
   ]
  },
  {
   "cell_type": "code",
   "execution_count": 3,
   "id": "2671cc9a",
   "metadata": {},
   "outputs": [
    {
     "data": {
      "text/plain": [
       "1"
      ]
     },
     "execution_count": 3,
     "metadata": {},
     "output_type": "execute_result"
    }
   ],
   "source": [
    "# Python program to explain os.system() method\n",
    "\n",
    "# importing os module\n",
    "import os\n",
    "\n",
    "# Command to execute\n",
    "# Using Windows OS command\n",
    "cmd = 'date'\n",
    "\n",
    "# Using os.system() method\n",
    "os.system(cmd)"
   ]
  },
  {
   "cell_type": "code",
   "execution_count": 8,
   "id": "ae29613e",
   "metadata": {},
   "outputs": [
    {
     "name": "stdout",
     "output_type": "stream",
     "text": [
      "Current working directory: C:\\Users\\HP\\Desktop\\herish phython\\Untitled Folder\n"
     ]
    }
   ],
   "source": [
    "# Python program to explain os.getcwd() method \n",
    "\t\t\n",
    "# importing os module \n",
    "import os \n",
    "\t\n",
    "# Get the current working \n",
    "# directory (CWD) \n",
    "cwd = os.getcwd() \n",
    "\t\n",
    "# Print the current working \n",
    "# directory (CWD) \n",
    "print(\"Current working directory:\", cwd) \n"
   ]
  },
  {
   "cell_type": "code",
   "execution_count": 44,
   "id": "c5842dae",
   "metadata": {},
   "outputs": [
    {
     "name": "stdout",
     "output_type": "stream",
     "text": [
      "Enter messageryurowgzvp tsahantsvh\n",
      "1 for coding and 0 for decoding0\n",
      "grow\n",
      "grow than\n"
     ]
    }
   ],
   "source": [
    "#best code#\n",
    "import random,string\n",
    "st=input(\"Enter message\")\n",
    "words=st.split()\n",
    "coding=int(input(\"1 for coding and 0 for decoding\"))\n",
    "coding=True if (coding==1) else False\n",
    "\n",
    "if (coding):\n",
    "    nwords=[]\n",
    "    for word in words:\n",
    "        if len(word)>=3:\n",
    "            def randomstring(length):\n",
    "                letters=string.ascii_lowercase\n",
    "                result=''.join(random.choice(letters) for i in range(length))\n",
    "                return result\n",
    "            r1=randomstring(3)\n",
    "            r2=randomstring(3)\n",
    "            \n",
    "            stnew=r1+word[1:]+word[0]+r2\n",
    "            nwords.append(stnew)\n",
    "        else:\n",
    "            stnew=word[::-1]\n",
    "            nwords.append(stnew)\n",
    "        print(\" \".join(nwords))\n",
    "else:\n",
    "    nwords=[]\n",
    "    for word in words:\n",
    "        if len(word)>=3:\n",
    "            stnew=word[3:-3]\n",
    "            stnew=stnew[-1]+stnew[:-1]\n",
    "            nwords.append(stnew)\n",
    "        else:\n",
    "            nword.append(word[::-1])\n",
    "        print(\" \".join(nwords))    "
   ]
  },
  {
   "cell_type": "code",
   "execution_count": 41,
   "id": "5dccca73",
   "metadata": {},
   "outputs": [
    {
     "name": "stdout",
     "output_type": "stream",
     "text": [
      "Random string of length 8 is: ihzjlboj\n",
      "Random string of length 6 is: vqpmpm\n",
      "Random string of length 4 is: kimr\n"
     ]
    }
   ],
   "source": [
    "import random\n",
    "import string\n",
    "\n",
    "def get_random_string(length):\n",
    "    # choose from all lowercase letter\n",
    "    letters = string.ascii_lowercase\n",
    "    result_str = ''.join(random.choice(letters) for i in range(length))\n",
    "    print(\"Random string of length\", length, \"is:\", result_str)\n",
    "\n",
    "get_random_string(8)\n",
    "get_random_string(6)\n",
    "get_random_string(4)"
   ]
  },
  {
   "cell_type": "code",
   "execution_count": null,
   "id": "95ffefb7",
   "metadata": {},
   "outputs": [],
   "source": []
  }
 ],
 "metadata": {
  "kernelspec": {
   "display_name": "Python 3 (ipykernel)",
   "language": "python",
   "name": "python3"
  },
  "language_info": {
   "codemirror_mode": {
    "name": "ipython",
    "version": 3
   },
   "file_extension": ".py",
   "mimetype": "text/x-python",
   "name": "python",
   "nbconvert_exporter": "python",
   "pygments_lexer": "ipython3",
   "version": "3.11.4"
  }
 },
 "nbformat": 4,
 "nbformat_minor": 5
}
