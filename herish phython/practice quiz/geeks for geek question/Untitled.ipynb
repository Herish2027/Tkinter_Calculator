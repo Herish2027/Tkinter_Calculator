{
 "cells": [
  {
   "cell_type": "code",
   "execution_count": 1,
   "id": "00ccc309",
   "metadata": {},
   "outputs": [
    {
     "name": "stdout",
     "output_type": "stream",
     "text": [
      "5\n",
      "12\n",
      "12\n",
      "13\n",
      "14\n",
      "15\n",
      "[15, 12, 13, 14, 12]\n"
     ]
    }
   ],
   "source": [
    "li=[]\n",
    "n=int(input())\n",
    "for i in range(n):\n",
    "    val=int(input())\n",
    "    li.append(val)\n",
    "c=li[-1]\n",
    "li[-1]=li[0]\n",
    "li[0]=c\n",
    "print(li)"
   ]
  },
  {
   "cell_type": "code",
   "execution_count": 5,
   "id": "8db7e465",
   "metadata": {},
   "outputs": [
    {
     "name": "stdout",
     "output_type": "stream",
     "text": [
      "2\n",
      "4\n",
      "5\n",
      "11\n",
      "12\n",
      "13\n",
      "14\n",
      "15\n",
      "[11, 14, 13, 12, 15]\n"
     ]
    }
   ],
   "source": [
    "li=[]\n",
    "post1=int(input())\n",
    "post2=int(input())\n",
    "\n",
    "n=int(input())\n",
    "for i in range (n):\n",
    "    val=int(input())\n",
    "    li.append(val)\n",
    "c=li[post2-1]\n",
    "li[post2-1]=li[post1-1]\n",
    "li[post1-1]=c\n",
    "print(li)\n",
    "    \n",
    "    "
   ]
  },
  {
   "cell_type": "code",
   "execution_count": 17,
   "id": "d21d7bde",
   "metadata": {},
   "outputs": [
    {
     "name": "stdout",
     "output_type": "stream",
     "text": [
      "True\n",
      "False\n"
     ]
    }
   ],
   "source": [
    "li=[1,2,3,4,5,6]\n",
    "n=len(li)\n",
    "for i in range (n):\n",
    "    if li[i]==3:\n",
    "        print(\"True\")\n"
   ]
  },
  {
   "cell_type": "code",
   "execution_count": 33,
   "id": "ae7711a5",
   "metadata": {},
   "outputs": [
    {
     "name": "stdout",
     "output_type": "stream",
     "text": [
      "5\n",
      "1 2 3 4 5\n",
      "[[1, 2, 3, 4, 5]]\n"
     ]
    }
   ],
   "source": [
    "\n",
    "\n",
    "print(li)    \n"
   ]
  },
  {
   "cell_type": "code",
   "execution_count": 23,
   "id": "15734f7e",
   "metadata": {},
   "outputs": [
    {
     "name": "stdout",
     "output_type": "stream",
     "text": [
      "[6, 5, 4, 3, 2, 1]\n"
     ]
    }
   ],
   "source": [
    "li=[1,2,3,4,5,6]\n",
    "\n",
    "li=li[::-1]\n",
    "print(li)\n"
   ]
  },
  {
   "cell_type": "code",
   "execution_count": 37,
   "id": "4c60829f",
   "metadata": {},
   "outputs": [
    {
     "name": "stdout",
     "output_type": "stream",
     "text": [
      "5 \n",
      "1 2 3 4 5\n",
      "largest number is  5\n"
     ]
    }
   ],
   "source": [
    "n=int(input())\n",
    "arr=list(map(int,input().split()))\n",
    "arr.sort()\n",
    "print(\"largest number is \",arr[-1])\n",
    "\n"
   ]
  },
  {
   "cell_type": "code",
   "execution_count": 1,
   "id": "495b0d26",
   "metadata": {},
   "outputs": [
    {
     "name": "stdout",
     "output_type": "stream",
     "text": [
      "7\n",
      "1\n",
      "2\n",
      "3\n",
      "4\n",
      "5\n",
      "6\n",
      "7\n",
      "[3, 4, 5, 6, 7, 1, 2]\n"
     ]
    }
   ],
   "source": [
    "arr=[]\n",
    "n=int(input())\n",
    "for i in range(n):\n",
    "    val=int(input())\n",
    "    arr.append(val)\n",
    "d=2\n",
    "i=0\n",
    "temp=[]\n",
    "while i<d:\n",
    "    temp.append(arr[i])\n",
    "    i=i+1\n",
    "i=0\n",
    "while d<n:\n",
    "    arr[i]=arr[d]\n",
    "    i+=1\n",
    "    d+=1\n",
    "arr[:]=arr[:i]+temp\n",
    "print(arr)"
   ]
  },
  {
   "cell_type": "code",
   "execution_count": 47,
   "id": "778daf8a",
   "metadata": {},
   "outputs": [
    {
     "name": "stdout",
     "output_type": "stream",
     "text": [
      "Original array: [1, 2, 3, 4, 5, 6, 7, 8]\n",
      "Rotated array:  [2, 3, 4, 5, 6, 7, 8, 1]\n"
     ]
    }
   ],
   "source": [
    "def reverse(start, end, arr):\n",
    "    no_of_reverse = end-start+1\n",
    "    count = 0\n",
    "    while((no_of_reverse)//2 != count):\n",
    "        arr[start+count], arr[end-count] = arr[end-count], arr[start+count]\n",
    "        count += 1\n",
    "    return arr\n",
    "def left_rotate_array(arr, size, d):\n",
    "    start = 0\n",
    "    end = size-1\n",
    "    arr = reverse(start, end, arr)\n",
    "    start = 0\n",
    "    end = size-d-1\n",
    "    arr = reverse(start, end, arr)\n",
    "    start = size-d\n",
    "    end = size-1\n",
    "    arr = reverse(start, end, arr)\n",
    "    return arr\n",
    "arr = [1, 2, 3, 4, 5, 6, 7, 8]\n",
    "size = 8\n",
    "d = 1\n",
    "print('Original array:', arr)\n",
    "if(d <= size):\n",
    "    print('Rotated array: ', left_rotate_array(arr, size, d))\n",
    "else:\n",
    "    d = d % size\n",
    "    print('Rotated array: ', left_rotate_array(arr, size, d))\n",
    " \n",
    "\n"
   ]
  },
  {
   "cell_type": "code",
   "execution_count": 59,
   "id": "2bc09939",
   "metadata": {},
   "outputs": [
    {
     "name": "stdout",
     "output_type": "stream",
     "text": [
      "9\n"
     ]
    }
   ],
   "source": [
    "li=[100,10,5,25,35,14]\n",
    "n=11\n",
    "product=1\n",
    "for i in range(len(li)):\n",
    "    product=product*li[i]\n",
    "rem=product%n \n",
    "print(rem)"
   ]
  },
  {
   "cell_type": "code",
   "execution_count": null,
   "id": "4b53cdd8",
   "metadata": {},
   "outputs": [],
   "source": []
  }
 ],
 "metadata": {
  "kernelspec": {
   "display_name": "Python 3 (ipykernel)",
   "language": "python",
   "name": "python3"
  },
  "language_info": {
   "codemirror_mode": {
    "name": "ipython",
    "version": 3
   },
   "file_extension": ".py",
   "mimetype": "text/x-python",
   "name": "python",
   "nbconvert_exporter": "python",
   "pygments_lexer": "ipython3",
   "version": "3.11.4"
  }
 },
 "nbformat": 4,
 "nbformat_minor": 5
}
