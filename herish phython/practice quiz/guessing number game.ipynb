{
 "cells": [
  {
   "cell_type": "code",
   "execution_count": 12,
   "id": "4b03798f",
   "metadata": {},
   "outputs": [
    {
     "name": "stdout",
     "output_type": "stream",
     "text": [
      "enter start value for random number23\n",
      "enter the end value for random number24\n",
      "23\n",
      "Try Again! You guessed too small\n",
      "24\n",
      "the user gets a correct number Congratulations!  Output.\n"
     ]
    }
   ],
   "source": [
    "import random\n",
    "lowerbound=int(input(\"enter start value for random number\"))\n",
    "upperbound=int(input(\"enter the end value for random number\"))\n",
    "num=random.randint(lowerbound,upperbound)\n",
    "i=0\n",
    "while i<(num//4):\n",
    "    userinput=int(input())\n",
    "    if (userinput==num):\n",
    "        print(\"the user gets a correct number Congratulations!  Output.\")\n",
    "        break\n",
    "    elif(userinput<num):\n",
    "        print(\"Try Again! You guessed too small\")\n",
    "    elif(userinput>num):\n",
    "        print(\"Try Again! You guessed too high\")\n",
    "    i=i+1\n",
    "else:\n",
    "    print(f\"so many attempts better luck try after some time random value is {num}\")\n",
    "        "
   ]
  },
  {
   "cell_type": "code",
   "execution_count": 13,
   "id": "baf00107",
   "metadata": {},
   "outputs": [
    {
     "ename": "NameError",
     "evalue": "name 'getdata' is not defined",
     "output_type": "error",
     "traceback": [
      "\u001b[1;31m---------------------------------------------------------------------------\u001b[0m",
      "\u001b[1;31mNameError\u001b[0m                                 Traceback (most recent call last)",
      "Cell \u001b[1;32mIn[13], line 1\u001b[0m\n\u001b[1;32m----> 1\u001b[0m htmldata \u001b[38;5;241m=\u001b[39m getdata(\u001b[38;5;124m\"\u001b[39m\u001b[38;5;124mhttps://weather.com/en-IN/weather/today/l/25.59,85.14?par=google&temp=c/\u001b[39m\u001b[38;5;124m\"\u001b[39m) \n\u001b[0;32m      3\u001b[0m soup \u001b[38;5;241m=\u001b[39m BeautifulSoup(htmldata, \u001b[38;5;124m'\u001b[39m\u001b[38;5;124mhtml.parser\u001b[39m\u001b[38;5;124m'\u001b[39m) \n\u001b[0;32m      5\u001b[0m \u001b[38;5;28mprint\u001b[39m(soup\u001b[38;5;241m.\u001b[39mprettify())\n",
      "\u001b[1;31mNameError\u001b[0m: name 'getdata' is not defined"
     ]
    }
   ],
   "source": [
    "htmldata = getdata(\"https://weather.com/en-IN/weather/today/l/25.59,85.14?par=google&temp=c/\") \n",
    "\n",
    "soup = BeautifulSoup(htmldata, 'html.parser') \n",
    "\n",
    "print(soup.prettify()) \n"
   ]
  },
  {
   "cell_type": "code",
   "execution_count": null,
   "id": "45ed4e01",
   "metadata": {},
   "outputs": [],
   "source": []
  },
  {
   "cell_type": "code",
   "execution_count": null,
   "id": "8c189f4e",
   "metadata": {},
   "outputs": [],
   "source": []
  }
 ],
 "metadata": {
  "kernelspec": {
   "display_name": "Python 3 (ipykernel)",
   "language": "python",
   "name": "python3"
  },
  "language_info": {
   "codemirror_mode": {
    "name": "ipython",
    "version": 3
   },
   "file_extension": ".py",
   "mimetype": "text/x-python",
   "name": "python",
   "nbconvert_exporter": "python",
   "pygments_lexer": "ipython3",
   "version": "3.11.4"
  }
 },
 "nbformat": 4,
 "nbformat_minor": 5
}
