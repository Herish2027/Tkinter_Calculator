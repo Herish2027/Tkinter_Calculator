{
 "cells": [
  {
   "cell_type": "code",
   "execution_count": 5,
   "id": "a02b9990",
   "metadata": {},
   "outputs": [
    {
     "name": "stdout",
     "output_type": "stream",
     "text": [
      "[2, 4, 7, 19, 22, 45, 72, 89]\n",
      "{2, 4, 7, 72, 45, 19, 22, 89}\n"
     ]
    }
   ],
   "source": [
    "numbers = {4, 7, 19, 2, 89, 45, 72, 22}\n",
    "sorted_numbers = sorted(numbers)\n",
    "\n",
    "print(sorted_numbers)\n",
    "print(numbers)"
   ]
  },
  {
   "cell_type": "code",
   "execution_count": 18,
   "id": "1e923fff",
   "metadata": {},
   "outputs": [
    {
     "name": "stdout",
     "output_type": "stream",
     "text": [
      "[2, 4, 22, 72]\n"
     ]
    }
   ],
   "source": [
    "numbers = (4, 7, 19, 2, 89, 45, 72, 22)\n",
    "sorted_numbers = sorted(numbers)\n",
    "even = lambda a: a % 2 == 0\n",
    "even_numbers = list(filter(even, sorted_numbers))\n",
    "print(even_numbers)"
   ]
  },
  {
   "cell_type": "code",
   "execution_count": 15,
   "id": "62439d37",
   "metadata": {},
   "outputs": [
    {
     "name": "stdout",
     "output_type": "stream",
     "text": [
      "3.9999\n"
     ]
    }
   ],
   "source": [
    "print(float(3.9999))"
   ]
  },
  {
   "cell_type": "code",
   "execution_count": 16,
   "id": "c8b4e228",
   "metadata": {},
   "outputs": [
    {
     "name": "stdout",
     "output_type": "stream",
     "text": [
      "{1, 3, 6}\n"
     ]
    }
   ],
   "source": [
    "s1={1,2,3,4}\n",
    "s2={2,4,6}\n",
    "print(s1^s2)\n"
   ]
  },
  {
   "cell_type": "code",
   "execution_count": 17,
   "id": "1ad653d8",
   "metadata": {},
   "outputs": [
    {
     "name": "stdout",
     "output_type": "stream",
     "text": [
      "[0, 3, 2, 5, 4, 7, 6, 9, 8]\n"
     ]
    }
   ],
   "source": [
    "li=[1,2,3,4,5,6,7,8,9]\n",
    "li1=[]\n",
    "for i in li:\n",
    "    li1.append(i^1)\n",
    "print(li1)    \n",
    "    "
   ]
  },
  {
   "cell_type": "code",
   "execution_count": 19,
   "id": "2510bba4",
   "metadata": {},
   "outputs": [
    {
     "name": "stdout",
     "output_type": "stream",
     "text": [
      "10\n"
     ]
    }
   ],
   "source": [
    "def solve(a, b):\n",
    "    return b if a == 0 else solve(b % a, a)\n",
    "print(solve(20, 50))\n",
    "\n",
    "\n",
    "\n",
    "\n"
   ]
  },
  {
   "cell_type": "code",
   "execution_count": 21,
   "id": "5ada989b",
   "metadata": {},
   "outputs": [
    {
     "name": "stdout",
     "output_type": "stream",
     "text": [
      "10\n"
     ]
    }
   ],
   "source": [
    "a=50%20\n",
    "print(a)"
   ]
  },
  {
   "cell_type": "code",
   "execution_count": 23,
   "id": "d0ed50c7",
   "metadata": {},
   "outputs": [
    {
     "name": "stdout",
     "output_type": "stream",
     "text": [
      "[2, 4, 6]\n",
      "[1, 3, 5]\n",
      "[2, 4, 6]\n"
     ]
    }
   ],
   "source": [
    "def solve(a):\n",
    "    a = [1, 3, 5]\n",
    "    print(a)\n",
    "a = [2, 4, 6]\n",
    "print(a)\n",
    "solve(a)\n",
    "print(a)"
   ]
  },
  {
   "cell_type": "code",
   "execution_count": 26,
   "id": "ad14d6fa",
   "metadata": {},
   "outputs": [
    {
     "name": "stdout",
     "output_type": "stream",
     "text": [
      "Global\n"
     ]
    }
   ],
   "source": [
    "def func():\n",
    "    global value\n",
    "    value = \"Local\"\n",
    "   \n",
    "value = \"Global\"\n",
    "\n",
    "print(value)\n",
    "func()"
   ]
  },
  {
   "cell_type": "code",
   "execution_count": 40,
   "id": "72163a42",
   "metadata": {},
   "outputs": [
    {
     "name": "stdout",
     "output_type": "stream",
     "text": [
      "1 1 2\n",
      "1\n"
     ]
    }
   ],
   "source": [
    "\n",
    "def fun(A):\n",
    "    for i in A:\n",
    "        if (A.count(i))>(len(A)/2):\n",
    "            return (i)\n",
    "A=list(map(int,input().split()))\n",
    "result=fun(A)\n",
    "print(result)"
   ]
  },
  {
   "cell_type": "code",
   "execution_count": 41,
   "id": "43eb70d6",
   "metadata": {},
   "outputs": [
    {
     "name": "stdout",
     "output_type": "stream",
     "text": [
      "1 1 1 2 2\n",
      "1\n"
     ]
    }
   ],
   "source": [
    "\n",
    "def fun(nums):\n",
    "    count_map = {} \n",
    "\n",
    "    \n",
    "    for num in nums:\n",
    "        if num in count_map:\n",
    "            count_map[num] += 1\n",
    "        else:\n",
    "            count_map[num] = 1\n",
    "\n",
    "    for num, count in count_map.items():\n",
    "        if count > len(nums) // 2:\n",
    "            return num\n",
    "\n",
    "A=list(map(int,input().split()))\n",
    "result=fun(A)\n",
    "print(result)"
   ]
  },
  {
   "cell_type": "code",
   "execution_count": 49,
   "id": "bcd3e13b",
   "metadata": {},
   "outputs": [
    {
     "name": "stdout",
     "output_type": "stream",
     "text": [
      "1 1 2\n"
     ]
    },
    {
     "ename": "AttributeError",
     "evalue": "'Counter' object has no attribute 'mostcommon'",
     "output_type": "error",
     "traceback": [
      "\u001b[1;31m---------------------------------------------------------------------------\u001b[0m",
      "\u001b[1;31mAttributeError\u001b[0m                            Traceback (most recent call last)",
      "Cell \u001b[1;32mIn[49], line 13\u001b[0m\n\u001b[0;32m     11\u001b[0m obj\u001b[38;5;241m=\u001b[39mSolution()\n\u001b[0;32m     12\u001b[0m A\u001b[38;5;241m=\u001b[39m\u001b[38;5;28mlist\u001b[39m(\u001b[38;5;28mmap\u001b[39m(\u001b[38;5;28mint\u001b[39m,\u001b[38;5;28minput\u001b[39m()\u001b[38;5;241m.\u001b[39msplit()))\n\u001b[1;32m---> 13\u001b[0m obj\u001b[38;5;241m.\u001b[39mmajorityElement(A)\n",
      "Cell \u001b[1;32mIn[49], line 8\u001b[0m, in \u001b[0;36mSolution.majorityElement\u001b[1;34m(self, A)\u001b[0m\n\u001b[0;32m      6\u001b[0m \u001b[38;5;28;01mdef\u001b[39;00m \u001b[38;5;21mmajorityElement\u001b[39m(\u001b[38;5;28mself\u001b[39m, A):\n\u001b[0;32m      7\u001b[0m     c \u001b[38;5;241m=\u001b[39m Counter(A)\n\u001b[1;32m----> 8\u001b[0m     m \u001b[38;5;241m=\u001b[39m c\u001b[38;5;241m.\u001b[39mmostcommon(\u001b[38;5;241m2\u001b[39m)[\u001b[38;5;241m0\u001b[39m]\n\u001b[0;32m      9\u001b[0m     \u001b[38;5;28;01mreturn\u001b[39;00m m[\u001b[38;5;241m0\u001b[39m]\n",
      "\u001b[1;31mAttributeError\u001b[0m: 'Counter' object has no attribute 'mostcommon'"
     ]
    }
   ],
   "source": [
    "from collections import Counter\n",
    "\n",
    "class Solution:\n",
    "    # @param A : tuple of integers\n",
    "    # @return an integer\n",
    "    def majorityElement(self, A):\n",
    "        c = Counter(A)\n",
    "        m = c.most_common(1)[0]\n",
    "        return m[0]\n",
    "        \n",
    "obj=Solution()\n",
    "A=list(map(int,input().split()))\n",
    "obj.majorityElement(A)"
   ]
  },
  {
   "cell_type": "code",
   "execution_count": 53,
   "id": "0bdef03e",
   "metadata": {},
   "outputs": [
    {
     "name": "stdout",
     "output_type": "stream",
     "text": [
      "5 2 10\n",
      "8\n"
     ]
    }
   ],
   "source": [
    "class Solution:\n",
    "\n",
    "    def maxProfit(self, A):\n",
    "        profit=0\n",
    "        for i in range(len(A)-1):\n",
    "            if A[i]<A[i+1]:\n",
    "                profit=profit+A[i+1]-A[i]\n",
    "        return profit\n",
    "A=list(map(int,input().split()))\n",
    "obj=Solution()\n",
    "result=obj.maxProfit(A)\n",
    "print(result)               \n"
   ]
  },
  {
   "cell_type": "code",
   "execution_count": 59,
   "id": "7f508268",
   "metadata": {},
   "outputs": [
    {
     "name": "stdout",
     "output_type": "stream",
     "text": [
      "1 3 5 2 8 0 -1 -3\n",
      "120\n"
     ]
    }
   ],
   "source": [
    "class Solution:\n",
    "    # @param A : list of integers\n",
    "    # @return an integer\n",
    "    def maxp3(self, A):\n",
    "        \n",
    "        N=len(A)\n",
    "        for i in sorted(A):\n",
    "            A.sort()\n",
    "            product=(A[-1])*(A[-2])*(A[-3])\n",
    "       \n",
    "        \n",
    "           \n",
    "        return product    \n",
    "A=list(map(int,input().split()))\n",
    "obj=Solution()\n",
    "result=obj.maxp3(A)\n",
    "print(result)               \n"
   ]
  },
  {
   "cell_type": "code",
   "execution_count": 62,
   "id": "e1117a19",
   "metadata": {},
   "outputs": [
    {
     "name": "stdout",
     "output_type": "stream",
     "text": [
      "-80\n",
      "-70\n",
      "5\n",
      "5\n",
      "5\n",
      "[-80, -70, 5, 5, 5]\n"
     ]
    }
   ],
   "source": [
    "A = [ 5, 5, 5, -70,-80]\n",
    "for i in sorted(A):\n",
    "     print(i)       \n",
    "            \n",
    "b=sorted(A)\n",
    "print(b)"
   ]
  },
  {
   "cell_type": "code",
   "execution_count": 65,
   "id": "ed652148",
   "metadata": {},
   "outputs": [
    {
     "name": "stdout",
     "output_type": "stream",
     "text": [
      "[-80, -70, 5, 5, 5]\n"
     ]
    }
   ],
   "source": [
    "result=[arr for arr in sorted(A) ]\n",
    "print(result)"
   ]
  },
  {
   "cell_type": "code",
   "execution_count": 71,
   "id": "b373c481",
   "metadata": {},
   "outputs": [
    {
     "name": "stdout",
     "output_type": "stream",
     "text": [
      "[1, 2]\n"
     ]
    }
   ],
   "source": [
    "def subUnsort( A):\n",
    "    B=A    \n",
    "    if B==A.sort():\n",
    "        re=[-1]\n",
    "        return re\n",
    "    else:\n",
    "        result=[arr for arr in sorted(A) ]\n",
    "        arr1=result[:2]\n",
    "        return arr1    \n",
    "obj=subUnsort([1,2,3,4,5,6])    \n",
    "print(obj)"
   ]
  },
  {
   "cell_type": "code",
   "execution_count": 1,
   "id": "7296e7db",
   "metadata": {},
   "outputs": [
    {
     "name": "stdout",
     "output_type": "stream",
     "text": [
      "5 9\n"
     ]
    }
   ],
   "source": [
    "a=9\n",
    "b=5\n",
    "c=a+b\n",
    "a=c-a\n",
    "b=c-b\n",
    "print(a,b)"
   ]
  },
  {
   "cell_type": "code",
   "execution_count": 4,
   "id": "8326f989",
   "metadata": {},
   "outputs": [
    {
     "name": "stdout",
     "output_type": "stream",
     "text": [
      "3\n"
     ]
    }
   ],
   "source": [
    "import random\n",
    "a=random.randint(1,10)\n",
    "print(a)"
   ]
  },
  {
   "cell_type": "code",
   "execution_count": 6,
   "id": "f3c2820b",
   "metadata": {},
   "outputs": [
    {
     "name": "stdout",
     "output_type": "stream",
     "text": [
      "enter distance in kilometer100\n",
      "62.137100000000004\n"
     ]
    }
   ],
   "source": [
    "a=float(input(\"enter distance in kilometer\"))\n",
    "print(a*0.621371)"
   ]
  },
  {
   "cell_type": "code",
   "execution_count": 7,
   "id": "63681ae2",
   "metadata": {},
   "outputs": [
    {
     "name": "stdout",
     "output_type": "stream",
     "text": [
      "enter temperature in celcius37\n",
      "98.6\n"
     ]
    }
   ],
   "source": [
    "celcius=float(input(\"enter temperature in celcius\"))\n",
    "faren=(celcius*9/5)+32\n",
    "print(faren)"
   ]
  },
  {
   "cell_type": "code",
   "execution_count": 8,
   "id": "ea86595b",
   "metadata": {},
   "outputs": [
    {
     "name": "stdout",
     "output_type": "stream",
     "text": [
      "enter year2020\n",
      "enter month12\n",
      "   December 2020\n",
      "Mo Tu We Th Fr Sa Su\n",
      "    1  2  3  4  5  6\n",
      " 7  8  9 10 11 12 13\n",
      "14 15 16 17 18 19 20\n",
      "21 22 23 24 25 26 27\n",
      "28 29 30 31\n",
      "\n"
     ]
    }
   ],
   "source": [
    "import calendar\n",
    "year =int(input(\"enter year\"))\n",
    "month=int(input(\"enter month\"))\n",
    "cal=calendar.month(year,month)\n",
    "print(cal)"
   ]
  },
  {
   "cell_type": "code",
   "execution_count": 9,
   "id": "2d73aed7",
   "metadata": {},
   "outputs": [
    {
     "name": "stdout",
     "output_type": "stream",
     "text": [
      "5 9\n"
     ]
    }
   ],
   "source": [
    "a=9\n",
    "b=5\n",
    "a=a+b\n",
    "b=a-b\n",
    "a=a-b\n",
    "print(a,b)"
   ]
  },
  {
   "cell_type": "code",
   "execution_count": 16,
   "id": "5aec93b9",
   "metadata": {},
   "outputs": [
    {
     "name": "stdout",
     "output_type": "stream",
     "text": [
      "enter any number2\n",
      "number is prime\n"
     ]
    }
   ],
   "source": [
    "n=int(input(\"enter any number\"))\n",
    "flag=False\n",
    "for i in range(2,n):\n",
    "    if n%i==0:\n",
    "        flag=True\n",
    "        break\n",
    "\n",
    "if flag:\n",
    "    print(\"number is not prime\")\n",
    "else:\n",
    "    print(\"number is prime\")\n",
    "    "
   ]
  },
  {
   "cell_type": "code",
   "execution_count": 21,
   "id": "7407c6b0",
   "metadata": {},
   "outputs": [
    {
     "name": "stdout",
     "output_type": "stream",
     "text": [
      "enter any number10\n",
      "2\n",
      "3\n",
      "5\n",
      "7\n"
     ]
    }
   ],
   "source": [
    "n=int(input(\"enter any number\"))\n",
    "for num in range(1,n+1):\n",
    "    if num>1:\n",
    "        for i in range(2,num):\n",
    "            if num%i==0:\n",
    "                break\n",
    "        else:\n",
    "            print(num)"
   ]
  },
  {
   "cell_type": "code",
   "execution_count": 22,
   "id": "b7134538",
   "metadata": {},
   "outputs": [
    {
     "name": "stdout",
     "output_type": "stream",
     "text": [
      "10\n",
      "3628800\n"
     ]
    }
   ],
   "source": [
    "import math\n",
    "num=int(input())\n",
    "result=math.factorial(num)\n",
    "print(result)"
   ]
  },
  {
   "cell_type": "code",
   "execution_count": 25,
   "id": "77b995bb",
   "metadata": {},
   "outputs": [
    {
     "name": "stdout",
     "output_type": "stream",
     "text": [
      "number of fibonacci series 10\n",
      "0\n",
      "1\n",
      "1\n",
      "2\n",
      "3\n",
      "5\n",
      "8\n",
      "13\n",
      "21\n",
      "34\n"
     ]
    }
   ],
   "source": [
    "num=int(input(\"number of fibonacci series \"))\n",
    "n1,n2=0,1\n",
    "for i in range(num):\n",
    "    print(n1)\n",
    "    c=n1+n2\n",
    "    n1=n2\n",
    "    n2=c\n",
    "    \n"
   ]
  },
  {
   "cell_type": "code",
   "execution_count": 29,
   "id": "1cd00f32",
   "metadata": {},
   "outputs": [
    {
     "name": "stdout",
     "output_type": "stream",
     "text": [
      "enter a number 9474\n",
      "number is armstrong\n"
     ]
    }
   ],
   "source": [
    "num=(input(\"enter a number \"))\n",
    "p=len(num)\n",
    "num=int(num)\n",
    "num1=num\n",
    "sum1=0\n",
    "for i in range(p):\n",
    "    temp=num%10\n",
    "    sum1=sum1+temp**p\n",
    "    num=num//10\n",
    "if sum1==num1:\n",
    "    print(\"number is armstrong\")\n",
    "else:\n",
    "    print(\"number is not armstrong\")\n",
    "\n",
    "    "
   ]
  },
  {
   "cell_type": "code",
   "execution_count": 38,
   "id": "4851f7dc",
   "metadata": {},
   "outputs": [
    {
     "name": "stdout",
     "output_type": "stream",
     "text": [
      "intervals for armstrong1000\n",
      "153\n",
      "370\n",
      "371\n",
      "407\n"
     ]
    }
   ],
   "source": [
    "n=int(input(\"intervals for armstrong\"))\n",
    "\n",
    "for num in range(10,n+1):\n",
    "    p=len(str(num))\n",
    "    temp_num=num\n",
    "    sum1=0\n",
    "    \n",
    "    while temp_num > 0:\n",
    "        temp=temp_num % 10\n",
    "        sum1=sum1 + temp ** p\n",
    "        temp_num//=10\n",
    "        \n",
    "    if sum1==num:\n",
    "        print(num)\n",
    "\n",
    "    "
   ]
  },
  {
   "cell_type": "code",
   "execution_count": 40,
   "id": "d36233ef",
   "metadata": {},
   "outputs": [
    {
     "name": "stdout",
     "output_type": "stream",
     "text": [
      "1000\n",
      "153\n",
      "370\n",
      "371\n",
      "407\n"
     ]
    }
   ],
   "source": [
    "n=int(input())\n",
    "for num in range(10,n+1):\n",
    "    p=len(str(num))\n",
    "    temp_num=num\n",
    "    sum1=0\n",
    "    while temp_num>0:\n",
    "        temp=temp_num%10\n",
    "        sum1=sum1+temp**p\n",
    "        temp_num//=10\n",
    "    if num==sum1:\n",
    "        print(num)\n",
    "    "
   ]
  },
  {
   "cell_type": "code",
   "execution_count": 47,
   "id": "c8120d7d",
   "metadata": {},
   "outputs": [
    {
     "name": "stdout",
     "output_type": "stream",
     "text": [
      "54\n",
      "24\n",
      "216\n"
     ]
    }
   ],
   "source": [
    "def lcm(x,y):\n",
    "    if x>y:\n",
    "        greater=x\n",
    "    else:\n",
    "        greater=y\n",
    "    while((True)):\n",
    "        if greater%x==0 and greater%y==0:\n",
    "            result=greater\n",
    "            break\n",
    "        greater+=1\n",
    "    return result\n",
    "num1=int(input())\n",
    "num2=int(input())\n",
    "x=lcm(num1,num2)\n",
    "print(x)"
   ]
  },
  {
   "cell_type": "code",
   "execution_count": 48,
   "id": "073724c4",
   "metadata": {},
   "outputs": [
    {
     "name": "stdout",
     "output_type": "stream",
     "text": [
      "6\n"
     ]
    }
   ],
   "source": [
    "def recursive(a,b):\n",
    "    return b if a==0 else recursive(b%a,a)\n",
    "x=recursive(54,24)\n",
    "print(x)"
   ]
  },
  {
   "cell_type": "code",
   "execution_count": 49,
   "id": "a903a720",
   "metadata": {},
   "outputs": [
    {
     "name": "stdout",
     "output_type": "stream",
     "text": [
      "7\n",
      "784\n"
     ]
    }
   ],
   "source": [
    "num=int(input())\n",
    "sum=0\n",
    "for i in range(1,num+1):\n",
    "    sum=sum+i**3\n",
    "print(sum)    \n",
    "    \n",
    "    "
   ]
  },
  {
   "cell_type": "code",
   "execution_count": 50,
   "id": "c2e4b2d1",
   "metadata": {},
   "outputs": [
    {
     "name": "stdout",
     "output_type": "stream",
     "text": [
      "21\n"
     ]
    }
   ],
   "source": [
    "arr=[1,2,3,4,5,]\n",
    "sum=0\n",
    "for i in arr:\n",
    "    sum=sum+i\n",
    "print(sum)    "
   ]
  },
  {
   "cell_type": "code",
   "execution_count": 52,
   "id": "e224ff2b",
   "metadata": {},
   "outputs": [
    {
     "name": "stdout",
     "output_type": "stream",
     "text": [
      "1 2 3 4 5\n",
      "15\n"
     ]
    }
   ],
   "source": [
    "def sum1(arr):\n",
    "    sum=0\n",
    "    for i in arr:\n",
    "        sum=sum+i\n",
    "    return sum\n",
    "arr=list(map(int,input().split()))\n",
    "x=sum1(arr)\n",
    "print(x)"
   ]
  },
  {
   "cell_type": "code",
   "execution_count": 54,
   "id": "cdd4a960",
   "metadata": {},
   "outputs": [
    {
     "name": "stdout",
     "output_type": "stream",
     "text": [
      "80\n"
     ]
    }
   ],
   "source": [
    "arr=[10,20,30,80,50,60]\n",
    "max1=arr[0]\n",
    "for i in range(len(arr)):\n",
    "    if arr[i]>max1:\n",
    "        max1=arr[i]\n",
    "print(max1)        \n",
    "        "
   ]
  },
  {
   "cell_type": "code",
   "execution_count": 68,
   "id": "2929f1b0",
   "metadata": {},
   "outputs": [
    {
     "name": "stdout",
     "output_type": "stream",
     "text": [
      "[3, 4, 5, 1, 2]\n"
     ]
    }
   ],
   "source": [
    "def rotate_arr(arr,d):\n",
    "    n=len(arr)\n",
    "    temp=[]\n",
    "    for i in range(d):\n",
    "        temp.append(arr[i])\n",
    "    for i in range(n-d):\n",
    "        arr[i]=arr[d+i]\n",
    "    arr[:]=arr[:i+1]+temp\n",
    "    return arr\n",
    "arr=[1,2,3,4,5]\n",
    "d=2\n",
    "x=rotate_arr(arr,d)\n",
    "print(x)\n",
    "        "
   ]
  },
  {
   "cell_type": "code",
   "execution_count": 76,
   "id": "e6e4fd68",
   "metadata": {},
   "outputs": [
    {
     "name": "stdout",
     "output_type": "stream",
     "text": [
      "[1, 2]\n",
      "[3, 4, 5, 6, 1, 2]\n"
     ]
    }
   ],
   "source": [
    "arr=[1,2,3,4,5,6]\n",
    "n=len(arr)\n",
    "d=2\n",
    "temp=[]\n",
    "for i in range(d):\n",
    "    temp.append(arr[i])\n",
    "for i in range(n-d):\n",
    "    arr[i]=arr[d+i]\n",
    "    \n",
    "arr[:]=arr[:i+1]+temp    \n",
    "print(temp)    \n",
    "print(arr)    "
   ]
  },
  {
   "cell_type": "code",
   "execution_count": 3,
   "id": "2d5460f7",
   "metadata": {},
   "outputs": [
    {
     "name": "stdout",
     "output_type": "stream",
     "text": [
      "enter any stringwelcome to chitkara\n",
      "emoclew ot araktihc\n"
     ]
    }
   ],
   "source": [
    "#35 questions completed#\n",
    "def reverse(n):\n",
    "    words=n.split()\n",
    "    result=[word[::-1] for word in words ]\n",
    "    return result\n",
    "n=input(\"enter any string\") \n",
    "arr=reverse(n)\n",
    "print((\" \").join(arr))"
   ]
  },
  {
   "cell_type": "code",
   "execution_count": 13,
   "id": "655afc80",
   "metadata": {},
   "outputs": [
    {
     "name": "stdout",
     "output_type": "stream",
     "text": [
      " 161 182 161 154 176 170 167 171 170 174\n",
      "169\n"
     ]
    }
   ],
   "source": [
    "def average(arr):\n",
    "    sum1 =sum(set(arr))\n",
    "    n=len(set(arr))\n",
    "    result=sum1/n\n",
    "    return round(result)\n",
    "\n",
    "arr=list(map(int,input().split()))\n",
    "\n",
    "\n",
    "new=average(arr)\n",
    "print(new)\n",
    "    "
   ]
  },
  {
   "cell_type": "code",
   "execution_count": 17,
   "id": "e8d87af2",
   "metadata": {},
   "outputs": [
    {
     "name": "stdout",
     "output_type": "stream",
     "text": [
      "enter any stringwelcometo computer engineering \n",
      "3\n",
      "cpi\n"
     ]
    }
   ],
   "source": [
    "N=input(\"enter any string\")\n",
    "index=int(input())\n",
    "words =N.split()\n",
    "result=[word[index] for word in words]\n",
    "print((\"\").join(result))"
   ]
  },
  {
   "cell_type": "code",
   "execution_count": 21,
   "id": "b5b565d7",
   "metadata": {},
   "outputs": [
    {
     "name": "stdout",
     "output_type": "stream",
     "text": [
      "5 10 100 1000\n",
      "1 2 500 2000\n",
      "1 2 5 10 100 500 1000 2000 \n",
      "3618\n"
     ]
    }
   ],
   "source": [
    "def currency(m,n):\n",
    "    m=set(m)\n",
    "    n=set(n)\n",
    "    p=m.symmetric_difference(n)\n",
    "    for i in sorted (p):\n",
    "        print(i,end=\" \")\n",
    "    print()    \n",
    "    print(sum(p))\n",
    "m=list(map(int,input().split()))\n",
    "n=list(map(int,input().split()))\n",
    "re=currency(m,n)\n"
   ]
  },
  {
   "cell_type": "code",
   "execution_count": 53,
   "id": "c8b687ca",
   "metadata": {},
   "outputs": [
    {
     "name": "stdout",
     "output_type": "stream",
     "text": [
      "heeelllo\n",
      "he3l3o"
     ]
    }
   ],
   "source": [
    "string=input()\n",
    "result={key:(string.count(key)) for key in string}\n",
    "li=[]\n",
    "for i ,j in result.items():\n",
    "    li.append(i)\n",
    "    li.append(j)\n",
    "for z in li:\n",
    "    if z==1:\n",
    "        li.remove(1)\n",
    "for k in li:\n",
    "    print(k,end=\"\")\n"
   ]
  },
  {
   "cell_type": "code",
   "execution_count": 64,
   "id": "1b7cc641",
   "metadata": {},
   "outputs": [
    {
     "name": "stdout",
     "output_type": "stream",
     "text": [
      "1\n",
      "1 2 3 4 5\n",
      "[['1', '2', '3', '4', '5']]\n"
     ]
    }
   ],
   "source": [
    "n=int(input())\n",
    "li=list(map(int,input().split()))\n",
    "new_li=[]\n",
    "for i in li:\n",
    "    new_li.append(str(i))\n",
    "    \n",
    "result=[(new_li[i::n]) for i in range(n)]\n",
    "print(result)"
   ]
  },
  {
   "cell_type": "code",
   "execution_count": 73,
   "id": "b6dde422",
   "metadata": {},
   "outputs": [
    {
     "name": "stdout",
     "output_type": "stream",
     "text": [
      "2\n",
      "01\n",
      "12\n"
     ]
    }
   ],
   "source": [
    "n=int(input())\n",
    "for i in range(n):\n",
    "    for j in range(n):\n",
    "        if (i+j==n-1):\n",
    "            print(1,end=\"\")\n",
    "        elif(i+j<(n-1)):\n",
    "            print(0,end=\"\")\n",
    "        else:\n",
    "            print(2,end=\"\")\n",
    "    \n",
    "   \n",
    "    print()        "
   ]
  },
  {
   "cell_type": "code",
   "execution_count": null,
   "id": "739eea7d",
   "metadata": {},
   "outputs": [],
   "source": [
    "n=int(input())\n",
    "li=[]\n",
    "x=[]\n",
    "for i in range(n):\n",
    "    str1=input()\n",
    "    \n",
    "    li.append(str1)\n",
    "for i in li:\n",
    "    x.append(len(i))\n",
    "for i in x:\n",
    "    print(i)\n",
    "    \n",
    "max1=max(x)   \n",
    "new_li=[]\n",
    "for i in li:\n",
    "    if max1==len(i):\n",
    "        new_li.append(i)\n",
    "  \n",
    "res=(\" \").join(new_li)        \n",
    "print(res)        \n",
    "        \n"
   ]
  },
  {
   "cell_type": "code",
   "execution_count": 2,
   "id": "d1a9f3a4",
   "metadata": {},
   "outputs": [
    {
     "name": "stdout",
     "output_type": "stream",
     "text": [
      "0000000banana0000000\n"
     ]
    }
   ],
   "source": [
    "x=\"banana\"\n",
    "txt=x.center(20,\"0\")\n",
    "print(txt)"
   ]
  },
  {
   "cell_type": "code",
   "execution_count": 3,
   "id": "1aafa998",
   "metadata": {},
   "outputs": [
    {
     "name": "stdout",
     "output_type": "stream",
     "text": [
      "1\n"
     ]
    }
   ],
   "source": [
    "txt = \"I love apples, apple are my favorite fruit\"\n",
    "x = txt.count(\"apple\", 10, 24)\n",
    "print(x)"
   ]
  },
  {
   "cell_type": "code",
   "execution_count": 4,
   "id": "534b4047",
   "metadata": {},
   "outputs": [
    {
     "name": "stdout",
     "output_type": "stream",
     "text": [
      "b'My name is St\\xc3\\xa5le'\n"
     ]
    }
   ],
   "source": [
    "txt = \"My name is Ståle\"\n",
    "x = txt.encode()\n",
    "print(x)"
   ]
  },
  {
   "cell_type": "code",
   "execution_count": 6,
   "id": "d1dc41df",
   "metadata": {},
   "outputs": [
    {
     "name": "stdout",
     "output_type": "stream",
     "text": [
      "1\n",
      "1\n"
     ]
    }
   ],
   "source": [
    "txt = \"Hello, welcome to my world.\"\n",
    "print(txt.find(\"e\"))\n",
    "print(txt.index(\"e\"))"
   ]
  },
  {
   "cell_type": "code",
   "execution_count": 9,
   "id": "b256ca9e",
   "metadata": {},
   "outputs": [
    {
     "name": "stdout",
     "output_type": "stream",
     "text": [
      "ram last name is Sharma\n"
     ]
    }
   ],
   "source": [
    "a={'x':'ram', 'y':'Sharma'}\n",
    "g=\"{x} last name is {y}\"\n",
    "print(g.format_map(a))"
   ]
  },
  {
   "cell_type": "code",
   "execution_count": 10,
   "id": "dba986d3",
   "metadata": {},
   "outputs": [
    {
     "name": "stdout",
     "output_type": "stream",
     "text": [
      "8\n"
     ]
    }
   ],
   "source": [
    "txt = \"Hello, welcome to my world.\"\n",
    "x = txt.index(\"e\", 5, 10)\n",
    "print(x)"
   ]
  },
  {
   "cell_type": "code",
   "execution_count": 18,
   "id": "2d24088a",
   "metadata": {},
   "outputs": [
    {
     "name": "stdout",
     "output_type": "stream",
     "text": [
      "False\n"
     ]
    }
   ],
   "source": [
    "txt = \"12\"\n",
    "x = txt.isalnum()\n",
    "print(x)"
   ]
  },
  {
   "cell_type": "code",
   "execution_count": 20,
   "id": "82b54b00",
   "metadata": {},
   "outputs": [
    {
     "name": "stdout",
     "output_type": "stream",
     "text": [
      "False\n"
     ]
    }
   ],
   "source": [
    "txt = \"CompanyX\"\n",
    "x = txt.isalpha()\n",
    "print(x)\n"
   ]
  },
  {
   "cell_type": "code",
   "execution_count": 24,
   "id": "e83a9ba8",
   "metadata": {},
   "outputs": [
    {
     "name": "stdout",
     "output_type": "stream",
     "text": [
      "True\n"
     ]
    }
   ],
   "source": [
    "txt = \"Company(123\"\n",
    "x = txt.isascii()\n",
    "print(x)"
   ]
  },
  {
   "cell_type": "code",
   "execution_count": 33,
   "id": "2945e594",
   "metadata": {},
   "outputs": [
    {
     "name": "stdout",
     "output_type": "stream",
     "text": [
      "False\n"
     ]
    }
   ],
   "source": [
    "txt = \"12345\"\n",
    "x = txt.isdigit()\n",
    "print(x)"
   ]
  },
  {
   "cell_type": "code",
   "execution_count": 37,
   "id": "7a5b2b85",
   "metadata": {},
   "outputs": [
    {
     "name": "stdout",
     "output_type": "stream",
     "text": [
      "True\n"
     ]
    }
   ],
   "source": [
    "x=\"demo\"\n",
    "txt=x.isidentifier()\n",
    "print(txt)"
   ]
  },
  {
   "cell_type": "code",
   "execution_count": 39,
   "id": "7081f53f",
   "metadata": {},
   "outputs": [
    {
     "name": "stdout",
     "output_type": "stream",
     "text": [
      "True\n"
     ]
    }
   ],
   "source": [
    "txt = \"Hello! Are you #1,,,...///?\"\n",
    "x = txt.isprintable()\n",
    "print(x)"
   ]
  },
  {
   "cell_type": "code",
   "execution_count": 40,
   "id": "041d4000",
   "metadata": {},
   "outputs": [
    {
     "name": "stdout",
     "output_type": "stream",
     "text": [
      "Hello Pam!\n"
     ]
    }
   ],
   "source": [
    "txt = \"Hello Sam!\"\n",
    "mytable = str.maketrans(\"S\", \"P\")\n",
    "print(txt.translate(mytable))\n"
   ]
  },
  {
   "cell_type": "code",
   "execution_count": 43,
   "id": "c23f3471",
   "metadata": {},
   "outputs": [
    {
     "name": "stdout",
     "output_type": "stream",
     "text": [
      "('I ', 'could', ' eat bananas all day')\n"
     ]
    }
   ],
   "source": [
    "txt = \"I could eat bananas all day\"\n",
    "x = txt.partition(\"could\")\n",
    "print(x)"
   ]
  },
  {
   "cell_type": "code",
   "execution_count": 45,
   "id": "2caf8a28",
   "metadata": {},
   "outputs": [
    {
     "ename": "AttributeError",
     "evalue": "'str' object has no attribute 'lfind'",
     "output_type": "error",
     "traceback": [
      "\u001b[1;31m---------------------------------------------------------------------------\u001b[0m",
      "\u001b[1;31mAttributeError\u001b[0m                            Traceback (most recent call last)",
      "Cell \u001b[1;32mIn[45], line 2\u001b[0m\n\u001b[0;32m      1\u001b[0m txt \u001b[38;5;241m=\u001b[39m \u001b[38;5;124m\"\u001b[39m\u001b[38;5;124mMi casa, su casa.\u001b[39m\u001b[38;5;124m\"\u001b[39m\n\u001b[1;32m----> 2\u001b[0m x \u001b[38;5;241m=\u001b[39m txt\u001b[38;5;241m.\u001b[39mlfind(\u001b[38;5;124m\"\u001b[39m\u001b[38;5;124mcasa\u001b[39m\u001b[38;5;124m\"\u001b[39m)\n\u001b[0;32m      3\u001b[0m \u001b[38;5;28mprint\u001b[39m(x)\n",
      "\u001b[1;31mAttributeError\u001b[0m: 'str' object has no attribute 'lfind'"
     ]
    }
   ],
   "source": [
    "txt = \"Mi casa, su casa.\"\n",
    "x = txt.lfind(\"casa\")\n",
    "print(x)\n"
   ]
  },
  {
   "cell_type": "code",
   "execution_count": 46,
   "id": "43dc0eaa",
   "metadata": {},
   "outputs": [
    {
     "name": "stdout",
     "output_type": "stream",
     "text": [
      "              banana is my favorite fruit.\n"
     ]
    }
   ],
   "source": [
    "txt = \"banana\"\n",
    "x = txt.rjust(20)\n",
    "print(x, \"is my favorite fruit.\")"
   ]
  },
  {
   "cell_type": "code",
   "execution_count": 50,
   "id": "74b0625d",
   "metadata": {},
   "outputs": [
    {
     "name": "stdout",
     "output_type": "stream",
     "text": [
      "('I could eat ', 'bananas', ' all day, bananas are myfavorite fruit')\n"
     ]
    }
   ],
   "source": [
    "txt = \"I could eat bananas all day, bananas are myfavorite fruit\"\n",
    "x = txt.partition(\"bananas\")\n",
    "print(x)"
   ]
  },
  {
   "cell_type": "code",
   "execution_count": 53,
   "id": "43a36f27",
   "metadata": {},
   "outputs": [
    {
     "name": "stdout",
     "output_type": "stream",
     "text": [
      "['apple,', 'banana,', 'cherry']\n"
     ]
    }
   ],
   "source": [
    "txt = \"apple, banana, cherry\"\n",
    "x = txt.split(\" \")\n",
    "print(x)"
   ]
  },
  {
   "cell_type": "code",
   "execution_count": 59,
   "id": "a78798b7",
   "metadata": {},
   "outputs": [
    {
     "name": "stdout",
     "output_type": "stream",
     "text": [
      "['Thank you for the musi', 'cWelcome to the\\tjungle']\n"
     ]
    }
   ],
   "source": [
    "txt = \"Thank you for the musi\\ncWelcome to thejungle\"\n",
    "x = txt.splitlines()\n",
    "print(x)"
   ]
  },
  {
   "cell_type": "code",
   "execution_count": 64,
   "id": "2b291a4a",
   "metadata": {},
   "outputs": [
    {
     "name": "stdout",
     "output_type": "stream",
     "text": [
      "Hi uuu!\n"
     ]
    }
   ],
   "source": [
    "txt = \"Hi Sam!\"\n",
    "x = \"mSa\"\n",
    "\n",
    "z=\"uuu\"\n",
    "y = \"eJo\"\n",
    "mytable = str.maketrans(x, z,y)\n",
    "print(txt.translate(mytable))"
   ]
  },
  {
   "cell_type": "code",
   "execution_count": 71,
   "id": "881aa3ef",
   "metadata": {},
   "outputs": [
    {
     "name": "stdout",
     "output_type": "stream",
     "text": [
      "00000hello\n",
      "00000000000000welcome to the jungle\n",
      "000010.000\n"
     ]
    }
   ],
   "source": [
    "a = \"hello\"\n",
    "b = \"welcome to the jungle\"\n",
    "c = \"10.000\"\n",
    "print(a.zfill(10))\n",
    "print(b.zfill(35))\n",
    "print(c.zfill(10))"
   ]
  },
  {
   "cell_type": "code",
   "execution_count": 90,
   "id": "12ebbb04",
   "metadata": {},
   "outputs": [
    {
     "name": "stdout",
     "output_type": "stream",
     "text": [
      "True\n"
     ]
    }
   ],
   "source": [
    "x=\"hello\"\n",
    "txt=x.capitalize()\n",
    "txt=x.title()\n",
    "txt=x.upper()\n",
    "txt=x.lower()\n",
    "txt=x.isupper()\n",
    "txt=x.islower()\n",
    "txt=x.isnumeric()\n",
    "txt=x.isdigit()\n",
    "txt=x.partition(\"hello\")## returns a tuple of 3 element\n",
    "txt=x.split()\n",
    "txt=x.strip()\n",
    "txt=x.count('l')\n",
    "txt=x.center(20)\n",
    "txt=x.zfill(20)\n",
    "txt=x.find('2')#if element is not present then it returns -1\n",
    "txt=x.index('e')#it returns an error if not present\n",
    "txt=x.replace('h','e')\n",
    "txt=x.isalnum()\n",
    "txt=x.isalpha()\n",
    "txt=x.endswith('.')\n",
    "txt=x.startswith('h')\n",
    "print(txt)"
   ]
  },
  {
   "cell_type": "code",
   "execution_count": 88,
   "id": "bf80f594",
   "metadata": {},
   "outputs": [
    {
     "name": "stdout",
     "output_type": "stream",
     "text": [
      "hello i am a developer with experience3\n"
     ]
    }
   ],
   "source": [
    "x=\"{a} i am a developer with experience{b}\"\n",
    "y={'a':'hello','b':'3'}\n",
    "txt=x.format_map(y)\n",
    "print(txt)"
   ]
  },
  {
   "cell_type": "code",
   "execution_count": 96,
   "id": "8c829070",
   "metadata": {},
   "outputs": [
    {
     "name": "stdout",
     "output_type": "stream",
     "text": [
      "True\n"
     ]
    }
   ],
   "source": [
    "x=\"hel\"\n",
    "y=\"hello\"\n",
    "print(x in y)"
   ]
  },
  {
   "cell_type": "code",
   "execution_count": 102,
   "id": "96d79bbc",
   "metadata": {},
   "outputs": [
    {
     "name": "stdout",
     "output_type": "stream",
     "text": [
      "red apple red banana red cherry \n",
      "big apple big banana big cherry \n",
      "tasty apple tasty banana tasty cherry \n"
     ]
    }
   ],
   "source": [
    "adj = [\"red\", \"big\", \"tasty\"]\n",
    "fruits = [\"apple\", \"banana\", \"cherry\"]\n",
    "for x in adj:\n",
    "    for y in fruits:\n",
    "        print(x, y,end=\" \")\n",
    "    print()    "
   ]
  },
  {
   "cell_type": "code",
   "execution_count": 105,
   "id": "4025b3fb",
   "metadata": {},
   "outputs": [
    {
     "name": "stdout",
     "output_type": "stream",
     "text": [
      "no\n"
     ]
    }
   ],
   "source": [
    "txt=\"hello122\"\n",
    "print(\"yes it string\") if txt.isalpha() else print(\"is numeric\") if txt.isnumeric() else print(\"no\")"
   ]
  },
  {
   "cell_type": "code",
   "execution_count": 109,
   "id": "2527a6b7",
   "metadata": {},
   "outputs": [
    {
     "name": "stdout",
     "output_type": "stream",
     "text": [
      "consonant\n"
     ]
    }
   ],
   "source": [
    "txt=\"hllr\"\n",
    "flag=False\n",
    "for i in txt:\n",
    "    if i==\"u\" or i==\"i\" or i==\"e\" or i==\"o\" or i==\"v\":\n",
    "        flag=True\n",
    "        \n",
    "if flag:\n",
    "    print(\"vowels\")\n",
    "else:\n",
    "    print(\"consonant\")"
   ]
  },
  {
   "cell_type": "code",
   "execution_count": 112,
   "id": "dcc8a803",
   "metadata": {},
   "outputs": [
    {
     "data": {
      "text/plain": [
       "[10, 20, 30, -40, 50, -100]"
      ]
     },
     "execution_count": 112,
     "metadata": {},
     "output_type": "execute_result"
    }
   ],
   "source": [
    "def sorting(n):\n",
    "    return abs(n)\n",
    "li=[10,20,30,50,-100,-40]\n",
    "li.sort(key=sorting)\n",
    "li"
   ]
  },
  {
   "cell_type": "code",
   "execution_count": 114,
   "id": "b5fc4c25",
   "metadata": {},
   "outputs": [
    {
     "name": "stdout",
     "output_type": "stream",
     "text": [
      "[10, 20, 30, 50, -100, -40]\n"
     ]
    }
   ],
   "source": [
    "li=[10,20,30,50,-100,-40]\n",
    "li1=li.copy()\n",
    "print(li1)"
   ]
  },
  {
   "cell_type": "code",
   "execution_count": 116,
   "id": "c46a0fc0",
   "metadata": {},
   "outputs": [
    {
     "name": "stdout",
     "output_type": "stream",
     "text": [
      "False\n"
     ]
    }
   ],
   "source": [
    "x = {\"apple\", \"banana\", \"cherry\"}\n",
    "y = {\"google\", \"microsoft\", \"facebook\",\"apple\"}\n",
    "z = x.isdisjoint(y)\n",
    "print(z)"
   ]
  },
  {
   "cell_type": "code",
   "execution_count": 118,
   "id": "1ebd3d60",
   "metadata": {},
   "outputs": [
    {
     "name": "stdout",
     "output_type": "stream",
     "text": [
      "False\n"
     ]
    }
   ],
   "source": [
    "x = {\"a\", \"b\", \"c\"}\n",
    "y = {\"f\", \"e\", \"d\", \"b\", \"a\"}\n",
    "z = x.issubset(y)\n",
    "print(z)"
   ]
  },
  {
   "cell_type": "code",
   "execution_count": 123,
   "id": "3b094370",
   "metadata": {},
   "outputs": [
    {
     "name": "stdout",
     "output_type": "stream",
     "text": [
      "3\n",
      "1965\n"
     ]
    }
   ],
   "source": [
    "thisdict = {\n",
    " \"brand\": \"Ford\",\n",
    " \"model\": \"Mustang\",\n",
    " \"year\": 1964,\n",
    " \n",
    "}\n",
    "thisdict[\"year\"]=1965\n",
    "print(len(thisdict))\n",
    "print(thisdict[\"year\"])"
   ]
  },
  {
   "cell_type": "code",
   "execution_count": 127,
   "id": "76acac96",
   "metadata": {},
   "outputs": [
    {
     "name": "stdout",
     "output_type": "stream",
     "text": [
      "{'key1': 1, 'key2': 1, 'key3': 1}\n"
     ]
    }
   ],
   "source": [
    "x = ('key1', 'key2', 'key3')\n",
    "y = 1\n",
    "z=2\n",
    "a=3\n",
    "thisdict = dict.fromkeys(x, y)\n",
    "print(thisdict)"
   ]
  },
  {
   "cell_type": "code",
   "execution_count": 137,
   "id": "8f4aedd4",
   "metadata": {},
   "outputs": [
    {
     "name": "stdout",
     "output_type": "stream",
     "text": [
      "{'brand': 'Ford', 'model': 'Mustang', 'a': 12}\n"
     ]
    }
   ],
   "source": [
    "car = {\n",
    " \"brand\": \"Ford\",\n",
    " \"model\": \"Mustang\",\n",
    " \"year\": 1964\n",
    "}\n",
    "car.update({'a':12})\n",
    "car.pop('year')\n",
    "print(car)\n"
   ]
  },
  {
   "cell_type": "code",
   "execution_count": 133,
   "id": "8c5cd79b",
   "metadata": {},
   "outputs": [
    {
     "data": {
      "text/plain": [
       "[1, 3, 4, 5, 6]"
      ]
     },
     "execution_count": 133,
     "metadata": {},
     "output_type": "execute_result"
    }
   ],
   "source": [
    "li=[1,2,3,4,5,6]\n",
    "del li[1]\n",
    "li"
   ]
  },
  {
   "cell_type": "code",
   "execution_count": 150,
   "id": "27e90f0d",
   "metadata": {},
   "outputs": [
    {
     "name": "stdout",
     "output_type": "stream",
     "text": [
      "\n",
      "\n",
      "Recursion Example Results\n"
     ]
    },
    {
     "data": {
      "text/plain": [
       "21"
      ]
     },
     "execution_count": 150,
     "metadata": {},
     "output_type": "execute_result"
    }
   ],
   "source": [
    "def tri_recursion(k):\n",
    "    if(k > 0):\n",
    "            \n",
    "            result = k + tri_recursion(k - 1)\n",
    "            \n",
    "    else:\n",
    "         result = 0\n",
    "    return result\n",
    "print(\"\\n\\nRecursion Example Results\")\n",
    "tri_recursion(6)"
   ]
  },
  {
   "cell_type": "code",
   "execution_count": 149,
   "id": "e3a2ce39",
   "metadata": {},
   "outputs": [
    {
     "name": "stdout",
     "output_type": "stream",
     "text": [
      "1\n"
     ]
    }
   ],
   "source": [
    "def get_factorial(n):\n",
    "    if n< 2:\n",
    "        return 1\n",
    "    else:\n",
    "        return get_factorial(n-1)\n",
    "    \n",
    "x=get_factorial(4)    \n",
    "print(x)"
   ]
  },
  {
   "cell_type": "code",
   "execution_count": 151,
   "id": "7d7b7cbd",
   "metadata": {},
   "outputs": [
    {
     "ename": "IndentationError",
     "evalue": "expected an indented block after 'if' statement on line 2 (3331002555.py, line 3)",
     "output_type": "error",
     "traceback": [
      "\u001b[1;36m  Cell \u001b[1;32mIn[151], line 3\u001b[1;36m\u001b[0m\n\u001b[1;33m    result = k + tri_recursion(k - 1)\u001b[0m\n\u001b[1;37m    ^\u001b[0m\n\u001b[1;31mIndentationError\u001b[0m\u001b[1;31m:\u001b[0m expected an indented block after 'if' statement on line 2\n"
     ]
    }
   ],
   "source": [
    "def tri_recursion(k):\n",
    " if(k > 0):\n",
    " result = k + tri_recursion(k - 1)\n",
    " print(result)\n",
    " else:\n",
    " result = 0\n",
    " return result\n",
    "print(\"\\n\\nRecursion Example Results\")\n",
    "tri_recursion(6)"
   ]
  },
  {
   "cell_type": "code",
   "execution_count": 160,
   "id": "79d94114",
   "metadata": {},
   "outputs": [
    {
     "name": "stdout",
     "output_type": "stream",
     "text": [
      "244\n",
      "244\n"
     ]
    }
   ],
   "source": [
    "import random\n",
    "random.seed(3)\n",
    "print(random.randint(1,1000))\n",
    "random.seed(3)\n",
    "print(random.randint(1,1000))"
   ]
  },
  {
   "cell_type": "code",
   "execution_count": 162,
   "id": "1f758c99",
   "metadata": {},
   "outputs": [
    {
     "name": "stdout",
     "output_type": "stream",
     "text": [
      "2023-12-19 13:38:12.503920\n"
     ]
    }
   ],
   "source": [
    "import datetime\n",
    "x=datetime.datetime.now()\n",
    "print(x)"
   ]
  },
  {
   "cell_type": "code",
   "execution_count": 163,
   "id": "a86d4aa7",
   "metadata": {},
   "outputs": [
    {
     "name": "stdout",
     "output_type": "stream",
     "text": [
      "Inside Vehicle class\n",
      "Inside Car class\n"
     ]
    }
   ],
   "source": [
    "# Base class\n",
    "class Vehicle:\n",
    "     def Vehicle_info(self):\n",
    "            \n",
    "            print('Inside Vehicle class')\n",
    "# Child class\n",
    "class Car(Vehicle):\n",
    "     def car_info(self):\n",
    "            \n",
    "            \n",
    "            print('Inside Car class')\n",
    "# Create object of Car\n",
    "car = Car()\n",
    "# access Vehicle's info using car object\n",
    "car.Vehicle_info()\n",
    "car.car_info()"
   ]
  },
  {
   "cell_type": "code",
   "execution_count": 178,
   "id": "8766b34f",
   "metadata": {},
   "outputs": [
    {
     "name": "stdout",
     "output_type": "stream",
     "text": [
      "hello i am a developer of python helllllllllllllllllllllllllllllllllllllllllllllllllllllllllllllllllllllllllllllllllllllllllllllllllllll\n"
     ]
    }
   ],
   "source": []
  },
  {
   "cell_type": "code",
   "execution_count": 179,
   "id": "c176963c",
   "metadata": {},
   "outputs": [
    {
     "name": "stdout",
     "output_type": "stream",
     "text": [
      "hello i am a developer of python helllllllllllllllllllllllllllllllllllllllllllllllllllllllllllllllllllllllllllllllllllllllllllllllllllll\n"
     ]
    }
   ],
   "source": [
    "f=open(\"demo\",'r')\n",
    "x=f.read()\n",
    "print(x)"
   ]
  },
  {
   "cell_type": "code",
   "execution_count": 181,
   "id": "4f4c4ab6",
   "metadata": {},
   "outputs": [
    {
     "name": "stdout",
     "output_type": "stream",
     "text": [
      "Welcome To Chitkara\n",
      "emocleW oT araktihC "
     ]
    }
   ],
   "source": [
    "txt=input()\n",
    "words=txt.split()\n",
    "result=[word[::-1] for word in words]\n",
    "for i in result:\n",
    "    print(i,end=\" \")"
   ]
  },
  {
   "cell_type": "code",
   "execution_count": 184,
   "id": "68775970",
   "metadata": {},
   "outputs": [
    {
     "name": "stdout",
     "output_type": "stream",
     "text": [
      "10\n",
      "161 182 161 154 176 170 167 171 170 174\n",
      "169\n"
     ]
    }
   ],
   "source": [
    "N=int(input())\n",
    "txt=list(map(int,input().split()))\n",
    "\n",
    "new_set=set(txt)\n",
    "N1=len(new_set)\n",
    "average=round(sum(new_set)/N1)\n",
    "print(average)"
   ]
  },
  {
   "cell_type": "code",
   "execution_count": 188,
   "id": "594186f4",
   "metadata": {},
   "outputs": [
    {
     "name": "stdout",
     "output_type": "stream",
     "text": [
      "basic python programming **** \n",
      "3\n",
      "ihg*\n"
     ]
    }
   ],
   "source": [
    "txt=input()\n",
    "n=int(input())\n",
    "words=txt.split()\n",
    "li=[]\n",
    "for i in words:\n",
    "    li.append(i[n])\n",
    "result=(\"\").join(li)\n",
    "print(result)\n",
    "    "
   ]
  },
  {
   "cell_type": "code",
   "execution_count": 192,
   "id": "b4e08570",
   "metadata": {},
   "outputs": [
    {
     "name": "stdout",
     "output_type": "stream",
     "text": [
      "1 2 5 10\n",
      "5 10 100 200\n",
      "1 2 100 200 \n",
      "303\n"
     ]
    }
   ],
   "source": [
    "M=list(map(int,input().split()))\n",
    "N=list(map(int,input().split()))\n",
    "M=set(M)\n",
    "N=set(N)\n",
    "new_set=M.symmetric_difference(N)\n",
    "for i in sorted (new_set):\n",
    "    print(i,end=\" \")\n",
    "print()\n",
    "print(sum(new_set))"
   ]
  },
  {
   "cell_type": "code",
   "execution_count": 199,
   "id": "16df291c",
   "metadata": {},
   "outputs": [
    {
     "name": "stdout",
     "output_type": "stream",
     "text": [
      "Raaakkkkeeeeeeeesssssssssh\n",
      "Ra3k4e8s9h"
     ]
    }
   ],
   "source": [
    "txt=input()\n",
    "res={key:(txt.count(key)) for key in txt}\n",
    "li=[]\n",
    "for key,value in res.items():\n",
    "    li.append(key)\n",
    "    li.append(value)\n",
    "for i in li:\n",
    "    if i==1:\n",
    "        li.remove((i))\n",
    "for i in li:\n",
    "    print(i,end=\"\")"
   ]
  },
  {
   "cell_type": "code",
   "execution_count": 205,
   "id": "865ba471",
   "metadata": {},
   "outputs": [
    {
     "name": "stdout",
     "output_type": "stream",
     "text": [
      "4\n",
      "4 5 6 7 8 9 1 2 3 4 5 6 6\n",
      "[['4', '8', '3', '6'], ['5', '9', '4'], ['6', '1', '5'], ['7', '2', '6']]\n"
     ]
    }
   ],
   "source": [
    "index=int(input())\n",
    "li=list(map(int,input().split()))\n",
    "li1=[]\n",
    "for i in li:\n",
    "    li1.append(str(i))\n",
    "    \n",
    "res=[li1[i::index] for i in range(index)]\n",
    "print(res)"
   ]
  },
  {
   "cell_type": "code",
   "execution_count": 209,
   "id": "1f92df5d",
   "metadata": {},
   "outputs": [
    {
     "name": "stdout",
     "output_type": "stream",
     "text": [
      "5\n",
      "0 0 0 0 1 \n",
      "0 0 0 1 2 \n",
      "0 0 1 2 2 \n",
      "0 1 2 2 2 \n",
      "1 2 2 2 2 \n"
     ]
    }
   ],
   "source": [
    "n=int(input())\n",
    "for i in range(n):\n",
    "    for j in range(n):\n",
    "        if i+j<n-1:\n",
    "            print('0',end=\" \")\n",
    "        elif i+j==n-1:\n",
    "            print('1',end=\" \")\n",
    "        else:\n",
    "            print('2',end=\" \")\n",
    "    print()\n",
    "    "
   ]
  },
  {
   "cell_type": "code",
   "execution_count": 217,
   "id": "07156055",
   "metadata": {},
   "outputs": [
    {
     "name": "stdout",
     "output_type": "stream",
     "text": [
      "3\n",
      "porsche\n",
      "volvo\n",
      "bent\n",
      "7\n",
      "5\n",
      "4\n",
      "porsche\n"
     ]
    }
   ],
   "source": [
    "n=int(input())\n",
    "li=[]\n",
    "for i in range(n):\n",
    "    var=input()\n",
    "    li.append(var)\n",
    "leng=[]    \n",
    "for i in li:\n",
    "    leng.append(len(i))\n",
    "    print(len(i))\n",
    "ma=max(leng)\n",
    "res=[]\n",
    "for i in li:\n",
    "    if ma==len(i):\n",
    "        res.append(i)\n",
    "    else:\n",
    "        re.append(i)\n",
    "print((\" \").join(res))        \n",
    "\n",
    "                    \n",
    "    "
   ]
  },
  {
   "cell_type": "code",
   "execution_count": 220,
   "id": "a4b1ba8d",
   "metadata": {},
   "outputs": [
    {
     "name": "stdout",
     "output_type": "stream",
     "text": [
      "5080\n",
      "number of five hundred notes: 10\n",
      "number of fifty notes: 1\n",
      "number of ten notes: 3\n"
     ]
    }
   ],
   "source": [
    "n=int(input())\n",
    "if n%100==0 or n%10==0:\n",
    "    five=n//500\n",
    "    fifty=(n%500)//50\n",
    "    ten=(n%50)//10\n",
    "print(\"number of five hundred notes:\",five)\n",
    "print(\"number of fifty notes:\",fifty)\n",
    "print(\"number of ten notes:\",ten)"
   ]
  },
  {
   "cell_type": "code",
   "execution_count": 223,
   "id": "81360d1d",
   "metadata": {},
   "outputs": [
    {
     "name": "stdout",
     "output_type": "stream",
     "text": [
      "1\n",
      "2\n",
      "3\n",
      "[123, 132, 213, 231, 312, 321]\n",
      "321\n",
      "123\n"
     ]
    }
   ],
   "source": [
    "n=int(input())\n",
    "m=int(input())\n",
    "a=int(input())\n",
    "li=[]\n",
    "string=\"\"\n",
    "res=[]\n",
    "li.append(n)\n",
    "li.append(m)\n",
    "li.append(a)\n",
    "for i in li:\n",
    "    for j in li:\n",
    "        for k in li:\n",
    "            if i==j or j==k or k==i:\n",
    "                pass\n",
    "            else:\n",
    "                st=string+str(i)\n",
    "                st=st+str(j)\n",
    "                st=st+str(k)\n",
    "                res.append(int(st))\n",
    "                \n",
    "print(res)\n",
    "print(res[-1])\n",
    "print(res[0])"
   ]
  },
  {
   "cell_type": "code",
   "execution_count": 227,
   "id": "7316fba4",
   "metadata": {},
   "outputs": [
    {
     "name": "stdout",
     "output_type": "stream",
     "text": [
      "123\n",
      "herish\n",
      "85\n",
      "85\n",
      "85\n",
      "85\n",
      "85\n",
      "pass\n",
      "123 herish 85.0 5\n"
     ]
    }
   ],
   "source": [
    "roll=int(input())\n",
    "name=input()\n",
    "marks=[]\n",
    "for i in range(5):\n",
    "    num=int(input())\n",
    "    marks.append(num)\n",
    "per=round((sum(marks)/500)*100 ,2)\n",
    "count=0\n",
    "for i in marks:\n",
    "    if i>50:\n",
    "        count+=1\n",
    "if count>4:\n",
    "    print(\"pass\")\n",
    "elif count<=3:\n",
    "    print(\"compartment\")\n",
    "else:\n",
    "    print(\"Fail\")\n",
    "print(roll,name,per,count)    \n",
    "    "
   ]
  },
  {
   "cell_type": "code",
   "execution_count": 228,
   "id": "c4c14ac7",
   "metadata": {},
   "outputs": [
    {
     "name": "stdout",
     "output_type": "stream",
     "text": [
      "3\n",
      "volvo\n",
      "porsche\n",
      "Bentley\n",
      "5\n",
      "7\n",
      "7\n",
      "porscheBentley\n"
     ]
    }
   ],
   "source": [
    "n=int(input())\n",
    "li=[]\n",
    "for i in range(n):\n",
    "    txt=input()\n",
    "    li.append(txt)\n",
    "length=[]\n",
    "for i in li:\n",
    "    length.append(len(i))\n",
    "    print(len(i))\n",
    "ma=max(length)\n",
    "res=[]\n",
    "for i in li:\n",
    "    if ma==len(i):\n",
    "        res.append(i)\n",
    "        \n",
    "result=(\" \").join(res)\n",
    "print(result)"
   ]
  },
  {
   "cell_type": "code",
   "execution_count": 239,
   "id": "bdae051b",
   "metadata": {},
   "outputs": [
    {
     "name": "stdout",
     "output_type": "stream",
     "text": [
      "3 2 1\n",
      "True\n"
     ]
    }
   ],
   "source": [
    "def monotonic(arr1):\n",
    "    increase=decrease=True\n",
    "    for i in range(1,len(arr1)):\n",
    "        if arr1[i]>arr1[i-1]:\n",
    "            decrease=False\n",
    "        elif arr1[i]<arr1[i-1]:\n",
    "            increase=False\n",
    "    return increase or decrease\n",
    "arr1=list(map(int,input().split()))\n",
    "x=monotonic(arr1)\n",
    "print(x)"
   ]
  },
  {
   "cell_type": "code",
   "execution_count": 244,
   "id": "dfd19051",
   "metadata": {},
   "outputs": [
    {
     "name": "stdout",
     "output_type": "stream",
     "text": [
      "[9, 16, 21]\n",
      "[24, 25, 24]\n",
      "[21, 16, 9]\n"
     ]
    }
   ],
   "source": [
    "def sum1(arr1,arr2):\n",
    "    result=[]\n",
    "    for i in range(len(arr1)):\n",
    "        row=[]\n",
    "        for j in range(len(arr1)):\n",
    "            res=arr1[i][j]*arr2[i][j]\n",
    "            row.append(res)\n",
    "        result.append(row)\n",
    "    return result\n",
    "arr1=[\n",
    "    [1,2,3],\n",
    "    [4,5,6],\n",
    "    [7,8,9]\n",
    "]\n",
    "arr2=[\n",
    "    [9,8,7],\n",
    "    [6,5,4],\n",
    "    [3,2,1]\n",
    "]\n",
    "final=sum1(arr1,arr2)\n",
    "for i in final:\n",
    "    print(i)"
   ]
  },
  {
   "cell_type": "code",
   "execution_count": 253,
   "id": "82ad6aed",
   "metadata": {},
   "outputs": [
    {
     "name": "stdout",
     "output_type": "stream",
     "text": [
      "[1, 4]\n",
      "[2, 5]\n",
      "[3, 6]\n"
     ]
    }
   ],
   "source": [
    "matrix = [\n",
    " [1, 2, 3],\n",
    " [4, 5, 6]\n",
    "]\n",
    "row=len(matrix)\n",
    "cols=len(matrix[0])\n",
    "res=[[0 for _ in range(row)]  for _ in range(cols)]\n",
    "\n",
    "for i in range(row):\n",
    "    for j in range(cols):\n",
    "        res[j][i]=matrix[i][j]\n",
    "for i in res:\n",
    "    print(i)\n",
    "        "
   ]
  },
  {
   "cell_type": "code",
   "execution_count": 257,
   "id": "11b3ad4f",
   "metadata": {},
   "outputs": [
    {
     "name": "stdout",
     "output_type": "stream",
     "text": [
      "sham rahul aniket lakha\n",
      "['Aniket', 'Lakha', 'Rahul', 'Sham']\n"
     ]
    }
   ],
   "source": [
    "str1=input()\n",
    "words=str1.split()\n",
    "result=[word.capitalize() for  word in words]\n",
    "result.sort()\n",
    "print(result)    "
   ]
  },
  {
   "cell_type": "code",
   "execution_count": 276,
   "id": "ad567ddf",
   "metadata": {},
   "outputs": [
    {
     "name": "stdout",
     "output_type": "stream",
     "text": [
      "89\n",
      "89 is a disarium\n"
     ]
    }
   ],
   "source": [
    "num=int(input())\n",
    "dig=str(num)\n",
    "re=num\n",
    "i=1\n",
    "res=0\n",
    "while num>0:\n",
    "    temp=num%10\n",
    "    tem=str(temp)\n",
    "    n=dig.index(tem)+1    \n",
    "    res=res+temp**n\n",
    "    num//=10\n",
    "if res==re:\n",
    "    print(f\"{res} is a disarium\")\n",
    "else:\n",
    "    print(f\"{res} is not disarium\")\n",
    "\n"
   ]
  },
  {
   "cell_type": "code",
   "execution_count": 277,
   "id": "73fd7e13",
   "metadata": {},
   "outputs": [
    {
     "ename": "KeyboardInterrupt",
     "evalue": "",
     "output_type": "error",
     "traceback": [
      "\u001b[1;31m---------------------------------------------------------------------------\u001b[0m",
      "\u001b[1;31mKeyboardInterrupt\u001b[0m                         Traceback (most recent call last)",
      "Cell \u001b[1;32mIn[277], line 15\u001b[0m\n\u001b[0;32m     13\u001b[0m         \u001b[38;5;28;01melse\u001b[39;00m:\n\u001b[0;32m     14\u001b[0m             \u001b[38;5;28;01mcontinue\u001b[39;00m\n\u001b[1;32m---> 15\u001b[0m disarium()\n",
      "Cell \u001b[1;32mIn[277], line 6\u001b[0m, in \u001b[0;36mdisarium\u001b[1;34m()\u001b[0m\n\u001b[0;32m      4\u001b[0m res\u001b[38;5;241m=\u001b[39mi\n\u001b[0;32m      5\u001b[0m sum1\u001b[38;5;241m=\u001b[39m\u001b[38;5;241m0\u001b[39m\n\u001b[1;32m----> 6\u001b[0m \u001b[38;5;28;01mwhile\u001b[39;00m i\u001b[38;5;241m>\u001b[39m\u001b[38;5;241m0\u001b[39m:\n\u001b[0;32m      7\u001b[0m     temp\u001b[38;5;241m=\u001b[39mi\u001b[38;5;241m%\u001b[39m\u001b[38;5;241m10\u001b[39m\n\u001b[0;32m      8\u001b[0m     tem\u001b[38;5;241m=\u001b[39m\u001b[38;5;28mstr\u001b[39m(temp)\n",
      "\u001b[1;31mKeyboardInterrupt\u001b[0m: "
     ]
    }
   ],
   "source": [
    "def disarium():\n",
    "    for i in range(1,100):\n",
    "        dig=str(i)\n",
    "        res=i\n",
    "        sum1=0\n",
    "        while i>0:\n",
    "            temp=i%10\n",
    "            tem=str(temp)\n",
    "            index=dig.index(tem)+1\n",
    "            sum1=sum1+temp**index\n",
    "        if sum1==res:\n",
    "            print(sum1)\n",
    "        else:\n",
    "            continue\n",
    "disarium()            \n",
    "        \n",
    "    "
   ]
  },
  {
   "cell_type": "code",
   "execution_count": 282,
   "id": "6ecb50fa",
   "metadata": {},
   "outputs": [
    {
     "name": "stdout",
     "output_type": "stream",
     "text": [
      "42\n",
      "number is not harshad\n"
     ]
    }
   ],
   "source": [
    "num=int(input())\n",
    "dig=num\n",
    "sum=0\n",
    "while num>0:\n",
    "    temp=num%10\n",
    "    sum=sum+temp\n",
    "    num=num//10\n",
    "if sum==dig//2:\n",
    "    print(\"number is harshad\")\n",
    "else:\n",
    "    print(\"number is not harshad\")\n",
    "        "
   ]
  },
  {
   "cell_type": "code",
   "execution_count": 286,
   "id": "d99d4a8d",
   "metadata": {},
   "outputs": [
    {
     "name": "stdout",
     "output_type": "stream",
     "text": [
      "2|6|12|20|30|42|56|72|90|"
     ]
    }
   ],
   "source": [
    "for i in range(1,100):\n",
    "    res=i*(i+1)\n",
    "    while res<100:\n",
    "        \n",
    "        print(res,end=\"|\")\n",
    "        break"
   ]
  },
  {
   "cell_type": "code",
   "execution_count": 290,
   "id": "071177f9",
   "metadata": {},
   "outputs": [
    {
     "name": "stdout",
     "output_type": "stream",
     "text": [
      "12000000\n"
     ]
    }
   ],
   "source": [
    "from functools import reduce\n",
    "def multiply(x,y):\n",
    "    return x*y\n",
    "\n",
    "li=[10,20,30,40,50]\n",
    "res=reduce(multiply,li)\n",
    "print(res)"
   ]
  },
  {
   "cell_type": "code",
   "execution_count": 293,
   "id": "11541bf7",
   "metadata": {},
   "outputs": [
    {
     "name": "stdout",
     "output_type": "stream",
     "text": [
      "3\n",
      "30 10 45 5 20 50 15 3 345 54 67 87 98 100 34\n",
      "[345, 100, 98]\n"
     ]
    }
   ],
   "source": [
    "N=int(input())\n",
    "li=list(map(int,input().split()))\n",
    "li.sort()\n",
    "print(li[-1:-N-1:-1])"
   ]
  },
  {
   "cell_type": "code",
   "execution_count": 300,
   "id": "a306b9d0",
   "metadata": {},
   "outputs": [
    {
     "name": "stdout",
     "output_type": "stream",
     "text": [
      "['e', [], 1, 2, 3, 4, 5]\n",
      "['e', 1, 2, 3, 4, 5]\n"
     ]
    }
   ],
   "source": [
    "li=[\"\",\"\",\"e\",\"\",[],1,2,3,4,5]\n",
    "res=[word for word in li if not word==\"\"]\n",
    "resu=[i for i in li if i]\n",
    "print(res)\n",
    "print(resu)"
   ]
  },
  {
   "cell_type": "code",
   "execution_count": 302,
   "id": "7715c022",
   "metadata": {},
   "outputs": [
    {
     "name": "stdout",
     "output_type": "stream",
     "text": [
      "['banana', 'cherry', 'elderberry', 'dragon']\n"
     ]
    }
   ],
   "source": [
    "word_list = [\"apple\", \"banana\", \"cherry\", \"date\", \"elderberry\", \"dragon\"]\n",
    "li=[]\n",
    "for i in word_list:\n",
    "    if len(i)>5:\n",
    "        li.append(i)\n",
    "print(li)        "
   ]
  },
  {
   "cell_type": "code",
   "execution_count": 306,
   "id": "44e0aa4b",
   "metadata": {},
   "outputs": [
    {
     "name": "stdout",
     "output_type": "stream",
     "text": [
      "7\n",
      "Hello, World\n"
     ]
    }
   ],
   "source": [
    "num=int(input())\n",
    "str1=\"Hello, wWorld\"\n",
    "li=[]\n",
    "for i in str1:\n",
    "    li.append(i)\n",
    "li.pop(num)\n",
    "\n",
    "print((\"\").join(li))"
   ]
  },
  {
   "cell_type": "code",
   "execution_count": 307,
   "id": "c950f089",
   "metadata": {},
   "outputs": [
    {
     "name": "stdout",
     "output_type": "stream",
     "text": [
      "['world', 'tata', 'bye']\n"
     ]
    }
   ],
   "source": [
    "str1=[\"hello\",\"bye\",\"tata\"]\n",
    "str2=[\"hello\",\"world\"]\n",
    "str1=set(str1)\n",
    "str2=set(str2)\n",
    "new_str=str1.symmetric_difference(str2)\n",
    "print(list(new_str))"
   ]
  },
  {
   "cell_type": "code",
   "execution_count": 308,
   "id": "5a141cb0",
   "metadata": {},
   "outputs": [
    {
     "name": "stdout",
     "output_type": "stream",
     "text": [
      "piyush sharma\n",
      "['s', 'h', 'a']\n"
     ]
    }
   ],
   "source": [
    "str1=input()\n",
    "res={key:(str1.count(key)) for key in str1}\n",
    "dup=[]\n",
    "for i,value in res.items():\n",
    "    if value>1:\n",
    "        dup.append(i)\n",
    "        \n",
    "print(dup)        "
   ]
  },
  {
   "cell_type": "code",
   "execution_count": 312,
   "id": "39d6dea1",
   "metadata": {},
   "outputs": [
    {
     "name": "stdout",
     "output_type": "stream",
     "text": [
      "90\n"
     ]
    }
   ],
   "source": [
    "my_dict = {\n",
    " 'a': 10,\n",
    " 'b': 20,\n",
    " 'c': 10,\n",
    " 'd': 30,\n",
    " 'e': 20\n",
    "}\n",
    "li=[]\n",
    "for i in my_dict.values():\n",
    "    li.append(i)\n",
    "sum=0\n",
    "for i in li:\n",
    "    sum=sum+i\n",
    "print(sum)    "
   ]
  },
  {
   "cell_type": "code",
   "execution_count": 344,
   "id": "28ba8bac",
   "metadata": {},
   "outputs": [
    {
     "name": "stdout",
     "output_type": "stream",
     "text": [
      "apple:3\n",
      "banana:1\n",
      "cherry:2\n",
      "date:4\n"
     ]
    }
   ],
   "source": [
    "sample_dict = {'apple': 3, 'banana': 1, 'cherry': 2, 'date': 4}\n",
    "li=[]\n",
    "sorted1=dict(sorted(sample_dict.items()))\n",
    "for i,x in (sorted1).items():\n",
    "    print(f\"{i}:{x}\")"
   ]
  },
  {
   "cell_type": "code",
   "execution_count": 323,
   "id": "03430568",
   "metadata": {},
   "outputs": [
    {
     "name": "stdout",
     "output_type": "stream",
     "text": [
      "3\n",
      "5\n",
      "[[0, 0, 0, 0, 0], [0, 1, 2, 3, 4], [0, 2, 4, 6, 8]]\n"
     ]
    }
   ],
   "source": [
    "x=int(input())\n",
    "y=int(input())\n",
    "result=[[0 for j in range(y)] for i in range(x)]\n",
    "for i in range(x):\n",
    "    for j in range(y):\n",
    "        result[i][j]=i*j\n",
    "print(result)        \n",
    "        \n",
    "        "
   ]
  },
  {
   "cell_type": "code",
   "execution_count": 325,
   "id": "2d90df9d",
   "metadata": {},
   "outputs": [
    {
     "name": "stdout",
     "output_type": "stream",
     "text": [
      "hello world and practice makes perfect and hello world again\n",
      "again and hello makes perfect practice world "
     ]
    }
   ],
   "source": [
    "li=list(map(str,input().split()))\n",
    "\n",
    "new_set=set(li)\n",
    "li1=list(new_set)\n",
    "li1.sort()\n",
    "for i in li1:\n",
    "    print(i,end=\" \")\n",
    "    "
   ]
  },
  {
   "cell_type": "code",
   "execution_count": 328,
   "id": "fd6102db",
   "metadata": {},
   "outputs": [
    {
     "name": "stdout",
     "output_type": "stream",
     "text": [
      "hello world! 123\n",
      "10\n",
      "3\n"
     ]
    }
   ],
   "source": [
    "str1=input()\n",
    "letters=0\n",
    "digits=0\n",
    "for i in str1:\n",
    "    if i.isalpha():\n",
    "        letters+=1\n",
    "    elif i.isdigit():\n",
    "        digits+=1\n",
    "print(letters)\n",
    "print(digits)\n",
    "    "
   ]
  },
  {
   "cell_type": "code",
   "execution_count": 333,
   "id": "69b491ef",
   "metadata": {},
   "outputs": [
    {
     "ename": "TypeError",
     "evalue": "num.__init__() missing 1 required positional argument: 'n'",
     "output_type": "error",
     "traceback": [
      "\u001b[1;31m---------------------------------------------------------------------------\u001b[0m",
      "\u001b[1;31mTypeError\u001b[0m                                 Traceback (most recent call last)",
      "Cell \u001b[1;32mIn[333], line 8\u001b[0m\n\u001b[0;32m      6\u001b[0m             \u001b[38;5;28;01mif\u001b[39;00m i\u001b[38;5;241m%\u001b[39m\u001b[38;5;241m7\u001b[39m\u001b[38;5;241m==\u001b[39m\u001b[38;5;241m0\u001b[39m:\n\u001b[0;32m      7\u001b[0m                 \u001b[38;5;28;01myield\u001b[39;00m num\n\u001b[1;32m----> 8\u001b[0m obj\u001b[38;5;241m=\u001b[39mnum()\n\u001b[0;32m      9\u001b[0m x\u001b[38;5;241m=\u001b[39mobj\u001b[38;5;241m.\u001b[39mfunc(\u001b[38;5;241m20\u001b[39m)\n\u001b[0;32m     10\u001b[0m \u001b[38;5;28mprint\u001b[39m(x)\n",
      "\u001b[1;31mTypeError\u001b[0m: num.__init__() missing 1 required positional argument: 'n'"
     ]
    }
   ],
   "source": [
    "class num:\n",
    "    def __init__(self,n):\n",
    "        self.n=n\n",
    "    def func(self):\n",
    "        for i in range(self.n):\n",
    "            if i%7==0:\n",
    "                yield num\n",
    "obj=num()\n",
    "x=obj.func(20)\n",
    "print(x)"
   ]
  },
  {
   "cell_type": "code",
   "execution_count": 347,
   "id": "034e7e59",
   "metadata": {},
   "outputs": [
    {
     "name": "stdout",
     "output_type": "stream",
     "text": [
      "2:2\n",
      "3.:1\n",
      "3?:1\n",
      "and:1\n",
      "between:1\n",
      "choosing:1\n",
      "new:1\n",
      "or:2\n",
      "python:5\n",
      "read:1\n",
      "to:1\n"
     ]
    }
   ],
   "source": [
    "str1=\" New to Python or choosing between Python 2 and Python 3? Read Python 2 or Python 3.\"\n",
    "str1=str1.lower()\n",
    "words=str1.split()\n",
    "    \n",
    "\n",
    "res={key:(words.count(key)) for key in words}\n",
    "\n",
    "sorted_dict=dict(sorted(res.items()))\n",
    "\n",
    "for i,j in sorted_dict.items():\n",
    "    print(f\"{i}:{j}\")\n",
    "    "
   ]
  },
  {
   "cell_type": "code",
   "execution_count": 348,
   "id": "e818e833",
   "metadata": {},
   "outputs": [],
   "source": [
    "class person:\n",
    "    def getgender(self):\n",
    "        return \"unknown\"\n",
    "class male(person):\n",
    "    def getgender(self):\n",
    "        return \"male\"\n",
    "class female(person):\n",
    "    def getgender(self):\n",
    "        return \"female\"    \n",
    "    \n",
    "    "
   ]
  },
  {
   "cell_type": "code",
   "execution_count": 353,
   "id": "57a8247e",
   "metadata": {},
   "outputs": [
    {
     "name": "stdout",
     "output_type": "stream",
     "text": [
      "100\n",
      "0,35,70\n"
     ]
    }
   ],
   "source": [
    "n=int(input())\n",
    "li=[]\n",
    "for i in range(0,n):\n",
    "    if i%5==0 and i%7==0:\n",
    "        li.append(str(i))\n",
    "res=(\",\").join(li)\n",
    "print(res)"
   ]
  },
  {
   "cell_type": "code",
   "execution_count": 364,
   "id": "b3ed4318",
   "metadata": {},
   "outputs": [
    {
     "name": "stdout",
     "output_type": "stream",
     "text": [
      "8\n",
      "0,1,1,2,3,5,8,13,"
     ]
    },
    {
     "ename": "AttributeError",
     "evalue": "'list' object has no attribute 'replace'",
     "output_type": "error",
     "traceback": [
      "\u001b[1;31m---------------------------------------------------------------------------\u001b[0m",
      "\u001b[1;31mAttributeError\u001b[0m                            Traceback (most recent call last)",
      "Cell \u001b[1;32mIn[364], line 14\u001b[0m\n\u001b[0;32m     12\u001b[0m \u001b[38;5;28mprint\u001b[39m(i,end\u001b[38;5;241m=\u001b[39m\u001b[38;5;124m\"\u001b[39m\u001b[38;5;124m,\u001b[39m\u001b[38;5;124m\"\u001b[39m)\n\u001b[0;32m     13\u001b[0m \u001b[38;5;28;01mif\u001b[39;00m li[\u001b[38;5;241m-\u001b[39m\u001b[38;5;241m1\u001b[39m]\u001b[38;5;241m==\u001b[39mi:\n\u001b[1;32m---> 14\u001b[0m     li\u001b[38;5;241m.\u001b[39mreplace(\u001b[38;5;124m'\u001b[39m\u001b[38;5;124m,\u001b[39m\u001b[38;5;124m'\u001b[39m,(\u001b[38;5;124m'\u001b[39m\u001b[38;5;124m'\u001b[39m))\n",
      "\u001b[1;31mAttributeError\u001b[0m: 'list' object has no attribute 'replace'"
     ]
    }
   ],
   "source": [
    "num=int(input())\n",
    "n1=0\n",
    "n2=1\n",
    "li=[]\n",
    "for i in range(n):\n",
    "    li.append(n1)\n",
    "    c=n1+n2\n",
    "    n1=n2\n",
    "    n2=c\n",
    "\n",
    "for i in li:\n",
    "    print(i,end=\",\")\n",
    "   \n",
    "   \n",
    "    "
   ]
  },
  {
   "cell_type": "code",
   "execution_count": 366,
   "id": "860b141c",
   "metadata": {},
   "outputs": [
    {
     "name": "stdout",
     "output_type": "stream",
     "text": [
      "[1, 2, 3]\n"
     ]
    }
   ],
   "source": [
    "li=[1,2,3,\"a\",\"b\"]\n",
    "res=[word for word in li if not str(word).isalpha()]\n",
    "print(res)"
   ]
  },
  {
   "cell_type": "code",
   "execution_count": 372,
   "id": "ed163883",
   "metadata": {},
   "outputs": [
    {
     "name": "stdout",
     "output_type": "stream",
     "text": [
      "[1, 3, 2, 4, 4, 2, 1]\n"
     ]
    }
   ],
   "source": [
    "def end(arr,txt):\n",
    "    index=arr.index(txt)\n",
    "    arr.insert(len(arr)-1,arr[txt])\n",
    "    \n",
    "    return arr\n",
    "x=end([1,3,2,4,4,1],2)\n",
    "print(x)"
   ]
  },
  {
   "cell_type": "code",
   "execution_count": null,
   "id": "b284ead3",
   "metadata": {},
   "outputs": [],
   "source": []
  }
 ],
 "metadata": {
  "kernelspec": {
   "display_name": "Python 3 (ipykernel)",
   "language": "python",
   "name": "python3"
  },
  "language_info": {
   "codemirror_mode": {
    "name": "ipython",
    "version": 3
   },
   "file_extension": ".py",
   "mimetype": "text/x-python",
   "name": "python",
   "nbconvert_exporter": "python",
   "pygments_lexer": "ipython3",
   "version": "3.11.4"
  }
 },
 "nbformat": 4,
 "nbformat_minor": 5
}
