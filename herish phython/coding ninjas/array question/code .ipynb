{
 "cells": [
  {
   "cell_type": "code",
   "execution_count": 3,
   "id": "38102fe4",
   "metadata": {},
   "outputs": [
    {
     "ename": "ValueError",
     "evalue": "invalid literal for int() with base 10: ''",
     "output_type": "error",
     "traceback": [
      "\u001b[1;31m---------------------------------------------------------------------------\u001b[0m",
      "\u001b[1;31mValueError\u001b[0m                                Traceback (most recent call last)",
      "Cell \u001b[1;32mIn[3], line 24\u001b[0m\n\u001b[0;32m     20\u001b[0m     \u001b[38;5;28;01mreturn\u001b[39;00m arr, n\n\u001b[0;32m     23\u001b[0m \u001b[38;5;66;03m#main\u001b[39;00m\n\u001b[1;32m---> 24\u001b[0m t \u001b[38;5;241m=\u001b[39m \u001b[38;5;28mint\u001b[39m(sys\u001b[38;5;241m.\u001b[39mstdin\u001b[38;5;241m.\u001b[39mreadline()\u001b[38;5;241m.\u001b[39mrstrip())\n\u001b[0;32m     26\u001b[0m \u001b[38;5;28;01mwhile\u001b[39;00m t \u001b[38;5;241m>\u001b[39m \u001b[38;5;241m0\u001b[39m :\n\u001b[0;32m     28\u001b[0m     arr, n \u001b[38;5;241m=\u001b[39m takeInput()\n",
      "\u001b[1;31mValueError\u001b[0m: invalid literal for int() with base 10: ''"
     ]
    }
   ],
   "source": [
    "import sys\n",
    "\n",
    "def findUnique(arr, n) :\n",
    "    for i in range(n):\n",
    "        j=0\n",
    "        while j<n:\n",
    "            if i!=j:\n",
    "                if arr[i]==arr[j]:\n",
    "                    break\n",
    "                j+=1\n",
    "            if j==n:\n",
    "                return arr[i]\n",
    "def takeInput() :\n",
    "    n = int(sys.stdin.readline().rstrip())\n",
    "\n",
    "    if n == 0 :\n",
    "        return list(), 0\n",
    "\n",
    "    arr = list(map(int, sys.stdin.readline().rstrip().split(\" \")))\n",
    "    return arr, n\n",
    "\n",
    "\n",
    "#main\n",
    "t = int(sys.stdin.readline().rstrip())\n",
    "\n",
    "while t > 0 :\n",
    "\n",
    "    arr, n = takeInput()\n",
    "    print(findUnique(arr, n))\n",
    "\n",
    "    t -= 1                        \n",
    "\n",
    "\n",
    "                   \n",
    "\n",
    "    \n",
    "    \n",
    "\n",
    "\n",
    "\n",
    "\n",
    "\n",
    "\n",
    "\n",
    "\n",
    "\n",
    "\n",
    "\n",
    "\n",
    "\n",
    "\n",
    "\n",
    "\n",
    "\n",
    "\n",
    "\n",
    "\n",
    "\n",
    "\n",
    "\n"
   ]
  },
  {
   "cell_type": "code",
   "execution_count": 1,
   "id": "e70caaa0",
   "metadata": {},
   "outputs": [
    {
     "name": "stdout",
     "output_type": "stream",
     "text": [
      "7\n",
      "1 2 3 2 4 5 3 \n",
      "4\n",
      "4\n"
     ]
    }
   ],
   "source": [
    "def search(nums: [int], target: int):\n",
    "    lower,upper=0,len(arr)-1\n",
    "    while lower<=upper:\n",
    "        mid=lower+(upper-lower)//2\n",
    "        if arr[mid]==target:\n",
    "            return mid\n",
    "        elif arr[mid]<target:\n",
    "            lower=mid+1\n",
    "        elif arr[mid]>target:\n",
    "            upper=mid-1        \n",
    "    return -1\n",
    " \n",
    "n= int (input())\n",
    "arr = list(map(int,input().strip().split()))[:n]\n",
    "target =int (input())\n",
    "print (search(arr, target))\n",
    "\n"
   ]
  },
  {
   "cell_type": "code",
   "execution_count": 8,
   "id": "a25e3a01",
   "metadata": {},
   "outputs": [
    {
     "ename": "SyntaxError",
     "evalue": "invalid non-printable character U+00A0 (3093283732.py, line 21)",
     "output_type": "error",
     "traceback": [
      "\u001b[1;36m  Cell \u001b[1;32mIn[8], line 21\u001b[1;36m\u001b[0m\n\u001b[1;33m    print(findUnique(arr,n))\u001b[0m\n\u001b[1;37m                            ^\u001b[0m\n\u001b[1;31mSyntaxError\u001b[0m\u001b[1;31m:\u001b[0m invalid non-printable character U+00A0\n"
     ]
    }
   ],
   "source": [
    "import sys\n",
    "def findUnique(arr,n) :\n",
    "    for i in range(n) :\n",
    "        j = 0\n",
    "        while j < n :\n",
    "            if i != j :\n",
    "                if arr[i] == arr[j] :\n",
    "                    break\n",
    "            j += 1\n",
    "        if j == n : \n",
    "            return arr[i]\n",
    "def takeInput() :\n",
    "    n = int(input())\n",
    "    if n == 0 :\n",
    "        return list(), 0\n",
    "    arr = list(map(int, input().rstrip().split(\" \"))) \n",
    "    return arr, n\n",
    "t = int(input()) \n",
    "while t > 0 : \n",
    "    arr, n = takeInput()\n",
    "    print(findUnique(arr,n)) \n",
    "    t -= 1"
   ]
  },
  {
   "cell_type": "code",
   "execution_count": 9,
   "id": "59ada2b1",
   "metadata": {},
   "outputs": [
    {
     "ename": "SyntaxError",
     "evalue": "invalid syntax (1949841030.py, line 1)",
     "output_type": "error",
     "traceback": [
      "\u001b[1;36m  Cell \u001b[1;32mIn[9], line 1\u001b[1;36m\u001b[0m\n\u001b[1;33m    def selectionSort(int(arr),N):\u001b[0m\n\u001b[1;37m                         ^\u001b[0m\n\u001b[1;31mSyntaxError\u001b[0m\u001b[1;31m:\u001b[0m invalid syntax\n"
     ]
    }
   ],
   "source": [
    "\n",
    "\n",
    "def selectionSort((arr),N): \n",
    "    for i in range(N):\n",
    "        min_index=i\n",
    "        for j in range(i+1,N):\n",
    "            if arr[j]<arr[min_index]:\n",
    "                min_index=j\n",
    "        arr[i],arr[min_index]=arr[min_index],arr[i] \n",
    "    return arr           \n",
    "\n",
    "N=int(input())\n",
    "arr=list(map(int,input().strip().split()))\n",
    "print(selectionSort(arr,N))"
   ]
  },
  {
   "cell_type": "code",
   "execution_count": 11,
   "id": "aa3fcd11",
   "metadata": {},
   "outputs": [
    {
     "name": "stdout",
     "output_type": "stream",
     "text": [
      "4\n",
      "8 5 3 1\n",
      "[1, 3, 5, 8]\n"
     ]
    }
   ],
   "source": [
    "def bubble_sort(arr,n):\n",
    "    for i in range(n):\n",
    "        min_index=i\n",
    "        for j in range(i+1,n):\n",
    "            if arr[j]<arr[min_index]:\n",
    "                arr[min_index],arr[j]=arr[j],arr[min_index]\n",
    "    return arr\n",
    "n=int(input())\n",
    "arr=list(map(int,input().strip().split()))\n",
    "print(bubble_sort(arr,n))"
   ]
  },
  {
   "cell_type": "code",
   "execution_count": 9,
   "id": "0d48b0fb",
   "metadata": {},
   "outputs": [
    {
     "name": "stdout",
     "output_type": "stream",
     "text": [
      "1 \n",
      "7\n",
      "1 2 2 1 4 5 4 5\n",
      "5\n"
     ]
    }
   ],
   "source": [
    "def findUnique(arr, n):\n",
    "    for i in range(n):\n",
    "        j = 0\n",
    "        while j < n:\n",
    "            if i != j:\n",
    "                if arr[i] == arr[j]:\n",
    "                    break\n",
    "            j += 1\n",
    "        if j == n:\n",
    "            return arr[i]\n",
    "\n",
    "def takeInput():\n",
    "    n = int(input())\n",
    "    if n == 0:\n",
    "        return list(), 0\n",
    "    arr = list(map(int, input().rstrip().split(\" \")))\n",
    "    return arr, n\n",
    "\n",
    "t = int(input())\n",
    "while t > 0:\n",
    "    arr, n = takeInput()\n",
    "    print(findUnique(arr, n))\n",
    "    t -= 1\n",
    "\n"
   ]
  },
  {
   "cell_type": "code",
   "execution_count": 11,
   "id": "30db1dac",
   "metadata": {},
   "outputs": [
    {
     "name": "stdout",
     "output_type": "stream",
     "text": [
      "1\n",
      "5\n",
      "1 2 1 5 3 \n",
      "1\n"
     ]
    }
   ],
   "source": [
    "import sys\n",
    "\n",
    "def duplicate(arr, n):\n",
    "    repeated = []\n",
    "    for h in range(n):\n",
    "        for p in range(h + 1, n):\n",
    "            if arr[p] == arr[h] and arr[p] not in repeated:\n",
    "                repeated.append(arr[p])\n",
    "    print(repeated[0])\n",
    "\n",
    "def takeInput():\n",
    "    n = int(input().strip())\n",
    "\n",
    "    if n == 0:\n",
    "        return list(), 0\n",
    "\n",
    "    arr = list(map(int, input().strip().split()))\n",
    "    return arr, n\n",
    "\n",
    "# main\n",
    "t = int(input().strip())\n",
    "\n",
    "while t > 0:\n",
    "    arr, n = takeInput()\n",
    "    duplicate(arr, n)\n",
    "    t -= 1\n",
    "\n"
   ]
  },
  {
   "cell_type": "code",
   "execution_count": null,
   "id": "3e36f0b2",
   "metadata": {},
   "outputs": [],
   "source": [
    "\n",
    "import sys\n",
    "def duplicate (arr,n):\n",
    "    repeated = []\n",
    "    list_len=len(arr)\n",
    "    for h in range(list_len):\n",
    "        for p in range(h+1,list_len):\n",
    "            if list1[p]==list1[h] and list1[p] not in repeated:\n",
    "                repeated.append(list1[p])\n",
    "    print(repeated[0])\n",
    "\n",
    "n=int(input())\n",
    "for i in range(0,n):\n",
    "    faltu=input()\n",
    "    li = [int(x) for x in input().split()]\n",
    "    duplicate(li)\n",
    "\n",
    " \n",
    " \n",
    "def takeInput() :\n",
    "    n = int(sys.stdin.readline().strip())\n",
    "\n",
    "    if n == 0 :\n",
    "        return list(), 0\n",
    "\n",
    "    arr = list(map(int, sys.stdin.readline().strip().split()))\n",
    "    return arr, n\n",
    "\n",
    "\n",
    "#main\n",
    "t = int(sys.stdin.readline().strip())\n",
    "\n",
    "while t > 0 :\n",
    "    \n",
    "    arr, n = takeInput()\n",
    "    print(duplicateNumber(arr, n))\n",
    "\n",
    "    t -= 1\n",
    "    \n",
    "\n",
    "\n",
    "\n",
    "\n",
    "\n",
    "\n",
    "\n",
    "\n",
    "\n",
    "\n",
    "\n",
    "\n",
    "\n",
    "\n",
    "\n",
    "\n",
    "\n",
    "\n",
    "\n",
    "\n",
    "\n",
    "\n",
    "\n"
   ]
  }
 ],
 "metadata": {
  "kernelspec": {
   "display_name": "Python 3 (ipykernel)",
   "language": "python",
   "name": "python3"
  },
  "language_info": {
   "codemirror_mode": {
    "name": "ipython",
    "version": 3
   },
   "file_extension": ".py",
   "mimetype": "text/x-python",
   "name": "python",
   "nbconvert_exporter": "python",
   "pygments_lexer": "ipython3",
   "version": "3.11.4"
  }
 },
 "nbformat": 4,
 "nbformat_minor": 5
}
