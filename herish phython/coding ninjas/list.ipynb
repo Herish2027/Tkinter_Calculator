{
 "cells": [
  {
   "cell_type": "code",
   "execution_count": 41,
   "id": "8ab4a3ca",
   "metadata": {},
   "outputs": [
    {
     "name": "stdout",
     "output_type": "stream",
     "text": [
      "3\n",
      "3 5 3 \n"
     ]
    },
    {
     "ename": "ValueError",
     "evalue": "invalid literal for int() with base 10: '3 5 3 '",
     "output_type": "error",
     "traceback": [
      "\u001b[1;31m---------------------------------------------------------------------------\u001b[0m",
      "\u001b[1;31mValueError\u001b[0m                                Traceback (most recent call last)",
      "Cell \u001b[1;32mIn[41], line 7\u001b[0m\n\u001b[0;32m      5\u001b[0m \u001b[38;5;28msum\u001b[39m\u001b[38;5;241m=\u001b[39m\u001b[38;5;241m0\u001b[39m\n\u001b[0;32m      6\u001b[0m \u001b[38;5;28;01mfor\u001b[39;00m i \u001b[38;5;129;01min\u001b[39;00m \u001b[38;5;28mrange\u001b[39m (N):\n\u001b[1;32m----> 7\u001b[0m     val\u001b[38;5;241m=\u001b[39m\u001b[38;5;28mint\u001b[39m(\u001b[38;5;28minput\u001b[39m())\n\u001b[0;32m      9\u001b[0m     li\u001b[38;5;241m.\u001b[39mappend(val)\n\u001b[0;32m     10\u001b[0m     \u001b[38;5;28msum\u001b[39m\u001b[38;5;241m=\u001b[39m\u001b[38;5;28msum\u001b[39m\u001b[38;5;241m+\u001b[39mli[i]\n",
      "\u001b[1;31mValueError\u001b[0m: invalid literal for int() with base 10: '3 5 3 '"
     ]
    }
   ],
   "source": [
    "# Read input as sepcified in the question\n",
    "# Print output as specified in the question\n",
    "N=int(input())\n",
    "li=[]\n",
    "sum=0\n",
    "for i in range (N):\n",
    "    val=int(input())\n",
    "    \n",
    "    li.append(val)\n",
    "    sum=sum+li[i]\n",
    "print(sum)    "
   ]
  },
  {
   "cell_type": "code",
   "execution_count": 28,
   "id": "acc773d9",
   "metadata": {},
   "outputs": [
    {
     "name": "stdout",
     "output_type": "stream",
     "text": [
      "5\n",
      "2 3 1 5 5 \n"
     ]
    },
    {
     "ename": "TypeError",
     "evalue": "'int' object is not subscriptable",
     "output_type": "error",
     "traceback": [
      "\u001b[1;31m---------------------------------------------------------------------------\u001b[0m",
      "\u001b[1;31mTypeError\u001b[0m                                 Traceback (most recent call last)",
      "Cell \u001b[1;32mIn[28], line 8\u001b[0m\n\u001b[0;32m      5\u001b[0m \u001b[38;5;28msum\u001b[39m\u001b[38;5;241m=\u001b[39m\u001b[38;5;241m0\u001b[39m\n\u001b[0;32m      6\u001b[0m \u001b[38;5;28;01mfor\u001b[39;00m li \u001b[38;5;129;01min\u001b[39;00m \u001b[38;5;28mrange\u001b[39m (N):\n\u001b[1;32m----> 8\u001b[0m     \u001b[38;5;28msum\u001b[39m\u001b[38;5;241m=\u001b[39m\u001b[38;5;28msum\u001b[39m\u001b[38;5;241m+\u001b[39mli[x]\n\u001b[0;32m      9\u001b[0m \u001b[38;5;28mprint\u001b[39m(\u001b[38;5;28msum\u001b[39m)\n",
      "\u001b[1;31mTypeError\u001b[0m: 'int' object is not subscriptable"
     ]
    }
   ],
   "source": [
    "# Read input as sepcified in the question\n",
    "# Print output as specified in the question\n",
    "N=int(input())\n",
    "li=[int(x) for x in input().split()]\n",
    "sum=0\n",
    "for li in range (N):\n",
    "    \n",
    "    sum=sum+li[x]\n",
    "print(sum)    \n",
    "    \n",
    "    "
   ]
  },
  {
   "cell_type": "code",
   "execution_count": 19,
   "id": "2de65726",
   "metadata": {},
   "outputs": [
    {
     "name": "stdout",
     "output_type": "stream",
     "text": [
      "5\n"
     ]
    }
   ],
   "source": [
    "li=[]\n",
    "li=[int(x) for x in input().split()]\n",
    "li.append(x)"
   ]
  },
  {
   "cell_type": "code",
   "execution_count": 40,
   "id": "ef946d4c",
   "metadata": {},
   "outputs": [
    {
     "name": "stdout",
     "output_type": "stream",
     "text": [
      "3\n",
      "9 8 9\n",
      "26\n"
     ]
    }
   ],
   "source": [
    "N=int(input())\n",
    "\n",
    "sum=0\n",
    "li=list(map(int,input().split()))\n",
    "for i in range(N):\n",
    "    \n",
    "   \n",
    "    sum=sum+li[i]\n",
    "print(sum)    \n"
   ]
  },
  {
   "cell_type": "code",
   "execution_count": 27,
   "id": "589c575b",
   "metadata": {},
   "outputs": [
    {
     "name": "stdout",
     "output_type": "stream",
     "text": [
      "5 2 6 3 4 5 2\n",
      "[5, 2, 6, 3, 4, 5, 2]\n"
     ]
    }
   ],
   "source": [
    "li=list(map(int,input().split()))\n",
    "print(li)"
   ]
  },
  {
   "cell_type": "code",
   "execution_count": 42,
   "id": "00fcc764",
   "metadata": {},
   "outputs": [
    {
     "name": "stdout",
     "output_type": "stream",
     "text": [
      "[1, 3, 4, 5, 2, 0]\n"
     ]
    }
   ],
   "source": [
    "li=[0,2,5,4,3,1]\n",
    "a=li[::-1]\n",
    "print(a)"
   ]
  },
  {
   "cell_type": "code",
   "execution_count": 7,
   "id": "46db8f00",
   "metadata": {},
   "outputs": [
    {
     "name": "stdout",
     "output_type": "stream",
     "text": [
      "10\n"
     ]
    }
   ],
   "source": [
    "def findgcd(x,y):\n",
    "    while y:\n",
    "        x,y=y,x%y\n",
    "      \n",
    "    return x\n",
    "a=findgcd(5,10)\n",
    "print(a)"
   ]
  },
  {
   "cell_type": "code",
   "execution_count": 42,
   "id": "bb56a222",
   "metadata": {},
   "outputs": [
    {
     "name": "stdout",
     "output_type": "stream",
     "text": [
      "5\n"
     ]
    },
    {
     "ename": "UnboundLocalError",
     "evalue": "cannot access local variable 'i' where it is not associated with a value",
     "output_type": "error",
     "traceback": [
      "\u001b[1;31m---------------------------------------------------------------------------\u001b[0m",
      "\u001b[1;31mUnboundLocalError\u001b[0m                         Traceback (most recent call last)",
      "Cell \u001b[1;32mIn[42], line 19\u001b[0m\n\u001b[0;32m     17\u001b[0m         i\u001b[38;5;241m=\u001b[39mi\u001b[38;5;241m+\u001b[39m\u001b[38;5;241m1\u001b[39m    \n\u001b[0;32m     18\u001b[0m     \u001b[38;5;28;01mreturn\u001b[39;00m \u001b[38;5;241m0\u001b[39m\n\u001b[1;32m---> 19\u001b[0m ninjaPuzzle(N)\n",
      "Cell \u001b[1;32mIn[42], line 6\u001b[0m, in \u001b[0;36mninjaPuzzle\u001b[1;34m(N)\u001b[0m\n\u001b[0;32m      3\u001b[0m \u001b[38;5;28;01mdef\u001b[39;00m \u001b[38;5;21mninjaPuzzle\u001b[39m(N):\n\u001b[1;32m----> 6\u001b[0m     \u001b[38;5;28;01mwhile\u001b[39;00m i\u001b[38;5;241m<\u001b[39m\u001b[38;5;241m=\u001b[39mN:\n\u001b[0;32m      7\u001b[0m         sp\u001b[38;5;241m=\u001b[39m\u001b[38;5;241m1\u001b[39m\n\u001b[0;32m      8\u001b[0m         \u001b[38;5;28;01mwhile\u001b[39;00m sp\u001b[38;5;241m<\u001b[39m\u001b[38;5;241m=\u001b[39mi:\n",
      "\u001b[1;31mUnboundLocalError\u001b[0m: cannot access local variable 'i' where it is not associated with a value"
     ]
    }
   ],
   "source": [
    "N=int(input())\n",
    "def ninjaPuzzle(N):\n",
    "    \n",
    "          i=1\n",
    "    \n",
    "  \n",
    "     \n",
    "    while i<=N:\n",
    "        sp=1\n",
    "        while sp<=i:\n",
    "            print('',end=\"\")\n",
    "            sp=sp+1\n",
    "           \n",
    "        j=1    \n",
    "        while j<=N-i+1:\n",
    "            print(\"*\",end=\"\")\n",
    "            j=j+1\n",
    "        print()\n",
    "        i=i+1    \n",
    "    return 0\n",
    "ninjaPuzzle(N)       \n",
    "\n",
    "\n",
    "   \n"
   ]
  },
  {
   "cell_type": "code",
   "execution_count": 41,
   "id": "9b84a2c6",
   "metadata": {},
   "outputs": [
    {
     "name": "stdout",
     "output_type": "stream",
     "text": [
      "5\n",
      "*****\n",
      "****\n",
      "***\n",
      "**\n",
      "*\n"
     ]
    }
   ],
   "source": [
    "N=int(input())\n",
    "\n",
    "i=1\n",
    "     \n",
    "while i<=N:\n",
    "    sp=1\n",
    "    while sp<=N-i:\n",
    "        \n",
    "        print(\"\",end=\"\")\n",
    "        sp=sp+1\n",
    "           \n",
    "    j=1    \n",
    "    while j<=N-i+1:\n",
    "        print(\"*\",end=\"\")\n",
    "        j=j+1\n",
    "    print()\n",
    "    i=i+1    \n",
    "\n",
    "       \n",
    "\n"
   ]
  },
  {
   "cell_type": "code",
   "execution_count": 43,
   "id": "3c01075f",
   "metadata": {},
   "outputs": [
    {
     "name": "stdout",
     "output_type": "stream",
     "text": [
      "1\n",
      "3\n",
      "1 2 3 1 2\n",
      "1\n"
     ]
    }
   ],
   "source": [
    "def duplicate (list1):\n",
    "    repeated = []\n",
    "    list_len=len(list1)\n",
    "    for h in range(list_len):\n",
    "        for p in range(h+1,list_len):\n",
    "            if list1[p]==list1[h] and list1[p] not in repeated:\n",
    "                repeated.append(list1[p])\n",
    "    print(repeated[0])\n",
    "\n",
    "n=int(input())\n",
    "for i in range(0,n):\n",
    "    faltu=input()\n",
    "    li = [int(x) for x in input().split()]\n",
    "    duplicate(li)"
   ]
  },
  {
   "cell_type": "code",
   "execution_count": null,
   "id": "eaa4d3a4",
   "metadata": {},
   "outputs": [],
   "source": []
  }
 ],
 "metadata": {
  "kernelspec": {
   "display_name": "Python 3 (ipykernel)",
   "language": "python",
   "name": "python3"
  },
  "language_info": {
   "codemirror_mode": {
    "name": "ipython",
    "version": 3
   },
   "file_extension": ".py",
   "mimetype": "text/x-python",
   "name": "python",
   "nbconvert_exporter": "python",
   "pygments_lexer": "ipython3",
   "version": "3.11.4"
  }
 },
 "nbformat": 4,
 "nbformat_minor": 5
}
