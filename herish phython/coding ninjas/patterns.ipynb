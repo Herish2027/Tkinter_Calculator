{
 "cells": [
  {
   "cell_type": "code",
   "execution_count": 8,
   "id": "8792f333",
   "metadata": {},
   "outputs": [
    {
     "name": "stdout",
     "output_type": "stream",
     "text": [
      "4\n",
      "4444\n",
      "333\n",
      "22\n",
      "1\n"
     ]
    }
   ],
   "source": [
    "n=int(input())\n",
    "k=n\n",
    "for i in range(n):\n",
    "    for j in range(n-i):\n",
    "        print(k,end=\"\")\n",
    "    print() \n",
    "    k=k-1"
   ]
  },
  {
   "cell_type": "code",
   "execution_count": 16,
   "id": "9f96fe49",
   "metadata": {},
   "outputs": [
    {
     "name": "stdout",
     "output_type": "stream",
     "text": [
      "5\n",
      "     1\n",
      "    12\n",
      "   123\n",
      "  1234\n",
      " 12345\n"
     ]
    }
   ],
   "source": [
    "n=int(input())\n",
    "for i in range(n):\n",
    "    for j in range(n-i):\n",
    "        print(\" \",end=\"\")\n",
    "    for j in range(1,i+2):\n",
    "        print(j,end=\"\")\n",
    "    print()    \n",
    "        "
   ]
  },
  {
   "cell_type": "code",
   "execution_count": 20,
   "id": "9edc7319",
   "metadata": {},
   "outputs": [
    {
     "name": "stdout",
     "output_type": "stream",
     "text": [
      "5\n",
      "          * \n",
      "        * * * \n",
      "      * * * * * \n",
      "    * * * * * * * \n",
      "  * * * * * * * * * \n"
     ]
    }
   ],
   "source": [
    "n=int(input())\n",
    "for i in range(n):\n",
    "    for j in range(n-i):\n",
    "        print(\" \",end=\" \")\n",
    "    for j in range(i+1):\n",
    "        print('*',end=\" \")\n",
    "    for j in range(i,0,-1):\n",
    "        print('*',end=\" \")\n",
    "    print()    "
   ]
  },
  {
   "cell_type": "markdown",
   "id": "1d3b0a13",
   "metadata": {},
   "source": [
    "#     1      \n",
    "      232     \n",
    "     34543    \n",
    "    4567654   "
   ]
  },
  {
   "cell_type": "code",
   "execution_count": 9,
   "id": "eac4e072",
   "metadata": {},
   "outputs": [
    {
     "name": "stdout",
     "output_type": "stream",
     "text": [
      "4\n",
      "   1\n",
      "  232\n",
      " 34543\n",
      "4567654\n"
     ]
    }
   ],
   "source": [
    "n=int(input())\n",
    "\n",
    "\n",
    "for i in range(1,n+1):\n",
    "    \n",
    "    for j in range(n-i):\n",
    "        print(\" \",end=\"\")\n",
    "    k=i    \n",
    "    for j in range(1,i+1):\n",
    "       \n",
    "        print(k,end=\"\")\n",
    "        k=k+1\n",
    "    for j in range(i-1,0,-1):\n",
    "        print(j+i-1,end=\"\")\n",
    "    print()    \n",
    "    "
   ]
  },
  {
   "cell_type": "markdown",
   "id": "10664b48",
   "metadata": {},
   "source": [
    "# diamond of stars\n"
   ]
  },
  {
   "cell_type": "code",
   "execution_count": 2,
   "id": "8c8310e7",
   "metadata": {},
   "outputs": [
    {
     "name": "stdout",
     "output_type": "stream",
     "text": [
      "7\n",
      "    \n",
      "   *\n",
      "  ***\n",
      " *****\n",
      "*******\n",
      " *****\n",
      "  ***\n",
      "   *\n"
     ]
    }
   ],
   "source": [
    "n=int(input())\n",
    "firsthalf=(n+1)//2\n",
    "secondhalf=n//2\n",
    "\n",
    "for i in range(firsthalf+1):\n",
    "    for j in range(firsthalf-i):\n",
    "        print(\" \",end=\"\")\n",
    "        \n",
    "    for j in range(1,i+1):\n",
    "        print(\"*\",end=\"\")\n",
    "    for j in range(i-1,0,-1):\n",
    "        print(\"*\",end=\"\")\n",
    "    print()      \n",
    "i=secondhalf\n",
    "while i>=1:\n",
    "    \n",
    "    for j in range(secondhalf-i+1):\n",
    "        print(\" \",end=\"\")\n",
    "            \n",
    "            \n",
    "    for j in range((2*i)-1):\n",
    "        print(\"*\",end=\"\")\n",
    "            \n",
    "    print()\n",
    "    i-=1\n",
    "        \n",
    "        \n",
    "        \n",
    "       \n",
    "        \n",
    "         \n"
   ]
  },
  {
   "cell_type": "code",
   "execution_count": 39,
   "id": "1d5a91a5",
   "metadata": {},
   "outputs": [
    {
     "name": "stdout",
     "output_type": "stream",
     "text": [
      "5\n",
      "   \n",
      "  *\n",
      " ***\n",
      "*****\n",
      " ***\n",
      "  *\n"
     ]
    }
   ],
   "source": [
    "n=int(input())\n",
    "n1=(n+1)//2\n",
    "n2=n//2\n",
    "for i in range(n1+1):\n",
    "    for j in range(n1-i):\n",
    "        print(\" \",end=\"\")\n",
    "    for j in range(1,i+1):\n",
    "        print(\"*\",end=\"\")\n",
    "    for j in range(i-1,0,-1):\n",
    "        print(\"*\",end=\"\")\n",
    "    print()    \n",
    "i=n2\n",
    "while i>=1:\n",
    "    for j in range(n2-i+1):\n",
    "        print(\" \",end=\"\")\n",
    "    for j in range((2*i)-1):\n",
    "        print(\"*\",end=\"\")\n",
    "    i-=1\n",
    "    print()    "
   ]
  },
  {
   "cell_type": "code",
   "execution_count": 44,
   "id": "6b050a52",
   "metadata": {},
   "outputs": [
    {
     "name": "stdout",
     "output_type": "stream",
     "text": [
      "5\n",
      "1        1\n",
      "12      21\n",
      "123    321\n",
      "1234  4321\n",
      "1234554321\n"
     ]
    }
   ],
   "source": [
    "n=int(input())\n",
    "i=1\n",
    "totalspaces=n*2-2\n",
    "while i<=n:\n",
    "    j=1\n",
    "    while j<=i:\n",
    "        print(j,end=\"\")\n",
    "        j=j+1\n",
    "      \n",
    "    space=1\n",
    "    while space<=totalspaces:\n",
    "        print(\" \",end=\"\")\n",
    "        space+=1\n",
    "    totalspaces-=2\n",
    "        \n",
    "    j=i\n",
    "    while j>0:\n",
    "        print(j,end=\"\")\n",
    "        j-=1\n",
    "    i=i+1\n",
    "    print()"
   ]
  },
  {
   "cell_type": "code",
   "execution_count": 2,
   "id": "c4748f6f",
   "metadata": {},
   "outputs": [
    {
     "name": "stdout",
     "output_type": "stream",
     "text": [
      "4\n",
      "*000*000*\n",
      "0*00*00*0\n",
      "00*0*0*00\n",
      "000***000\n"
     ]
    }
   ],
   "source": [
    "n=int(input())\n",
    "i=1\n",
    "while i<=n:\n",
    "    j=1\n",
    "    while j<=2*n+1:\n",
    "        if(j==i or j==n+1 or j==2*n+2-i):\n",
    "            print(\"*\",end=\"\")\n",
    "        else:\n",
    "            print(0,end=\"\")\n",
    "        j=j+1\n",
    "     \n",
    "    print() \n",
    "    i=i+1   "
   ]
  },
  {
   "cell_type": "code",
   "execution_count": 50,
   "id": "509fd194",
   "metadata": {},
   "outputs": [
    {
     "name": "stdout",
     "output_type": "stream",
     "text": [
      "5\n",
      "*0000*0000*\n",
      "0*000*000*0\n",
      "00*00*00*00\n",
      "000*0*0*000\n",
      "0000***0000\n"
     ]
    }
   ],
   "source": [
    "n=int(input())\n",
    "i=1\n",
    "while i<=n:\n",
    "    j=1\n",
    "    \n",
    "    while j<=2*n+1:\n",
    "        if(j==i or j==n+1 or j==2*n+2-i):\n",
    "            print(\"*\",end=\"\")\n",
    "        else:\n",
    "            print(0,end=\"\")\n",
    "        j=j+1\n",
    "     \n",
    "    print() \n",
    "    i=i+1   "
   ]
  },
  {
   "cell_type": "code",
   "execution_count": 1,
   "id": "a5f2cf91",
   "metadata": {},
   "outputs": [
    {
     "name": "stdout",
     "output_type": "stream",
     "text": [
      "5\n",
      "*0000*0000*\n",
      "0*000*000*0\n",
      "00*00*00*00\n",
      "000*0*0*000\n",
      "0000***0000\n"
     ]
    }
   ],
   "source": [
    "N=int(input())\n",
    "i=1\n",
    "for i in range(1,N+1,1):\n",
    "    for j in range(1,2*N+2,1):\n",
    "        if(j==i or j==N+1 or j==2*N+1-i+1):\n",
    "            print(\"*\",end=\"\")\n",
    "        else:\n",
    "            print(0,end=\"\")\n",
    "        j=j+1\n",
    "    print()\n",
    "    i=i+1\n"
   ]
  },
  {
   "cell_type": "code",
   "execution_count": 1,
   "id": "08a45c02",
   "metadata": {},
   "outputs": [
    {
     "name": "stdout",
     "output_type": "stream",
     "text": [
      "0\n",
      "100\n",
      "10\n",
      "0 -17\n",
      "10 -12\n",
      "20 -6\n",
      "30 -1\n",
      "40 4\n",
      "50 10\n",
      "60 15\n",
      "70 21\n",
      "80 26\n",
      "90 32\n",
      "100 37\n"
     ]
    }
   ],
   "source": [
    "\n",
    "\n",
    "\n",
    "def printTable(s,e,step):\n",
    "\twhile s<=e:\n",
    "\t\tc=(s-32)*(5/9)\n",
    "\t\tprint(s,int(c))\n",
    "\t\ts=s+step\n",
    "\t\n",
    "\n",
    "\n",
    "\tpass \n",
    "\n",
    "\t   \n",
    "s = int(input())\n",
    "e = int(input())\n",
    "step = int(input())\n",
    "printTable(s,e,step)\n",
    "\n",
    "\n",
    "\n",
    "\n",
    "\n"
   ]
  },
  {
   "cell_type": "code",
   "execution_count": 25,
   "id": "0df04a51",
   "metadata": {},
   "outputs": [
    {
     "name": "stdout",
     "output_type": "stream",
     "text": [
      "9\n",
      "false\n"
     ]
    }
   ],
   "source": [
    "\n",
    "def isFibonacci(n): \n",
    "    return isPerfectSquare(5*n*n + 4) or isPerfectSquare(5*n*n - 4)\n",
    "\n",
    "n=int(input())\n",
    "if (isFibonacci(n)==True):\n",
    "    print(\"true\")\n",
    "else:\n",
    "    print(\"false\")"
   ]
  },
  {
   "cell_type": "code",
   "execution_count": null,
   "id": "a2fd6e32",
   "metadata": {},
   "outputs": [],
   "source": [
    "\n",
    "\n",
    "def checkMember(n):\n",
    "    n1=0\n",
    "    n2=1\n",
    "    while n2<n:\n",
    "        c=n1+n2\n",
    "        n1=n2\n",
    "        n2=c\n",
    "        return n2,n1\n",
    "\n",
    "\n",
    "    \n",
    "\n",
    "n=int(input())\n",
    "if(checkMember(n)==True):\n",
    "    print(\"true\")\n",
    "else:\n",
    "    print(\"false\")"
   ]
  },
  {
   "cell_type": "code",
   "execution_count": 44,
   "id": "45e2e06b",
   "metadata": {},
   "outputs": [
    {
     "name": "stdout",
     "output_type": "stream",
     "text": [
      "7\n",
      "false\n"
     ]
    }
   ],
   "source": [
    "def checkMember(n):\n",
    "    return n\n",
    "   \n",
    "\n",
    "    pass\n",
    "\n",
    "n=int(input())\n",
    "n1=0\n",
    "n2=1\n",
    "while n2<n:\n",
    "    c=n1+n2\n",
    "    n1=n2\n",
    "    n2=c\n",
    "\n",
    "if(checkMember(n)==n2 or checkMember(n)==n1):\n",
    "    print(\"true\")\n",
    "else:\n",
    "    print(\"false\")"
   ]
  },
  {
   "cell_type": "code",
   "execution_count": 5,
   "id": "0d59f0f3",
   "metadata": {},
   "outputs": [
    {
     "name": "stdout",
     "output_type": "stream",
     "text": [
      "8\n",
      "true\n"
     ]
    }
   ],
   "source": [
    "\n",
    "def checkMember(n):\n",
    "    return n\n",
    "    \n",
    "\n",
    "   \n",
    "n=int(input())\n",
    "n1=0\n",
    "n2=1\n",
    "while n2<n:\n",
    "    c=n1+n2\n",
    "    n1=n2\n",
    "    n2=c\n",
    "\n",
    "if(checkMember(n)==n2 or checkMember(n)==n1):\n",
    "    print(\"true\")\n",
    "else:\n",
    "    print(\"false\")"
   ]
  },
  {
   "cell_type": "code",
   "execution_count": null,
   "id": "adbc7c1d",
   "metadata": {},
   "outputs": [],
   "source": []
  }
 ],
 "metadata": {
  "kernelspec": {
   "display_name": "Python 3 (ipykernel)",
   "language": "python",
   "name": "python3"
  },
  "language_info": {
   "codemirror_mode": {
    "name": "ipython",
    "version": 3
   },
   "file_extension": ".py",
   "mimetype": "text/x-python",
   "name": "python",
   "nbconvert_exporter": "python",
   "pygments_lexer": "ipython3",
   "version": "3.11.4"
  }
 },
 "nbformat": 4,
 "nbformat_minor": 5
}
