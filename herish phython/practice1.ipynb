{
 "cells": [
  {
   "cell_type": "code",
   "execution_count": 2,
   "id": "1c99f974",
   "metadata": {},
   "outputs": [
    {
     "name": "stdout",
     "output_type": "stream",
     "text": [
      "5\n",
      "120\n"
     ]
    }
   ],
   "source": [
    "import math\n",
    "n=int(input())\n",
    "a=math.factorial(n)\n",
    "print(a)"
   ]
  },
  {
   "cell_type": "code",
   "execution_count": 4,
   "id": "a2a819cb",
   "metadata": {},
   "outputs": [
    {
     "name": "stdout",
     "output_type": "stream",
     "text": [
      "12\n"
     ]
    }
   ],
   "source": [
    "a=14\n",
    "def f():\n",
    "    global a\n",
    "    a=12\n",
    "f()\n",
    "print(a)\n"
   ]
  },
  {
   "cell_type": "code",
   "execution_count": null,
   "id": "3dee5d94",
   "metadata": {},
   "outputs": [],
   "source": [
    "a=int(input(\"MARKS OF SUBJECT1\"))\n",
    "b=int(input(\"MARKS OF SUBJECT2\"))\n",
    "c=int(input(\"MARKS OF SUBJECT3\"))\n",
    "d=int(input(\"MARKS OF SUBJECT4\"))\n",
    "e=int(input(\"MARKS OF SUBJECT5\"))\n",
    "percentage=((a+b+c+d+e)*100)/500\n",
    "if(percentage<50):\n",
    "    print(\"grade  c\")\n",
    "elif(percentage==50 and percentage<80 ):\n",
    "    print(\"GRADE B\")\n",
    "else:\n",
    "    print(\"GRADE A\")\n",
    "    "
   ]
  },
  {
   "cell_type": "code",
   "execution_count": 5,
   "id": "f832cb39",
   "metadata": {},
   "outputs": [
    {
     "name": "stdout",
     "output_type": "stream",
     "text": [
      "position of minimum element: 2\n",
      "position of maximum element: 9\n"
     ]
    }
   ],
   "source": [
    "c"
   ]
  },
  {
   "cell_type": "code",
   "execution_count": 2,
   "id": "e4018990",
   "metadata": {},
   "outputs": [
    {
     "name": "stdout",
     "output_type": "stream",
     "text": [
      "5\n"
     ]
    }
   ],
   "source": [
    "def func(a):\n",
    "    a = a + 10\n",
    "    return a\n",
    "a = 5\n",
    "func(a)\n",
    "print(a)\n"
   ]
  },
  {
   "cell_type": "code",
   "execution_count": 3,
   "id": "07062544",
   "metadata": {},
   "outputs": [
    {
     "name": "stdout",
     "output_type": "stream",
     "text": [
      "14\n"
     ]
    }
   ],
   "source": [
    "a = 14\n",
    "def f():\n",
    "    a=12\n",
    "f()\n",
    "print(a)\n"
   ]
  },
  {
   "cell_type": "code",
   "execution_count": 16,
   "id": "cf5ef328",
   "metadata": {},
   "outputs": [
    {
     "name": "stdout",
     "output_type": "stream",
     "text": [
      "Enter size of list3\n",
      "enter any number15\n",
      "enter any number11\n",
      "enter any number12\n",
      "max value 15\n",
      "min value 11\n"
     ]
    }
   ],
   "source": [
    "a=[]\n",
    "size=int(input(\"Enter size of list\"))\n",
    "for i in range(size):\n",
    "    value=int(input(\"enter any number\"))\n",
    "    a.append(value)\n",
    "max=a[0]\n",
    "min=a[0]\n",
    "for i in range(size):\n",
    "    if a[i]>max:\n",
    "        max=a[i]\n",
    "    elif a[i]<min:\n",
    "        min=a[i]\n",
    "print(\"max value\",max) \n",
    "print(\"min value\",min)\n"
   ]
  },
  {
   "cell_type": "code",
   "execution_count": 27,
   "id": "29e694ae",
   "metadata": {},
   "outputs": [
    {
     "name": "stdout",
     "output_type": "stream",
     "text": [
      "enter number of elements3\n",
      "enter value10\n",
      "enter value20\n",
      "enter value30\n",
      "maximum value in list 30\n",
      "minimum value in list 10\n"
     ]
    }
   ],
   "source": [
    "a=[]\n",
    "size=int(input(\"enter number of elements\"))\n",
    "for i in range(size):\n",
    "    val=int(input(\"enter value\"))\n",
    "    a.append(val)\n",
    "maxval=a[0]\n",
    "minval=a[0]\n",
    "for i in range(size):\n",
    "    if a[i]>maxval:\n",
    "        maxval=a[i]\n",
    "    elif a[i]<minval:\n",
    "        minval=a[i]\n",
    "\n",
    "print(\"maximum value in list\",maxval)\n",
    "print(\"minimum value in list\",minval)\n",
    "\n",
    "\n",
    "\n",
    "        \n",
    "    \n"
   ]
  },
  {
   "cell_type": "code",
   "execution_count": 2,
   "id": "494e976a",
   "metadata": {},
   "outputs": [
    {
     "name": "stdout",
     "output_type": "stream",
     "text": [
      "enter total number of units120\n",
      "total payable : 100\n"
     ]
    }
   ],
   "source": [
    "units=int(input(\"enter total number of units\"))\n",
    "electricity_bill=0\n",
    "unitrate=0\n",
    "initialcharge=0\n",
    "if(units<=100):\n",
    "    intialcharge=0*100\n",
    "elif(units<=200):\n",
    "    initialcharge=0*100\n",
    "    unitrate=(units-100)*5\n",
    "elif(units<=400):\n",
    "    initialcharge=0*100+100*5\n",
    "    unitrate=(units-200)*10\n",
    "elif(units<=600):\n",
    "    initialcharge=0*100+5*100+10*200\n",
    "    unitrate=(units-400)*12\n",
    "else:\n",
    "    initialcharge=0*100+5*100+10*200+12*200\n",
    "    unitrate=(units-600)*15\n",
    "electricity_bill=electricity_bill+initialcharge+unitrate\n",
    "print(\"total payable :\",electricity_bill)\n",
    "    "
   ]
  },
  {
   "cell_type": "code",
   "execution_count": 5,
   "id": "a72dc3e4",
   "metadata": {},
   "outputs": [
    {
     "name": "stdout",
     "output_type": "stream",
     "text": [
      "8\n",
      "number is not prime\n"
     ]
    }
   ],
   "source": [
    "#number is prime or not\n",
    "num=int(input())\n",
    "flag=False\n",
    "if(num>1):\n",
    "    for i in range(2,num):\n",
    "        if(num%2==0):\n",
    "            flag= True\n",
    "            break\n",
    "if flag:\n",
    "    print(\"number is not prime\")\n",
    "else:\n",
    "    print(\"number is prime\")"
   ]
  },
  {
   "cell_type": "code",
   "execution_count": 8,
   "id": "9f493d33",
   "metadata": {},
   "outputs": [
    {
     "name": "stdout",
     "output_type": "stream",
     "text": [
      "naman\n"
     ]
    },
    {
     "ename": "TypeError",
     "evalue": "'>' not supported between instances of 'str' and 'int'",
     "output_type": "error",
     "traceback": [
      "\u001b[1;31m---------------------------------------------------------------------------\u001b[0m",
      "\u001b[1;31mTypeError\u001b[0m                                 Traceback (most recent call last)",
      "Cell \u001b[1;32mIn[8], line 5\u001b[0m\n\u001b[0;32m      3\u001b[0m reverse\u001b[38;5;241m=\u001b[39m\u001b[38;5;241m0\u001b[39m\n\u001b[0;32m      4\u001b[0m temp\u001b[38;5;241m=\u001b[39mn\n\u001b[1;32m----> 5\u001b[0m \u001b[38;5;28;01mwhile\u001b[39;00m temp\u001b[38;5;241m>\u001b[39m\u001b[38;5;241m0\u001b[39m:\n\u001b[0;32m      6\u001b[0m     remainder\u001b[38;5;241m=\u001b[39mtemp\u001b[38;5;241m%\u001b[39m\u001b[38;5;241m10\u001b[39m\n\u001b[0;32m      7\u001b[0m     reverse\u001b[38;5;241m=\u001b[39mreverse\u001b[38;5;241m*\u001b[39m\u001b[38;5;241m10\u001b[39m\u001b[38;5;241m+\u001b[39mremainder\n",
      "\u001b[1;31mTypeError\u001b[0m: '>' not supported between instances of 'str' and 'int'"
     ]
    }
   ],
   "source": [
    "#number is palindrome or not\n",
    "n=(input())\n",
    "reverse=0\n",
    "temp=n\n",
    "while temp>0:\n",
    "    remainder=temp%10\n",
    "    reverse=reverse*10+remainder\n",
    "    temp=temp//10\n",
    "if(n==reverse):\n",
    "    print(\"palindrome\")\n",
    "else:\n",
    "    print(\"number is not palindrome\")"
   ]
  },
  {
   "cell_type": "code",
   "execution_count": 2,
   "id": "52df757c",
   "metadata": {},
   "outputs": [
    {
     "name": "stdout",
     "output_type": "stream",
     "text": [
      "naman\n",
      "Yes\n"
     ]
    }
   ],
   "source": [
    "def isPalindrome(str):\n",
    " \n",
    "    # Run loop from 0 to len/2\n",
    "    for i in range(0, int(len(str)/2)):\n",
    "        if str[i] != str[len(str)-i-1]:\n",
    "            return False\n",
    "    return True\n",
    " \n",
    "# main function\n",
    "s = input()\n",
    "ans = isPalindrome(s)\n",
    " \n",
    "if (ans):\n",
    "    print(\"Yes\")\n",
    "else:\n",
    "    print(\"No\")\n"
   ]
  },
  {
   "cell_type": "code",
   "execution_count": 1,
   "id": "6ef64642",
   "metadata": {},
   "outputs": [
    {
     "name": "stdout",
     "output_type": "stream",
     "text": [
      "Enter a string: naman\n",
      "It's a palindrome!\n"
     ]
    }
   ],
   "source": [
    "def is_palindrome(s):\n",
    "    # Remove spaces and convert to lowercase for case-insensitive comparison\n",
    "    s = s.replace(\" \", \"\").lower()\n",
    "    \n",
    "    # Compare the string with its reverse\n",
    "    return s \n",
    "\n",
    "# Input from the user\n",
    "user_input = input(\"Enter a string: \")\n",
    "\n",
    "if is_palindrome(user_input):\n",
    "    print(\"It's a palindrome!\")\n",
    "else:\n",
    "    print(\"It's not a palindrome.\")"
   ]
  },
  {
   "cell_type": "code",
   "execution_count": 14,
   "id": "e221a5d2",
   "metadata": {},
   "outputs": [],
   "source": [
    "s = \"Hello World\"\n",
    "s = s[1:-1]\n"
   ]
  },
  {
   "cell_type": "code",
   "execution_count": 15,
   "id": "51a735b0",
   "metadata": {},
   "outputs": [
    {
     "name": "stdout",
     "output_type": "stream",
     "text": [
      "enter string valuenaman\n",
      "it is palindrome\n"
     ]
    }
   ],
   "source": [
    "def fun(s):\n",
    "    s.replace(\"\",\"\").lower()\n",
    "    return s\n",
    "\n",
    "n=input(\"enter string value\")\n",
    "if fun(n):\n",
    "    print(\"it is palindrome\")\n",
    "else:\n",
    "    print(\"it is not palindrome\")\n"
   ]
  },
  {
   "cell_type": "code",
   "execution_count": 18,
   "id": "3d2026d8",
   "metadata": {},
   "outputs": [
    {
     "name": "stdout",
     "output_type": "stream",
     "text": [
      "156\n",
      "number is not armstrong\n"
     ]
    }
   ],
   "source": [
    "n=(input())\n",
    "p=len(n)\n",
    "n=int(n)\n",
    "sum=0\n",
    "temp=n\n",
    "while temp>0:\n",
    "    num=temp%10\n",
    "    sum=sum+num**p\n",
    "    temp=temp//10\n",
    "if (n==sum):\n",
    "    print(\"number is armstrong\")\n",
    "else:\n",
    "    print(\"number is not armstrong\")\n",
    "    "
   ]
  },
  {
   "cell_type": "code",
   "execution_count": 23,
   "id": "6df2b6b4",
   "metadata": {},
   "outputs": [
    {
     "name": "stdout",
     "output_type": "stream",
     "text": [
      "enter string valuelisten\n",
      "enter string valuesilent\n",
      "string is anagram\n"
     ]
    }
   ],
   "source": [
    "def check(n1,n2):\n",
    "    if(sorted(n1)==sorted(n2)):\n",
    "        print(\"string is anagram\")\n",
    "    else:\n",
    "        print(\"string is not anagram\")\n",
    "n1=input(\"enter string value\")\n",
    "n2=input(\"enter string value\")\n",
    "check(n1,n2)"
   ]
  },
  {
   "cell_type": "code",
   "execution_count": 24,
   "id": "1e086e5f",
   "metadata": {},
   "outputs": [
    {
     "name": "stdout",
     "output_type": "stream",
     "text": [
      "Enter first number20\n",
      "Enter second number30\n",
      "b is greater than a\n"
     ]
    }
   ],
   "source": [
    "#maximum of two numbers\n",
    "a=int(input(\"Enter first number\"))\n",
    "b=int(input(\"Enter second number\"))\n",
    "if(a>b):\n",
    "    print(\"a is greater than b\")\n",
    "else:\n",
    "    print(\"b is greater than a\")"
   ]
  },
  {
   "cell_type": "code",
   "execution_count": 27,
   "id": "56491248",
   "metadata": {},
   "outputs": [
    {
     "name": "stdout",
     "output_type": "stream",
     "text": [
      "2\n"
     ]
    }
   ],
   "source": [
    "def min(a,b):\n",
    "    if(a<b):\n",
    "        return a\n",
    "    else:\n",
    "        return b\n",
    "print(min(4,2)) "
   ]
  },
  {
   "cell_type": "code",
   "execution_count": 28,
   "id": "5d8c203c",
   "metadata": {},
   "outputs": [
    {
     "name": "stdout",
     "output_type": "stream",
     "text": [
      "enter first number15\n",
      "enter second number20\n",
      "enter third number5\n",
      "greater number is: 20\n"
     ]
    }
   ],
   "source": [
    "def max(a,b,c):\n",
    "    if(a>b and a>c):\n",
    "        return a\n",
    "    elif(b>a and b>c):\n",
    "        return b\n",
    "    else:\n",
    "        return c\n",
    "a=int(input(\"enter first number\"))\n",
    "b=int(input(\"enter second number\"))\n",
    "c=int(input(\"enter third number\"))\n",
    "print(\"maximum number is:\",max(a,b,c))"
   ]
  },
  {
   "cell_type": "code",
   "execution_count": 32,
   "id": "133306f5",
   "metadata": {},
   "outputs": [
    {
     "name": "stdout",
     "output_type": "stream",
     "text": [
      "enter any number-2\n",
      "sorry factorial does not exist\n"
     ]
    }
   ],
   "source": [
    "import math\n",
    "num=int(input(\"enter any number\"))\n",
    "if num<0:\n",
    "    print(\"sorry factorial does not exist\")\n",
    "elif(num==0):\n",
    "    print(\"factorial is zero\")\n",
    "else:\n",
    "    print(\"factorial of\",num,\"is\",math.factorial(num))"
   ]
  },
  {
   "cell_type": "code",
   "execution_count": 35,
   "id": "de84df34",
   "metadata": {},
   "outputs": [
    {
     "name": "stdout",
     "output_type": "stream",
     "text": [
      "how many fibonacci number8\n",
      "0\n",
      "1\n",
      "1\n",
      "2\n",
      "3\n",
      "5\n",
      "8\n",
      "13\n",
      "21\n"
     ]
    }
   ],
   "source": [
    "n=int(input(\"how many fibonacci number print\"))\n",
    "n1,n2=0,1\n",
    "count=0\n",
    "if(n<=0):\n",
    "    print(\"enter positive value\")\n",
    "elif(n==0):\n",
    "    print(\"fibronacci series is\",n1)\n",
    "else:\n",
    "    while count<=n:\n",
    "        print(n1)    \n",
    "        c=n1+n2\n",
    "        n1=n2\n",
    "        n2=c\n",
    "        count+=1\n",
    "    \n",
    "    "
   ]
  },
  {
   "cell_type": "code",
   "execution_count": null,
   "id": "88856446",
   "metadata": {},
   "outputs": [],
   "source": [
    "#gcd of two numbers\n",
    "import math\n"
   ]
  },
  {
   "cell_type": "code",
   "execution_count": 6,
   "id": "426854d3",
   "metadata": {},
   "outputs": [
    {
     "name": "stdout",
     "output_type": "stream",
     "text": [
      "3\n",
      "[[...], [...], [...], [...]]\n"
     ]
    }
   ],
   "source": [
    "a=[]\n",
    "size=int(input())\n",
    "def fun():\n",
    "    for i in range(size+1):\n",
    "    \n",
    "        a.append(a)\n",
    "    \n",
    "    max=a[0]\n",
    "    for i in range(size+1):\n",
    "        if(a[i]>max):\n",
    "            max=a[i]\n",
    "    print(max)        \n",
    "fun()        \n",
    "    "
   ]
  },
  {
   "cell_type": "code",
   "execution_count": 2,
   "id": "1c49ed4c",
   "metadata": {},
   "outputs": [
    {
     "name": "stdout",
     "output_type": "stream",
     "text": [
      "123312\n",
      "false\n"
     ]
    }
   ],
   "source": [
    "\n",
    "def rev(n):\n",
    "   return n\n",
    "   pass\n",
    "n=int(input())\n",
    "reverse=0\n",
    "temp=n\n",
    "rev(n)\n",
    "while temp>0:\n",
    "    dig=temp%10\n",
    "    reverse=reverse*10+dig\n",
    "    temp=temp//10\n",
    "if(n==reverse):\n",
    "    print(\"true\")\n",
    "else:\n",
    "    print(\"false\")    \n",
    "\n"
   ]
  },
  {
   "cell_type": "code",
   "execution_count": 4,
   "id": "cf75a42f",
   "metadata": {},
   "outputs": [
    {
     "name": "stdout",
     "output_type": "stream",
     "text": [
      "31\n",
      "false\n"
     ]
    }
   ],
   "source": [
    "from os import *\n",
    "from sys import *\n",
    "from collections import *\n",
    "from math import *\n",
    "def arm(n):\n",
    "    return n\n",
    "    pass\n",
    "n=(input())\n",
    "arm(n)\n",
    "p=len(n)\n",
    "n=int(n)\n",
    "sum=0\n",
    "temp=n\n",
    "while temp>0:\n",
    "    dig=temp%10\n",
    "    sum=sum+dig**p\n",
    "    temp=temp//10\n",
    "if(n==sum):\n",
    "    print(\"true\")\n",
    "else:\n",
    "    print(\"false\")    \n",
    "\n",
    "\n",
    "\n"
   ]
  },
  {
   "cell_type": "code",
   "execution_count": null,
   "id": "e99fd2ac",
   "metadata": {},
   "outputs": [],
   "source": []
  },
  {
   "cell_type": "code",
   "execution_count": 10,
   "id": "e54c2c5f",
   "metadata": {},
   "outputs": [
    {
     "name": "stdout",
     "output_type": "stream",
     "text": [
      "NUMBER OF ELEMENTS3\n",
      "35\n",
      "12\n",
      "95\n",
      "35 95\n"
     ]
    }
   ],
   "source": [
    "li=[]\n",
    "N=int(input(\"NUMBER OF ELEMENTS\"))\n",
    "for i in range(0,N):\n",
    "    val=int(input())\n",
    "    li.append(val)\n",
    "\n",
    "li.sort()\n",
    "\n",
    "print(li[N-2],li[N-1])"
   ]
  },
  {
   "cell_type": "code",
   "execution_count": 14,
   "id": "c82508ac",
   "metadata": {},
   "outputs": [
    {
     "name": "stdout",
     "output_type": "stream",
     "text": [
      "number of fruits6\n",
      "1\n",
      "1\n",
      "2\n",
      "2\n",
      "3\n",
      "3\n",
      "1 2\n",
      "2 2\n"
     ]
    },
    {
     "ename": "IndexError",
     "evalue": "list index out of range",
     "output_type": "error",
     "traceback": [
      "\u001b[1;31m---------------------------------------------------------------------------\u001b[0m",
      "\u001b[1;31mIndexError\u001b[0m                                Traceback (most recent call last)",
      "Cell \u001b[1;32mIn[14], line 8\u001b[0m\n\u001b[0;32m      6\u001b[0m count\u001b[38;5;241m=\u001b[39m\u001b[38;5;241m1\u001b[39m\n\u001b[0;32m      7\u001b[0m \u001b[38;5;28;01mfor\u001b[39;00m i \u001b[38;5;129;01min\u001b[39;00m \u001b[38;5;28mrange\u001b[39m(\u001b[38;5;241m0\u001b[39m,n\u001b[38;5;241m-\u001b[39m\u001b[38;5;241m1\u001b[39m\u001b[38;5;241m+\u001b[39m\u001b[38;5;241m1\u001b[39m):\n\u001b[1;32m----> 8\u001b[0m     \u001b[38;5;28;01mif\u001b[39;00m(li[i]\u001b[38;5;241m==\u001b[39mli[i\u001b[38;5;241m+\u001b[39m\u001b[38;5;241m1\u001b[39m]):\n\u001b[0;32m      9\u001b[0m         count\u001b[38;5;241m=\u001b[39mcount\u001b[38;5;241m+\u001b[39m\u001b[38;5;241m1\u001b[39m\n\u001b[0;32m     10\u001b[0m         \u001b[38;5;28;01mif\u001b[39;00m(i\u001b[38;5;241m==\u001b[39mn\u001b[38;5;241m-\u001b[39m\u001b[38;5;241m1\u001b[39m):\n",
      "\u001b[1;31mIndexError\u001b[0m: list index out of range"
     ]
    }
   ],
   "source": [
    "n=int(input(\"number of fruits\"))\n",
    "li=[]\n",
    "for i in range(0,n):\n",
    "    val=int(input())\n",
    "    li.append(val)\n",
    "count=1\n",
    "for i in range(0,n-1+1):\n",
    "    if(li[i]==li[i+1]):\n",
    "        count=count+1\n",
    "        if(i==n-1):\n",
    "            print(li[i],count)\n",
    "    else:\n",
    "        print(li[i],count)\n",
    "        count=1\n",
    "if(li[n-1]!=li[n-2]):\n",
    "    print(li[n-1],1)\n",
    "        \n",
    "                "
   ]
  },
  {
   "cell_type": "code",
   "execution_count": 12,
   "id": "6c6c407d",
   "metadata": {},
   "outputs": [
    {
     "ename": "KeyboardInterrupt",
     "evalue": "Interrupted by user",
     "output_type": "error",
     "traceback": [
      "\u001b[1;31m---------------------------------------------------------------------------\u001b[0m",
      "\u001b[1;31mKeyboardInterrupt\u001b[0m                         Traceback (most recent call last)",
      "Cell \u001b[1;32mIn[12], line 1\u001b[0m\n\u001b[1;32m----> 1\u001b[0m n\u001b[38;5;241m=\u001b[39m\u001b[38;5;28mint\u001b[39m(\u001b[38;5;28minput\u001b[39m())\n\u001b[0;32m      2\u001b[0m \u001b[38;5;28;01mfor\u001b[39;00m i \u001b[38;5;129;01min\u001b[39;00m \u001b[38;5;28mrange\u001b[39m (\u001b[38;5;241m0\u001b[39m,n\u001b[38;5;241m+\u001b[39m\u001b[38;5;241m1\u001b[39m):\n\u001b[0;32m      3\u001b[0m     k\u001b[38;5;241m=\u001b[39m\u001b[38;5;241m1\u001b[39m\n",
      "File \u001b[1;32m~\\anaconda3\\Lib\\site-packages\\ipykernel\\kernelbase.py:1175\u001b[0m, in \u001b[0;36mKernel.raw_input\u001b[1;34m(self, prompt)\u001b[0m\n\u001b[0;32m   1171\u001b[0m \u001b[38;5;28;01mif\u001b[39;00m \u001b[38;5;129;01mnot\u001b[39;00m \u001b[38;5;28mself\u001b[39m\u001b[38;5;241m.\u001b[39m_allow_stdin:\n\u001b[0;32m   1172\u001b[0m     \u001b[38;5;28;01mraise\u001b[39;00m StdinNotImplementedError(\n\u001b[0;32m   1173\u001b[0m         \u001b[38;5;124m\"\u001b[39m\u001b[38;5;124mraw_input was called, but this frontend does not support input requests.\u001b[39m\u001b[38;5;124m\"\u001b[39m\n\u001b[0;32m   1174\u001b[0m     )\n\u001b[1;32m-> 1175\u001b[0m \u001b[38;5;28;01mreturn\u001b[39;00m \u001b[38;5;28mself\u001b[39m\u001b[38;5;241m.\u001b[39m_input_request(\n\u001b[0;32m   1176\u001b[0m     \u001b[38;5;28mstr\u001b[39m(prompt),\n\u001b[0;32m   1177\u001b[0m     \u001b[38;5;28mself\u001b[39m\u001b[38;5;241m.\u001b[39m_parent_ident[\u001b[38;5;124m\"\u001b[39m\u001b[38;5;124mshell\u001b[39m\u001b[38;5;124m\"\u001b[39m],\n\u001b[0;32m   1178\u001b[0m     \u001b[38;5;28mself\u001b[39m\u001b[38;5;241m.\u001b[39mget_parent(\u001b[38;5;124m\"\u001b[39m\u001b[38;5;124mshell\u001b[39m\u001b[38;5;124m\"\u001b[39m),\n\u001b[0;32m   1179\u001b[0m     password\u001b[38;5;241m=\u001b[39m\u001b[38;5;28;01mFalse\u001b[39;00m,\n\u001b[0;32m   1180\u001b[0m )\n",
      "File \u001b[1;32m~\\anaconda3\\Lib\\site-packages\\ipykernel\\kernelbase.py:1217\u001b[0m, in \u001b[0;36mKernel._input_request\u001b[1;34m(self, prompt, ident, parent, password)\u001b[0m\n\u001b[0;32m   1214\u001b[0m             \u001b[38;5;28;01mbreak\u001b[39;00m\n\u001b[0;32m   1215\u001b[0m \u001b[38;5;28;01mexcept\u001b[39;00m \u001b[38;5;167;01mKeyboardInterrupt\u001b[39;00m:\n\u001b[0;32m   1216\u001b[0m     \u001b[38;5;66;03m# re-raise KeyboardInterrupt, to truncate traceback\u001b[39;00m\n\u001b[1;32m-> 1217\u001b[0m     \u001b[38;5;28;01mraise\u001b[39;00m \u001b[38;5;167;01mKeyboardInterrupt\u001b[39;00m(\u001b[38;5;124m\"\u001b[39m\u001b[38;5;124mInterrupted by user\u001b[39m\u001b[38;5;124m\"\u001b[39m) \u001b[38;5;28;01mfrom\u001b[39;00m \u001b[38;5;28;01mNone\u001b[39;00m\n\u001b[0;32m   1218\u001b[0m \u001b[38;5;28;01mexcept\u001b[39;00m \u001b[38;5;167;01mException\u001b[39;00m:\n\u001b[0;32m   1219\u001b[0m     \u001b[38;5;28mself\u001b[39m\u001b[38;5;241m.\u001b[39mlog\u001b[38;5;241m.\u001b[39mwarning(\u001b[38;5;124m\"\u001b[39m\u001b[38;5;124mInvalid Message:\u001b[39m\u001b[38;5;124m\"\u001b[39m, exc_info\u001b[38;5;241m=\u001b[39m\u001b[38;5;28;01mTrue\u001b[39;00m)\n",
      "\u001b[1;31mKeyboardInterrupt\u001b[0m: Interrupted by user"
     ]
    }
   ],
   "source": [
    "n=int(input())\n",
    "for i in range (0,n+1):\n",
    "    k=1\n",
    "    for j in range (n,i,-1):\n",
    "        print(k,end=\"\")\n",
    "        k=k+1\n",
    "    print()    "
   ]
  },
  {
   "cell_type": "code",
   "execution_count": 45,
   "id": "6ada8d48",
   "metadata": {},
   "outputs": [
    {
     "name": "stdout",
     "output_type": "stream",
     "text": [
      "5\n",
      "     \n",
      "    1\n",
      "   21\n",
      "  321\n",
      " 4321\n",
      "54321\n"
     ]
    }
   ],
   "source": [
    "n=int(input())\n",
    "for i in range(0,n+1):\n",
    "    for j in range(n-i):\n",
    "        print(\" \",end=\"\")\n",
    "    for j in range(1,i+1):\n",
    "        \n",
    "        if(j==1):\n",
    "             print(i,end=\"\")\n",
    "        else:\n",
    "            print(i-j+1,end=\"\")\n",
    "                \n",
    "               \n",
    "        \n",
    "            \n",
    "            \n",
    "    print()    "
   ]
  },
  {
   "cell_type": "code",
   "execution_count": 1,
   "id": "6bf75724",
   "metadata": {},
   "outputs": [
    {
     "name": "stdout",
     "output_type": "stream",
     "text": [
      "0\n",
      "1\n",
      "2\n",
      "3\n",
      "4\n",
      "5\n",
      "1\n"
     ]
    }
   ],
   "source": [
    "i=0\n",
    "while i<6:\n",
    "    print(i)\n",
    "    i+=1\n",
    "else:\n",
    "    print(1)"
   ]
  },
  {
   "cell_type": "code",
   "execution_count": 3,
   "id": "dd6f30e9",
   "metadata": {},
   "outputs": [
    {
     "name": "stdout",
     "output_type": "stream",
     "text": [
      "Aman\n",
      "NiyaNiyaNiyaNiyaNiya\n"
     ]
    }
   ],
   "source": [
    "def person(message,event=1):\n",
    "    print(message*event)\n",
    "person('Aman')\n",
    "person(\"Niya\",5)"
   ]
  },
  {
   "cell_type": "code",
   "execution_count": 5,
   "id": "550e0ca0",
   "metadata": {},
   "outputs": [
    {
     "name": "stdout",
     "output_type": "stream",
     "text": [
      "[4, 20, 24, 28]\n"
     ]
    }
   ],
   "source": [
    "alist=[4,8,12,16]\n",
    "alist[1:4]=[20,24,28]\n",
    "print(alist)"
   ]
  },
  {
   "cell_type": "code",
   "execution_count": 6,
   "id": "a6ab04e9",
   "metadata": {},
   "outputs": [
    {
     "name": "stdout",
     "output_type": "stream",
     "text": [
      "2\n",
      "3\n"
     ]
    }
   ],
   "source": [
    "i=2\n",
    "while True:\n",
    "    if i%4==0:\n",
    "        break\n",
    "    print(i) \n",
    "    i+=1"
   ]
  },
  {
   "cell_type": "code",
   "execution_count": 8,
   "id": "ebc6154d",
   "metadata": {},
   "outputs": [
    {
     "name": "stdout",
     "output_type": "stream",
     "text": [
      "Hi\n"
     ]
    }
   ],
   "source": [
    "a = d = True\n",
    "if (a and d):\n",
    "    print(\"Hi\")\n",
    "else:\n",
    "    print(\"Hello\")\n"
   ]
  },
  {
   "cell_type": "code",
   "execution_count": 15,
   "id": "8295446a",
   "metadata": {},
   "outputs": [
    {
     "name": "stdout",
     "output_type": "stream",
     "text": [
      "10\n"
     ]
    }
   ],
   "source": [
    "def solv(a, b):\n",
    "    return b if a == 0 else solv(b % a, a)\n",
    "print(solv(20, 50))\n"
   ]
  },
  {
   "cell_type": "code",
   "execution_count": 18,
   "id": "f973d27b",
   "metadata": {},
   "outputs": [
    {
     "name": "stdout",
     "output_type": "stream",
     "text": [
      "Sum is 0.5\n",
      "Sum is 1.1666666666666665\n",
      "Sum is 1.9166666666666665\n",
      "Sum is 2.716666666666667\n",
      "Sum is 3.5500000000000003\n",
      "Sum is 4.4071428571428575\n",
      "Sum is 5.2821428571428575\n",
      "Sum is 6.171031746031746\n",
      "Sum is 7.071031746031746\n",
      "Sum is 7.980122655122655\n",
      "Sum is 8.896789321789322\n",
      "Sum is 9.819866244866246\n",
      "Sum is 10.748437673437675\n",
      "Sum is 11.681771006771008\n",
      "Sum is 12.619271006771008\n",
      "Sum is 13.560447477359244\n",
      "Sum is 14.504891921803688\n",
      "Sum is 15.45226034285632\n",
      "Sum is 16.40226034285632\n",
      "Sum is 17.354641295237272\n",
      "Sum is 18.309186749782725\n",
      "Sum is 19.26570848891316\n",
      "Sum is 20.22404182224649\n",
      "Sum is 21.184041822246492\n",
      "Sum is 22.145580283784952\n",
      "Sum is 23.108543246747914\n",
      "Sum is 24.07282896103363\n",
      "Sum is 25.03834620241294\n",
      "Sum is 26.005012869079604\n",
      "Sum is 26.972754804563476\n",
      "Sum is 27.941504804563476\n",
      "Sum is 28.911201774260444\n",
      "Sum is 29.88179000955456\n",
      "Sum is 30.853218580983132\n",
      "Sum is 31.825440803205353\n",
      "Sum is 32.79841377617833\n",
      "Sum is 33.772097986704644\n",
      "Sum is 34.746456961063615\n",
      "Sum is 35.721456961063616\n",
      "Sum is 36.69706671716118\n",
      "Sum is 37.67325719335165\n",
      "Sum is 38.65000137939816\n",
      "Sum is 39.62727410667089\n",
      "Sum is 40.60505188444866\n",
      "Sum is 41.58331275401388\n",
      "Sum is 42.5620361582692\n",
      "Sum is 43.541202824935866\n",
      "Sum is 44.52079466167056\n",
      "Sum is 45.500794661670554\n",
      "Sum is 46.481186818533295\n",
      "Sum is 47.46195604930253\n",
      "Sum is 48.44308812477423\n",
      "Sum is 49.42456960625571\n",
      "Sum is 50.40638778807389\n",
      "Sum is 51.38853064521675\n",
      "Sum is 52.370986785567624\n",
      "Sum is 53.35374540625728\n",
      "Sum is 54.33679625371491\n",
      "Sum is 55.32012958704824\n",
      "Sum is 56.303736144425294\n",
      "Sum is 57.28760711216723\n",
      "Sum is 58.27173409629421\n",
      "Sum is 59.25610909629421\n",
      "Sum is 60.24072448090959\n",
      "Sum is 61.225572965758076\n",
      "Sum is 62.21064759262375\n",
      "Sum is 63.19594171027081\n",
      "Sum is 64.18144895664761\n",
      "Sum is 65.1671632423619\n",
      "Sum is 66.15307873531964\n",
      "Sum is 67.13918984643075\n",
      "Sum is 68.12549121629377\n",
      "Sum is 69.11197770278025\n",
      "Sum is 70.09864436944692\n",
      "Sum is 71.08548647471008\n",
      "Sum is 72.07249946172307\n",
      "Sum is 73.05967894890256\n",
      "Sum is 74.04702072105445\n",
      "Sum is 75.03452072105445\n",
      "Sum is 76.02217504204211\n",
      "Sum is 77.00997992009088\n",
      "Sum is 77.9979317273198\n",
      "Sum is 78.98602696541504\n",
      "Sum is 79.97426225953268\n",
      "Sum is 80.96263435255594\n",
      "Sum is 81.95114009968238\n",
      "Sum is 82.93977646331874\n",
      "Sum is 83.92854050826256\n",
      "Sum is 84.91742939715145\n",
      "Sum is 85.90644038616244\n",
      "Sum is 86.89557082094505\n",
      "Sum is 87.884818132773\n",
      "Sum is 88.87417983490066\n",
      "Sum is 89.86365351911118\n",
      "Sum is 90.85323685244451\n",
      "Sum is 91.84292757409399\n",
      "Sum is 92.83272349246134\n",
      "Sum is 93.82262248236033\n",
      "Sum is 94.81262248236033\n"
     ]
    }
   ],
   "source": [
    "sum = 0\n",
    "for j in range(1, 100):\n",
    "    sum += j / (j + 1)\n",
    "\n",
    "    print(\"Sum is\", sum)\n",
    "\n"
   ]
  },
  {
   "cell_type": "code",
   "execution_count": 7,
   "id": "a7bab1af",
   "metadata": {},
   "outputs": [
    {
     "name": "stdout",
     "output_type": "stream",
     "text": [
      "nmbg\n",
      "not palindrome\n",
      "not palindrome\n"
     ]
    }
   ],
   "source": [
    "str=input()\n",
    "for i in range(0,len(str)//2):\n",
    "    if(str[i]!=str[len(str)-i-1]):\n",
    "        print(\"not palindrome\")\n",
    "    else:\n",
    "    \n",
    "    \n",
    "        print(\"palindrome\")"
   ]
  },
  {
   "cell_type": "code",
   "execution_count": null,
   "id": "34f161ff",
   "metadata": {},
   "outputs": [],
   "source": [
    "def isPalindrome(str):\n",
    " \n",
    "    # Run loop from 0 to len/2\n",
    "    for i in range(0, int(len(str)/2)):\n",
    "        if str[i] != str[len(str)-i-1]:\n",
    "            return False\n",
    "    return True\n",
    " \n",
    "# main function\n",
    "s = input()\n",
    "ans = isPalindrome(s)\n",
    " \n",
    "if (ans):\n",
    "    print(\"Yes\")\n",
    "else:\n",
    "    print(\"No\")\n"
   ]
  },
  {
   "cell_type": "code",
   "execution_count": 14,
   "id": "8303b466",
   "metadata": {},
   "outputs": [
    {
     "name": "stdout",
     "output_type": "stream",
     "text": [
      "vanshika\n",
      "3\n"
     ]
    }
   ],
   "source": [
    "#number of vowels in string\n",
    "str=input()\n",
    "count=0\n",
    "for i in range (0,len(str)):\n",
    "    if str[i]=='a':\n",
    "        count+=1\n",
    "    elif str[i]=='u':\n",
    "        count+=1\n",
    "    elif str[i]=='i':\n",
    "        count+=1\n",
    "    elif str[i]=='o':\n",
    "        count+=1\n",
    "    elif str[i]=='e':\n",
    "        count+=1\n",
    "i=i+1  \n",
    "print(count)\n",
    "        "
   ]
  },
  {
   "cell_type": "code",
   "execution_count": 19,
   "id": "53ad8e1c",
   "metadata": {},
   "outputs": [
    {
     "name": "stdout",
     "output_type": "stream",
     "text": [
      "j\n"
     ]
    },
    {
     "ename": "TypeError",
     "evalue": "list.extend() takes exactly one argument (2 given)",
     "output_type": "error",
     "traceback": [
      "\u001b[1;31m---------------------------------------------------------------------------\u001b[0m",
      "\u001b[1;31mTypeError\u001b[0m                                 Traceback (most recent call last)",
      "Cell \u001b[1;32mIn[19], line 3\u001b[0m\n\u001b[0;32m      1\u001b[0m li\u001b[38;5;241m=\u001b[39m[\u001b[38;5;241m1\u001b[39m,\u001b[38;5;241m2\u001b[39m,\u001b[38;5;241m3\u001b[39m,\u001b[38;5;241m4\u001b[39m]\n\u001b[0;32m      2\u001b[0m val\u001b[38;5;241m=\u001b[39m(\u001b[38;5;28minput\u001b[39m())\n\u001b[1;32m----> 3\u001b[0m \u001b[38;5;28mprint\u001b[39m(li\u001b[38;5;241m.\u001b[39mextend(\u001b[38;5;241m1\u001b[39m,val))\n",
      "\u001b[1;31mTypeError\u001b[0m: list.extend() takes exactly one argument (2 given)"
     ]
    }
   ],
   "source": [
    "li=[1,2,3,4]\n",
    "val=(input())\n",
    "print(li.extend(1,val))\n"
   ]
  },
  {
   "cell_type": "code",
   "execution_count": 20,
   "id": "bd089d20",
   "metadata": {},
   "outputs": [
    {
     "name": "stdout",
     "output_type": "stream",
     "text": [
      "[1, 2, 4, 3]\n"
     ]
    }
   ],
   "source": [
    "li=[1,2,3]\n",
    "li.insert(2,4)\n",
    "print(li)"
   ]
  },
  {
   "cell_type": "code",
   "execution_count": 34,
   "id": "c7f82b64",
   "metadata": {},
   "outputs": [
    {
     "name": "stdout",
     "output_type": "stream",
     "text": [
      "number of candles5\n",
      "2\n",
      "3\n",
      "3\n",
      "3\n",
      "1\n",
      "number of candles 2\n"
     ]
    }
   ],
   "source": [
    "li=[]\n",
    "n=int(input(\"number of candles\"))\n",
    "for i in range(n):\n",
    "    val=int(input())\n",
    "    li.append(val)\n",
    "li.sort()\n",
    "count=1\n",
    "for i in range(1,n):\n",
    "    if(li[n-1]==li[n-i-1]):\n",
    "        count+=1\n",
    "    else:\n",
    "        count=1\n",
    "print(\"number of candles\",count+1)        "
   ]
  },
  {
   "cell_type": "code",
   "execution_count": 38,
   "id": "1f68cde3",
   "metadata": {},
   "outputs": [
    {
     "name": "stdout",
     "output_type": "stream",
     "text": [
      "    1\n",
      "   21\n",
      "  321\n",
      " 4321\n",
      "54321\n"
     ]
    }
   ],
   "source": [
    "for i in range(1,5+1):\n",
    "    for j in range(5,0,-1):\n",
    "        if j<=i:\n",
    "            print(j,end=\"\")\n",
    "        else:\n",
    "            print(\"\",end=\" \")\n",
    "    print()            "
   ]
  },
  {
   "cell_type": "code",
   "execution_count": 39,
   "id": "c6772f81",
   "metadata": {},
   "outputs": [
    {
     "name": "stdout",
     "output_type": "stream",
     "text": [
      "Tony Stark\n",
      "51\n",
      "Tony is genius\n"
     ]
    }
   ],
   "source": [
    "Name=\"Tony Stark\"\n",
    "Age=51\n",
    "is_genius=True\n",
    "print(Name)\n",
    "print(Age)\n",
    "if(is_genius):\n",
    "    print(\"Tony is genius\")\n",
    "else:\n",
    "    print(\"Tony is not genius\")"
   ]
  },
  {
   "cell_type": "code",
   "execution_count": 1,
   "id": "c75757d4",
   "metadata": {},
   "outputs": [
    {
     "name": "stdout",
     "output_type": "stream",
     "text": [
      "5\n",
      "1 \n",
      "1 \n",
      "1 2 \n",
      "1 2 2 \n",
      "1 2 2 2 \n"
     ]
    }
   ],
   "source": [
    "n=int(input())\n",
    "i=1\n",
    "while i<=n:\n",
    "    j=1\n",
    "    if(i>=1):\n",
    "        print(1,end=\" \")\n",
    "    else:\n",
    "        print(i-1,end=\" \")\n",
    "    while j<=i-2:\n",
    "        print(2,end=\" \")\n",
    "        j=j+1\n",
    "    i=i+1\n",
    "    print()"
   ]
  },
  {
   "cell_type": "code",
   "execution_count": 7,
   "id": "8fedea07",
   "metadata": {},
   "outputs": [
    {
     "name": "stdout",
     "output_type": "stream",
     "text": [
      "6\n",
      "1\n",
      "2\n",
      "2\n",
      "2\n",
      "3\n",
      "3\n",
      "1 1\n",
      "2 3\n"
     ]
    }
   ],
   "source": [
    "n=int(input())\n",
    "li=[]\n",
    "for i in range(0,n):\n",
    "    val=int(input())\n",
    "    li.append(val)\n",
    "li.sort()\n",
    "count=1\n",
    "for i in range(0,n-1):\n",
    "    if(li[i]==li[i+1]):\n",
    "       \n",
    "      \n",
    "        count+=1\n",
    "        if (i==n-1):\n",
    "            print(li[i],count)\n",
    "    else:\n",
    "        print(li[i],count)\n",
    "        count=1\n",
    "if(li[n-1]!=li[n-2]):\n",
    "    print(li[n-1],1)\n",
    "    \n",
    "    "
   ]
  },
  {
   "cell_type": "code",
   "execution_count": 19,
   "id": "28bc91c2",
   "metadata": {},
   "outputs": [
    {
     "name": "stdout",
     "output_type": "stream",
     "text": [
      "5\n",
      "    \n",
      "   *\n",
      "  ***\n",
      " *****\n",
      "*******\n"
     ]
    }
   ],
   "source": [
    "n=int(input())\n",
    "for i in range(n):\n",
    "    for j in range(n-i-1):\n",
    "        print(\" \",end=\"\")\n",
    "    for j in range(i):\n",
    "        print(\"*\",end=\"\")\n",
    "    for j in range(i-1,0,-1):\n",
    "        print(\"*\",end=\"\")\n",
    "    print()    "
   ]
  },
  {
   "cell_type": "code",
   "execution_count": 33,
   "id": "e8f15b40",
   "metadata": {},
   "outputs": [
    {
     "name": "stdout",
     "output_type": "stream",
     "text": [
      "4\n",
      "  1\n",
      " 232\n",
      "34543\n",
      "4567654\n"
     ]
    }
   ],
   "source": [
    "n=int(input())\n",
    "for i in range(1,n+1):\n",
    "    for j in range(1,n-i):\n",
    "        print(\" \",end=\"\")\n",
    "    k=i\n",
    "    for j in range(1,i+1):\n",
    "        print(k,end=\"\")\n",
    "        k=k+1\n",
    "    for j in range(i-1,0,-1):\n",
    "        print(j+i-1,end=\"\")\n",
    "        \n",
    "            \n",
    "    print()    "
   ]
  },
  {
   "cell_type": "code",
   "execution_count": 34,
   "id": "1cb35e78",
   "metadata": {},
   "outputs": [
    {
     "name": "stdout",
     "output_type": "stream",
     "text": [
      "5\n",
      "   \n",
      "  *\n",
      " ***\n",
      "*****\n",
      " ***\n",
      "  *\n"
     ]
    }
   ],
   "source": [
    "n=int(input())\n",
    "firsthalf=(n+1)//2\n",
    "secondhalf=n//2\n",
    "for i in range(firsthalf+1):\n",
    "    for j in range(firsthalf-i):\n",
    "        print(\" \",end=\"\")\n",
    "    for j in range(i):\n",
    "        print(\"*\",end=\"\")\n",
    "    for j in range(i-1,0,-1):\n",
    "        print(\"*\",end=\"\")\n",
    "    print()\n",
    "i=secondhalf\n",
    "while i>=1:\n",
    "    for j in range(secondhalf-i+1):\n",
    "        print(\" \",end=\"\")\n",
    "    for j in range((2*i)-1):\n",
    "        print(\"*\",end=\"\")\n",
    "    i-=1\n",
    "    print()\n",
    "        "
   ]
  },
  {
   "cell_type": "code",
   "execution_count": 1,
   "id": "45843608",
   "metadata": {},
   "outputs": [
    {
     "name": "stdout",
     "output_type": "stream",
     "text": [
      "[12, 4, 3]\n",
      "[7, 5, 8]\n"
     ]
    }
   ],
   "source": [
    "X=[[12,7],[4,5],[3,8]]\n",
    "result=[[X[j][i] for j in range(len(X))] for i in range(len(X[0]))]\n",
    "for r in result:\n",
    "    print(r)"
   ]
  },
  {
   "cell_type": "code",
   "execution_count": 2,
   "id": "d3e87142",
   "metadata": {},
   "outputs": [
    {
     "name": "stdout",
     "output_type": "stream",
     "text": [
      "welcome to chitkara\n",
      "araktihc ot emoclew\n"
     ]
    }
   ],
   "source": [
    "string1=input()\n",
    "print(string1[::-1])"
   ]
  },
  {
   "cell_type": "code",
   "execution_count": 11,
   "id": "739bbf63",
   "metadata": {},
   "outputs": [
    {
     "name": "stdout",
     "output_type": "stream",
     "text": [
      "welcome to chitkara\n",
      "emoclew ot araktihc\n"
     ]
    }
   ],
   "source": [
    "def reverse1(res):\n",
    "    words=res.split()\n",
    "    result=[word[::-1] for word in words]\n",
    "    final=\" \".join(result)\n",
    "    return final\n",
    "val=input()\n",
    "res1=reverse1(val)\n",
    "print(res1)"
   ]
  },
  {
   "cell_type": "code",
   "execution_count": 16,
   "id": "9e222038",
   "metadata": {},
   "outputs": [
    {
     "name": "stdout",
     "output_type": "stream",
     "text": [
      "4\n",
      "11 12 11 12\n",
      "11\n"
     ]
    }
   ],
   "source": [
    "from functools import reduce\n",
    "N=int(input())\n",
    "list2=list(map(int,input().split()))\n",
    "def average1(x,y):\n",
    "    \n",
    "    return x+y\n",
    "result=reduce(average1,list2)\n",
    "result=result//N\n",
    "print(result)"
   ]
  },
  {
   "cell_type": "code",
   "execution_count": 19,
   "id": "e48cd1f1",
   "metadata": {},
   "outputs": [
    {
     "name": "stdout",
     "output_type": "stream",
     "text": [
      "{2, 3, 4, 5, 6, 7}\n"
     ]
    }
   ],
   "source": [
    "set1={1,2,3,4}\n",
    "set2={1,5,6,7}\n",
    "print(set1.symmetric_difference(set2))"
   ]
  },
  {
   "cell_type": "code",
   "execution_count": 27,
   "id": "11b616d2",
   "metadata": {},
   "outputs": [
    {
     "ename": "TypeError",
     "evalue": "dict.items() takes no arguments (1 given)",
     "output_type": "error",
     "traceback": [
      "\u001b[1;31m---------------------------------------------------------------------------\u001b[0m",
      "\u001b[1;31mTypeError\u001b[0m                                 Traceback (most recent call last)",
      "Cell \u001b[1;32mIn[27], line 2\u001b[0m\n\u001b[0;32m      1\u001b[0m dict1\u001b[38;5;241m=\u001b[39m{\u001b[38;5;124m\"\u001b[39m\u001b[38;5;124mabc\u001b[39m\u001b[38;5;124m\"\u001b[39m:\u001b[38;5;241m5\u001b[39m,\u001b[38;5;124m\"\u001b[39m\u001b[38;5;124mdef\u001b[39m\u001b[38;5;124m\"\u001b[39m:\u001b[38;5;241m6\u001b[39m,\u001b[38;5;124m\"\u001b[39m\u001b[38;5;124mfds\u001b[39m\u001b[38;5;124m\"\u001b[39m:\u001b[38;5;241m4\u001b[39m}\n\u001b[1;32m----> 2\u001b[0m \u001b[38;5;28mprint\u001b[39m(dict1\u001b[38;5;241m.\u001b[39mitems(\u001b[38;5;241m0\u001b[39m))\n",
      "\u001b[1;31mTypeError\u001b[0m: dict.items() takes no arguments (1 given)"
     ]
    }
   ],
   "source": [
    "dict1={\"abc\":5,\"def\":6,\"fds\":4}\n",
    "print(dict1.items())"
   ]
  },
  {
   "cell_type": "code",
   "execution_count": 28,
   "id": "8edaa987",
   "metadata": {},
   "outputs": [
    {
     "name": "stdout",
     "output_type": "stream",
     "text": [
      "{1: {2, 3, 5}, 2: {2, 3, 5}, 3: {2, 3, 5}}\n"
     ]
    }
   ],
   "source": [
    "str1={1,2,3}\n",
    "str2={2,3,5}\n",
    "print(dict.fromkeys(str1,str2))"
   ]
  },
  {
   "cell_type": "code",
   "execution_count": 30,
   "id": "174c5248",
   "metadata": {},
   "outputs": [
    {
     "name": "stdout",
     "output_type": "stream",
     "text": [
      "['g', 'h', 'i']\n"
     ]
    }
   ],
   "source": [
    "i=[[\"a\",\"b\",\"c\"],[\"d\",\"e\",\"f\"],[\"g\",\"h\",\"i\"]]\n",
    "print(i[1:][1])"
   ]
  },
  {
   "cell_type": "code",
   "execution_count": 35,
   "id": "1d422738",
   "metadata": {},
   "outputs": [
    {
     "name": "stdout",
     "output_type": "stream",
     "text": [
      "keep exploring\n",
      "2\n",
      "ep\n"
     ]
    }
   ],
   "source": [
    "string=input()\n",
    "indexvalue=int(input())\n",
    "words=string.split()\n",
    "temp=[]\n",
    "for sub in words:\n",
    "    temp.append(sub[indexvalue])\n",
    "result=\"\".join(temp)\n",
    "print(result)"
   ]
  },
  {
   "cell_type": "code",
   "execution_count": 44,
   "id": "a3bd0b5a",
   "metadata": {},
   "outputs": [
    {
     "name": "stdout",
     "output_type": "stream",
     "text": [
      "1 2\n",
      "5 10\n",
      "1 2 10 5 18\n"
     ]
    }
   ],
   "source": [
    "m=list(map(int,input().split()))\n",
    "n=list(map(int,input().split()))\n",
    "m.sort()\n",
    "n.sort()\n",
    "res=set(m)|set(n)\n",
    "res1=list(res)\n",
    "for k in res1:\n",
    "    print(k,end=\" \")\n",
    "print(sum(res))"
   ]
  },
  {
   "cell_type": "code",
   "execution_count": null,
   "id": "be2436da",
   "metadata": {},
   "outputs": [],
   "source": []
  }
 ],
 "metadata": {
  "kernelspec": {
   "display_name": "Python 3 (ipykernel)",
   "language": "python",
   "name": "python3"
  },
  "language_info": {
   "codemirror_mode": {
    "name": "ipython",
    "version": 3
   },
   "file_extension": ".py",
   "mimetype": "text/x-python",
   "name": "python",
   "nbconvert_exporter": "python",
   "pygments_lexer": "ipython3",
   "version": "3.11.4"
  }
 },
 "nbformat": 4,
 "nbformat_minor": 5
}
