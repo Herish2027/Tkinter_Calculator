{
 "cells": [
  {
   "cell_type": "code",
   "execution_count": 2,
   "id": "f3aa401f",
   "metadata": {},
   "outputs": [
    {
     "name": "stdout",
     "output_type": "stream",
     "text": [
      "10\n",
      "10\n",
      "10\n",
      "0.0\n"
     ]
    }
   ],
   "source": [
    "#area of triangle#\n",
    "a=float(input())\n",
    "b=float(input())\n",
    "c=float(input())\n",
    "s=(a+b+c)/3\n",
    "area=(s*(s-a)*(s-b)*(s-c))**0.5\n",
    "print(area)"
   ]
  },
  {
   "cell_type": "code",
   "execution_count": 6,
   "id": "672d01b0",
   "metadata": {},
   "outputs": [
    {
     "name": "stdout",
     "output_type": "stream",
     "text": [
      "1\n",
      "2\n",
      "after swapping the number 2 1\n"
     ]
    }
   ],
   "source": [
    "#swap the number#\n",
    "a=int(input())\n",
    "b=int(input())\n",
    "c=a\n",
    "a=b\n",
    "b=c\n",
    "print(\"after swapping the number \",a,b)"
   ]
  },
  {
   "cell_type": "code",
   "execution_count": 20,
   "id": "60cda4e6",
   "metadata": {},
   "outputs": [
    {
     "name": "stdout",
     "output_type": "stream",
     "text": [
      "temperature in celcius is 45\n",
      "Temperature in farenheit is 113.0\n"
     ]
    }
   ],
   "source": [
    "#celcius to farenheit#\n",
    "c=int(input(\"temperature in celcius is \"))\n",
    "f=(c*9/5)+32\n",
    "print(\"Temperature in farenheit is\",f)"
   ]
  },
  {
   "cell_type": "code",
   "execution_count": 11,
   "id": "86b57d11",
   "metadata": {},
   "outputs": [
    {
     "name": "stdout",
     "output_type": "stream",
     "text": [
      "enter any number2.0\n",
      "invalid input\n"
     ]
    }
   ],
   "source": [
    "#check number is odd or even#\n",
    "a=input(\"enter any number\")\n",
    "if(a.isdigit()):\n",
    "    y=int(a)\n",
    "  \n",
    "    if(y%2==0):\n",
    "        print(\"NUMBER IS EVEN\")\n",
    "    else:\n",
    "        print(\"NUMBER IS ODD\")\n",
    "    \n",
    "else:\n",
    "    print(\"invalid input\")\n",
    "\n",
    "\n"
   ]
  },
  {
   "cell_type": "code",
   "execution_count": 7,
   "id": "0d0694e8",
   "metadata": {},
   "outputs": [
    {
     "name": "stdout",
     "output_type": "stream",
     "text": [
      "enter any number-52\n",
      "NUMBER IS NEGATIVE\n"
     ]
    }
   ],
   "source": [
    "#check number is positive ,negative or zero#\n",
    "a=input(\"enter any number\")\n",
    "try:\n",
    "    y=int(a)\n",
    "    if(y>0):\n",
    "        print(\"NUMBER IS POSITIVE\")\n",
    "    elif(y==0):\n",
    "        print(\"NUMBER IS ZERO\")\n",
    "    else:\n",
    "        print(\"NUMBER IS NEGATIVE\")\n",
    "except:\n",
    "    print(\"wrong input\")\n",
    "    "
   ]
  },
  {
   "cell_type": "code",
   "execution_count": 31,
   "id": "72e6d989",
   "metadata": {},
   "outputs": [
    {
     "name": "stdout",
     "output_type": "stream",
     "text": [
      "153\n",
      "NUMBER IS ARMSTRONG\n"
     ]
    }
   ],
   "source": [
    "#CHECK NUMBER IS AMRSTRONG OR NOT#\n",
    "num=input()\n",
    "p=len(num)\n",
    "\n",
    "sum=0\n",
    "num=int(num)\n",
    "a=num\n",
    "while a>0:\n",
    "    dig=a%10\n",
    "    sum=sum+dig**p\n",
    "    a=a//10\n",
    "if(num==sum):\n",
    "    print(\"NUMBER IS ARMSTRONG\")\n",
    "else:\n",
    "    print(\"NUMBER IS NOT ARMSTRONG\")\n",
    "    "
   ]
  },
  {
   "cell_type": "code",
   "execution_count": 12,
   "id": "a2e0c3c3",
   "metadata": {},
   "outputs": [
    {
     "name": "stdout",
     "output_type": "stream",
     "text": [
      "enter any number100\n",
      "no\n"
     ]
    }
   ],
   "source": [
    "#WHILE NUMBER IS FIBRONACCI OR NOT#\n",
    "n=int(input(\"enter any number\"))\n",
    "n1,n2=0,1\n",
    "while(n2<n):\n",
    "    c=n1+n2\n",
    "    n1=n2\n",
    "    n2=c\n",
    "if(n2==n or n1==n):\n",
    "    print(\"yes\")\n",
    "else:\n",
    "    print(\"no\")\n",
    "    "
   ]
  },
  {
   "cell_type": "code",
   "execution_count": 32,
   "id": "597d5adc",
   "metadata": {},
   "outputs": [
    {
     "name": "stdout",
     "output_type": "stream",
     "text": [
      "371\n",
      "no\n"
     ]
    }
   ],
   "source": [
    "n=int(input())\n",
    "sum=0\n",
    "a=n\n",
    "while(a>0):\n",
    "    dig=n%10\n",
    "    sum=sum+dig**3\n",
    "    a=a//10\n",
    "if(n==sum):\n",
    "    print(\"yes\")\n",
    "else:\n",
    "    print(\"no\")\n"
   ]
  },
  {
   "cell_type": "code",
   "execution_count": 35,
   "id": "974f1584",
   "metadata": {},
   "outputs": [
    {
     "name": "stdout",
     "output_type": "stream",
     "text": [
      "271\n",
      "no\n"
     ]
    }
   ],
   "source": [
    "n=int(input())\n",
    "sum=0\n",
    "a=n\n",
    "while a>0:\n",
    "    dig=a%10\n",
    "    sum=sum+dig**3\n",
    "    a=a//10\n",
    "if(n==sum):\n",
    "    print(\"yes\")\n",
    "else:\n",
    "    print(\"no\")"
   ]
  },
  {
   "cell_type": "code",
   "execution_count": 37,
   "id": "93b0c8b2",
   "metadata": {},
   "outputs": [
    {
     "name": "stdout",
     "output_type": "stream",
     "text": [
      "8\n",
      "THIS NUMBER IS FIBRONCCI NUMBER\n"
     ]
    }
   ],
   "source": [
    "n=int(input())\n",
    "n1,n2=0,1\n",
    "while n2<n:\n",
    "    c=n1+n2\n",
    "    n1=n2\n",
    "    n2=c\n",
    "if(n1==n) or (n2==n):\n",
    "    print(\"THIS NUMBER IS FIBONCCI NUMBER\")\n",
    "else:\n",
    "    print(\"THIS NUMBER IS NOT FIBONCCI NUMBER\")"
   ]
  },
  {
   "cell_type": "code",
   "execution_count": 38,
   "id": "43082a62",
   "metadata": {},
   "outputs": [
    {
     "name": "stdout",
     "output_type": "stream",
     "text": [
      "enter n natural number10\n",
      "3025\n"
     ]
    }
   ],
   "source": [
    "#SUM OF CUBES N NATURAL NUMBER#\n",
    "n=int(input(\"enter n natural number\"))\n",
    "i=1\n",
    "sum=0\n",
    "while i<=n:\n",
    "    sum=sum+i**3\n",
    "    i+=1\n",
    "print(sum)    "
   ]
  },
  {
   "cell_type": "code",
   "execution_count": null,
   "id": "8fba5c5d",
   "metadata": {},
   "outputs": [],
   "source": []
  },
  {
   "cell_type": "code",
   "execution_count": null,
   "id": "322c48ed",
   "metadata": {},
   "outputs": [],
   "source": [
    "N=int(input())\n",
    "i=1\n",
    "while i<=N:\n",
    "    spaces=1\n",
    "   \n",
    "    while spaces<=N-i:\n",
    "        print(\"\",end=\"\")\n",
    "        spaces=spaces-1\n",
    "    j=1   \n",
    "    while j<=N:\n",
    "        print(N,end=\"\")\n",
    "        j=j+1\n",
    "    print()\n",
    "    i=i+1"
   ]
  },
  {
   "cell_type": "code",
   "execution_count": 2,
   "id": "3695f40b",
   "metadata": {},
   "outputs": [
    {
     "name": "stdout",
     "output_type": "stream",
     "text": [
      "enter start number10\n",
      "enter last number 20\n",
      "11  odd\n",
      "13  odd\n",
      "15  odd\n",
      "17  odd\n",
      "19  odd\n"
     ]
    }
   ],
   "source": [
    "#print odd number in range#\n",
    "a=int(input(\"enter start number\"))\n",
    "b=int(input(\"enter last number \"))\n",
    "while a<=b:\n",
    "    if(a%2!=0):\n",
    "        print(a,\" odd\")\n",
    "    a+=1\n"
   ]
  },
  {
   "cell_type": "code",
   "execution_count": 3,
   "id": "43285ed0",
   "metadata": {},
   "outputs": [
    {
     "data": {
      "text/plain": [
       "5"
      ]
     },
     "execution_count": 3,
     "metadata": {},
     "output_type": "execute_result"
    }
   ],
   "source": [
    "11111\n",
    "2222\n",
    "333\n",
    "44\n",
    "5"
   ]
  },
  {
   "cell_type": "code",
   "execution_count": 6,
   "id": "9fc612f3",
   "metadata": {},
   "outputs": [
    {
     "name": "stdout",
     "output_type": "stream",
     "text": [
      "5\n",
      "11111\n",
      "2222\n",
      "333\n",
      "44\n",
      "5\n",
      "\n"
     ]
    }
   ],
   "source": [
    "n=int(input())\n",
    "i=0\n",
    "x=1\n",
    "while i<=n:\n",
    "    j=1\n",
    "    while j<=n-i:\n",
    "        print(x,end=\"\")\n",
    "        j=j+1\n",
    "      \n",
    "    print()\n",
    "    i=i+1\n",
    "    x=x+1"
   ]
  },
  {
   "cell_type": "code",
   "execution_count": 9,
   "id": "99e2988d",
   "metadata": {},
   "outputs": [
    {
     "name": "stdout",
     "output_type": "stream",
     "text": [
      "5\n",
      "    1\n",
      "   111\n",
      "  11111\n",
      " 1111111\n",
      "111111111\n"
     ]
    }
   ],
   "source": [
    "n=int(input())\n",
    "i=1\n",
    "while i<=n:\n",
    "    spaces=1\n",
    "    while spaces<=n-i:\n",
    "        print(' ',end=\"\")\n",
    "        spaces=spaces=spaces+1\n",
    "    j=1\n",
    "    while j<=i:\n",
    "        print(1,end=\"\")\n",
    "        j=j+1\n",
    "    k=i-1\n",
    "    while k>0:\n",
    "        print(1,end=\"\")\n",
    "        k=k-1\n",
    "    print()\n",
    "    i=i+1"
   ]
  },
  {
   "cell_type": "code",
   "execution_count": null,
   "id": "2fc01057",
   "metadata": {},
   "outputs": [],
   "source": [
    "import math\n",
    "\n",
    "n=int(input())\n",
    "x=n\n",
    "i=0\n",
    "while i<=n:\n",
    "    spaces=0\n",
    "    while spaces<=n-i:\n",
    "        print(end=\"  \")\n",
    "        spaces=spaces=spaces+1\n",
    "    r=0 \n",
    "    while r<=i:\n",
    "        a=int((math.factorial(r)/((math.factorial(r-c))*(math.factorial(c)))))\n",
    "      \n",
    "        print(a,end=\"\")\n",
    "        r=r+1\n",
    "    print()\n",
    "    i=i+1\n",
    "        "
   ]
  },
  {
   "cell_type": "code",
   "execution_count": 1,
   "id": "644ad4da",
   "metadata": {},
   "outputs": [
    {
     "name": "stdout",
     "output_type": "stream",
     "text": [
      "4\n",
      "    1 \n",
      "   1 1 \n",
      "  1 2 1 \n",
      " 1 3 3 1 \n"
     ]
    }
   ],
   "source": [
    "#pascel Triangle\n",
    "import math\n",
    "n=int(input())\n",
    "x=n\n",
    "r=0\n",
    "while r<=n-1:\n",
    "    c=0\n",
    "    while c<n-r:\n",
    "        print(\" \",end=\"\")\n",
    "        c+=1\n",
    "    c=0\n",
    "    while c<=r:\n",
    "        a=int((math.factorial(r)/((math.factorial(r-c))*(math.factorial(c)))))\n",
    "        print(a,end=\" \")\n",
    "        c+=1\n",
    "    r+=1\n",
    "    print()"
   ]
  },
  {
   "cell_type": "code",
   "execution_count": 1,
   "id": "ccaf73b8",
   "metadata": {},
   "outputs": [
    {
     "name": "stdout",
     "output_type": "stream",
     "text": [
      "stop and smell the roses\n",
      "Stop And Smell The Roses\n"
     ]
    }
   ],
   "source": [
    "#write program with of each word  a function that accepts \n",
    "# string from keyboard and create a new string after \n",
    "#converting character of each word capitalized.\n",
    "def fun():\n",
    "    s=input()\n",
    "    cap=s.title()\n",
    "    print(cap)\n",
    "fun()    "
   ]
  },
  {
   "cell_type": "markdown",
   "id": "54388ce2",
   "metadata": {},
   "source": [
    "write a program tht accepts a list from user .your program should reverse the content of list and display it.do not use reverse() method"
   ]
  },
  {
   "cell_type": "code",
   "execution_count": 15,
   "id": "6a7d5aef",
   "metadata": {},
   "outputs": [
    {
     "name": "stdout",
     "output_type": "stream",
     "text": [
      "taking size of list5\n",
      "a\n",
      "b\n",
      "c\n",
      "d\n",
      "e\n",
      "reversed list is  ['e', 'd', 'c', 'b', 'a']\n"
     ]
    }
   ],
   "source": [
    "size=int(input(\"taking size of list\"))\n",
    "lis=[]\n",
    "for i in range(size):\n",
    "    val=(input())\n",
    "    lis.append(val)\n",
    "start=0\n",
    "end=len(lis)-1\n",
    "while start<=end:\n",
    "    lis[start],lis[end]=lis[end],lis[start]\n",
    "    start+=1\n",
    "    end-=1\n",
    "print(\"reversed list is \",lis)    \n",
    "    \n"
   ]
  },
  {
   "cell_type": "code",
   "execution_count": 28,
   "id": "f2e2f113",
   "metadata": {},
   "outputs": [
    {
     "name": "stdout",
     "output_type": "stream",
     "text": [
      "enter size of list:5\n",
      "87\n",
      "89\n",
      "63\n",
      "52\n",
      "90\n",
      "[87, 89, 63, 52, 90]\n",
      "maximum number from list is 90\n"
     ]
    }
   ],
   "source": [
    "size=int(input(\"enter size of list:\"))\n",
    "userlist=[]\n",
    "for i in range(size):\n",
    "    val=int(input())\n",
    "    userlist.append(val)\n",
    "print(userlist) \n",
    "i=1\n",
    "maximum=userlist[0]    \n",
    "for i in range(size):\n",
    "    if maximum<userlist[i]:\n",
    "        maximum=userlist[i]\n",
    "print(\"maximum number from list is\",maximum)    \n",
    "    "
   ]
  },
  {
   "cell_type": "markdown",
   "id": "61b76d34",
   "metadata": {},
   "source": [
    "sum of each row of matrix of size m*n"
   ]
  },
  {
   "cell_type": "code",
   "execution_count": null,
   "id": "bfc89e18",
   "metadata": {},
   "outputs": [],
   "source": []
  },
  {
   "cell_type": "code",
   "execution_count": null,
   "id": "cfcb034d",
   "metadata": {},
   "outputs": [],
   "source": []
  },
  {
   "cell_type": "code",
   "execution_count": 43,
   "id": "a88e3fb4",
   "metadata": {},
   "outputs": [
    {
     "name": "stdout",
     "output_type": "stream",
     "text": [
      "sum of row 1 = 32\n",
      "sum of row 2 = 31\n",
      "sum of row 3 = 63\n"
     ]
    }
   ],
   "source": [
    "#sum of row of matrix\n",
    "matrix=[\n",
    "    [2,11,7,12],\n",
    "    [5,2,9,15],\n",
    "    [8,3,10,42]\n",
    "]\n",
    "m=len(matrix)\n",
    "n=len(matrix[0])\n",
    "row_sums=[]\n",
    "for i in range(m):\n",
    "    rsum=sum(matrix[i])\n",
    "    row_sums.append(rsum)\n",
    "for i,rsum in enumerate(row_sums,start=1):\n",
    "    print(f\"sum of row {i} = {rsum}\")"
   ]
  },
  {
   "cell_type": "code",
   "execution_count": 3,
   "id": "415f61f2",
   "metadata": {},
   "outputs": [
    {
     "name": "stdout",
     "output_type": "stream",
     "text": [
      "HELLO 11 world\n",
      "number of uppercase letter in string 5\n",
      "number of lowercase letter in string 5\n",
      "number of digit  in string 2\n",
      "number of whitespace  in string 2\n"
     ]
    }
   ],
   "source": [
    "string=input()\n",
    "uppercase_count=0\n",
    "lowercase_count=0\n",
    "digit_count=0\n",
    "whitespace_count=0\n",
    "for char in string:\n",
    "    if char.isupper():\n",
    "        uppercase_count+=1\n",
    "    if char.islower():\n",
    "        lowercase_count+=1\n",
    "    if char.isdigit():\n",
    "        digit_count+=1\n",
    "    if char.isspace():\n",
    "        whitespace_count+=1\n",
    "    \n",
    "    \n",
    "print(\"number of uppercase letter in string\",uppercase_count) \n",
    "print(\"number of lowercase letter in string\", lowercase_count)\n",
    "print(\"number of digit  in string\"  ,digit_count)\n",
    "print(\"number of whitespace  in string\",  whitespace_count)"
   ]
  },
  {
   "cell_type": "code",
   "execution_count": 5,
   "id": "81458ab3",
   "metadata": {},
   "outputs": [
    {
     "name": "stdout",
     "output_type": "stream",
     "text": [
      "10\n",
      "10\n",
      "10\n",
      "0.0\n"
     ]
    }
   ],
   "source": [
    "#practice\n",
    "a=int(input())\n",
    "b=int(input())\n",
    "c=int(input())\n",
    "s=(a+b+c)/3\n",
    "area=(s*(s-a)*(s-b)*(s-c))**0.5\n",
    "print(area)"
   ]
  },
  {
   "cell_type": "code",
   "execution_count": 9,
   "id": "1e80f82b",
   "metadata": {},
   "outputs": [
    {
     "name": "stdout",
     "output_type": "stream",
     "text": [
      "5\n",
      "6\n",
      "6 5\n"
     ]
    }
   ],
   "source": [
    "a=int(input())\n",
    "b=int(input())\n",
    "c=a\n",
    "a=b\n",
    "b=c\n",
    "print(a,b)"
   ]
  },
  {
   "cell_type": "code",
   "execution_count": 22,
   "id": "4efdfe5f",
   "metadata": {},
   "outputs": [
    {
     "name": "stdout",
     "output_type": "stream",
     "text": [
      "temperature in celcius45\n",
      "113.0\n"
     ]
    }
   ],
   "source": [
    "t=int(input(\"temperature in celcius\"))\n",
    "f=(c*9/5)+32\n",
    "print(f)"
   ]
  },
  {
   "cell_type": "code",
   "execution_count": 23,
   "id": "7cacd31f",
   "metadata": {},
   "outputs": [
    {
     "name": "stdout",
     "output_type": "stream",
     "text": [
      "5\n",
      "number is odd\n"
     ]
    }
   ],
   "source": [
    "n=int(input())\n",
    "if(n%2==0):\n",
    "    print(\"number is even\")\n",
    "else:\n",
    "    print(\"number is odd\")"
   ]
  },
  {
   "cell_type": "code",
   "execution_count": 25,
   "id": "28a9118f",
   "metadata": {},
   "outputs": [
    {
     "name": "stdout",
     "output_type": "stream",
     "text": [
      "-9\n",
      "number is negative\n"
     ]
    }
   ],
   "source": [
    "n=int(input())\n",
    "if(n>0):\n",
    "    print(\"number is positive\")\n",
    "elif(n<0):\n",
    "    print(\"number is negative\") \n",
    "else:\n",
    "    \n",
    "    print(\"number is zero\")"
   ]
  },
  {
   "cell_type": "code",
   "execution_count": 32,
   "id": "84990d4a",
   "metadata": {},
   "outputs": [
    {
     "name": "stdout",
     "output_type": "stream",
     "text": [
      "153\n",
      "153\n",
      "number is armstrong\n"
     ]
    }
   ],
   "source": [
    "n=(input())\n",
    "p=len(n)\n",
    "n=int(n) \n",
    "sum=0\n",
    "temp=n\n",
    "while temp>0:\n",
    "    dig=temp%10\n",
    "    sum=sum+dig**p\n",
    "    temp=temp//10\n",
    "    \n",
    "if(sum==n):\n",
    "    print(\"number is armstrong\")\n",
    "else:\n",
    "    print(\"number is not armstrong\")"
   ]
  },
  {
   "cell_type": "code",
   "execution_count": 35,
   "id": "e62c30d5",
   "metadata": {},
   "outputs": [
    {
     "name": "stdout",
     "output_type": "stream",
     "text": [
      "8\n",
      "1\n",
      "2\n",
      "3\n",
      "5\n",
      "8\n",
      "yes\n"
     ]
    }
   ],
   "source": [
    "num=int(input())\n",
    "n1,n2=0,1\n",
    "while n2<num:\n",
    "    c=n1+n2\n",
    "    n1=n2\n",
    "    n2=c\n",
    "    print(c)\n",
    "if(num==c):\n",
    "    print(\"yes\")\n",
    "else:\n",
    "    print(\"no\")\n"
   ]
  },
  {
   "cell_type": "code",
   "execution_count": 38,
   "id": "923f298a",
   "metadata": {},
   "outputs": [
    {
     "name": "stdout",
     "output_type": "stream",
     "text": [
      "number of elements8\n",
      "1\n",
      "2\n",
      "3\n",
      "5\n",
      "8\n",
      "13\n",
      "21\n",
      "34\n"
     ]
    }
   ],
   "source": [
    "n=int(input(\"number of elements\"))\n",
    "n1,n2=0,1\n",
    "i=1\n",
    "while i<=n:\n",
    "    c=n1+n2\n",
    "    n1=n2\n",
    "    n2=c\n",
    "    print(c)\n",
    "    i=i+1\n",
    "    "
   ]
  },
  {
   "cell_type": "code",
   "execution_count": 41,
   "id": "eef41144",
   "metadata": {},
   "outputs": [
    {
     "name": "stdout",
     "output_type": "stream",
     "text": [
      "8\n",
      "1296\n"
     ]
    }
   ],
   "source": [
    "n=int(input())\n",
    "i=1\n",
    "sum=0\n",
    "while i<=n:\n",
    "    sum=sum+i**3\n",
    "    i=i+1\n",
    "print(sum)\n",
    "    \n",
    "    "
   ]
  },
  {
   "cell_type": "code",
   "execution_count": 42,
   "id": "27198f76",
   "metadata": {},
   "outputs": [
    {
     "name": "stdout",
     "output_type": "stream",
     "text": [
      "8\n",
      "1\n",
      "3\n",
      "5\n",
      "7\n"
     ]
    }
   ],
   "source": [
    "n=int(input())\n",
    "i=1\n",
    "while i<=n:\n",
    "    if(i%2==0):\n",
    "        pass\n",
    "    else:\n",
    "        print(i)\n",
    "    i=i+1    \n",
    "            "
   ]
  },
  {
   "cell_type": "code",
   "execution_count": 4,
   "id": "66335da6",
   "metadata": {},
   "outputs": [
    {
     "name": "stdout",
     "output_type": "stream",
     "text": [
      "5\n",
      "     1 \n",
      "    1 1 \n",
      "   1 2 1 \n",
      "  1 3 3 1 \n",
      " 1 4 6 4 1 \n"
     ]
    }
   ],
   "source": [
    "import math\n",
    "n=int(input())\n",
    "r=0\n",
    "while r<=n-1:\n",
    "    c=0\n",
    "    while c<n-r:\n",
    "        print(\" \",end=\"\")\n",
    "        c=c+1\n",
    "    c=0\n",
    "    while c<=r:\n",
    "        a=int((math.factorial(r))/(math.factorial(r-c)*(math.factorial(c))))\n",
    "        print(a,end=\" \")\n",
    "        c+=1\n",
    "    r=r+1\n",
    "    print()       \n",
    "        "
   ]
  },
  {
   "cell_type": "code",
   "execution_count": 55,
   "id": "2c5ec57d",
   "metadata": {},
   "outputs": [
    {
     "name": "stdout",
     "output_type": "stream",
     "text": [
      "5\n",
      "11111\n",
      "2222\n",
      "333\n",
      "44\n",
      "5\n"
     ]
    }
   ],
   "source": [
    "n=int(input())\n",
    "i=1\n",
    "while i<=n:\n",
    "    j=1\n",
    "    while j<=n-i+1:\n",
    "        print(i,end=\"\")\n",
    "        j=j+1\n",
    "    i=i+1\n",
    "    print()"
   ]
  },
  {
   "cell_type": "code",
   "execution_count": 59,
   "id": "bfa2c1c9",
   "metadata": {},
   "outputs": [
    {
     "name": "stdout",
     "output_type": "stream",
     "text": [
      "smell of flower is beautiful\n",
      "Smell Of Flower Is Beautiful\n"
     ]
    }
   ],
   "source": [
    "def cap(s):\n",
    "    s=input()\n",
    "    capt=s.title()\n",
    "    print(capt)\n",
    "cap(s)    \n"
   ]
  },
  {
   "cell_type": "code",
   "execution_count": 60,
   "id": "f2501ae1",
   "metadata": {},
   "outputs": [
    {
     "name": "stdout",
     "output_type": "stream",
     "text": [
      "153\n",
      "351\n"
     ]
    }
   ],
   "source": [
    "num=int(input())\n",
    "reverse=0\n",
    "while num>0:\n",
    "    dig=num%10\n",
    "    reverse=reverse*10+dig\n",
    "    num=num//10\n",
    "print(reverse)    "
   ]
  },
  {
   "cell_type": "code",
   "execution_count": 69,
   "id": "f2a96deb",
   "metadata": {},
   "outputs": [
    {
     "name": "stdout",
     "output_type": "stream",
     "text": [
      "10\n",
      "2\n",
      "3\n",
      "4\n",
      "5\n",
      "6\n",
      "7\n",
      "8\n",
      "9\n",
      "10\n",
      "11\n",
      "[11, 10, 9, 8, 7, 6, 5, 4, 3, 2]\n"
     ]
    }
   ],
   "source": [
    "li=[]\n",
    "n=int(input())\n",
    "i=1\n",
    "while i<=n:\n",
    "    val=int(input())\n",
    "    li.append(val)\n",
    "    \n",
    "    i=i+1\n",
    "i=0        \n",
    "while i<n:\n",
    "    \n",
    "    li[i],li[n-1]=li[n-1],li[i]\n",
    "    i=i+1\n",
    "    n-=1\n",
    "print(li)    "
   ]
  },
  {
   "cell_type": "code",
   "execution_count": 83,
   "id": "46d2ae9c",
   "metadata": {},
   "outputs": [
    {
     "name": "stdout",
     "output_type": "stream",
     "text": [
      "5\n",
      "2 3 6 5 5 1 5\n",
      "maximum number in list is 6\n",
      "[2, 3, 5, 5, 6]\n"
     ]
    }
   ],
   "source": [
    "n=int(input())\n",
    "li=list(map(int,input().strip().split()))[:n]\n",
    "\n",
    "li.sort()\n",
    "\n",
    "print(\"maximum number in list is\",li[n-1])\n",
    "print(li)\n"
   ]
  },
  {
   "cell_type": "code",
   "execution_count": 87,
   "id": "5d041bbb",
   "metadata": {},
   "outputs": [
    {
     "name": "stdout",
     "output_type": "stream",
     "text": [
      "SMee  22\n",
      "number of uppercase in string 2\n",
      "number of lowercase in string 2\n",
      "number of digit in string 2\n",
      "number of whitespace in string 2\n"
     ]
    }
   ],
   "source": [
    "s=input()\n",
    "uppercase=0\n",
    "lowercase=0\n",
    "digit=0\n",
    "whitespace=0\n",
    "for i in s:\n",
    "    if i.isupper():\n",
    "        uppercase+=1\n",
    "    elif i.islower():\n",
    "        lowercase+=1\n",
    "    elif i.isdigit():\n",
    "        digit+=1\n",
    "    elif i.isspace():\n",
    "        whitespace+=1\n",
    "print(\"number of uppercase in string\",uppercase)\n",
    "print(\"number of lowercase in string\",lowercase)\n",
    "print(\"number of digit in string\",digit)\n",
    "print(\"number of whitespace in string\",whitespace)        \n"
   ]
  },
  {
   "cell_type": "code",
   "execution_count": null,
   "id": "875eaba6",
   "metadata": {},
   "outputs": [],
   "source": []
  },
  {
   "cell_type": "code",
   "execution_count": 3,
   "id": "274768d8",
   "metadata": {},
   "outputs": [
    {
     "name": "stdout",
     "output_type": "stream",
     "text": [
      "smell\n",
      "sweet\n",
      "common character in string is {'e', 's'}\n"
     ]
    }
   ],
   "source": [
    "string1=set(input())\n",
    "string2=set(input())\n",
    "string=string1&string2\n",
    "print(\"common character in string is\",string)"
   ]
  },
  {
   "cell_type": "code",
   "execution_count": 8,
   "id": "74491a9c",
   "metadata": {},
   "outputs": [
    {
     "name": "stdout",
     "output_type": "stream",
     "text": [
      "herish\n",
      "7\n"
     ]
    }
   ],
   "source": [
    "string=input()\n",
    "count=1\n",
    "i=0\n",
    "while i<len(string):\n",
    "    if 'i' in string:\n",
    "        count+=1\n",
    "    elif 'u' in string:\n",
    "        count+=1\n",
    "    elif 'e' in string:\n",
    "        count+=1\n",
    "    elif 'o' in string:\n",
    "        count+=1\n",
    "    elif 'a' in string:\n",
    "        count+=1\n",
    "    i=i+1    \n",
    "print(count)        \n",
    "            "
   ]
  },
  {
   "cell_type": "code",
   "execution_count": 7,
   "id": "d7f3ff60",
   "metadata": {},
   "outputs": [
    {
     "name": "stdout",
     "output_type": "stream",
     "text": [
      "(('Red', 'White', 'Blue'), ('Green', 'Pink', 'purple'), ('Orange', 'Yellow', 'Lime'))\n",
      "check if White present in said tuple of tuples\n",
      "True\n",
      "check if Olive present in said tuple of tuples\n",
      "False\n"
     ]
    }
   ],
   "source": [
    "in_tuples=(\n",
    "    ('Red','White','Blue'),\n",
    "    ('Green','Pink','purple'),\n",
    "    ('Orange','Yellow','Lime')\n",
    ")\n",
    "def tuples(in_tuples,c):\n",
    "    result=any(c in tu for tu in in_tuples)\n",
    "    return result\n",
    "c1='White'\n",
    "c2='Olive'\n",
    "print(in_tuples)\n",
    "print(f\"check if {c1} present in said tuple of tuples\")\n",
    "print(tuples(in_tuples,c1))\n",
    "print(f\"check if {c2} present in said tuple of tuples\")\n",
    "print(tuples(in_tuples,c2))\n",
    "\n"
   ]
  },
  {
   "cell_type": "code",
   "execution_count": 110,
   "id": "73ffea89",
   "metadata": {},
   "outputs": [
    {
     "name": "stdout",
     "output_type": "stream",
     "text": [
      "[7, 14, 21, 28, 35, 42, 49, 56, 63, 70, 77, 84, 91, 98]\n"
     ]
    }
   ],
   "source": [
    "result=[n for n in range(1,100) if n%7==0]\n",
    "print(result)"
   ]
  },
  {
   "cell_type": "code",
   "execution_count": 112,
   "id": "dbf2e6ce",
   "metadata": {},
   "outputs": [
    {
     "name": "stdout",
     "output_type": "stream",
     "text": [
      "[3, 13, 23, 30, 31, 32, 33, 34, 35, 36, 37, 38, 39, 43, 53, 63, 73, 83, 93]\n"
     ]
    }
   ],
   "source": [
    "result=[n for n in range(1,100) if '3' in str(n)]\n",
    "print(result)"
   ]
  },
  {
   "cell_type": "code",
   "execution_count": 114,
   "id": "3a32bef1",
   "metadata": {},
   "outputs": [
    {
     "name": "stdout",
     "output_type": "stream",
     "text": [
      "4\n"
     ]
    }
   ],
   "source": [
    "string=\"harry is a good boy\"\n",
    "result=[n for n in string if n==' ' ]\n",
    "print(len(result))"
   ]
  },
  {
   "cell_type": "code",
   "execution_count": 118,
   "id": "269bc17e",
   "metadata": {},
   "outputs": [
    {
     "name": "stdout",
     "output_type": "stream",
     "text": [
      "['Y', 'l', 'l', 'w', 'Y', 'k', 's', 'l', 'k', 'y', 'l', 'l', 'n', 'g', 'n', 'd', 'y', 'w', 'n', 'n', 'g', 'n', 'd', 'y', 's', 't', 'r', 'd', 'y', 't', 'h', 'y', 'y', 'd', 'l', 'd', 'w', 'h', 'l', 't', 'n', 'g', 'y', 'k', 'y', 'y', 'm', 's']\n"
     ]
    }
   ],
   "source": [
    "string=\"Yellow Yaks like yelling and yawning and yesturday they yodled while eating yuky yams\"\n",
    "result=[n for n in string if n not in'a,i,e,u,o ,\" \"']\n",
    "print(result)"
   ]
  },
  {
   "cell_type": "code",
   "execution_count": 119,
   "id": "9040924b",
   "metadata": {},
   "outputs": [
    {
     "name": "stdout",
     "output_type": "stream",
     "text": [
      "[(0, 1), (1, 4), (2, 8.99), (3, 'hi'), (4, ('hello', 5, 4))]\n"
     ]
    }
   ],
   "source": [
    "list1=[1,4,8.99,\"hi\",(\"hello\",5,4)]\n",
    "result=[(index,items) for index,items in enumerate(list1)]\n",
    "print(result)"
   ]
  },
  {
   "cell_type": "code",
   "execution_count": 122,
   "id": "c1905cad",
   "metadata": {},
   "outputs": [
    {
     "name": "stdout",
     "output_type": "stream",
     "text": [
      "[(0, 1), (1, 4), (2, 8.99), (3, 'hi'), (4, ('hello', 5, 4))]\n"
     ]
    }
   ],
   "source": [
    "list1=[1,4,8.99,\"hi\",(\"hello\",5,4)]\n",
    "result=[(list1.index(x),x) for x in list1]\n",
    "print(result)"
   ]
  },
  {
   "cell_type": "code",
   "execution_count": 127,
   "id": "2986f7d3",
   "metadata": {},
   "outputs": [
    {
     "name": "stdout",
     "output_type": "stream",
     "text": [
      "[2, 3]\n"
     ]
    }
   ],
   "source": [
    "list_a=[1,2,3,4]\n",
    "list_b=[2,3,5,9]\n",
    "result=[a for a in list_a if a in list_b]\n",
    "print(result)"
   ]
  },
  {
   "cell_type": "code",
   "execution_count": 125,
   "id": "77ab6797",
   "metadata": {},
   "outputs": [
    {
     "name": "stdout",
     "output_type": "stream",
     "text": [
      "['1984', '13', '1000']\n"
     ]
    }
   ],
   "source": [
    "string=\"In 1984 there were 13 instances of a protest with over 1000 people attending\"\n",
    "str1=string.split()\n",
    "result=[n for n in str1 if n.isnumeric()]\n",
    "print(result)"
   ]
  },
  {
   "cell_type": "code",
   "execution_count": 126,
   "id": "7fce71db",
   "metadata": {},
   "outputs": [
    {
     "name": "stdout",
     "output_type": "stream",
     "text": [
      "['even', 'odd', 'even', 'odd', 'even', 'odd', 'even', 'odd', 'even', 'odd']\n"
     ]
    }
   ],
   "source": [
    "result=['even' if n%2==0 else 'odd' for n in range(10)]\n",
    "print(result)"
   ]
  },
  {
   "cell_type": "code",
   "execution_count": 129,
   "id": "06012fe6",
   "metadata": {},
   "outputs": [
    {
     "name": "stdout",
     "output_type": "stream",
     "text": [
      "['he', 'is', 'a', 'but', 'at', 'the', 'of']\n"
     ]
    }
   ],
   "source": [
    "string=\"he is a good person but cheat every time at the time of help\"\n",
    "str1=string.split()\n",
    "result=[n for n in str1 if len(n)<4]\n",
    "print(result)\n",
    "\n"
   ]
  },
  {
   "cell_type": "code",
   "execution_count": 133,
   "id": "0574c833",
   "metadata": {},
   "outputs": [
    {
     "name": "stdout",
     "output_type": "stream",
     "text": [
      "[2, 3, 4, 5, 6, 7, 8, 9]\n"
     ]
    }
   ],
   "source": [
    "numbers=list(range(1,10))\n",
    "divisors=list(range(2,9))\n",
    "result=[n for n in numbers if any([n%d==0 for d in divisors])]\n",
    "print(result)"
   ]
  },
  {
   "cell_type": "code",
   "execution_count": 160,
   "id": "3a0604a1",
   "metadata": {},
   "outputs": [
    {
     "ename": "TypeError",
     "evalue": "armstrong() takes 1 positional argument but 2 were given",
     "output_type": "error",
     "traceback": [
      "\u001b[1;31m---------------------------------------------------------------------------\u001b[0m",
      "\u001b[1;31mTypeError\u001b[0m                                 Traceback (most recent call last)",
      "Cell \u001b[1;32mIn[160], line 16\u001b[0m\n\u001b[0;32m     12\u001b[0m     \u001b[38;5;28;01mif\u001b[39;00m sum1\u001b[38;5;241m==\u001b[39moriginal_s:\n\u001b[0;32m     13\u001b[0m         \u001b[38;5;28;01mreturn\u001b[39;00m original_s\n\u001b[1;32m---> 16\u001b[0m result\u001b[38;5;241m=\u001b[39m(reduce(armstrong,list1))\n\u001b[0;32m     17\u001b[0m \u001b[38;5;28mprint\u001b[39m(result)\n",
      "\u001b[1;31mTypeError\u001b[0m: armstrong() takes 1 positional argument but 2 were given"
     ]
    }
   ],
   "source": [
    "from functools import reduce\n",
    "list1=[121,153,256,548,457,412]\n",
    "\n",
    "def armstrong(s):\n",
    "    sum1=0\n",
    "    original_s=s\n",
    "    \n",
    "    while s>0:\n",
    "        dig=s%10\n",
    "        sum1=dig**3+sum1\n",
    "        s=s//10\n",
    "    if sum1==original_s:\n",
    "        return original_s\n",
    "\n",
    "        \n",
    "result=reduce(armstrong,list1)\n",
    "print(result)"
   ]
  },
  {
   "cell_type": "code",
   "execution_count": 147,
   "id": "d4f6ef7e",
   "metadata": {},
   "outputs": [
    {
     "name": "stdout",
     "output_type": "stream",
     "text": [
      "[0, 153, 0, 0, 0, 0]\n"
     ]
    }
   ],
   "source": [
    "from functools import reduce\n",
    "list1 = [121, 153, 256, 548, 457, 412]\n",
    "sum1 = 0\n",
    "\n",
    "def armstrong(s):\n",
    "    global sum1\n",
    "    original_s = s  # Store the original value of s\n",
    "    sum1 = 0  # Reset sum1 for each number\n",
    "    while s > 0:\n",
    "        dig = s % 10\n",
    "        sum1 = dig**3 + sum1\n",
    "        s = s // 10\n",
    "    if sum1 == original_s:\n",
    "        return original_s\n",
    "    else:\n",
    "        return 0\n",
    "\n",
    "result = reduce(armstrong, list1))\n",
    "print(result)\n",
    "\n"
   ]
  },
  {
   "cell_type": "code",
   "execution_count": 1,
   "id": "be54f5cf",
   "metadata": {},
   "outputs": [
    {
     "name": "stdout",
     "output_type": "stream",
     "text": [
      "153\n"
     ]
    }
   ],
   "source": [
    "from functools import reduce\n",
    "\n",
    "list1 = [121, 153, 256, 548, 457, 412]\n",
    "\n",
    "def armstrong_sum(acc , s):\n",
    "    sum1 = 0\n",
    "    original_s = s\n",
    "\n",
    "    while s > 0:\n",
    "        dig = s % 10\n",
    "        sum1 = dig**3 + sum1\n",
    "        s = s // 10\n",
    "\n",
    "    if sum1 == original_s:\n",
    "        return  acc+original_s\n",
    "    else:\n",
    "        return acc\n",
    "\n",
    "result =reduce(armstrong_sum, list1,0)\n",
    "print(result)\n"
   ]
  },
  {
   "cell_type": "code",
   "execution_count": 172,
   "id": "4e2fa7f8",
   "metadata": {},
   "outputs": [
    {
     "name": "stdout",
     "output_type": "stream",
     "text": [
      "[3, 6, 9, 12, 15, 18, 21]\n"
     ]
    }
   ],
   "source": [
    "list1=[1,2,3,4,5,6,7]\n",
    "def triple(s):\n",
    "    return s+s+s\n",
    "result=list(map(triple,list1))\n",
    "print(result)"
   ]
  },
  {
   "cell_type": "code",
   "execution_count": 174,
   "id": "d726481b",
   "metadata": {},
   "outputs": [
    {
     "name": "stdout",
     "output_type": "stream",
     "text": [
      "[10, 16, 23]\n"
     ]
    }
   ],
   "source": [
    "num1=[2,5,9]\n",
    "num2=[3,5,6]\n",
    "num3=[5,6,8]\n",
    "result=list(map(lambda x,y,z:x+y+z,num1,num2,num3))\n",
    "print(result)"
   ]
  },
  {
   "cell_type": "code",
   "execution_count": 175,
   "id": "b9f72d1a",
   "metadata": {},
   "outputs": [
    {
     "name": "stdout",
     "output_type": "stream",
     "text": [
      "[['o', 'r', 'a', 'n', 'g', 'e'], ['r', 'e', 'd'], ['b', 'l', 'u', 'e'], ['y', 'e', 'l', 'l', 'o', 'w']]\n"
     ]
    }
   ],
   "source": [
    "string=['orange','red','blue','yellow']\n",
    "result=list(map(list,string))\n",
    "print(result)\n"
   ]
  },
  {
   "cell_type": "code",
   "execution_count": 181,
   "id": "54bc5797",
   "metadata": {},
   "outputs": [
    {
     "name": "stdout",
     "output_type": "stream",
     "text": [
      "[10, 400, 27000, 2560000, 312500000]\n"
     ]
    }
   ],
   "source": [
    "num=[10,20,30,40,50]\n",
    "index=[]\n",
    "for i in range(1,len(num)+1):\n",
    "    index.append(i)\n",
    "result=list(map(pow,num,index))\n",
    "print(result)"
   ]
  },
  {
   "cell_type": "code",
   "execution_count": 183,
   "id": "f98528cd",
   "metadata": {},
   "outputs": [
    {
     "name": "stdout",
     "output_type": "stream",
     "text": [
      "[1, 4, 9, 16, 25, 36]\n"
     ]
    }
   ],
   "source": [
    "list1=[1,2,3,4,5,6]\n",
    "result=list(map(lambda x:x**2,list1))\n",
    "print(result)"
   ]
  },
  {
   "cell_type": "code",
   "execution_count": 185,
   "id": "ec0a94b4",
   "metadata": {},
   "outputs": [
    {
     "name": "stdout",
     "output_type": "stream",
     "text": [
      "[('A', 'a'), ('E', 'e'), ('H', 'h'), ('X', 'x'), ('Y', 'y')]\n"
     ]
    }
   ],
   "source": [
    "list1=['a','x','E','h','y']\n",
    "list1.sort(key=str.lower)\n",
    "def functool(s):\n",
    "    global list1\n",
    "    return str(s).upper(),str(s).lower()\n",
    "result=list(map(functool,list1))\n",
    "print(result)"
   ]
  },
  {
   "cell_type": "code",
   "execution_count": 186,
   "id": "bb4c2381",
   "metadata": {},
   "outputs": [
    {
     "name": "stdout",
     "output_type": "stream",
     "text": [
      "sum of two lists [3, 7, 11, 13]\n",
      "difference of two lists [-1, -3, -5, -5]\n"
     ]
    }
   ],
   "source": [
    "list1=[1,2,3,4]\n",
    "list2=[2,5,8,9]\n",
    "result1=list(map(lambda x,y:x+y,list1,list2))\n",
    "result2=list(map(lambda x,y:x-y,list1,list2))\n",
    "print(\"sum of two lists\",result1)\n",
    "print(\"difference of two lists\",result2)"
   ]
  },
  {
   "cell_type": "code",
   "execution_count": 187,
   "id": "818f6b39",
   "metadata": {},
   "outputs": [
    {
     "name": "stdout",
     "output_type": "stream",
     "text": [
      "[(3, -1), (7, -3), (11, -5), (13, -5)]\n"
     ]
    }
   ],
   "source": [
    "def rule(x,y):\n",
    "    return x+y ,x-y\n",
    "list1=[1,2,3,4]\n",
    "list2=[2,5,8,9]\n",
    "result=list(map(rule,list1,list2))\n",
    "print(result)\n",
    "    "
   ]
  },
  {
   "cell_type": "code",
   "execution_count": 188,
   "id": "49bba6b3",
   "metadata": {},
   "outputs": [
    {
     "name": "stdout",
     "output_type": "stream",
     "text": [
      "['1', '2', '3', '4', '5']\n",
      "('2', '5', '8', '9')\n"
     ]
    }
   ],
   "source": [
    "list1=[1,2,3,4,5]\n",
    "tuple1=(1,2,3,4,5)\n",
    "result1=list(map(str,list1))\n",
    "result2=tuple(map(str,list2))\n",
    "print(result1)\n",
    "print(result2)"
   ]
  },
  {
   "cell_type": "code",
   "execution_count": 202,
   "id": "fec0c31b",
   "metadata": {},
   "outputs": [
    {
     "name": "stdout",
     "output_type": "stream",
     "text": [
      "10\n",
      "[1, 2, 3, 5, 8, 13, 21, 34, 55, 89]\n",
      "[1, 4, 9, 25, 64, 169, 441, 1156, 3025, 7921]\n",
      "5\n",
      "[1, 2, 3, 5, 8]\n",
      "[1, 4, 9, 25, 64]\n"
     ]
    }
   ],
   "source": [
    "def fibonacci(x=0,y=1):\n",
    "    n=int(input())\n",
    "    li=[]\n",
    "    for i in range(n):\n",
    "        z=x+y\n",
    "        x=y\n",
    "       \n",
    "        y=z\n",
    "        li.append(y)\n",
    "    print(li)\n",
    "    square=list(map(lambda a:a*a,li))\n",
    "    print(square)        \n",
    "fibonacci()\n",
    "fibonacci()\n"
   ]
  },
  {
   "cell_type": "code",
   "execution_count": 8,
   "id": "ac0197fd",
   "metadata": {},
   "outputs": [
    {
     "name": "stdout",
     "output_type": "stream",
     "text": [
      "100\n"
     ]
    }
   ],
   "source": [
    "from functools import reduce\n",
    "array=[10,20,30,40]\n",
    "def sum(x,y):\n",
    "    return x+y\n",
    "result=reduce(sum,array)\n",
    "print(result)"
   ]
  },
  {
   "cell_type": "code",
   "execution_count": 218,
   "id": "42f6d946",
   "metadata": {},
   "outputs": [
    {
     "name": "stdout",
     "output_type": "stream",
     "text": [
      "(0.3333333333333333, 0.3333333333333333, 0.3333333333333333)\n"
     ]
    }
   ],
   "source": [
    "num=[0,1,2,3,0,1,2,0,6,0,4,-1,-8,-9,-7]\n",
    "def ratio(s):\n",
    "    num=[0,0,0,0,1,2,2,2,-1,-8,-9,-7]\n",
    "    num1=len(num)\n",
    "    n1=n2=n3=0\n",
    "    for n in num:\n",
    "        if n<0:\n",
    "            n1+=1\n",
    "        elif(n==0):\n",
    "            n2+=1\n",
    "        else:\n",
    "            n3+=1\n",
    "    return (n1/num1),(n2/num1),(n3/num1)\n",
    "result=ratio(num)\n",
    "print(result)"
   ]
  },
  {
   "cell_type": "code",
   "execution_count": 219,
   "id": "b97f9fe1",
   "metadata": {},
   "outputs": [
    {
     "name": "stdout",
     "output_type": "stream",
     "text": [
      "[['g'], ['h', 'e', 'l', 'l', 'o'], ['w', 'o', 'r', 'l', 'd'], ['p', 'y', 't', 'h', 'o', 'n']]\n"
     ]
    }
   ],
   "source": [
    "list1=['g','hello','world','python']\n",
    "result=list(map(list,list1))\n",
    "print(result)"
   ]
  },
  {
   "cell_type": "code",
   "execution_count": 221,
   "id": "66f73d78",
   "metadata": {},
   "outputs": [
    {
     "name": "stdout",
     "output_type": "stream",
     "text": [
      "[\"('red', 'pink')\", \"('white', 'black')\", \"('orange', 'green')\"]\n"
     ]
    }
   ],
   "source": [
    "list1=[('red', 'pink'), ('white', 'black'), ('orange', 'green')]\n",
    "result=list(map(str,list1))\n",
    "print(result)"
   ]
  },
  {
   "cell_type": "code",
   "execution_count": 227,
   "id": "2ee6c9cf",
   "metadata": {},
   "outputs": [
    {
     "name": "stdout",
     "output_type": "stream",
     "text": [
      "enter number of rows3\n",
      "enter number of columns3\n",
      "1\n",
      "2\n",
      "3\n",
      "4\n",
      "5\n",
      "6\n",
      "7\n",
      "8\n",
      "9\n",
      "1 2 3 \n",
      "4 5 6 \n",
      "7 8 9 \n",
      "<class 'numpy.ndarray'>\n"
     ]
    }
   ],
   "source": [
    "import numpy as np\n",
    "matrix=[]\n",
    "rows=int(input(\"enter number of rows\"))\n",
    "cols=int(input(\"enter number of columns\"))\n",
    "for i in range(rows):\n",
    "    a=[]\n",
    "    for j in range(cols):\n",
    "        val=int(input())\n",
    "        a.append(val)\n",
    "    matrix.append(a)\n",
    "arr=np.array(matrix)    \n",
    "for i in range(rows):\n",
    "    for j in range(cols):\n",
    "        print(arr[i][j],end=\" \")\n",
    "    print()   \n",
    "print(type(arr))    "
   ]
  },
  {
   "cell_type": "code",
   "execution_count": 238,
   "id": "2662f5b9",
   "metadata": {},
   "outputs": [
    {
     "name": "stdout",
     "output_type": "stream",
     "text": [
      "[[2 4 1]\n",
      " [1 4 2]\n",
      " [4 2 4]]\n"
     ]
    }
   ],
   "source": [
    "import numpy as np\n",
    "np.random.seed(111)\n",
    "a=np.random.randint(1,5,9).reshape(3,3)\n",
    "print(a)"
   ]
  },
  {
   "cell_type": "code",
   "execution_count": 14,
   "id": "778c24da",
   "metadata": {},
   "outputs": [
    {
     "data": {
      "text/plain": [
       "array([[85, 85],\n",
       "       [85, 87]])"
      ]
     },
     "execution_count": 14,
     "metadata": {},
     "output_type": "execute_result"
    }
   ],
   "source": [
    "import numpy as np\n",
    "np.random.seed(111)\n",
    "a=np.random.randint(1,100,4).reshape(2,2)\n",
    "a"
   ]
  },
  {
   "cell_type": "code",
   "execution_count": 20,
   "id": "4fee5817",
   "metadata": {},
   "outputs": [
    {
     "name": "stdout",
     "output_type": "stream",
     "text": [
      "[10]\n"
     ]
    }
   ],
   "source": [
    "jagged_list = [\n",
    "    [1, 2, 3],\n",
    "    [4, 5],\n",
    "    [6, 7, 8, 9],\n",
    "    [10]\n",
    "]\n",
    "result=jagged_list[3]\n",
    "print(result)"
   ]
  },
  {
   "cell_type": "code",
   "execution_count": 251,
   "id": "3a7f64c9",
   "metadata": {},
   "outputs": [
    {
     "name": "stdout",
     "output_type": "stream",
     "text": [
      "Enter the number of rows: 3\n",
      "Enter space-separated elements for row 1: 1 2 3 \n",
      "Enter space-separated elements for row 2: 1 2\n",
      "Enter space-separated elements for row 3: 2 5 1 \n",
      "User Input Jagged List: [[1, 2, 3], [1, 2], [2, 5, 1]]\n"
     ]
    }
   ],
   "source": [
    "# Function to take user input for a jagged list\n",
    "def input_jagged_list():\n",
    "    jagged_list = []\n",
    "    rows = int(input(\"Enter the number of rows: \"))\n",
    "\n",
    "    for i in range(rows):\n",
    "        sublist = list(map(int, input(f\"Enter space-separated elements for row {i + 1}: \").split()))\n",
    "        jagged_list.append(sublist)\n",
    "\n",
    "    return jagged_list\n",
    "\n",
    "# Example usage\n",
    "user_jagged_list = input_jagged_list()\n",
    "print(\"User Input Jagged List:\", user_jagged_list)\n"
   ]
  },
  {
   "cell_type": "code",
   "execution_count": 259,
   "id": "5604b5e9",
   "metadata": {},
   "outputs": [
    {
     "name": "stdout",
     "output_type": "stream",
     "text": [
      "    October 2022\n",
      "Mo Tu We Th Fr Sa Su\n",
      "                1  2\n",
      " 3  4  5  6  7  8  9\n",
      "10 11 12 13 14 15 16\n",
      "17 18 19 20 21 22 23\n",
      "24 25 26 27 28 29 30\n",
      "31\n",
      "\n"
     ]
    }
   ],
   "source": [
    "import calendar\n",
    "\n",
    "print(calendar.month(2022,10))"
   ]
  },
  {
   "cell_type": "code",
   "execution_count": 253,
   "id": "6edc590a",
   "metadata": {},
   "outputs": [
    {
     "name": "stdout",
     "output_type": "stream",
     "text": [
      "enter number of rows3\n",
      "ENter space _seperated inputs1:12\n",
      "ENter space _seperated inputs2:1 2 3 4 5 6\n",
      "ENter space _seperated inputs3: 1 2 3 \n",
      "[[12], [1, 2, 3, 4, 5, 6], [1, 2, 3]]\n"
     ]
    }
   ],
   "source": [
    "def list_jag():\n",
    "    jagged_list=[]\n",
    "    rows=int(input(\"enter number of rows\"))\n",
    "    for i in range (rows):\n",
    "        sublists=list(map(int,input(f\"ENter space _seperated inputs{i+1}:\").split()))\n",
    "        jagged_list.append(sublists)\n",
    "    return jagged_list\n",
    "print(list_jag())"
   ]
  },
  {
   "cell_type": "code",
   "execution_count": 256,
   "id": "3e70ca9d",
   "metadata": {},
   "outputs": [
    {
     "name": "stdout",
     "output_type": "stream",
     "text": [
      "['False', 'None', 'True', 'and', 'as', 'assert', 'async', 'await', 'break', 'class', 'continue', 'def', 'del', 'elif', 'else', 'except', 'finally', 'for', 'from', 'global', 'if', 'import', 'in', 'is', 'lambda', 'nonlocal', 'not', 'or', 'pass', 'raise', 'return', 'try', 'while', 'with', 'yield']\n"
     ]
    }
   ],
   "source": [
    "import keyword\n",
    "print(keyword.kwlist)"
   ]
  },
  {
   "cell_type": "code",
   "execution_count": 267,
   "id": "fa2c6424",
   "metadata": {},
   "outputs": [
    {
     "name": "stdout",
     "output_type": "stream",
     "text": [
      "-2.5\n",
      "invalid input\n"
     ]
    }
   ],
   "source": [
    "try:\n",
    "    \n",
    "    n=int(input())\n",
    "    if n%2==0:\n",
    "        print(\"even\")\n",
    "    else:\n",
    "        print(\"odd\")\n",
    "except ValueError:\n",
    "    if n<=0:\n",
    "        print(\"invalid input\")"
   ]
  },
  {
   "cell_type": "code",
   "execution_count": 22,
   "id": "ec471fa3",
   "metadata": {},
   "outputs": [],
   "source": [
    "f=open(\"main.txt\",'w')\n",
    "f.write(\"lorem100 times  not workes in python but in html works properly \")\n",
    "f.close()\n",
    "try:\n",
    "    f=open(\"main.txt\",'r')\n",
    "    try:\n",
    "        f.read()\n",
    "    except:\n",
    "        print(\"something went wrong\")\n",
    "except:\n",
    "    f.close()\n",
    "    \n",
    "    "
   ]
  },
  {
   "cell_type": "code",
   "execution_count": 272,
   "id": "b785ec80",
   "metadata": {},
   "outputs": [],
   "source": [
    "\n",
    "try:\n",
    "    f = open(\"demofile.txt\",'w')\n",
    "    try:\n",
    "        f.write(\"Lorum Ipsum\")\n",
    "    except:\n",
    "        print(\"Something went wrong when writing to the file\")\n",
    "    finally:\n",
    "        f.close()\n",
    "except:\n",
    "  print(\"Something went wrong when opening the file\")  \n"
   ]
  },
  {
   "cell_type": "code",
   "execution_count": 2,
   "id": "624368f8",
   "metadata": {},
   "outputs": [
    {
     "name": "stdout",
     "output_type": "stream",
     "text": [
      "(('Red', 'White', 'Blue'), ('Green', 'Pink', 'purple'), ('Orange', 'Yellow', 'Lime'))\n",
      "check if white present in tuples of tuple \n",
      "False\n",
      "check if olive present in tuples of tuple \n",
      "False\n"
     ]
    }
   ],
   "source": [
    "in_tuples=(\n",
    "    ('Red','White','Blue'),\n",
    "    ('Green','Pink','purple'),\n",
    "    ('Orange','Yellow','Lime')\n",
    ")\n",
    "def tuples(in_tuples,c):\n",
    "    result=any(c in tu for tu in in_tuples)\n",
    "    return result\n",
    "n1=\"white\"\n",
    "n2=\"olive\"\n",
    "print(in_tuples) \n",
    "print(f\"check if {n1} present in tuples of tuple \")\n",
    "print(tuples(in_tuples,n1))\n",
    "print(f\"check if {n2} present in tuples of tuple \")\n",
    "print(tuples(in_tuples,n2))"
   ]
  },
  {
   "cell_type": "code",
   "execution_count": 4,
   "id": "df3b1c3e",
   "metadata": {},
   "outputs": [
    {
     "name": "stdout",
     "output_type": "stream",
     "text": [
      "(('Red', 'White', 'Blue'), ('Green', 'Pink', 'purple'), ('Orange', 'Yellow', 'Lime'))\n",
      "check if White present in said tuple of tuples\n",
      "True\n",
      "check if Olive present in said tuple of tuples\n",
      "False\n"
     ]
    }
   ],
   "source": [
    "in_tuples=(\n",
    "    ('Red','White','Blue'),\n",
    "    ('Green','Pink','purple'),\n",
    "    ('Orange','Yellow','Lime')\n",
    ")\n",
    "def tuples(in_tuples,c):\n",
    "    result=any(c in tu for tu in in_tuples)\n",
    "    return result\n",
    "c1='White'\n",
    "c2='Olive'\n",
    "print(in_tuples)\n",
    "print(f\"check if {c1} present in said tuple of tuples\")\n",
    "print(tuples(in_tuples,c1))\n",
    "print(f\"check if {c2} present in said tuple of tuples\")\n",
    "print(tuples(in_tuples,c2))\n",
    "\n"
   ]
  },
  {
   "cell_type": "code",
   "execution_count": 12,
   "id": "1a83fb71",
   "metadata": {},
   "outputs": [
    {
     "name": "stdout",
     "output_type": "stream",
     "text": [
      "[('',), ('a', 'b')]\n"
     ]
    }
   ],
   "source": [
    "tuples=[(),(),(\"\",),('a','b')]\n",
    "result=[tu for tu in tuples if not tu ==()]\n",
    "print(result)"
   ]
  },
  {
   "cell_type": "code",
   "execution_count": 16,
   "id": "5bb85597",
   "metadata": {},
   "outputs": [
    {
     "name": "stdout",
     "output_type": "stream",
     "text": [
      "Difference of two lists are [40, 10, 4]\n"
     ]
    }
   ],
   "source": [
    "list1=[10,20,30,4,40]\n",
    "list2=[20,30,50,60,80]\n",
    "list1=set(list1)\n",
    "list2=set(list2)\n",
    "print(\"Difference of two lists are\",list(list1.difference(list2)))"
   ]
  },
  {
   "cell_type": "code",
   "execution_count": 43,
   "id": "130d754d",
   "metadata": {},
   "outputs": [
    {
     "name": "stdout",
     "output_type": "stream",
     "text": [
      "{'Manjeet': [1], 'Akash': [8, 1, 9]}\n",
      "{'Manjeet': [1], 'Akash': [1]}\n"
     ]
    }
   ],
   "source": [
    "def duplcate(input_dict):\n",
    "    dict1={}\n",
    "    for key,value_item in input_dict.items():\n",
    "        dict1[key]=list(set(value_item))\n",
    "    return dict1\n",
    "input_dict1={'Manjeet':[1],'Akash':[1,8,9]}\n",
    "input_dict2={'Manjeet':[1,1,1],'Akash':[1,1,1]}\n",
    "output1=duplcate(input_dict1)\n",
    "output2=duplcate(input_dict2)\n",
    "print(output1)\n",
    "print(output2)\n",
    "        "
   ]
  },
  {
   "cell_type": "code",
   "execution_count": 24,
   "id": "f216e5fe",
   "metadata": {},
   "outputs": [
    {
     "name": "stdout",
     "output_type": "stream",
     "text": [
      "1:5\n",
      "2:4\n",
      "3:3\n",
      "44:1\n",
      "4:1\n"
     ]
    }
   ],
   "source": [
    "input_list=[1,1,1,1,1,2,2,2,2,3,3,3,44,4]\n",
    "freq={}\n",
    "for items in input_list:\n",
    "    if items in freq:\n",
    "        freq[items]+=1\n",
    "    else:\n",
    "        freq[items]=1\n",
    "for key , values in freq.items():\n",
    "    print(f\"{key}:{values}\")\n",
    "        "
   ]
  },
  {
   "cell_type": "code",
   "execution_count": null,
   "id": "0bfe46d5",
   "metadata": {},
   "outputs": [],
   "source": []
  },
  {
   "cell_type": "code",
   "execution_count": null,
   "id": "e4f316f8",
   "metadata": {},
   "outputs": [],
   "source": []
  },
  {
   "cell_type": "code",
   "execution_count": 28,
   "id": "df95f53a",
   "metadata": {},
   "outputs": [
    {
     "name": "stdout",
     "output_type": "stream",
     "text": [
      "1 2 1 2 1 2 1 3 3 3 3 6 2 2 2\n",
      "1:4\n",
      "2:6\n",
      "3:4\n",
      "6:1\n"
     ]
    }
   ],
   "source": [
    "lt=list(map(int,input().split()))\n",
    "freq={}\n",
    "for items in lt:\n",
    "    if items in freq:\n",
    "        freq[items]+=1\n",
    "    else:\n",
    "        freq[items]=1\n",
    "for key,value in freq.items():\n",
    "    print(f\"{key}:{value}\")"
   ]
  },
  {
   "cell_type": "code",
   "execution_count": 9,
   "id": "480a0907",
   "metadata": {},
   "outputs": [
    {
     "name": "stdout",
     "output_type": "stream",
     "text": [
      "1 1 1 2 2 3 3 4 5 6 4 5 6 1 2 4 1\n",
      "1:5\n",
      "2:3\n",
      "3:2\n",
      "4:3\n",
      "5:2\n",
      "6:2\n"
     ]
    }
   ],
   "source": [
    "lt=list(map(int,input().split()))\n",
    "result={key:lt.count(key) for key in lt}\n",
    "\n",
    "for ke,value in result.items():\n",
    "    print(f\"{ke}:{value}\")"
   ]
  },
  {
   "cell_type": "code",
   "execution_count": 13,
   "id": "8f2b9e9b",
   "metadata": {},
   "outputs": [],
   "source": [
    "with open(\"demofile.txt\",\"w\") as f:\n",
    "    f.write(\"chitkara university at rajpura(punjab).i study in chitkara university\")\n",
    "with open (\"demofile.txt\",\"r\") as f1:\n",
    "    content=f1.read()\n",
    "    modifiedcontent=content.title()\n",
    "    \n",
    "with open (\"demofile.txt\",\"w\") as f2:\n",
    "    f2.write(modifiedcontent)\n",
    "    \n",
    "    \n"
   ]
  },
  {
   "cell_type": "code",
   "execution_count": 23,
   "id": "280e9dd9",
   "metadata": {},
   "outputs": [],
   "source": [
    "with open(\"file.txt\",\"w\") as f:\n",
    "    f.write(\"chitkara university at rajpura(punjab).i study in chitkara university\")\n",
    "with open (\"file.txt\",\"r\") as f1:\n",
    "    content=f1.read()\n",
    "    modifiedcontent=content.split()\n",
    "    li=[]\n",
    "    for i in modifiedcontent:\n",
    "        li.append(i)\n",
    "    \n",
    "    li.reverse()    \n",
    "with open (\"file.txt\",\"w\") as f2:\n",
    "    for j in li:\n",
    "        f2.write(j)\n",
    "         \n",
    "    \n",
    "    "
   ]
  },
  {
   "cell_type": "code",
   "execution_count": 34,
   "id": "bd39cf52",
   "metadata": {},
   "outputs": [
    {
     "name": "stdout",
     "output_type": "stream",
     "text": [
      "153.5\n",
      "Error invalid input\n",
      "thanks\n"
     ]
    }
   ],
   "source": [
    "#13\n",
    "try:\n",
    "    n=(input())\n",
    "    p=len(n)\n",
    "    n1=int(n)\n",
    "    n2=n1\n",
    "    \n",
    "    sum1=0\n",
    "    for i in range(p):\n",
    "        temp=n1%10\n",
    "        sum1=sum1+temp**p\n",
    "        n1=n1//10\n",
    "       \n",
    "    if n2==sum1:\n",
    "        print(\"number is armstrong\")\n",
    "    else:\n",
    "        print(\"number is not armstrong\")\n",
    "except ValueError:\n",
    "    print(\"Error invalid input\")\n",
    "finally:\n",
    "    print(\"thanks\")\n",
    "    "
   ]
  },
  {
   "cell_type": "code",
   "execution_count": 43,
   "id": "140c0516",
   "metadata": {},
   "outputs": [
    {
     "name": "stdout",
     "output_type": "stream",
     "text": [
      "{'Manjeet': [], 'Akash': [8, 9]}\n"
     ]
    }
   ],
   "source": [
    "test_dict={'Manjeet':[1],'Akash':[1,8,9]}\n",
    "list1=test_dict['Manjeet']\n",
    "list2=test_dict['Akash']\n",
    "new_set1=set(list1)\n",
    "new_set2=set(list2)\n",
    "new_set=new_set2.symmetric_difference(new_set1)\n",
    "new_list=list(new_set)\n",
    "test_dict['Manjeet']=new_list\n",
    "test_dict['Akash']=new_list\n",
    "if len(list1)==1:\n",
    "    if list1==list(new_set1.intersection(new_set2)):\n",
    "        test_dict['Manjeet']=[]\n",
    "if len(list2)==1:\n",
    "    if list2==list(new_set1.intersection(new_set2)):\n",
    "        test_dict['Akash']=[]\n",
    "        \n",
    "print(test_dict)"
   ]
  },
  {
   "cell_type": "code",
   "execution_count": 40,
   "id": "843e596d",
   "metadata": {},
   "outputs": [
    {
     "name": "stdout",
     "output_type": "stream",
     "text": [
      "[8, 9]\n"
     ]
    }
   ],
   "source": []
  },
  {
   "cell_type": "code",
   "execution_count": 11,
   "id": "4540e5c3",
   "metadata": {},
   "outputs": [
    {
     "name": "stdout",
     "output_type": "stream",
     "text": [
      "{'Manjeet': [1]}\n",
      "{'Manjeet': [1]}\n"
     ]
    }
   ],
   "source": [
    "def finals(input_dict):\n",
    "    result_set={}\n",
    "    for key,value_items in input_dict.items():\n",
    "        result_set[key]=list(set(value_items))\n",
    "    \n",
    "        return result_set\n",
    "input_dict1={'Manjeet':[1],'Akash':[1,8,9]}\n",
    "input_dict2={'Manjeet':[1,1,1],'Akash':[1,1,1]}\n",
    "final1=finals(input_dict1)\n",
    "final2=finals(input_dict2)\n",
    "print(final1)\n",
    "print(final2)"
   ]
  },
  {
   "cell_type": "code",
   "execution_count": 9,
   "id": "f0fc78bd",
   "metadata": {},
   "outputs": [
    {
     "name": "stdout",
     "output_type": "stream",
     "text": [
      "{'Manjeet': [1], 'Akash': [8, 1, 9]}\n",
      "{'Manjeet': [1], 'Akash': [1]}\n"
     ]
    }
   ],
   "source": [
    "def finals(input_dict):\n",
    "    result_set = {}\n",
    "    for key, value_items in input_dict.items():\n",
    "        result_set[key] = list(set(value_items))\n",
    "    return result_set\n",
    "\n",
    "input_dict1 = {'Manjeet': [1], 'Akash': [1, 8, 9]}\n",
    "input_dict2 = {'Manjeet': [1, 1, 1], 'Akash': [1, 1, 1]}\n",
    "final1 = finals(input_dict1)\n",
    "final2 = finals(input_dict2)\n",
    "print(final1)\n",
    "print(final2)\n"
   ]
  },
  {
   "cell_type": "code",
   "execution_count": 23,
   "id": "ea2eed3d",
   "metadata": {},
   "outputs": [
    {
     "name": "stdout",
     "output_type": "stream",
     "text": [
      "options:\n",
      "        OPTION 1:FOR APPEND IN LIST\n",
      "        OPTION 2:FOR DELETE THE LIST\n",
      "        OPTION 3:FOR DISPALY THE LIST\n",
      "        OPTION 4:FOR EXIT\n",
      "        \n",
      "enter your choice 1\n",
      "enter the number which you want to append20\n",
      "options:\n",
      "        OPTION 1:FOR APPEND IN LIST\n",
      "        OPTION 2:FOR DELETE THE LIST\n",
      "        OPTION 3:FOR DISPALY THE LIST\n",
      "        OPTION 4:FOR EXIT\n",
      "        \n",
      "enter your choice 2\n",
      "enter the value you want to delete20\n",
      " element is present in list and that is sucessfully delete\n",
      "options:\n",
      "        OPTION 1:FOR APPEND IN LIST\n",
      "        OPTION 2:FOR DELETE THE LIST\n",
      "        OPTION 3:FOR DISPALY THE LIST\n",
      "        OPTION 4:FOR EXIT\n",
      "        \n",
      "enter your choice 3\n",
      "[]\n",
      "options:\n",
      "        OPTION 1:FOR APPEND IN LIST\n",
      "        OPTION 2:FOR DELETE THE LIST\n",
      "        OPTION 3:FOR DISPALY THE LIST\n",
      "        OPTION 4:FOR EXIT\n",
      "        \n",
      "enter your choice 4\n",
      "Thanks \n"
     ]
    }
   ],
   "source": [
    "#classes and objects\n",
    "class methods:\n",
    "    def __init__(self):\n",
    "        self.list1=[]\n",
    "        self.menu()\n",
    "    def menu(self):\n",
    "        print(\"\"\"options:\n",
    "        OPTION 1:FOR APPEND IN LIST\n",
    "        OPTION 2:FOR DELETE THE LIST\n",
    "        OPTION 3:FOR DISPALY THE LIST\n",
    "        OPTION 4:FOR EXIT\n",
    "        \"\"\")\n",
    "        num=input(\"enter your choice \")\n",
    "        if num==\"1\":\n",
    "            self.append1()\n",
    "        elif num==\"2\":\n",
    "            self.delete()\n",
    "            self.menu()\n",
    "        elif num==\"3\":\n",
    "            self.display()\n",
    "        else:\n",
    "            self.exit()\n",
    "    def append1(self):\n",
    "        self.list1.append(int(input(\"enter the number which you want to append\")))\n",
    "        self.menu()\n",
    "    def delete(self):\n",
    "        element=int(input(\"enter the value you want to delete\"))\n",
    "        if element in self.list1:\n",
    "            \n",
    "            self.list1.remove(element)\n",
    "            print(\" element is present in list and that is sucessfully delete\")\n",
    "            \n",
    "        else:\n",
    "            print(\"element is not present in the list\")\n",
    "    def display(self):\n",
    "        print(self.list1)\n",
    "        self.menu()\n",
    "    def exit(self):\n",
    "        print(\"Thanks \")\n",
    "        pass\n",
    "    \n",
    "        \n",
    "obj=methods()\n",
    "\n"
   ]
  },
  {
   "cell_type": "code",
   "execution_count": 26,
   "id": "903a16da",
   "metadata": {},
   "outputs": [
    {
     "name": "stdout",
     "output_type": "stream",
     "text": [
      "enter radius of circle5\n",
      "78.53981633974483\n",
      "31.41592653589793\n"
     ]
    }
   ],
   "source": [
    "import math\n",
    "class Circle:\n",
    "    def __init__(self):\n",
    "        self.radius=int(input(\"enter radius of circle\"))\n",
    "    def Area(self):\n",
    "        result=(math.pi)*(self.radius)**2\n",
    "        print(result)\n",
    "    def Perimeter(self):\n",
    "        result=2*(math.pi)*(self.radius)\n",
    "        print(result)\n",
    "obj=Circle()\n",
    "obj.Area()\n",
    "obj.Perimeter()"
   ]
  },
  {
   "cell_type": "code",
   "execution_count": 25,
   "id": "10a4b536",
   "metadata": {},
   "outputs": [
    {
     "name": "stdout",
     "output_type": "stream",
     "text": [
      "5\n",
      "     1None\n"
     ]
    }
   ],
   "source": [
    "import math   \n",
    "    \n",
    "def nthRowOfPascalTriangle(n):\n",
    "    \n",
    "    for i in range(n):\n",
    "        for c in range(n-i):\n",
    "               print(\"\",end=\" \")\n",
    "        for c in range(i+1):\n",
    "            result=int((math.factorial(i))/(math.factorial(i-c)*math.factorial(c)))\n",
    "            \n",
    "             \n",
    "        \n",
    "            return print(result,end=\"\")\n",
    "            print()\n",
    "a=nthRowOfPascalTriangle( int(input())) \n",
    "print(a)"
   ]
  },
  {
   "cell_type": "code",
   "execution_count": 29,
   "id": "ff6cd661",
   "metadata": {},
   "outputs": [
    {
     "name": "stdout",
     "output_type": "stream",
     "text": [
      "Enter the number of rows for Pascal's Triangle: 5\n",
      "[1]\n",
      "[1, 1]\n",
      "[1, 2, 1]\n",
      "[1, 3, 3, 1]\n",
      "[1, 4, 6, 4, 1]\n"
     ]
    }
   ],
   "source": [
    "import math\n",
    "\n",
    "def generatePascalTriangle(n):\n",
    "    triangle = []\n",
    "\n",
    "    for i in range(n):\n",
    "        row = []\n",
    "        for c in range(i + 1):\n",
    "            result = int(math.factorial(i) / (math.factorial(i - c) * math.factorial(c)))\n",
    "            row.append(result)\n",
    "        \n",
    "        triangle.append(row)\n",
    "\n",
    "    return triangle\n",
    "\n",
    "# Example usage:\n",
    "n = int(input(\"Enter the number of rows for Pascal's Triangle: \"))\n",
    "result = generatePascalTriangle(n)\n",
    "\n",
    "# Print the generated Pascal's Triangle\n",
    "for row in result:\n",
    "    print(row)\n"
   ]
  },
  {
   "cell_type": "code",
   "execution_count": 35,
   "id": "d5bee5c2",
   "metadata": {},
   "outputs": [
    {
     "name": "stdout",
     "output_type": "stream",
     "text": [
      "4\n"
     ]
    },
    {
     "ename": "AttributeError",
     "evalue": "'Solution' object has no attribute 'n'",
     "output_type": "error",
     "traceback": [
      "\u001b[1;31m---------------------------------------------------------------------------\u001b[0m",
      "\u001b[1;31mAttributeError\u001b[0m                            Traceback (most recent call last)",
      "Cell \u001b[1;32mIn[35], line 19\u001b[0m\n\u001b[0;32m     17\u001b[0m N\u001b[38;5;241m=\u001b[39m\u001b[38;5;28mint\u001b[39m(\u001b[38;5;28minput\u001b[39m())    \n\u001b[0;32m     18\u001b[0m obj\u001b[38;5;241m=\u001b[39mSolution()\n\u001b[1;32m---> 19\u001b[0m a\u001b[38;5;241m=\u001b[39mobj\u001b[38;5;241m.\u001b[39mnthRowOfPascalTriangle(N)\n\u001b[0;32m     20\u001b[0m \u001b[38;5;28mprint\u001b[39m(a)\n",
      "Cell \u001b[1;32mIn[35], line 10\u001b[0m, in \u001b[0;36mSolution.nthRowOfPascalTriangle\u001b[1;34m(self, n)\u001b[0m\n\u001b[0;32m      7\u001b[0m \u001b[38;5;28;01mdef\u001b[39;00m \u001b[38;5;21mnthRowOfPascalTriangle\u001b[39m(\u001b[38;5;28mself\u001b[39m,n):\n\u001b[0;32m      9\u001b[0m     li\u001b[38;5;241m=\u001b[39m[]\n\u001b[1;32m---> 10\u001b[0m     \u001b[38;5;28;01mfor\u001b[39;00m i \u001b[38;5;129;01min\u001b[39;00m \u001b[38;5;28mrange\u001b[39m(\u001b[38;5;28mself\u001b[39m\u001b[38;5;241m.\u001b[39mn):\n\u001b[0;32m     11\u001b[0m         li1\u001b[38;5;241m=\u001b[39m[]\n\u001b[0;32m     13\u001b[0m         \u001b[38;5;28;01mfor\u001b[39;00m c \u001b[38;5;129;01min\u001b[39;00m \u001b[38;5;28mrange\u001b[39m(i\u001b[38;5;241m+\u001b[39m\u001b[38;5;241m1\u001b[39m):\n",
      "\u001b[1;31mAttributeError\u001b[0m: 'Solution' object has no attribute 'n'"
     ]
    }
   ],
   "source": [
    "#User function Template for python3\n",
    "import math\n",
    "#User function Template for python3\n",
    "class Solution:\n",
    "    \n",
    "\n",
    "    def nthRowOfPascalTriangle(self,n):\n",
    "        \n",
    "        li=[]\n",
    "        for i in range(self.n):\n",
    "            li1=[]\n",
    "            \n",
    "            for c in range(i+1):\n",
    "                result=int((math.factorial(i))/(math.factorial(i-c)*math.factorial(c)))\n",
    "                li1.append(result)\n",
    "            li.append(li1)     \n",
    "N=int(input())    \n",
    "obj=Solution()\n",
    "a=obj.nthRowOfPascalTriangle(N)\n",
    "print(a)\n",
    "\n"
   ]
  },
  {
   "cell_type": "code",
   "execution_count": 42,
   "id": "ee4b6c2c",
   "metadata": {},
   "outputs": [
    {
     "name": "stdout",
     "output_type": "stream",
     "text": [
      "{1: 5, 2: 5, 3: 5}\n",
      "5\n"
     ]
    }
   ],
   "source": [
    "def findFrequency (arr, n, x):\n",
    "    result={key:arr.count(key) for key in arr}\n",
    "    print(result)\n",
    "    final=result[x]\n",
    "    print(final)\n",
    "\n",
    "findFrequency([1,1,1,1,1,2,2,2,2,2,3,3,3,3,3],5,1)"
   ]
  },
  {
   "cell_type": "code",
   "execution_count": 43,
   "id": "66dc6cf6",
   "metadata": {},
   "outputs": [
    {
     "name": "stdout",
     "output_type": "stream",
     "text": [
      "Output for nums1: 3\n",
      "Output for nums2: 7\n"
     ]
    }
   ],
   "source": [
    "def longestAlternatingSequence(nums):\n",
    "    n = len(nums)\n",
    "    if n <= 1:\n",
    "        return n\n",
    "\n",
    "    # Initialize variables to store the length of the alternating sequence and the current direction\n",
    "    length = 1\n",
    "    direction = 0  # 0 represents unknown, 1 represents increasing, -1 represents decreasing\n",
    "\n",
    "    # Iterate through the array starting from the second element\n",
    "    for i in range(1, n):\n",
    "        # Check the direction of the current pair\n",
    "        current_direction = 1 if nums[i] > nums[i - 1] else -1 if nums[i] < nums[i - 1] else 0\n",
    "\n",
    "        # If the direction changes or the current pair is equal, update the length and direction\n",
    "        if current_direction != 0 and current_direction != direction:\n",
    "            length += 1\n",
    "            direction = current_direction\n",
    "\n",
    "    return length\n",
    "\n",
    "# Example usage:\n",
    "nums1 = [1, 5, 4]\n",
    "nums2 = [1, 17, 5, 10, 13, 15, 10, 5, 16, 8]\n",
    "\n",
    "result1 = longestAlternatingSequence(nums1)\n",
    "result2 = longestAlternatingSequence(nums2)\n",
    "\n",
    "print(\"Output for nums1:\", result1)\n",
    "print(\"Output for nums2:\", result2)\n"
   ]
  },
  {
   "cell_type": "code",
   "execution_count": null,
   "id": "1dff9a7e",
   "metadata": {},
   "outputs": [],
   "source": []
  }
 ],
 "metadata": {
  "kernelspec": {
   "display_name": "Python 3 (ipykernel)",
   "language": "python",
   "name": "python3"
  },
  "language_info": {
   "codemirror_mode": {
    "name": "ipython",
    "version": 3
   },
   "file_extension": ".py",
   "mimetype": "text/x-python",
   "name": "python",
   "nbconvert_exporter": "python",
   "pygments_lexer": "ipython3",
   "version": "3.11.4"
  }
 },
 "nbformat": 4,
 "nbformat_minor": 5
}
